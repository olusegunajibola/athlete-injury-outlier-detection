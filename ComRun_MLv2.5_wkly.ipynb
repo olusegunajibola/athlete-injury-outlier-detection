{
 "cells": [
  {
   "cell_type": "markdown",
   "metadata": {
    "id": "s7n20Yz89dwe",
    "tags": []
   },
   "source": [
    "# Importing and Data Preparation"
   ]
  },
  {
   "cell_type": "code",
   "execution_count": 143,
   "metadata": {
    "executionInfo": {
     "elapsed": 14,
     "status": "ok",
     "timestamp": 1662732225454,
     "user": {
      "displayName": "Olusegun Ajibola",
      "userId": "14016280963587867119"
     },
     "user_tz": -120
    },
    "id": "_01TAJ-GjI0y"
   },
   "outputs": [],
   "source": [
    "# !pip install h2o \n",
    "# #we need to run this at every instance if we are using google colab, "
   ]
  },
  {
   "cell_type": "code",
   "execution_count": 144,
   "metadata": {
    "executionInfo": {
     "elapsed": 13,
     "status": "ok",
     "timestamp": 1662732225455,
     "user": {
      "displayName": "Olusegun Ajibola",
      "userId": "14016280963587867119"
     },
     "user_tz": -120
    },
    "id": "WgcpKC5LKx0n",
    "tags": []
   },
   "outputs": [],
   "source": [
    "import h2o\n",
    "from h2o.estimators.deeplearning import H2OAutoEncoderEstimator, H2ODeepLearningEstimator"
   ]
  },
  {
   "cell_type": "code",
   "execution_count": 145,
   "metadata": {
    "executionInfo": {
     "elapsed": 298,
     "status": "ok",
     "timestamp": 1662732667396,
     "user": {
      "displayName": "Olusegun Ajibola",
      "userId": "14016280963587867119"
     },
     "user_tz": -120
    },
    "id": "paYvI9iy5izh",
    "scrolled": true,
    "tags": []
   },
   "outputs": [],
   "source": [
    "# importing relevant libraries\n",
    "\n",
    "import time\n",
    "\n",
    "import matplotlib.pyplot as plt # plotting graphs\n",
    "import seaborn as sns\n",
    "\n",
    "from pylab import rcParams\n",
    "\n",
    "import sys\n",
    "import shap\n",
    "\n",
    "import numpy as np # linear algebra\n",
    "np.set_printoptions(threshold=sys.maxsize) # view max elements of numpy array\n",
    "\n",
    "import pandas as pd # data processing, CSV file I/O (e.g. pd.read_csv)\n",
    "# pd.set_option('display.max_columns', None) #pandas shows maximum columns\n",
    "# pd.set_option('display.max_rows', 146) #pandas shows 146 rows\n",
    "\n",
    "import os # for file directories\n",
    "\n",
    "from sklearn.metrics import (confusion_matrix, precision_recall_curve, auc,\n",
    "                             roc_curve, recall_score, classification_report, f1_score,\n",
    "                             precision_recall_fscore_support, make_scorer, mean_squared_error, accuracy_score)\n",
    "from sklearn.ensemble import IsolationForest\n",
    "from sklearn.model_selection import train_test_split, GridSearchCV\n",
    "from sklearn import model_selection\n",
    "\n",
    "from sklearn.pipeline import Pipeline, make_pipeline\n",
    "from sklearn.preprocessing import StandardScaler\n",
    "\n",
    "from sklearn.svm import OneClassSVM\n",
    "from sklearn.decomposition import PCA"
   ]
  },
  {
   "cell_type": "code",
   "execution_count": 146,
   "metadata": {
    "colab": {
     "base_uri": "https://localhost:8080/"
    },
    "executionInfo": {
     "elapsed": 10,
     "status": "ok",
     "timestamp": 1662732226714,
     "user": {
      "displayName": "Olusegun Ajibola",
      "userId": "14016280963587867119"
     },
     "user_tz": -120
    },
    "id": "pyC1C5CMiiQB",
    "outputId": "9915d28f-0188-4661-9cc6-77c4bfdfefc7"
   },
   "outputs": [],
   "source": [
    "# ls # shows our directory"
   ]
  },
  {
   "cell_type": "code",
   "execution_count": 147,
   "metadata": {
    "executionInfo": {
     "elapsed": 5,
     "status": "ok",
     "timestamp": 1662732226715,
     "user": {
      "displayName": "Olusegun Ajibola",
      "userId": "14016280963587867119"
     },
     "user_tz": -120
    },
    "id": "7crl5r-O5qRi"
   },
   "outputs": [],
   "source": [
    "# os.chdir('/content/drive/MyDrive/Colab Files/MercJbs') # change directory"
   ]
  },
  {
   "cell_type": "code",
   "execution_count": 148,
   "metadata": {
    "colab": {
     "base_uri": "https://localhost:8080/"
    },
    "executionInfo": {
     "elapsed": 338,
     "status": "ok",
     "timestamp": 1662732227048,
     "user": {
      "displayName": "Olusegun Ajibola",
      "userId": "14016280963587867119"
     },
     "user_tz": -120
    },
    "id": "mOJ6ZDRL-zVD",
    "outputId": "ed2f1ed1-9dc1-4e6c-8de5-0a5faad693d2"
   },
   "outputs": [],
   "source": [
    "# ls # show current files/folders in directory"
   ]
  },
  {
   "cell_type": "code",
   "execution_count": 149,
   "metadata": {},
   "outputs": [],
   "source": [
    "# pwd"
   ]
  },
  {
   "cell_type": "code",
   "execution_count": 150,
   "metadata": {
    "executionInfo": {
     "elapsed": 860,
     "status": "ok",
     "timestamp": 1662732227906,
     "user": {
      "displayName": "Olusegun Ajibola",
      "userId": "14016280963587867119"
     },
     "user_tz": -120
    },
    "id": "QGgz2H94ZFT8"
   },
   "outputs": [],
   "source": [
    "# import dataset\n",
    "df_week = pd.read_csv(r'data/week_approach_maskedID_timeseries_v2.0.csv')"
   ]
  },
  {
   "cell_type": "code",
   "execution_count": 151,
   "metadata": {
    "colab": {
     "base_uri": "https://localhost:8080/",
     "height": 179
    },
    "executionInfo": {
     "elapsed": 338,
     "status": "ok",
     "timestamp": 1662732228240,
     "user": {
      "displayName": "Olusegun Ajibola",
      "userId": "14016280963587867119"
     },
     "user_tz": -120
    },
    "id": "YNCTAcN7wVKO",
    "outputId": "4ccd4988-ea93-455b-e674-59001600bc25"
   },
   "outputs": [
    {
     "data": {
      "text/html": [
       "<div>\n",
       "<style scoped>\n",
       "    .dataframe tbody tr th:only-of-type {\n",
       "        vertical-align: middle;\n",
       "    }\n",
       "\n",
       "    .dataframe tbody tr th {\n",
       "        vertical-align: top;\n",
       "    }\n",
       "\n",
       "    .dataframe thead th {\n",
       "        text-align: right;\n",
       "    }\n",
       "</style>\n",
       "<table border=\"1\" class=\"dataframe\">\n",
       "  <thead>\n",
       "    <tr style=\"text-align: right;\">\n",
       "      <th></th>\n",
       "      <th>Unnamed: 0</th>\n",
       "      <th>nr_sessions</th>\n",
       "      <th>nr_rest_days</th>\n",
       "      <th>total_kms</th>\n",
       "      <th>max_km_one_day</th>\n",
       "      <th>total_km_z3-z4-z5-t1-t2</th>\n",
       "      <th>nr_tough_sessions_(effort_in_z5,_t1_or_t2)</th>\n",
       "      <th>nr_days_with_interval_session</th>\n",
       "      <th>total_km_z3-4</th>\n",
       "      <th>max_km_z3-4_one_day</th>\n",
       "      <th>...</th>\n",
       "      <th>max_training_success_2</th>\n",
       "      <th>avg_recovery_2</th>\n",
       "      <th>min_recovery_2</th>\n",
       "      <th>max_recovery_2</th>\n",
       "      <th>athlete_id</th>\n",
       "      <th>injury</th>\n",
       "      <th>rel_total_kms_week_0_1</th>\n",
       "      <th>rel_total_kms_week_0_2</th>\n",
       "      <th>rel_total_kms_week_1_2</th>\n",
       "      <th>date</th>\n",
       "    </tr>\n",
       "  </thead>\n",
       "  <tbody>\n",
       "    <tr>\n",
       "      <th>0</th>\n",
       "      <td>0</td>\n",
       "      <td>5</td>\n",
       "      <td>2</td>\n",
       "      <td>22.2</td>\n",
       "      <td>16.4</td>\n",
       "      <td>11.8</td>\n",
       "      <td>1</td>\n",
       "      <td>2</td>\n",
       "      <td>10.0</td>\n",
       "      <td>10.0</td>\n",
       "      <td>...</td>\n",
       "      <td>0.0</td>\n",
       "      <td>0.18</td>\n",
       "      <td>0.16</td>\n",
       "      <td>0.2</td>\n",
       "      <td>0</td>\n",
       "      <td>0</td>\n",
       "      <td>0.718447</td>\n",
       "      <td>1.378882</td>\n",
       "      <td>1.919255</td>\n",
       "      <td>0</td>\n",
       "    </tr>\n",
       "  </tbody>\n",
       "</table>\n",
       "<p>1 rows × 73 columns</p>\n",
       "</div>"
      ],
      "text/plain": [
       "   Unnamed: 0  nr_sessions  nr_rest_days  total_kms  max_km_one_day  \\\n",
       "0           0            5             2       22.2            16.4   \n",
       "\n",
       "   total_km_z3-z4-z5-t1-t2  nr_tough_sessions_(effort_in_z5,_t1_or_t2)  \\\n",
       "0                     11.8                                           1   \n",
       "\n",
       "   nr_days_with_interval_session  total_km_z3-4  max_km_z3-4_one_day  ...  \\\n",
       "0                              2           10.0                 10.0  ...   \n",
       "\n",
       "   max_training_success_2  avg_recovery_2  min_recovery_2  max_recovery_2  \\\n",
       "0                     0.0            0.18            0.16             0.2   \n",
       "\n",
       "   athlete_id  injury  rel_total_kms_week_0_1  rel_total_kms_week_0_2  \\\n",
       "0           0       0                0.718447                1.378882   \n",
       "\n",
       "   rel_total_kms_week_1_2  date  \n",
       "0                1.919255     0  \n",
       "\n",
       "[1 rows x 73 columns]"
      ]
     },
     "execution_count": 151,
     "metadata": {},
     "output_type": "execute_result"
    }
   ],
   "source": [
    "df_week.head(1)"
   ]
  },
  {
   "cell_type": "code",
   "execution_count": 152,
   "metadata": {
    "executionInfo": {
     "elapsed": 8,
     "status": "ok",
     "timestamp": 1662732228241,
     "user": {
      "displayName": "Olusegun Ajibola",
      "userId": "14016280963587867119"
     },
     "user_tz": -120
    },
    "id": "MH3yW-pcDx3C"
   },
   "outputs": [],
   "source": [
    "df_week.drop(['Unnamed: 0'], axis = 1, inplace = True)\n",
    "df_week['date'] = df_week['date'].astype('category')"
   ]
  },
  {
   "cell_type": "code",
   "execution_count": 153,
   "metadata": {
    "executionInfo": {
     "elapsed": 8,
     "status": "ok",
     "timestamp": 1662732228242,
     "user": {
      "displayName": "Olusegun Ajibola",
      "userId": "14016280963587867119"
     },
     "user_tz": -120
    },
    "id": "Wowekz941-d6"
   },
   "outputs": [],
   "source": [
    "# df_week['injury'] = df_week['injury'].apply(lambda x: 'yes' if x == 1 else 'no')"
   ]
  },
  {
   "cell_type": "code",
   "execution_count": 154,
   "metadata": {
    "colab": {
     "base_uri": "https://localhost:8080/"
    },
    "executionInfo": {
     "elapsed": 393,
     "status": "ok",
     "timestamp": 1662732228627,
     "user": {
      "displayName": "Olusegun Ajibola",
      "userId": "14016280963587867119"
     },
     "user_tz": -120
    },
    "id": "XB12N9N82dHt",
    "outputId": "1b44ff1a-ba23-4255-b725-d70dc5e0d8b5"
   },
   "outputs": [
    {
     "data": {
      "text/plain": [
       "[0, 1]\n",
       "Categories (2, int64): [0, 1]"
      ]
     },
     "execution_count": 154,
     "metadata": {},
     "output_type": "execute_result"
    }
   ],
   "source": [
    "\n",
    "df_week[df_week.nunique()[df_week.nunique() < 30].index] = df_week[df_week.nunique()[df_week.nunique() < 30].index].astype('category')\n",
    "df_week['injury'].unique()"
   ]
  },
  {
   "cell_type": "code",
   "execution_count": 155,
   "metadata": {
    "colab": {
     "base_uri": "https://localhost:8080/",
     "height": 305
    },
    "executionInfo": {
     "elapsed": 17,
     "status": "ok",
     "timestamp": 1662732228628,
     "user": {
      "displayName": "Olusegun Ajibola",
      "userId": "14016280963587867119"
     },
     "user_tz": -120
    },
    "id": "VJlFVtqGDhb-",
    "outputId": "afcc131a-9e63-42bd-c90c-1198f076d8d3"
   },
   "outputs": [
    {
     "data": {
      "text/html": [
       "<div>\n",
       "<style scoped>\n",
       "    .dataframe tbody tr th:only-of-type {\n",
       "        vertical-align: middle;\n",
       "    }\n",
       "\n",
       "    .dataframe tbody tr th {\n",
       "        vertical-align: top;\n",
       "    }\n",
       "\n",
       "    .dataframe thead th {\n",
       "        text-align: right;\n",
       "    }\n",
       "</style>\n",
       "<table border=\"1\" class=\"dataframe\">\n",
       "  <thead>\n",
       "    <tr style=\"text-align: right;\">\n",
       "      <th></th>\n",
       "      <th>nr_sessions</th>\n",
       "      <th>nr_rest_days</th>\n",
       "      <th>total_kms</th>\n",
       "      <th>max_km_one_day</th>\n",
       "      <th>total_km_z3-z4-z5-t1-t2</th>\n",
       "      <th>nr_tough_sessions_(effort_in_z5,_t1_or_t2)</th>\n",
       "      <th>nr_days_with_interval_session</th>\n",
       "      <th>total_km_z3-4</th>\n",
       "      <th>max_km_z3-4_one_day</th>\n",
       "      <th>total_km_z5-t1-t2</th>\n",
       "      <th>...</th>\n",
       "      <th>max_training_success_2</th>\n",
       "      <th>avg_recovery_2</th>\n",
       "      <th>min_recovery_2</th>\n",
       "      <th>max_recovery_2</th>\n",
       "      <th>athlete_id</th>\n",
       "      <th>injury</th>\n",
       "      <th>rel_total_kms_week_0_1</th>\n",
       "      <th>rel_total_kms_week_0_2</th>\n",
       "      <th>rel_total_kms_week_1_2</th>\n",
       "      <th>date</th>\n",
       "    </tr>\n",
       "  </thead>\n",
       "  <tbody>\n",
       "    <tr>\n",
       "      <th>0</th>\n",
       "      <td>5</td>\n",
       "      <td>2</td>\n",
       "      <td>22.2</td>\n",
       "      <td>16.4</td>\n",
       "      <td>11.8</td>\n",
       "      <td>1</td>\n",
       "      <td>2</td>\n",
       "      <td>10.0</td>\n",
       "      <td>10.0</td>\n",
       "      <td>0.6</td>\n",
       "      <td>...</td>\n",
       "      <td>0.0</td>\n",
       "      <td>0.18</td>\n",
       "      <td>0.16</td>\n",
       "      <td>0.20</td>\n",
       "      <td>0</td>\n",
       "      <td>0</td>\n",
       "      <td>0.718447</td>\n",
       "      <td>1.378882</td>\n",
       "      <td>1.919255</td>\n",
       "      <td>0</td>\n",
       "    </tr>\n",
       "    <tr>\n",
       "      <th>1</th>\n",
       "      <td>5</td>\n",
       "      <td>2</td>\n",
       "      <td>21.6</td>\n",
       "      <td>16.4</td>\n",
       "      <td>11.7</td>\n",
       "      <td>1</td>\n",
       "      <td>2</td>\n",
       "      <td>10.0</td>\n",
       "      <td>10.0</td>\n",
       "      <td>0.5</td>\n",
       "      <td>...</td>\n",
       "      <td>0.0</td>\n",
       "      <td>0.18</td>\n",
       "      <td>0.16</td>\n",
       "      <td>0.20</td>\n",
       "      <td>0</td>\n",
       "      <td>0</td>\n",
       "      <td>0.683544</td>\n",
       "      <td>1.018868</td>\n",
       "      <td>1.490566</td>\n",
       "      <td>1</td>\n",
       "    </tr>\n",
       "    <tr>\n",
       "      <th>2</th>\n",
       "      <td>5</td>\n",
       "      <td>2</td>\n",
       "      <td>21.6</td>\n",
       "      <td>16.4</td>\n",
       "      <td>11.7</td>\n",
       "      <td>1</td>\n",
       "      <td>2</td>\n",
       "      <td>10.0</td>\n",
       "      <td>10.0</td>\n",
       "      <td>0.5</td>\n",
       "      <td>...</td>\n",
       "      <td>0.0</td>\n",
       "      <td>0.17</td>\n",
       "      <td>0.16</td>\n",
       "      <td>0.18</td>\n",
       "      <td>0</td>\n",
       "      <td>0</td>\n",
       "      <td>0.683544</td>\n",
       "      <td>1.018868</td>\n",
       "      <td>1.490566</td>\n",
       "      <td>2</td>\n",
       "    </tr>\n",
       "    <tr>\n",
       "      <th>3</th>\n",
       "      <td>5</td>\n",
       "      <td>2</td>\n",
       "      <td>21.6</td>\n",
       "      <td>16.4</td>\n",
       "      <td>11.7</td>\n",
       "      <td>1</td>\n",
       "      <td>2</td>\n",
       "      <td>10.0</td>\n",
       "      <td>10.0</td>\n",
       "      <td>0.5</td>\n",
       "      <td>...</td>\n",
       "      <td>0.0</td>\n",
       "      <td>0.18</td>\n",
       "      <td>0.16</td>\n",
       "      <td>0.18</td>\n",
       "      <td>0</td>\n",
       "      <td>0</td>\n",
       "      <td>0.683544</td>\n",
       "      <td>1.018868</td>\n",
       "      <td>1.490566</td>\n",
       "      <td>3</td>\n",
       "    </tr>\n",
       "    <tr>\n",
       "      <th>4</th>\n",
       "      <td>6</td>\n",
       "      <td>1</td>\n",
       "      <td>39.2</td>\n",
       "      <td>17.6</td>\n",
       "      <td>18.9</td>\n",
       "      <td>1</td>\n",
       "      <td>3</td>\n",
       "      <td>17.2</td>\n",
       "      <td>10.0</td>\n",
       "      <td>0.5</td>\n",
       "      <td>...</td>\n",
       "      <td>0.0</td>\n",
       "      <td>0.17</td>\n",
       "      <td>0.16</td>\n",
       "      <td>0.18</td>\n",
       "      <td>0</td>\n",
       "      <td>0</td>\n",
       "      <td>2.202247</td>\n",
       "      <td>1.361111</td>\n",
       "      <td>0.618056</td>\n",
       "      <td>4</td>\n",
       "    </tr>\n",
       "  </tbody>\n",
       "</table>\n",
       "<p>5 rows × 72 columns</p>\n",
       "</div>"
      ],
      "text/plain": [
       "  nr_sessions nr_rest_days  total_kms  max_km_one_day  \\\n",
       "0           5            2       22.2            16.4   \n",
       "1           5            2       21.6            16.4   \n",
       "2           5            2       21.6            16.4   \n",
       "3           5            2       21.6            16.4   \n",
       "4           6            1       39.2            17.6   \n",
       "\n",
       "   total_km_z3-z4-z5-t1-t2 nr_tough_sessions_(effort_in_z5,_t1_or_t2)  \\\n",
       "0                     11.8                                          1   \n",
       "1                     11.7                                          1   \n",
       "2                     11.7                                          1   \n",
       "3                     11.7                                          1   \n",
       "4                     18.9                                          1   \n",
       "\n",
       "  nr_days_with_interval_session  total_km_z3-4  max_km_z3-4_one_day  \\\n",
       "0                             2           10.0                 10.0   \n",
       "1                             2           10.0                 10.0   \n",
       "2                             2           10.0                 10.0   \n",
       "3                             2           10.0                 10.0   \n",
       "4                             3           17.2                 10.0   \n",
       "\n",
       "   total_km_z5-t1-t2  ...  max_training_success_2  avg_recovery_2  \\\n",
       "0                0.6  ...                     0.0            0.18   \n",
       "1                0.5  ...                     0.0            0.18   \n",
       "2                0.5  ...                     0.0            0.17   \n",
       "3                0.5  ...                     0.0            0.18   \n",
       "4                0.5  ...                     0.0            0.17   \n",
       "\n",
       "  min_recovery_2  max_recovery_2  athlete_id  injury  rel_total_kms_week_0_1  \\\n",
       "0           0.16            0.20           0       0                0.718447   \n",
       "1           0.16            0.20           0       0                0.683544   \n",
       "2           0.16            0.18           0       0                0.683544   \n",
       "3           0.16            0.18           0       0                0.683544   \n",
       "4           0.16            0.18           0       0                2.202247   \n",
       "\n",
       "   rel_total_kms_week_0_2  rel_total_kms_week_1_2  date  \n",
       "0                1.378882                1.919255     0  \n",
       "1                1.018868                1.490566     1  \n",
       "2                1.018868                1.490566     2  \n",
       "3                1.018868                1.490566     3  \n",
       "4                1.361111                0.618056     4  \n",
       "\n",
       "[5 rows x 72 columns]"
      ]
     },
     "execution_count": 155,
     "metadata": {},
     "output_type": "execute_result"
    }
   ],
   "source": [
    "df_week.head()"
   ]
  },
  {
   "cell_type": "code",
   "execution_count": 156,
   "metadata": {
    "colab": {
     "base_uri": "https://localhost:8080/"
    },
    "executionInfo": {
     "elapsed": 16,
     "status": "ok",
     "timestamp": 1662732228629,
     "user": {
      "displayName": "Olusegun Ajibola",
      "userId": "14016280963587867119"
     },
     "user_tz": -120
    },
    "id": "nmUf6Fhz69V4",
    "outputId": "32fed26a-479e-46d4-af18-4896e7e9446a"
   },
   "outputs": [
    {
     "name": "stdout",
     "output_type": "stream",
     "text": [
      "<class 'pandas.core.frame.DataFrame'>\n",
      "RangeIndex: 42798 entries, 0 to 42797\n",
      "Data columns (total 72 columns):\n",
      " #   Column                                        Non-Null Count  Dtype   \n",
      "---  ------                                        --------------  -----   \n",
      " 0   nr_sessions                                   42798 non-null  category\n",
      " 1   nr_rest_days                                  42798 non-null  category\n",
      " 2   total_kms                                     42798 non-null  float64 \n",
      " 3   max_km_one_day                                42798 non-null  float64 \n",
      " 4   total_km_z3-z4-z5-t1-t2                       42798 non-null  float64 \n",
      " 5   nr_tough_sessions_(effort_in_z5,_t1_or_t2)    42798 non-null  category\n",
      " 6   nr_days_with_interval_session                 42798 non-null  category\n",
      " 7   total_km_z3-4                                 42798 non-null  float64 \n",
      " 8   max_km_z3-4_one_day                           42798 non-null  float64 \n",
      " 9   total_km_z5-t1-t2                             42798 non-null  float64 \n",
      " 10  max_km_z5-t1-t2_one_day                       42798 non-null  float64 \n",
      " 11  total_hours_alternative_training              42798 non-null  float64 \n",
      " 12  nr_strength_trainings                         42798 non-null  category\n",
      " 13  avg_exertion                                  42798 non-null  float64 \n",
      " 14  min_exertion                                  42798 non-null  float64 \n",
      " 15  max_exertion                                  42798 non-null  float64 \n",
      " 16  avg_training_success                          42798 non-null  float64 \n",
      " 17  min_training_success                          42798 non-null  float64 \n",
      " 18  max_training_success                          42798 non-null  float64 \n",
      " 19  avg_recovery                                  42798 non-null  float64 \n",
      " 20  min_recovery                                  42798 non-null  float64 \n",
      " 21  max_recovery                                  42798 non-null  float64 \n",
      " 22  nr_sessions_1                                 42798 non-null  category\n",
      " 23  nr_rest_days_1                                42798 non-null  category\n",
      " 24  total_kms_1                                   42798 non-null  float64 \n",
      " 25  max_km_one_day_1                              42798 non-null  float64 \n",
      " 26  total_km_z3-z4-z5-t1-t2_1                     42798 non-null  float64 \n",
      " 27  nr_tough_sessions_(effort_in_z5,_t1_or_t2)_1  42798 non-null  category\n",
      " 28  nr_days_with_interval_session_1               42798 non-null  category\n",
      " 29  total_km_z3-4_1                               42798 non-null  float64 \n",
      " 30  max_km_z3-4_one_day_1                         42798 non-null  float64 \n",
      " 31  total_km_z5-t1-t2_1                           42798 non-null  float64 \n",
      " 32  max_km_z5-t1-t2_one_day_1                     42798 non-null  float64 \n",
      " 33  total_hours_alternative_training_1            42798 non-null  float64 \n",
      " 34  nr_strength_trainings_1                       42798 non-null  category\n",
      " 35  avg_exertion_1                                42798 non-null  float64 \n",
      " 36  min_exertion_1                                42798 non-null  float64 \n",
      " 37  max_exertion_1                                42798 non-null  float64 \n",
      " 38  avg_training_success_1                        42798 non-null  float64 \n",
      " 39  min_training_success_1                        42798 non-null  float64 \n",
      " 40  max_training_success_1                        42798 non-null  float64 \n",
      " 41  avg_recovery_1                                42798 non-null  float64 \n",
      " 42  min_recovery_1                                42798 non-null  float64 \n",
      " 43  max_recovery_1                                42798 non-null  float64 \n",
      " 44  nr_sessions_2                                 42798 non-null  category\n",
      " 45  nr_rest_days_2                                42798 non-null  category\n",
      " 46  total_kms_2                                   42798 non-null  float64 \n",
      " 47  max_km_one_day_2                              42798 non-null  float64 \n",
      " 48  total_km_z3-z4-z5-t1-t2_2                     42798 non-null  float64 \n",
      " 49  nr_tough_sessions_(effort_in_z5,_t1_or_t2)_2  42798 non-null  category\n",
      " 50  nr_days_with_interval_session_2               42798 non-null  category\n",
      " 51  total_km_z3-4_2                               42798 non-null  float64 \n",
      " 52  max_km_z3-4_one_day_2                         42798 non-null  float64 \n",
      " 53  total_km_z5-t1-t2_2                           42798 non-null  float64 \n",
      " 54  max_km_z5-t1-t2_one_day_2                     42798 non-null  float64 \n",
      " 55  total_hours_alternative_training_2            42798 non-null  float64 \n",
      " 56  nr_strength_trainings_2                       42798 non-null  category\n",
      " 57  avg_exertion_2                                42798 non-null  float64 \n",
      " 58  min_exertion_2                                42798 non-null  float64 \n",
      " 59  max_exertion_2                                42798 non-null  float64 \n",
      " 60  avg_training_success_2                        42798 non-null  float64 \n",
      " 61  min_training_success_2                        42798 non-null  float64 \n",
      " 62  max_training_success_2                        42798 non-null  float64 \n",
      " 63  avg_recovery_2                                42798 non-null  float64 \n",
      " 64  min_recovery_2                                42798 non-null  float64 \n",
      " 65  max_recovery_2                                42798 non-null  float64 \n",
      " 66  athlete_id                                    42798 non-null  int64   \n",
      " 67  injury                                        42798 non-null  category\n",
      " 68  rel_total_kms_week_0_1                        42798 non-null  float64 \n",
      " 69  rel_total_kms_week_0_2                        42798 non-null  float64 \n",
      " 70  rel_total_kms_week_1_2                        42798 non-null  float64 \n",
      " 71  date                                          42798 non-null  category\n",
      "dtypes: category(17), float64(54), int64(1)\n",
      "memory usage: 18.8 MB\n"
     ]
    }
   ],
   "source": [
    "df_week.info()"
   ]
  },
  {
   "cell_type": "code",
   "execution_count": 157,
   "metadata": {
    "executionInfo": {
     "elapsed": 1845,
     "status": "ok",
     "timestamp": 1662705831978,
     "user": {
      "displayName": "Olusegun Ajibola",
      "userId": "14016280963587867119"
     },
     "user_tz": -120
    },
    "id": "-NrcE8oR3DWM"
   },
   "outputs": [],
   "source": [
    "df_week.to_csv('data/week_approach_maskedID_timeseries_v3.0.csv')"
   ]
  },
  {
   "cell_type": "markdown",
   "metadata": {
    "id": "CPiXjFJ1YEGP"
   },
   "source": [
    "# Introduction\n",
    "\n",
    "In this notebook, we run some advance classification ML algorithms on our datasets. As a result of our dataset having many rows/entries (42766) and columns (73), we use a dimensionality reduction technique (PCA) to see the variability on the data."
   ]
  },
  {
   "cell_type": "markdown",
   "metadata": {
    "id": "mrMcJotaSJyE"
   },
   "source": [
    "<!-- ## PCA -->"
   ]
  },
  {
   "cell_type": "markdown",
   "metadata": {
    "id": "ovll_ZxqQ0TF"
   },
   "source": [
    "<!-- from sklearn.model_selection import train_test_split\n",
    "from sklearn.decomposition import PCA -->"
   ]
  },
  {
   "cell_type": "markdown",
   "metadata": {
    "id": "XYly1zejVFcA"
   },
   "source": [
    "<!-- Xd = df_week.drop(columns = ['injury'])\n",
    "yd = df_week['injury'] -->"
   ]
  },
  {
   "cell_type": "markdown",
   "metadata": {
    "id": "006qxTRhSTm3"
   },
   "source": [
    "<!-- pca = make_pipeline(StandardScaler(), PCA(.95))\n",
    "# pca = PCA()\n",
    "pca.fit_transform(Xd)\n",
    "pca -->"
   ]
  },
  {
   "cell_type": "markdown",
   "metadata": {
    "id": "3ZW-PDn-udze"
   },
   "source": [
    "<!-- **Explained variance** is the amount of variance explained by each of the selected components.  -->"
   ]
  },
  {
   "cell_type": "markdown",
   "metadata": {
    "id": "fe7WxdrpVbc4"
   },
   "source": [
    "<!-- # pca[1].n_components_ -->"
   ]
  },
  {
   "cell_type": "markdown",
   "metadata": {
    "id": "_qDdDcPEUn1k"
   },
   "source": [
    "<!-- explained = pca[1].explained_variance_ratio_\n",
    "explained -->"
   ]
  },
  {
   "cell_type": "markdown",
   "metadata": {
    "id": "LiLqc2RrnTs2"
   },
   "source": [
    "<!-- cumulative_explained = explained.cumsum()\n",
    "\n",
    "cumulative_explained -->"
   ]
  },
  {
   "cell_type": "markdown",
   "metadata": {
    "id": "thW8N6EhoeE9"
   },
   "source": [
    "<!-- pca[1].components_.shape -->"
   ]
  },
  {
   "cell_type": "markdown",
   "metadata": {
    "id": "LTAq_wQsowSW"
   },
   "source": [
    "<!-- plt.figure(figsize=(15,7.5))\n",
    "plt.plot(range(0, 53), explained, label='Explained Variance')\n",
    "plt.plot(range(0, 53), cumulative_explained, label='Cumulative Explained Variance')\n",
    "plt.xlabel('Principal Components')\n",
    "plt.vlines(x=42, ymin= -0.1, ymax=1.1, colors= 'k', label = \"42nd Component\")\n",
    "plt.hlines(y=0.90, xmin=-0.5, xmax=72, colors= 'g', linestyles='--', label = \"90% Explained\")\n",
    "plt.title('Explained Variance Ratio')\n",
    "plt.legend()\n",
    "plt.show() -->"
   ]
  },
  {
   "cell_type": "markdown",
   "metadata": {
    "id": "Kof3dEI9YB99"
   },
   "source": [
    "# Model 1 : Autoencoder\n",
    "**What is Autoencoder?**\n",
    "\n",
    "Autoencoder is an unsupervised artificial neural network that learns how to efficiently compress and encode data then learns how to reconstruct the data back from the reduced encoded representation to a representation that is as close to the original input as possible. Autoencoder, by design, reduces data dimensions by learning how to ignore the noise in the data. "
   ]
  },
  {
   "cell_type": "markdown",
   "metadata": {
    "id": "5zuZXUOEpg-P"
   },
   "source": [
    "**Why Autoencoder works for Anomaly Detection?**\n",
    "\n",
    "Autoencoders are great in learning what is normal. I can identify the normal region ina distribution then anything that is considered an outlier will return a high reconstruction error.\n",
    "\n",
    "Let's start by installing some pre-requisite libraries, h20. \n",
    "\n",
    "**H2O** is an open-source library that can be used to do a number of machine learning tasks. It has a function for the autoencoders. Let's have a look"
   ]
  },
  {
   "cell_type": "markdown",
   "metadata": {
    "id": "wRqCXGxmZhAr"
   },
   "source": [
    "## Starting and initializing H2O server."
   ]
  },
  {
   "cell_type": "code",
   "execution_count": 158,
   "metadata": {
    "colab": {
     "base_uri": "https://localhost:8080/",
     "height": 491
    },
    "executionInfo": {
     "elapsed": 12449,
     "status": "ok",
     "timestamp": 1661545719192,
     "user": {
      "displayName": "Olusegun Ajibola",
      "userId": "14016280963587867119"
     },
     "user_tz": -120
    },
    "id": "wQFBKEG0ZjQ3",
    "outputId": "b9ee3732-e2bb-473d-9bfe-df0bac427685"
   },
   "outputs": [
    {
     "name": "stdout",
     "output_type": "stream",
     "text": [
      "Checking whether there is an H2O instance running at http://localhost:54321 . connected.\n"
     ]
    },
    {
     "data": {
      "text/html": [
       "<div style=\"overflow:auto\"><table style=\"width:50%\"><tr><td>H2O_cluster_uptime:</td>\n",
       "<td>4 hours 51 mins</td></tr>\n",
       "<tr><td>H2O_cluster_timezone:</td>\n",
       "<td>Europe/Berlin</td></tr>\n",
       "<tr><td>H2O_data_parsing_timezone:</td>\n",
       "<td>UTC</td></tr>\n",
       "<tr><td>H2O_cluster_version:</td>\n",
       "<td>3.36.1.4</td></tr>\n",
       "<tr><td>H2O_cluster_version_age:</td>\n",
       "<td>1 month and 11 days </td></tr>\n",
       "<tr><td>H2O_cluster_name:</td>\n",
       "<td>H2O_from_python_USER_61dy3j</td></tr>\n",
       "<tr><td>H2O_cluster_total_nodes:</td>\n",
       "<td>1</td></tr>\n",
       "<tr><td>H2O_cluster_free_memory:</td>\n",
       "<td>1.549 Gb</td></tr>\n",
       "<tr><td>H2O_cluster_total_cores:</td>\n",
       "<td>4</td></tr>\n",
       "<tr><td>H2O_cluster_allowed_cores:</td>\n",
       "<td>4</td></tr>\n",
       "<tr><td>H2O_cluster_status:</td>\n",
       "<td>locked, healthy</td></tr>\n",
       "<tr><td>H2O_connection_url:</td>\n",
       "<td>http://localhost:54321</td></tr>\n",
       "<tr><td>H2O_connection_proxy:</td>\n",
       "<td>{\"http\": null, \"https\": null}</td></tr>\n",
       "<tr><td>H2O_internal_security:</td>\n",
       "<td>False</td></tr>\n",
       "<tr><td>Python_version:</td>\n",
       "<td>3.9.13 final</td></tr></table></div>"
      ],
      "text/plain": [
       "--------------------------  -----------------------------\n",
       "H2O_cluster_uptime:         4 hours 51 mins\n",
       "H2O_cluster_timezone:       Europe/Berlin\n",
       "H2O_data_parsing_timezone:  UTC\n",
       "H2O_cluster_version:        3.36.1.4\n",
       "H2O_cluster_version_age:    1 month and 11 days\n",
       "H2O_cluster_name:           H2O_from_python_USER_61dy3j\n",
       "H2O_cluster_total_nodes:    1\n",
       "H2O_cluster_free_memory:    1.549 Gb\n",
       "H2O_cluster_total_cores:    4\n",
       "H2O_cluster_allowed_cores:  4\n",
       "H2O_cluster_status:         locked, healthy\n",
       "H2O_connection_url:         http://localhost:54321\n",
       "H2O_connection_proxy:       {\"http\": null, \"https\": null}\n",
       "H2O_internal_security:      False\n",
       "Python_version:             3.9.13 final\n",
       "--------------------------  -----------------------------"
      ]
     },
     "metadata": {},
     "output_type": "display_data"
    }
   ],
   "source": [
    "h2o.init() # initializing h2o server\n",
    "# h2o.remove_all()"
   ]
  },
  {
   "cell_type": "markdown",
   "metadata": {
    "id": "wI2O7uOQZsZU"
   },
   "source": [
    "We now load the dataset into a H2O dataframe and splitting the DS."
   ]
  },
  {
   "cell_type": "code",
   "execution_count": 159,
   "metadata": {
    "colab": {
     "base_uri": "https://localhost:8080/"
    },
    "executionInfo": {
     "elapsed": 6950,
     "status": "ok",
     "timestamp": 1661545778080,
     "user": {
      "displayName": "Olusegun Ajibola",
      "userId": "14016280963587867119"
     },
     "user_tz": -120
    },
    "id": "KOf-6XZracj9",
    "outputId": "07f7059d-cbf1-419c-fff1-f52daa0c0f12"
   },
   "outputs": [
    {
     "name": "stdout",
     "output_type": "stream",
     "text": [
      "Parse progress: |████████████████████████████████████████████████████████████████| (done) 100%\n"
     ]
    }
   ],
   "source": [
    "hdf_week = h2o.import_file(r\"data/week_approach_maskedID_timeseries_v3.0.csv\") #import the file as a h2o file\n",
    "hdf_week[\"date\"] = hdf_week[\"date\"].asfactor() # coonvert date to factor i.e categorical\n",
    "hdf_week[\"injury\"] = hdf_week[\"injury\"].asfactor()\n",
    "features_week  = hdf_week.drop(['athlete_id', 'C1'], axis=1) # we do not need the athlete id again alonside the 'C1' column which is an automatic addition by h2o import\n",
    "train_week , test_week = features_week.split_frame([0.8]) # 80% of data for training and 20% for testing "
   ]
  },
  {
   "cell_type": "markdown",
   "metadata": {
    "id": "e3qmuar_rKP-"
   },
   "source": [
    "We used a 80-20 split between the training and testing because of the imbalance in the dataset. This spit enables us to get enough of the undersampled class."
   ]
  },
  {
   "cell_type": "code",
   "execution_count": 160,
   "metadata": {
    "colab": {
     "base_uri": "https://localhost:8080/",
     "height": 137
    },
    "executionInfo": {
     "elapsed": 1539,
     "status": "ok",
     "timestamp": 1661545805988,
     "user": {
      "displayName": "Olusegun Ajibola",
      "userId": "14016280963587867119"
     },
     "user_tz": -120
    },
    "id": "KbNDIY3GGQ3x",
    "outputId": "1d9f0ed5-ad70-43c9-997e-6fdee67a3839"
   },
   "outputs": [
    {
     "data": {
      "text/html": [
       "<table>\n",
       "<thead>\n",
       "<tr><th style=\"text-align: right;\">  nr_sessions</th><th style=\"text-align: right;\">  nr_rest_days</th><th style=\"text-align: right;\">  total_kms</th><th style=\"text-align: right;\">  max_km_one_day</th><th style=\"text-align: right;\">  total_km_z3-z4-z5-t1-t2</th><th style=\"text-align: right;\">  nr_tough_sessions_(effort_in_z5,_t1_or_t2)</th><th style=\"text-align: right;\">  nr_days_with_interval_session</th><th style=\"text-align: right;\">  total_km_z3-4</th><th style=\"text-align: right;\">  max_km_z3-4_one_day</th><th style=\"text-align: right;\">  total_km_z5-t1-t2</th><th style=\"text-align: right;\">  max_km_z5-t1-t2_one_day</th><th style=\"text-align: right;\">  total_hours_alternative_training</th><th style=\"text-align: right;\">  nr_strength_trainings</th><th style=\"text-align: right;\">  avg_exertion</th><th style=\"text-align: right;\">  min_exertion</th><th style=\"text-align: right;\">  max_exertion</th><th style=\"text-align: right;\">  avg_training_success</th><th style=\"text-align: right;\">  min_training_success</th><th style=\"text-align: right;\">  max_training_success</th><th style=\"text-align: right;\">  avg_recovery</th><th style=\"text-align: right;\">  min_recovery</th><th style=\"text-align: right;\">  max_recovery</th><th style=\"text-align: right;\">  nr_sessions_1</th><th style=\"text-align: right;\">  nr_rest_days_1</th><th style=\"text-align: right;\">  total_kms_1</th><th style=\"text-align: right;\">  max_km_one_day_1</th><th style=\"text-align: right;\">  total_km_z3-z4-z5-t1-t2_1</th><th style=\"text-align: right;\">  nr_tough_sessions_(effort_in_z5,_t1_or_t2)_1</th><th style=\"text-align: right;\">  nr_days_with_interval_session_1</th><th style=\"text-align: right;\">  total_km_z3-4_1</th><th style=\"text-align: right;\">  max_km_z3-4_one_day_1</th><th style=\"text-align: right;\">  total_km_z5-t1-t2_1</th><th style=\"text-align: right;\">  max_km_z5-t1-t2_one_day_1</th><th style=\"text-align: right;\">  total_hours_alternative_training_1</th><th style=\"text-align: right;\">  nr_strength_trainings_1</th><th style=\"text-align: right;\">  avg_exertion_1</th><th style=\"text-align: right;\">  min_exertion_1</th><th style=\"text-align: right;\">  max_exertion_1</th><th style=\"text-align: right;\">  avg_training_success_1</th><th style=\"text-align: right;\">  min_training_success_1</th><th style=\"text-align: right;\">  max_training_success_1</th><th style=\"text-align: right;\">  avg_recovery_1</th><th style=\"text-align: right;\">  min_recovery_1</th><th style=\"text-align: right;\">  max_recovery_1</th><th style=\"text-align: right;\">  nr_sessions_2</th><th style=\"text-align: right;\">  nr_rest_days_2</th><th style=\"text-align: right;\">  total_kms_2</th><th style=\"text-align: right;\">  max_km_one_day_2</th><th style=\"text-align: right;\">  total_km_z3-z4-z5-t1-t2_2</th><th style=\"text-align: right;\">  nr_tough_sessions_(effort_in_z5,_t1_or_t2)_2</th><th style=\"text-align: right;\">  nr_days_with_interval_session_2</th><th style=\"text-align: right;\">  total_km_z3-4_2</th><th style=\"text-align: right;\">  max_km_z3-4_one_day_2</th><th style=\"text-align: right;\">  total_km_z5-t1-t2_2</th><th style=\"text-align: right;\">  max_km_z5-t1-t2_one_day_2</th><th style=\"text-align: right;\">  total_hours_alternative_training_2</th><th style=\"text-align: right;\">  nr_strength_trainings_2</th><th style=\"text-align: right;\">  avg_exertion_2</th><th style=\"text-align: right;\">  min_exertion_2</th><th style=\"text-align: right;\">  max_exertion_2</th><th style=\"text-align: right;\">  avg_training_success_2</th><th style=\"text-align: right;\">  min_training_success_2</th><th style=\"text-align: right;\">  max_training_success_2</th><th style=\"text-align: right;\">  avg_recovery_2</th><th style=\"text-align: right;\">  min_recovery_2</th><th style=\"text-align: right;\">  max_recovery_2</th><th style=\"text-align: right;\">  injury</th><th style=\"text-align: right;\">  rel_total_kms_week_0_1</th><th style=\"text-align: right;\">  rel_total_kms_week_0_2</th><th style=\"text-align: right;\">  rel_total_kms_week_1_2</th><th style=\"text-align: right;\">  date</th></tr>\n",
       "</thead>\n",
       "<tbody>\n",
       "<tr><td style=\"text-align: right;\">            5</td><td style=\"text-align: right;\">             2</td><td style=\"text-align: right;\">       22.2</td><td style=\"text-align: right;\">            16.4</td><td style=\"text-align: right;\">                     11.8</td><td style=\"text-align: right;\">                                           1</td><td style=\"text-align: right;\">                              2</td><td style=\"text-align: right;\">             10</td><td style=\"text-align: right;\">                   10</td><td style=\"text-align: right;\">                0.6</td><td style=\"text-align: right;\">                      0.6</td><td style=\"text-align: right;\">                              2.08</td><td style=\"text-align: right;\">                      2</td><td style=\"text-align: right;\">           0.1</td><td style=\"text-align: right;\">          0.08</td><td style=\"text-align: right;\">          0.11</td><td style=\"text-align: right;\">                     0</td><td style=\"text-align: right;\">                     0</td><td style=\"text-align: right;\">                     0</td><td style=\"text-align: right;\">          0.17</td><td style=\"text-align: right;\">          0.15</td><td style=\"text-align: right;\">          0.18</td><td style=\"text-align: right;\">              6</td><td style=\"text-align: right;\">               1</td><td style=\"text-align: right;\">         30.9</td><td style=\"text-align: right;\">              13.8</td><td style=\"text-align: right;\">                       13.5</td><td style=\"text-align: right;\">                                             0</td><td style=\"text-align: right;\">                                2</td><td style=\"text-align: right;\">             12.4</td><td style=\"text-align: right;\">                    6.4</td><td style=\"text-align: right;\">                  0  </td><td style=\"text-align: right;\">                        0  </td><td style=\"text-align: right;\">                                2.08</td><td style=\"text-align: right;\">                        2</td><td style=\"text-align: right;\">             0.1</td><td style=\"text-align: right;\">            0.09</td><td style=\"text-align: right;\">            0.12</td><td style=\"text-align: right;\">                       0</td><td style=\"text-align: right;\">                       0</td><td style=\"text-align: right;\">                       0</td><td style=\"text-align: right;\">            0.17</td><td style=\"text-align: right;\">            0.16</td><td style=\"text-align: right;\">            0.18</td><td style=\"text-align: right;\">              3</td><td style=\"text-align: right;\">               4</td><td style=\"text-align: right;\">         16.1</td><td style=\"text-align: right;\">               9.9</td><td style=\"text-align: right;\">                        3.9</td><td style=\"text-align: right;\">                                             0</td><td style=\"text-align: right;\">                                1</td><td style=\"text-align: right;\">              3.2</td><td style=\"text-align: right;\">                    3.2</td><td style=\"text-align: right;\">                    0</td><td style=\"text-align: right;\">                          0</td><td style=\"text-align: right;\">                                   0</td><td style=\"text-align: right;\">                        1</td><td style=\"text-align: right;\">            0.09</td><td style=\"text-align: right;\">            0.08</td><td style=\"text-align: right;\">             0.1</td><td style=\"text-align: right;\">                       0</td><td style=\"text-align: right;\">                       0</td><td style=\"text-align: right;\">                       0</td><td style=\"text-align: right;\">            0.18</td><td style=\"text-align: right;\">            0.16</td><td style=\"text-align: right;\">            0.2 </td><td style=\"text-align: right;\">       0</td><td style=\"text-align: right;\">                0.718447</td><td style=\"text-align: right;\">                 1.37888</td><td style=\"text-align: right;\">                 1.91925</td><td style=\"text-align: right;\">     0</td></tr>\n",
       "<tr><td style=\"text-align: right;\">            5</td><td style=\"text-align: right;\">             2</td><td style=\"text-align: right;\">       21.6</td><td style=\"text-align: right;\">            16.4</td><td style=\"text-align: right;\">                     11.7</td><td style=\"text-align: right;\">                                           1</td><td style=\"text-align: right;\">                              2</td><td style=\"text-align: right;\">             10</td><td style=\"text-align: right;\">                   10</td><td style=\"text-align: right;\">                0.5</td><td style=\"text-align: right;\">                      0.5</td><td style=\"text-align: right;\">                              2.08</td><td style=\"text-align: right;\">                      2</td><td style=\"text-align: right;\">           0.1</td><td style=\"text-align: right;\">          0.08</td><td style=\"text-align: right;\">          0.11</td><td style=\"text-align: right;\">                     0</td><td style=\"text-align: right;\">                     0</td><td style=\"text-align: right;\">                     0</td><td style=\"text-align: right;\">          0.17</td><td style=\"text-align: right;\">          0.15</td><td style=\"text-align: right;\">          0.18</td><td style=\"text-align: right;\">              6</td><td style=\"text-align: right;\">               1</td><td style=\"text-align: right;\">         31.6</td><td style=\"text-align: right;\">              13.8</td><td style=\"text-align: right;\">                       14.2</td><td style=\"text-align: right;\">                                             1</td><td style=\"text-align: right;\">                                3</td><td style=\"text-align: right;\">             12.4</td><td style=\"text-align: right;\">                    6.4</td><td style=\"text-align: right;\">                  0.6</td><td style=\"text-align: right;\">                        0.6</td><td style=\"text-align: right;\">                                2.08</td><td style=\"text-align: right;\">                        2</td><td style=\"text-align: right;\">             0.1</td><td style=\"text-align: right;\">            0.09</td><td style=\"text-align: right;\">            0.12</td><td style=\"text-align: right;\">                       0</td><td style=\"text-align: right;\">                       0</td><td style=\"text-align: right;\">                       0</td><td style=\"text-align: right;\">            0.17</td><td style=\"text-align: right;\">            0.16</td><td style=\"text-align: right;\">            0.18</td><td style=\"text-align: right;\">              4</td><td style=\"text-align: right;\">               3</td><td style=\"text-align: right;\">         21.2</td><td style=\"text-align: right;\">               9.9</td><td style=\"text-align: right;\">                        5  </td><td style=\"text-align: right;\">                                             0</td><td style=\"text-align: right;\">                                1</td><td style=\"text-align: right;\">              3.2</td><td style=\"text-align: right;\">                    3.2</td><td style=\"text-align: right;\">                    0</td><td style=\"text-align: right;\">                          0</td><td style=\"text-align: right;\">                                   0</td><td style=\"text-align: right;\">                        1</td><td style=\"text-align: right;\">            0.1 </td><td style=\"text-align: right;\">            0.08</td><td style=\"text-align: right;\">             0.1</td><td style=\"text-align: right;\">                       0</td><td style=\"text-align: right;\">                       0</td><td style=\"text-align: right;\">                       0</td><td style=\"text-align: right;\">            0.18</td><td style=\"text-align: right;\">            0.16</td><td style=\"text-align: right;\">            0.2 </td><td style=\"text-align: right;\">       0</td><td style=\"text-align: right;\">                0.683544</td><td style=\"text-align: right;\">                 1.01887</td><td style=\"text-align: right;\">                 1.49057</td><td style=\"text-align: right;\">     1</td></tr>\n",
       "<tr><td style=\"text-align: right;\">            5</td><td style=\"text-align: right;\">             2</td><td style=\"text-align: right;\">       21.6</td><td style=\"text-align: right;\">            16.4</td><td style=\"text-align: right;\">                     11.7</td><td style=\"text-align: right;\">                                           1</td><td style=\"text-align: right;\">                              2</td><td style=\"text-align: right;\">             10</td><td style=\"text-align: right;\">                   10</td><td style=\"text-align: right;\">                0.5</td><td style=\"text-align: right;\">                      0.5</td><td style=\"text-align: right;\">                              2.08</td><td style=\"text-align: right;\">                      2</td><td style=\"text-align: right;\">           0.1</td><td style=\"text-align: right;\">          0.08</td><td style=\"text-align: right;\">          0.11</td><td style=\"text-align: right;\">                     0</td><td style=\"text-align: right;\">                     0</td><td style=\"text-align: right;\">                     0</td><td style=\"text-align: right;\">          0.17</td><td style=\"text-align: right;\">          0.15</td><td style=\"text-align: right;\">          0.18</td><td style=\"text-align: right;\">              6</td><td style=\"text-align: right;\">               1</td><td style=\"text-align: right;\">         31.6</td><td style=\"text-align: right;\">              13.8</td><td style=\"text-align: right;\">                       14.2</td><td style=\"text-align: right;\">                                             1</td><td style=\"text-align: right;\">                                3</td><td style=\"text-align: right;\">             12.4</td><td style=\"text-align: right;\">                    6.4</td><td style=\"text-align: right;\">                  0.6</td><td style=\"text-align: right;\">                        0.6</td><td style=\"text-align: right;\">                                2.08</td><td style=\"text-align: right;\">                        2</td><td style=\"text-align: right;\">             0.1</td><td style=\"text-align: right;\">            0.09</td><td style=\"text-align: right;\">            0.12</td><td style=\"text-align: right;\">                       0</td><td style=\"text-align: right;\">                       0</td><td style=\"text-align: right;\">                       0</td><td style=\"text-align: right;\">            0.17</td><td style=\"text-align: right;\">            0.16</td><td style=\"text-align: right;\">            0.18</td><td style=\"text-align: right;\">              3</td><td style=\"text-align: right;\">               4</td><td style=\"text-align: right;\">         21.2</td><td style=\"text-align: right;\">               9.9</td><td style=\"text-align: right;\">                        5  </td><td style=\"text-align: right;\">                                             0</td><td style=\"text-align: right;\">                                1</td><td style=\"text-align: right;\">              3.2</td><td style=\"text-align: right;\">                    3.2</td><td style=\"text-align: right;\">                    0</td><td style=\"text-align: right;\">                          0</td><td style=\"text-align: right;\">                                   0</td><td style=\"text-align: right;\">                        0</td><td style=\"text-align: right;\">            0.1 </td><td style=\"text-align: right;\">            0.1 </td><td style=\"text-align: right;\">             0.1</td><td style=\"text-align: right;\">                       0</td><td style=\"text-align: right;\">                       0</td><td style=\"text-align: right;\">                       0</td><td style=\"text-align: right;\">            0.17</td><td style=\"text-align: right;\">            0.16</td><td style=\"text-align: right;\">            0.18</td><td style=\"text-align: right;\">       0</td><td style=\"text-align: right;\">                0.683544</td><td style=\"text-align: right;\">                 1.01887</td><td style=\"text-align: right;\">                 1.49057</td><td style=\"text-align: right;\">     2</td></tr>\n",
       "</tbody>\n",
       "</table>"
      ]
     },
     "metadata": {},
     "output_type": "display_data"
    },
    {
     "data": {
      "text/plain": []
     },
     "execution_count": 160,
     "metadata": {},
     "output_type": "execute_result"
    }
   ],
   "source": [
    "features_week.head(3)"
   ]
  },
  {
   "cell_type": "code",
   "execution_count": 161,
   "metadata": {
    "colab": {
     "base_uri": "https://localhost:8080/"
    },
    "executionInfo": {
     "elapsed": 466,
     "status": "ok",
     "timestamp": 1661545813800,
     "user": {
      "displayName": "Olusegun Ajibola",
      "userId": "14016280963587867119"
     },
     "user_tz": -120
    },
    "id": "QSSl9ZHW-uwg",
    "outputId": "4c22aa90-b431-4ed4-dac5-b57c3cbd59e3"
   },
   "outputs": [
    {
     "data": {
      "text/plain": [
       "{'nr_sessions': 'int',\n",
       " 'nr_rest_days': 'int',\n",
       " 'total_kms': 'real',\n",
       " 'max_km_one_day': 'real',\n",
       " 'total_km_z3-z4-z5-t1-t2': 'real',\n",
       " 'nr_tough_sessions_(effort_in_z5,_t1_or_t2)': 'int',\n",
       " 'nr_days_with_interval_session': 'int',\n",
       " 'total_km_z3-4': 'real',\n",
       " 'max_km_z3-4_one_day': 'real',\n",
       " 'total_km_z5-t1-t2': 'real',\n",
       " 'max_km_z5-t1-t2_one_day': 'real',\n",
       " 'total_hours_alternative_training': 'real',\n",
       " 'nr_strength_trainings': 'int',\n",
       " 'avg_exertion': 'real',\n",
       " 'min_exertion': 'real',\n",
       " 'max_exertion': 'real',\n",
       " 'avg_training_success': 'real',\n",
       " 'min_training_success': 'real',\n",
       " 'max_training_success': 'real',\n",
       " 'avg_recovery': 'real',\n",
       " 'min_recovery': 'real',\n",
       " 'max_recovery': 'real',\n",
       " 'nr_sessions_1': 'int',\n",
       " 'nr_rest_days_1': 'int',\n",
       " 'total_kms_1': 'real',\n",
       " 'max_km_one_day_1': 'real',\n",
       " 'total_km_z3-z4-z5-t1-t2_1': 'real',\n",
       " 'nr_tough_sessions_(effort_in_z5,_t1_or_t2)_1': 'int',\n",
       " 'nr_days_with_interval_session_1': 'int',\n",
       " 'total_km_z3-4_1': 'real',\n",
       " 'max_km_z3-4_one_day_1': 'real',\n",
       " 'total_km_z5-t1-t2_1': 'real',\n",
       " 'max_km_z5-t1-t2_one_day_1': 'real',\n",
       " 'total_hours_alternative_training_1': 'real',\n",
       " 'nr_strength_trainings_1': 'int',\n",
       " 'avg_exertion_1': 'real',\n",
       " 'min_exertion_1': 'real',\n",
       " 'max_exertion_1': 'real',\n",
       " 'avg_training_success_1': 'real',\n",
       " 'min_training_success_1': 'real',\n",
       " 'max_training_success_1': 'real',\n",
       " 'avg_recovery_1': 'real',\n",
       " 'min_recovery_1': 'real',\n",
       " 'max_recovery_1': 'real',\n",
       " 'nr_sessions_2': 'int',\n",
       " 'nr_rest_days_2': 'int',\n",
       " 'total_kms_2': 'real',\n",
       " 'max_km_one_day_2': 'real',\n",
       " 'total_km_z3-z4-z5-t1-t2_2': 'real',\n",
       " 'nr_tough_sessions_(effort_in_z5,_t1_or_t2)_2': 'int',\n",
       " 'nr_days_with_interval_session_2': 'int',\n",
       " 'total_km_z3-4_2': 'real',\n",
       " 'max_km_z3-4_one_day_2': 'real',\n",
       " 'total_km_z5-t1-t2_2': 'real',\n",
       " 'max_km_z5-t1-t2_one_day_2': 'real',\n",
       " 'total_hours_alternative_training_2': 'real',\n",
       " 'nr_strength_trainings_2': 'int',\n",
       " 'avg_exertion_2': 'real',\n",
       " 'min_exertion_2': 'real',\n",
       " 'max_exertion_2': 'real',\n",
       " 'avg_training_success_2': 'real',\n",
       " 'min_training_success_2': 'real',\n",
       " 'max_training_success_2': 'real',\n",
       " 'avg_recovery_2': 'real',\n",
       " 'min_recovery_2': 'real',\n",
       " 'max_recovery_2': 'real',\n",
       " 'injury': 'enum',\n",
       " 'rel_total_kms_week_0_1': 'real',\n",
       " 'rel_total_kms_week_0_2': 'real',\n",
       " 'rel_total_kms_week_1_2': 'real',\n",
       " 'date': 'enum'}"
      ]
     },
     "execution_count": 161,
     "metadata": {},
     "output_type": "execute_result"
    }
   ],
   "source": [
    "features_week.types"
   ]
  },
  {
   "cell_type": "markdown",
   "metadata": {
    "id": "17tYnFWfcV9M"
   },
   "source": [
    "We now preprocess the dataset by seperating training and test data."
   ]
  },
  {
   "cell_type": "code",
   "execution_count": 162,
   "metadata": {
    "id": "ByKA-DPJdcHG"
   },
   "outputs": [],
   "source": [
    "# converting to pandas dataframe\n",
    "train_week_df = train_week.as_data_frame()\n",
    "test_week_df = test_week.as_data_frame()\n",
    "\n",
    "# noinjury_df_tr = train_week_df[train_week_df['injury'] == 0]\n",
    "# injury_df_tr = train_week_df[train_week_df['injury'] == 1]"
   ]
  },
  {
   "cell_type": "code",
   "execution_count": 163,
   "metadata": {
    "id": "aaIfZzwecTMK"
   },
   "outputs": [],
   "source": [
    "# drop the Class variable\n",
    "\n",
    "Y_test_df = test_week_df['injury'] # true labels of the testing set\n",
    "Y_test_df_ = pd.DataFrame(Y_test_df) # convert to pandas dataframe from pandas series\n",
    "test_df = test_week_df.drop(['injury'], axis=1)"
   ]
  },
  {
   "cell_type": "code",
   "execution_count": 164,
   "metadata": {
    "colab": {
     "base_uri": "https://localhost:8080/"
    },
    "executionInfo": {
     "elapsed": 4376,
     "status": "ok",
     "timestamp": 1661545963462,
     "user": {
      "displayName": "Olusegun Ajibola",
      "userId": "14016280963587867119"
     },
     "user_tz": -120
    },
    "id": "DGbyLdAVfP44",
    "outputId": "24720f8e-f68f-4ea1-c468-ca32e7001253"
   },
   "outputs": [
    {
     "name": "stdout",
     "output_type": "stream",
     "text": [
      "Parse progress: |████████████████████████████████████████████████████████████████| (done) 100%\n",
      "Parse progress: |████████████████████████████████████████████████████████████████| (done) 100%\n",
      "Parse progress: |████████████████████████████████████████████████████████████████| (done) 100%\n"
     ]
    }
   ],
   "source": [
    "# converting to h2o frame\n",
    "Y_test_h2o = h2o.H2OFrame(Y_test_df_) \n",
    "train_h2o = h2o.H2OFrame(train_week_df) \n",
    "test_h2o = h2o.H2OFrame(test_df)"
   ]
  },
  {
   "cell_type": "code",
   "execution_count": 165,
   "metadata": {
    "id": "ddpFQeSPgvDW"
   },
   "outputs": [],
   "source": [
    "cols = train_h2o.columns\n",
    "cols.remove('injury')"
   ]
  },
  {
   "cell_type": "code",
   "execution_count": 166,
   "metadata": {
    "colab": {
     "base_uri": "https://localhost:8080/"
    },
    "executionInfo": {
     "elapsed": 15,
     "status": "ok",
     "timestamp": 1661192382378,
     "user": {
      "displayName": "Olusegun Ajibola",
      "userId": "14016280963587867119"
     },
     "user_tz": -120
    },
    "id": "Z78C7aMEClx0",
    "outputId": "876eb936-d137-492d-a7a8-88cd3706c556"
   },
   "outputs": [
    {
     "data": {
      "text/plain": [
       "['nr_sessions',\n",
       " 'nr_rest_days',\n",
       " 'total_kms',\n",
       " 'max_km_one_day',\n",
       " 'total_km_z3-z4-z5-t1-t2',\n",
       " 'nr_tough_sessions_(effort_in_z5,_t1_or_t2)',\n",
       " 'nr_days_with_interval_session',\n",
       " 'total_km_z3-4',\n",
       " 'max_km_z3-4_one_day',\n",
       " 'total_km_z5-t1-t2',\n",
       " 'max_km_z5-t1-t2_one_day',\n",
       " 'total_hours_alternative_training',\n",
       " 'nr_strength_trainings',\n",
       " 'avg_exertion',\n",
       " 'min_exertion',\n",
       " 'max_exertion',\n",
       " 'avg_training_success',\n",
       " 'min_training_success',\n",
       " 'max_training_success',\n",
       " 'avg_recovery',\n",
       " 'min_recovery',\n",
       " 'max_recovery',\n",
       " 'nr_sessions_1',\n",
       " 'nr_rest_days_1',\n",
       " 'total_kms_1',\n",
       " 'max_km_one_day_1',\n",
       " 'total_km_z3-z4-z5-t1-t2_1',\n",
       " 'nr_tough_sessions_(effort_in_z5,_t1_or_t2)_1',\n",
       " 'nr_days_with_interval_session_1',\n",
       " 'total_km_z3-4_1',\n",
       " 'max_km_z3-4_one_day_1',\n",
       " 'total_km_z5-t1-t2_1',\n",
       " 'max_km_z5-t1-t2_one_day_1',\n",
       " 'total_hours_alternative_training_1',\n",
       " 'nr_strength_trainings_1',\n",
       " 'avg_exertion_1',\n",
       " 'min_exertion_1',\n",
       " 'max_exertion_1',\n",
       " 'avg_training_success_1',\n",
       " 'min_training_success_1',\n",
       " 'max_training_success_1',\n",
       " 'avg_recovery_1',\n",
       " 'min_recovery_1',\n",
       " 'max_recovery_1',\n",
       " 'nr_sessions_2',\n",
       " 'nr_rest_days_2',\n",
       " 'total_kms_2',\n",
       " 'max_km_one_day_2',\n",
       " 'total_km_z3-z4-z5-t1-t2_2',\n",
       " 'nr_tough_sessions_(effort_in_z5,_t1_or_t2)_2',\n",
       " 'nr_days_with_interval_session_2',\n",
       " 'total_km_z3-4_2',\n",
       " 'max_km_z3-4_one_day_2',\n",
       " 'total_km_z5-t1-t2_2',\n",
       " 'max_km_z5-t1-t2_one_day_2',\n",
       " 'total_hours_alternative_training_2',\n",
       " 'nr_strength_trainings_2',\n",
       " 'avg_exertion_2',\n",
       " 'min_exertion_2',\n",
       " 'max_exertion_2',\n",
       " 'avg_training_success_2',\n",
       " 'min_training_success_2',\n",
       " 'max_training_success_2',\n",
       " 'avg_recovery_2',\n",
       " 'min_recovery_2',\n",
       " 'max_recovery_2',\n",
       " 'rel_total_kms_week_0_1',\n",
       " 'rel_total_kms_week_0_2',\n",
       " 'rel_total_kms_week_1_2',\n",
       " 'date']"
      ]
     },
     "execution_count": 166,
     "metadata": {},
     "output_type": "execute_result"
    }
   ],
   "source": [
    "cols"
   ]
  },
  {
   "cell_type": "markdown",
   "metadata": {
    "id": "-uyGkZF6cH4U"
   },
   "source": [
    "We now create a local estimator and start the training process"
   ]
  },
  {
   "cell_type": "markdown",
   "metadata": {
    "id": "vIRuF-xaqPta"
   },
   "source": [
    "In the deep learning model below, we included the h2o library for anomaly detection i.e autoencoder."
   ]
  },
  {
   "cell_type": "code",
   "execution_count": 167,
   "metadata": {
    "id": "EZvOc8B2i-bH"
   },
   "outputs": [],
   "source": [
    "# our model with its hyper parameters\n",
    "\n",
    "deepl_model = H2ODeepLearningEstimator(activation = \"Tanh\",\n",
    "                               hidden = [15,7,7,7,15],\n",
    "                               epochs = 100,\n",
    "                               standardize = True,\n",
    "                                stopping_metric = 'MSE',\n",
    "                                loss = 'automatic',\n",
    "                                train_samples_per_iteration = 32,\n",
    "                                shuffle_training_data = True,     \n",
    "                               autoencoder = True,\n",
    "                               l1 = 10e-5)"
   ]
  },
  {
   "cell_type": "code",
   "execution_count": 168,
   "metadata": {
    "colab": {
     "base_uri": "https://localhost:8080/"
    },
    "executionInfo": {
     "elapsed": 2972793,
     "status": "ok",
     "timestamp": 1661549483129,
     "user": {
      "displayName": "Olusegun Ajibola",
      "userId": "14016280963587867119"
     },
     "user_tz": -120
    },
    "id": "ysiog36JjAY3",
    "outputId": "e91cd1c6-966f-4036-e71c-800eba6cda44"
   },
   "outputs": [
    {
     "name": "stdout",
     "output_type": "stream",
     "text": [
      "deeplearning Model Build progress: |█████████████████████████████████████████████| (done) 100%\n",
      "deeplearning Model Build progress: |█████████████████████████████████████████████| (done) 100%\n",
      "deeplearning Model Build progress: |█████████████████████████████████████████████| (done) 100%\n",
      "deeplearning Model Build progress: |█████████████████████████████████████████████| (done) 100%\n",
      "deeplearning Model Build progress: |█████████████████████████████████████████████| (done) 100%\n",
      "deeplearning Model Build progress: |█████████████████████████████████████████████| (done) 100%\n",
      "deeplearning Model Build progress: |█████████████████████████████████████████████| (done) 100%\n",
      "deeplearning Model Build progress: |█████████████████████████████████████████████| (done) 100%\n",
      "2min 31s ± 35 s per loop (mean ± std. dev. of 7 runs, 1 loop each)\n"
     ]
    }
   ],
   "source": [
    "%timeit deepl_model.train(x = cols , y = 'injury', training_frame = train_h2o) # this takes a while at least an hour "
   ]
  },
  {
   "cell_type": "code",
   "execution_count": 169,
   "metadata": {
    "colab": {
     "base_uri": "https://localhost:8080/"
    },
    "executionInfo": {
     "elapsed": 473,
     "status": "ok",
     "timestamp": 1661549953220,
     "user": {
      "displayName": "Olusegun Ajibola",
      "userId": "14016280963587867119"
     },
     "user_tz": -120
    },
    "id": "5Ken-3NPo4Dq",
    "outputId": "64826733-332a-43f4-e562-b57020411837"
   },
   "outputs": [
    {
     "name": "stdout",
     "output_type": "stream",
     "text": [
      "\n",
      "ModelMetricsAutoEncoder: deeplearning\n",
      "** Reported on train data. **\n",
      "\n",
      "MSE: 0.005657444115943373\n",
      "RMSE: 0.0752159831149163\n"
     ]
    },
    {
     "data": {
      "text/plain": []
     },
     "execution_count": 169,
     "metadata": {},
     "output_type": "execute_result"
    }
   ],
   "source": [
    "# Evaluate performance:\n",
    "\n",
    "perf = deepl_model.model_performance()\n",
    "perf"
   ]
  },
  {
   "cell_type": "markdown",
   "metadata": {
    "id": "ic2BV2d-qlE2"
   },
   "source": [
    "The MSE & RMSE helps us to understand how far off our prediction is on the training data as opposed to the actual results. The small number above which almost equals zero tells us that our model performs well on the training set.\n",
    "\n",
    "We also note that $RMSE = \\sqrt{MSE}$"
   ]
  },
  {
   "cell_type": "markdown",
   "metadata": {
    "id": "cxuafel6kRAt"
   },
   "source": [
    "Show the model feature importance in a dataframe"
   ]
  },
  {
   "cell_type": "code",
   "execution_count": 170,
   "metadata": {
    "colab": {
     "base_uri": "https://localhost:8080/",
     "height": 1000
    },
    "executionInfo": {
     "elapsed": 464,
     "status": "ok",
     "timestamp": 1661549956349,
     "user": {
      "displayName": "Olusegun Ajibola",
      "userId": "14016280963587867119"
     },
     "user_tz": -120
    },
    "id": "oA54wpE9jJDG",
    "outputId": "9abef579-3d10-475e-e3a6-2237898c04ba"
   },
   "outputs": [
    {
     "data": {
      "text/html": [
       "<div>\n",
       "<style scoped>\n",
       "    .dataframe tbody tr th:only-of-type {\n",
       "        vertical-align: middle;\n",
       "    }\n",
       "\n",
       "    .dataframe tbody tr th {\n",
       "        vertical-align: top;\n",
       "    }\n",
       "\n",
       "    .dataframe thead th {\n",
       "        text-align: right;\n",
       "    }\n",
       "</style>\n",
       "<table border=\"1\" class=\"dataframe\">\n",
       "  <thead>\n",
       "    <tr style=\"text-align: right;\">\n",
       "      <th></th>\n",
       "      <th>variable</th>\n",
       "      <th>relative_importance</th>\n",
       "      <th>scaled_importance</th>\n",
       "      <th>percentage</th>\n",
       "    </tr>\n",
       "  </thead>\n",
       "  <tbody>\n",
       "    <tr>\n",
       "      <th>0</th>\n",
       "      <td>date</td>\n",
       "      <td>1.000000</td>\n",
       "      <td>1.000000</td>\n",
       "      <td>0.033991</td>\n",
       "    </tr>\n",
       "    <tr>\n",
       "      <th>1</th>\n",
       "      <td>nr_rest_days_1</td>\n",
       "      <td>0.796457</td>\n",
       "      <td>0.796457</td>\n",
       "      <td>0.027072</td>\n",
       "    </tr>\n",
       "    <tr>\n",
       "      <th>2</th>\n",
       "      <td>nr_rest_days</td>\n",
       "      <td>0.794395</td>\n",
       "      <td>0.794395</td>\n",
       "      <td>0.027002</td>\n",
       "    </tr>\n",
       "    <tr>\n",
       "      <th>3</th>\n",
       "      <td>min_training_success_1</td>\n",
       "      <td>0.781789</td>\n",
       "      <td>0.781789</td>\n",
       "      <td>0.026574</td>\n",
       "    </tr>\n",
       "    <tr>\n",
       "      <th>4</th>\n",
       "      <td>max_training_success_2</td>\n",
       "      <td>0.774766</td>\n",
       "      <td>0.774766</td>\n",
       "      <td>0.026335</td>\n",
       "    </tr>\n",
       "    <tr>\n",
       "      <th>...</th>\n",
       "      <td>...</td>\n",
       "      <td>...</td>\n",
       "      <td>...</td>\n",
       "      <td>...</td>\n",
       "    </tr>\n",
       "    <tr>\n",
       "      <th>66</th>\n",
       "      <td>max_km_z5-t1-t2_one_day_1</td>\n",
       "      <td>0.017313</td>\n",
       "      <td>0.017313</td>\n",
       "      <td>0.000588</td>\n",
       "    </tr>\n",
       "    <tr>\n",
       "      <th>67</th>\n",
       "      <td>rel_total_kms_week_1_2</td>\n",
       "      <td>0.015652</td>\n",
       "      <td>0.015652</td>\n",
       "      <td>0.000532</td>\n",
       "    </tr>\n",
       "    <tr>\n",
       "      <th>68</th>\n",
       "      <td>rel_total_kms_week_0_2</td>\n",
       "      <td>0.014960</td>\n",
       "      <td>0.014960</td>\n",
       "      <td>0.000509</td>\n",
       "    </tr>\n",
       "    <tr>\n",
       "      <th>69</th>\n",
       "      <td>injury</td>\n",
       "      <td>0.014096</td>\n",
       "      <td>0.014096</td>\n",
       "      <td>0.000479</td>\n",
       "    </tr>\n",
       "    <tr>\n",
       "      <th>70</th>\n",
       "      <td>rel_total_kms_week_0_1</td>\n",
       "      <td>0.005141</td>\n",
       "      <td>0.005141</td>\n",
       "      <td>0.000175</td>\n",
       "    </tr>\n",
       "  </tbody>\n",
       "</table>\n",
       "<p>71 rows × 4 columns</p>\n",
       "</div>"
      ],
      "text/plain": [
       "                     variable  relative_importance  scaled_importance  \\\n",
       "0                        date             1.000000           1.000000   \n",
       "1              nr_rest_days_1             0.796457           0.796457   \n",
       "2                nr_rest_days             0.794395           0.794395   \n",
       "3      min_training_success_1             0.781789           0.781789   \n",
       "4      max_training_success_2             0.774766           0.774766   \n",
       "..                        ...                  ...                ...   \n",
       "66  max_km_z5-t1-t2_one_day_1             0.017313           0.017313   \n",
       "67     rel_total_kms_week_1_2             0.015652           0.015652   \n",
       "68     rel_total_kms_week_0_2             0.014960           0.014960   \n",
       "69                     injury             0.014096           0.014096   \n",
       "70     rel_total_kms_week_0_1             0.005141           0.005141   \n",
       "\n",
       "    percentage  \n",
       "0     0.033991  \n",
       "1     0.027072  \n",
       "2     0.027002  \n",
       "3     0.026574  \n",
       "4     0.026335  \n",
       "..         ...  \n",
       "66    0.000588  \n",
       "67    0.000532  \n",
       "68    0.000509  \n",
       "69    0.000479  \n",
       "70    0.000175  \n",
       "\n",
       "[71 rows x 4 columns]"
      ]
     },
     "execution_count": 170,
     "metadata": {},
     "output_type": "execute_result"
    }
   ],
   "source": [
    "deepl_model._model_json['output']['variable_importances'].as_data_frame()"
   ]
  },
  {
   "cell_type": "markdown",
   "metadata": {
    "id": "0ctJxD89kgAw"
   },
   "source": [
    "Visualization of the feature importance"
   ]
  },
  {
   "cell_type": "code",
   "execution_count": 171,
   "metadata": {
    "colab": {
     "base_uri": "https://localhost:8080/",
     "height": 513
    },
    "executionInfo": {
     "elapsed": 851,
     "status": "ok",
     "timestamp": 1661549965239,
     "user": {
      "displayName": "Olusegun Ajibola",
      "userId": "14016280963587867119"
     },
     "user_tz": -120
    },
    "id": "73vZUHmmkfhI",
    "outputId": "1f6f7393-0d14-49a9-b3f9-29cda6aba5a5"
   },
   "outputs": [
    {
     "data": {
      "image/png": "[encoded data removed]",
      "text/plain": [
       "<Figure size 1400x800 with 1 Axes>"
      ]
     },
     "metadata": {},
     "output_type": "display_data"
    }
   ],
   "source": [
    "# plotting the variable importance\n",
    "rcParams['figure.figsize'] = 14, 8\n",
    "#plt.rcdefaults()\n",
    "fig, ax = plt.subplots()\n",
    "\n",
    "variables = deepl_model._model_json['output']['variable_importances']['variable']\n",
    "var = variables[0:10]\n",
    "y_pos = np.arange(len(var))\n",
    "\n",
    "scaled_importance = deepl_model._model_json['output']['variable_importances']['scaled_importance']\n",
    "sc = scaled_importance[0:10]\n",
    "\n",
    "ax.barh(y_pos, sc, align='center', color='green', ecolor='black')\n",
    "ax.set_yticks(y_pos)\n",
    "# ax.set_yticklabels(variables)\n",
    "ax.set_yticklabels(var)\n",
    "ax.invert_yaxis()\n",
    "ax.set_xlabel('Scaled Importance')\n",
    "ax.set_title('Variable Importance of Top 10 Features - Weekly')\n",
    "plt.savefig('feat_imp_weeklydata.png' ,bbox_inches='tight')\n",
    "plt.show()"
   ]
  },
  {
   "cell_type": "markdown",
   "metadata": {
    "id": "ir90Ed2_krem"
   },
   "source": [
    "Visualize the model loss."
   ]
  },
  {
   "cell_type": "code",
   "execution_count": 42,
   "metadata": {
    "colab": {
     "base_uri": "https://localhost:8080/",
     "height": 531
    },
    "executionInfo": {
     "elapsed": 558,
     "status": "ok",
     "timestamp": 1661549977060,
     "user": {
      "displayName": "Olusegun Ajibola",
      "userId": "14016280963587867119"
     },
     "user_tz": -120
    },
    "id": "G7ZoE668kfdh",
    "outputId": "186e2a3e-d233-488b-a088-02f8ca814870",
    "tags": []
   },
   "outputs": [
    {
     "data": {
      "text/plain": [
       "Text(0.5, 0, 'epoch')"
      ]
     },
     "execution_count": 42,
     "metadata": {},
     "output_type": "execute_result"
    },
    {
     "data": {
      "image/png": "[encoded data removed]",
      "text/plain": [
       "<Figure size 1400x800 with 1 Axes>"
      ]
     },
     "metadata": {},
     "output_type": "display_data"
    }
   ],
   "source": [
    "# plotting the loss\n",
    "\n",
    "scoring_history = deepl_model.score_history()\n",
    "\n",
    "rcParams['figure.figsize'] = 14, 8\n",
    "plt.plot(scoring_history['training_mse'])\n",
    "plt.title('model loss')\n",
    "plt.ylabel('loss')\n",
    "plt.xlabel('epoch')"
   ]
  },
  {
   "cell_type": "markdown",
   "metadata": {
    "id": "2SFWIkEUkyrQ"
   },
   "source": [
    "Visualize the scatter plot across the dataset"
   ]
  },
  {
   "cell_type": "code",
   "execution_count": 43,
   "metadata": {
    "colab": {
     "base_uri": "https://localhost:8080/",
     "height": 497
    },
    "executionInfo": {
     "elapsed": 1284,
     "status": "ok",
     "timestamp": 1661550047053,
     "user": {
      "displayName": "Olusegun Ajibola",
      "userId": "14016280963587867119"
     },
     "user_tz": -120
    },
    "id": "BQFsmBYqkedk",
    "outputId": "45a6bc5f-7683-40d8-f615-3d58497b7a7b"
   },
   "outputs": [
    {
     "data": {
      "image/png": "[encoded data removed]",
      "text/plain": [
       "<Figure size 1400x800 with 1 Axes>"
      ]
     },
     "metadata": {},
     "output_type": "display_data"
    }
   ],
   "source": [
    "test_rec_error = deepl_model.anomaly(test_h2o) \n",
    "\n",
    "# deepl is a H2O function which calculates the error for the dataset\n",
    "\n",
    "# converting to pandas dataframe\n",
    "test_rec_error_df = test_rec_error.as_data_frame()\n",
    "\n",
    "# plotting the testing dataset against the error\n",
    "test_rec_error_df['id'] = test_rec_error_df.index\n",
    "rcParams['figure.figsize'] = 14, 8\n",
    "test_rec_error_df.plot(kind=\"scatter\", x='id', y=\"Reconstruction.MSE\")\n",
    "plt.show()"
   ]
  },
  {
   "cell_type": "code",
   "execution_count": 44,
   "metadata": {
    "colab": {
     "base_uri": "https://localhost:8080/",
     "height": 162
    },
    "executionInfo": {
     "elapsed": 923,
     "status": "ok",
     "timestamp": 1661550105410,
     "user": {
      "displayName": "Olusegun Ajibola",
      "userId": "14016280963587867119"
     },
     "user_tz": -120
    },
    "id": "bh5vqpwrk-6f",
    "outputId": "025423f6-730d-45cb-f405-43343b980dee"
   },
   "outputs": [
    {
     "name": "stdout",
     "output_type": "stream",
     "text": [
      "deeplearning prediction progress: |██████████████████████████████████████████████| (done) 100%\n"
     ]
    },
    {
     "data": {
      "text/html": [
       "<div>\n",
       "<style scoped>\n",
       "    .dataframe tbody tr th:only-of-type {\n",
       "        vertical-align: middle;\n",
       "    }\n",
       "\n",
       "    .dataframe tbody tr th {\n",
       "        vertical-align: top;\n",
       "    }\n",
       "\n",
       "    .dataframe thead th {\n",
       "        text-align: right;\n",
       "    }\n",
       "</style>\n",
       "<table border=\"1\" class=\"dataframe\">\n",
       "  <thead>\n",
       "    <tr style=\"text-align: right;\">\n",
       "      <th></th>\n",
       "      <th>reconstruction_error</th>\n",
       "    </tr>\n",
       "    <tr>\n",
       "      <th>true_class</th>\n",
       "      <th></th>\n",
       "    </tr>\n",
       "  </thead>\n",
       "  <tbody>\n",
       "    <tr>\n",
       "      <th>0</th>\n",
       "      <td>8405</td>\n",
       "    </tr>\n",
       "    <tr>\n",
       "      <th>1</th>\n",
       "      <td>120</td>\n",
       "    </tr>\n",
       "  </tbody>\n",
       "</table>\n",
       "</div>"
      ],
      "text/plain": [
       "            reconstruction_error\n",
       "true_class                      \n",
       "0                           8405\n",
       "1                            120"
      ]
     },
     "execution_count": 44,
     "metadata": {},
     "output_type": "execute_result"
    }
   ],
   "source": [
    "# predicting the class for the testing dataset\n",
    "predictions = deepl_model.predict(test_h2o)\n",
    "error_df = pd.DataFrame({'reconstruction_error': test_rec_error_df['Reconstruction.MSE'],\n",
    "                        'true_class': Y_test_df})\n",
    "error_df.groupby('true_class').count()"
   ]
  },
  {
   "cell_type": "markdown",
   "metadata": {
    "id": "1w7rTflOmqaR"
   },
   "source": [
    "Calculate the threshold score/ cutoff score"
   ]
  },
  {
   "cell_type": "code",
   "execution_count": 45,
   "metadata": {
    "colab": {
     "base_uri": "https://localhost:8080/"
    },
    "executionInfo": {
     "elapsed": 1053,
     "status": "ok",
     "timestamp": 1661550124839,
     "user": {
      "displayName": "Olusegun Ajibola",
      "userId": "14016280963587867119"
     },
     "user_tz": -120
    },
    "id": "Eh8uvN88lJCG",
    "outputId": "7e0c71d8-88a3-4e6c-cf73-14ed3e3d65db"
   },
   "outputs": [
    {
     "data": {
      "text/plain": [
       "0.022119428856661474"
      ]
     },
     "execution_count": 45,
     "metadata": {},
     "output_type": "execute_result"
    }
   ],
   "source": [
    "score_mean = error_df['reconstruction_error'].mean()\n",
    "score_std = error_df['reconstruction_error'].std()\n",
    "score_cutoff = score_mean + 4*score_std\n",
    "score_cutoff"
   ]
  },
  {
   "cell_type": "code",
   "execution_count": 46,
   "metadata": {
    "colab": {
     "base_uri": "https://localhost:8080/"
    },
    "executionInfo": {
     "elapsed": 923,
     "status": "ok",
     "timestamp": 1661550129468,
     "user": {
      "displayName": "Olusegun Ajibola",
      "userId": "14016280963587867119"
     },
     "user_tz": -120
    },
    "id": "QXGWE7GEmuZV",
    "outputId": "52ab71a1-a420-40b3-df20-85a100072836"
   },
   "outputs": [
    {
     "data": {
      "text/plain": [
       "reconstruction_error    120\n",
       "true_class              120\n",
       "dtype: int64"
      ]
     },
     "execution_count": 46,
     "metadata": {},
     "output_type": "execute_result"
    }
   ],
   "source": [
    "error_df[(error_df['true_class'] == 1) & error_df['reconstruction_error'] > 0.0095].count()"
   ]
  },
  {
   "cell_type": "markdown",
   "metadata": {
    "id": "R3ostMdJm446"
   },
   "source": [
    "Print out the confusion matrix and adjust and tune the confusion matrix from the threshold."
   ]
  },
  {
   "cell_type": "code",
   "execution_count": 47,
   "metadata": {
    "id": "ysr4PhagVgjL"
   },
   "outputs": [],
   "source": [
    "# len(y_pred), len(error_df.true_class)"
   ]
  },
  {
   "cell_type": "code",
   "execution_count": 48,
   "metadata": {
    "colab": {
     "base_uri": "https://localhost:8080/",
     "height": 49
    },
    "executionInfo": {
     "elapsed": 420,
     "status": "ok",
     "timestamp": 1661550139734,
     "user": {
      "displayName": "Olusegun Ajibola",
      "userId": "14016280963587867119"
     },
     "user_tz": -120
    },
    "id": "Qv9BWEtgXSA4",
    "outputId": "212b4761-b96d-4326-f3f7-bea7151125ab"
   },
   "outputs": [
    {
     "data": {
      "text/html": [
       "<div>\n",
       "<style scoped>\n",
       "    .dataframe tbody tr th:only-of-type {\n",
       "        vertical-align: middle;\n",
       "    }\n",
       "\n",
       "    .dataframe tbody tr th {\n",
       "        vertical-align: top;\n",
       "    }\n",
       "\n",
       "    .dataframe thead th {\n",
       "        text-align: right;\n",
       "    }\n",
       "</style>\n",
       "<table border=\"1\" class=\"dataframe\">\n",
       "  <thead>\n",
       "    <tr style=\"text-align: right;\">\n",
       "      <th></th>\n",
       "      <th>reconstruction_error</th>\n",
       "      <th>true_class</th>\n",
       "    </tr>\n",
       "  </thead>\n",
       "  <tbody>\n",
       "  </tbody>\n",
       "</table>\n",
       "</div>"
      ],
      "text/plain": [
       "Empty DataFrame\n",
       "Columns: [reconstruction_error, true_class]\n",
       "Index: []"
      ]
     },
     "execution_count": 48,
     "metadata": {},
     "output_type": "execute_result"
    }
   ],
   "source": [
    "error_df[error_df['true_class'] == 'NaN' ]"
   ]
  },
  {
   "cell_type": "code",
   "execution_count": 268,
   "metadata": {
    "colab": {
     "base_uri": "https://localhost:8080/",
     "height": 730
    },
    "executionInfo": {
     "elapsed": 957,
     "status": "ok",
     "timestamp": 1661550570050,
     "user": {
      "displayName": "Olusegun Ajibola",
      "userId": "14016280963587867119"
     },
     "user_tz": -120
    },
    "id": "9zhQqaJ5mw6h",
    "outputId": "33383ec3-8f68-49da-f984-4625be177fd9"
   },
   "outputs": [
    {
     "data": {
      "image/png": "[encoded data removed]",
      "text/plain": [
       "<Figure size 1200x1200 with 2 Axes>"
      ]
     },
     "metadata": {},
     "output_type": "display_data"
    }
   ],
   "source": [
    "threshold = 0.0085 # we can equally choose to use different values for our threshold [0.009]\n",
    "LABELS = ['Injury', 'No Injury']\n",
    "y_pred = [1 if e > threshold else 0 for e in error_df.reconstruction_error.values]\n",
    "conf_matrix = confusion_matrix(error_df.true_class, y_pred)\n",
    "plt.figure(figsize=(12, 12))\n",
    "sns.heatmap(conf_matrix, xticklabels=LABELS, yticklabels=LABELS, annot=True, fmt=\"d\");\n",
    "plt.title(\"Confusion matrix\")\n",
    "plt.ylabel('True class')\n",
    "plt.xlabel('Predicted class')\n",
    "plt.show()"
   ]
  },
  {
   "cell_type": "markdown",
   "metadata": {
    "id": "E7WigCeargv-"
   },
   "source": [
    "The confusion matrix above helps us to understand our accuracy on the test data. \n",
    "\n",
    "We note that:\n",
    "- 6963: The model predicts this case to be actually injury where the true case is injury too.\n",
    "- 24: The model predicts no-injury with the true case being no injury.\n",
    "- 96: The model predicts injury where the actual class in no-injury\n",
    "- 1442: The model predicts no-injury where the actual class is injury.\n",
    "\n",
    "The above explanation is given in the classification report below."
   ]
  },
  {
   "cell_type": "code",
   "execution_count": 269,
   "metadata": {
    "colab": {
     "base_uri": "https://localhost:8080/"
    },
    "executionInfo": {
     "elapsed": 604,
     "status": "ok",
     "timestamp": 1661550572900,
     "user": {
      "displayName": "Olusegun Ajibola",
      "userId": "14016280963587867119"
     },
     "user_tz": -120
    },
    "id": "1r58H_V9HjyY",
    "outputId": "de25a40b-0a02-41d3-f297-c44167817cd1"
   },
   "outputs": [
    {
     "name": "stdout",
     "output_type": "stream",
     "text": [
      "              precision    recall  f1-score   support\n",
      "\n",
      "           0       0.99      0.83      0.90      8405\n",
      "           1       0.02      0.20      0.03       120\n",
      "\n",
      "    accuracy                           0.82      8525\n",
      "   macro avg       0.50      0.51      0.47      8525\n",
      "weighted avg       0.97      0.82      0.89      8525\n",
      "\n"
     ]
    }
   ],
   "source": [
    "print(classification_report(error_df.true_class, y_pred))"
   ]
  },
  {
   "cell_type": "code",
   "execution_count": 270,
   "metadata": {},
   "outputs": [
    {
     "data": {
      "text/plain": [
       "0.030264817150063048"
      ]
     },
     "execution_count": 270,
     "metadata": {},
     "output_type": "execute_result"
    }
   ],
   "source": [
    "f1_score(error_df.true_class, y_pred)"
   ]
  },
  {
   "cell_type": "code",
   "execution_count": 273,
   "metadata": {},
   "outputs": [
    {
     "data": {
      "text/plain": [
       "0.8195894428152493"
      ]
     },
     "execution_count": 273,
     "metadata": {},
     "output_type": "execute_result"
    }
   ],
   "source": [
    "accuracy_score(error_df.true_class, y_pred)"
   ]
  },
  {
   "cell_type": "code",
   "execution_count": 274,
   "metadata": {},
   "outputs": [
    {
     "data": {
      "text/plain": [
       "0.18041055718475074"
      ]
     },
     "execution_count": 274,
     "metadata": {},
     "output_type": "execute_result"
    }
   ],
   "source": [
    "mean_squared_error(error_df.true_class, y_pred)"
   ]
  },
  {
   "cell_type": "markdown",
   "metadata": {
    "id": "MNXhdwY0ZtSb"
   },
   "source": [
    "# Model 2: Isolation Forest"
   ]
  },
  {
   "cell_type": "code",
   "execution_count": 41,
   "metadata": {
    "executionInfo": {
     "elapsed": 292,
     "status": "ok",
     "timestamp": 1662705368957,
     "user": {
      "displayName": "Olusegun Ajibola",
      "userId": "14016280963587867119"
     },
     "user_tz": -120
    },
    "id": "ZPYa1f_8B7hk"
   },
   "outputs": [],
   "source": [
    "def drop_a_column(df, cols):\n",
    "    \"\"\"\n",
    "    This functiion drops a column in a dataframe and returns the new df without\n",
    "    the dropped column.\n",
    "\n",
    "    cols is a list\n",
    "    df is a dataframe\n",
    "    \"\"\"\n",
    "\n",
    "    df_dr = df.drop(cols, axis = 1)\n",
    "\n",
    "    return df_dr"
   ]
  },
  {
   "cell_type": "code",
   "execution_count": 42,
   "metadata": {
    "executionInfo": {
     "elapsed": 8,
     "status": "ok",
     "timestamp": 1662705370145,
     "user": {
      "displayName": "Olusegun Ajibola",
      "userId": "14016280963587867119"
     },
     "user_tz": -120
    },
    "id": "I4VBDJdW5-SS"
   },
   "outputs": [],
   "source": [
    "# inliers = df_week[df_week.injury == 'no']\n",
    "inliers = df_week[df_week.injury == 0]\n",
    "inliers_y = inliers.injury\n",
    "inliers = inliers.drop(['injury', 'athlete_id'], axis = 1)"
   ]
  },
  {
   "cell_type": "code",
   "execution_count": 43,
   "metadata": {
    "executionInfo": {
     "elapsed": 5,
     "status": "ok",
     "timestamp": 1662705371351,
     "user": {
      "displayName": "Olusegun Ajibola",
      "userId": "14016280963587867119"
     },
     "user_tz": -120
    },
    "id": "o7cvpMDt6nPF"
   },
   "outputs": [],
   "source": [
    "# outliers = df_week[df_week.injury == 'yes']\n",
    "outliers = df_week[df_week.injury == 1]\n",
    "outliers_y = outliers.injury\n",
    "outliers = outliers.drop(['injury', 'athlete_id'], axis = 1)"
   ]
  },
  {
   "cell_type": "code",
   "execution_count": 44,
   "metadata": {
    "colab": {
     "base_uri": "https://localhost:8080/",
     "height": 211
    },
    "executionInfo": {
     "elapsed": 9,
     "status": "ok",
     "timestamp": 1662705372845,
     "user": {
      "displayName": "Olusegun Ajibola",
      "userId": "14016280963587867119"
     },
     "user_tz": -120
    },
    "id": "bnIQ2LkvJe38",
    "outputId": "0aff445a-e326-4ee5-eb42-9e5e22bfbdd5"
   },
   "outputs": [
    {
     "data": {
      "text/html": [
       "<div>\n",
       "<style scoped>\n",
       "    .dataframe tbody tr th:only-of-type {\n",
       "        vertical-align: middle;\n",
       "    }\n",
       "\n",
       "    .dataframe tbody tr th {\n",
       "        vertical-align: top;\n",
       "    }\n",
       "\n",
       "    .dataframe thead th {\n",
       "        text-align: right;\n",
       "    }\n",
       "</style>\n",
       "<table border=\"1\" class=\"dataframe\">\n",
       "  <thead>\n",
       "    <tr style=\"text-align: right;\">\n",
       "      <th></th>\n",
       "      <th>nr_sessions</th>\n",
       "      <th>nr_rest_days</th>\n",
       "      <th>total_kms</th>\n",
       "      <th>max_km_one_day</th>\n",
       "      <th>total_km_z3-z4-z5-t1-t2</th>\n",
       "      <th>nr_tough_sessions_(effort_in_z5,_t1_or_t2)</th>\n",
       "      <th>nr_days_with_interval_session</th>\n",
       "      <th>total_km_z3-4</th>\n",
       "      <th>max_km_z3-4_one_day</th>\n",
       "      <th>total_km_z5-t1-t2</th>\n",
       "      <th>...</th>\n",
       "      <th>avg_training_success_2</th>\n",
       "      <th>min_training_success_2</th>\n",
       "      <th>max_training_success_2</th>\n",
       "      <th>avg_recovery_2</th>\n",
       "      <th>min_recovery_2</th>\n",
       "      <th>max_recovery_2</th>\n",
       "      <th>rel_total_kms_week_0_1</th>\n",
       "      <th>rel_total_kms_week_0_2</th>\n",
       "      <th>rel_total_kms_week_1_2</th>\n",
       "      <th>date</th>\n",
       "    </tr>\n",
       "  </thead>\n",
       "  <tbody>\n",
       "    <tr>\n",
       "      <th>0</th>\n",
       "      <td>5</td>\n",
       "      <td>2</td>\n",
       "      <td>22.2</td>\n",
       "      <td>16.4</td>\n",
       "      <td>11.8</td>\n",
       "      <td>1</td>\n",
       "      <td>2</td>\n",
       "      <td>10.0</td>\n",
       "      <td>10.0</td>\n",
       "      <td>0.6</td>\n",
       "      <td>...</td>\n",
       "      <td>0.0</td>\n",
       "      <td>0.0</td>\n",
       "      <td>0.0</td>\n",
       "      <td>0.18</td>\n",
       "      <td>0.16</td>\n",
       "      <td>0.2</td>\n",
       "      <td>0.718447</td>\n",
       "      <td>1.378882</td>\n",
       "      <td>1.919255</td>\n",
       "      <td>0</td>\n",
       "    </tr>\n",
       "    <tr>\n",
       "      <th>1</th>\n",
       "      <td>5</td>\n",
       "      <td>2</td>\n",
       "      <td>21.6</td>\n",
       "      <td>16.4</td>\n",
       "      <td>11.7</td>\n",
       "      <td>1</td>\n",
       "      <td>2</td>\n",
       "      <td>10.0</td>\n",
       "      <td>10.0</td>\n",
       "      <td>0.5</td>\n",
       "      <td>...</td>\n",
       "      <td>0.0</td>\n",
       "      <td>0.0</td>\n",
       "      <td>0.0</td>\n",
       "      <td>0.18</td>\n",
       "      <td>0.16</td>\n",
       "      <td>0.2</td>\n",
       "      <td>0.683544</td>\n",
       "      <td>1.018868</td>\n",
       "      <td>1.490566</td>\n",
       "      <td>1</td>\n",
       "    </tr>\n",
       "  </tbody>\n",
       "</table>\n",
       "<p>2 rows × 70 columns</p>\n",
       "</div>"
      ],
      "text/plain": [
       "  nr_sessions nr_rest_days  total_kms  max_km_one_day  \\\n",
       "0           5            2       22.2            16.4   \n",
       "1           5            2       21.6            16.4   \n",
       "\n",
       "   total_km_z3-z4-z5-t1-t2 nr_tough_sessions_(effort_in_z5,_t1_or_t2)  \\\n",
       "0                     11.8                                          1   \n",
       "1                     11.7                                          1   \n",
       "\n",
       "  nr_days_with_interval_session  total_km_z3-4  max_km_z3-4_one_day  \\\n",
       "0                             2           10.0                 10.0   \n",
       "1                             2           10.0                 10.0   \n",
       "\n",
       "   total_km_z5-t1-t2  ...  avg_training_success_2  min_training_success_2  \\\n",
       "0                0.6  ...                     0.0                     0.0   \n",
       "1                0.5  ...                     0.0                     0.0   \n",
       "\n",
       "  max_training_success_2  avg_recovery_2  min_recovery_2  max_recovery_2  \\\n",
       "0                    0.0            0.18            0.16             0.2   \n",
       "1                    0.0            0.18            0.16             0.2   \n",
       "\n",
       "   rel_total_kms_week_0_1  rel_total_kms_week_0_2  rel_total_kms_week_1_2  \\\n",
       "0                0.718447                1.378882                1.919255   \n",
       "1                0.683544                1.018868                1.490566   \n",
       "\n",
       "   date  \n",
       "0     0  \n",
       "1     1  \n",
       "\n",
       "[2 rows x 70 columns]"
      ]
     },
     "execution_count": 44,
     "metadata": {},
     "output_type": "execute_result"
    }
   ],
   "source": [
    "inliers.head(2)"
   ]
  },
  {
   "cell_type": "code",
   "execution_count": 45,
   "metadata": {
    "colab": {
     "base_uri": "https://localhost:8080/"
    },
    "executionInfo": {
     "elapsed": 318,
     "status": "ok",
     "timestamp": 1662705378663,
     "user": {
      "displayName": "Olusegun Ajibola",
      "userId": "14016280963587867119"
     },
     "user_tz": -120
    },
    "id": "Ga9WMzXt89Y3",
    "outputId": "dbd4712d-ffb2-4611-fe09-1085cc70d206"
   },
   "outputs": [
    {
     "data": {
      "text/plain": [
       "((42223, 70), (575, 70))"
      ]
     },
     "execution_count": 45,
     "metadata": {},
     "output_type": "execute_result"
    }
   ],
   "source": [
    "inliers.shape, outliers.shape # this is the respective dimension of our no-injury and injury data in our dataset respectively."
   ]
  },
  {
   "cell_type": "code",
   "execution_count": 46,
   "metadata": {
    "executionInfo": {
     "elapsed": 305,
     "status": "ok",
     "timestamp": 1662705380062,
     "user": {
      "displayName": "Olusegun Ajibola",
      "userId": "14016280963587867119"
     },
     "user_tz": -120
    },
    "id": "56HuFunU66Lg"
   },
   "outputs": [],
   "source": [
    "inliers_train, inliers_test = train_test_split(inliers, test_size=0.20, random_state=42)"
   ]
  },
  {
   "cell_type": "markdown",
   "metadata": {
    "id": "hzQwUMU57MB6"
   },
   "source": [
    "## Train the isolation Forest Model"
   ]
  },
  {
   "cell_type": "code",
   "execution_count": 47,
   "metadata": {
    "executionInfo": {
     "elapsed": 471,
     "status": "ok",
     "timestamp": 1662705382282,
     "user": {
      "displayName": "Olusegun Ajibola",
      "userId": "14016280963587867119"
     },
     "user_tz": -120
    },
    "id": "YkeH4DA37UjD"
   },
   "outputs": [],
   "source": [
    "rng = np.random.RandomState(42)"
   ]
  },
  {
   "cell_type": "code",
   "execution_count": 48,
   "metadata": {
    "executionInfo": {
     "elapsed": 2,
     "status": "ok",
     "timestamp": 1662704175406,
     "user": {
      "displayName": "Olusegun Ajibola",
      "userId": "14016280963587867119"
     },
     "user_tz": -120
    },
    "id": "vNrHZsT3DPmG"
   },
   "outputs": [],
   "source": [
    "# inliers = df_week[df_week.injury == 'no']\n",
    "# inliers = df_week[df_week.injury == 1]\n",
    "# inliers_y = inliers.injury\n",
    "# inliers = inliers.drop(['injury'], axis = 1)"
   ]
  },
  {
   "cell_type": "code",
   "execution_count": 49,
   "metadata": {
    "executionInfo": {
     "elapsed": 311,
     "status": "ok",
     "timestamp": 1662705384534,
     "user": {
      "displayName": "Olusegun Ajibola",
      "userId": "14016280963587867119"
     },
     "user_tz": -120
    },
    "id": "B7Tq24fuDai1"
   },
   "outputs": [],
   "source": [
    "inliers_train, inliers_test = train_test_split(inliers, test_size=0.20, random_state = 42)"
   ]
  },
  {
   "cell_type": "code",
   "execution_count": 50,
   "metadata": {
    "executionInfo": {
     "elapsed": 334,
     "status": "ok",
     "timestamp": 1662704553965,
     "user": {
      "displayName": "Olusegun Ajibola",
      "userId": "14016280963587867119"
     },
     "user_tz": -120
    },
    "id": "cAAUapyNDb7Y"
   },
   "outputs": [],
   "source": [
    "# inliers_tr_y = inliers_train.injury\n",
    "# inliers_train = drop_a_column(inliers_train, ['injury', 'athlete_id'])"
   ]
  },
  {
   "cell_type": "code",
   "execution_count": 51,
   "metadata": {
    "executionInfo": {
     "elapsed": 3,
     "status": "ok",
     "timestamp": 1662704555307,
     "user": {
      "displayName": "Olusegun Ajibola",
      "userId": "14016280963587867119"
     },
     "user_tz": -120
    },
    "id": "FL7pBN7KKX7z"
   },
   "outputs": [],
   "source": [
    "# inliers_test = drop_a_column(inliers_test, ['injury', 'athlete_id'])"
   ]
  },
  {
   "cell_type": "code",
   "execution_count": 52,
   "metadata": {
    "executionInfo": {
     "elapsed": 1302,
     "status": "ok",
     "timestamp": 1662705392224,
     "user": {
      "displayName": "Olusegun Ajibola",
      "userId": "14016280963587867119"
     },
     "user_tz": -120
    },
    "id": "DWwb9Dev66B-"
   },
   "outputs": [],
   "source": [
    "model_iso = IsolationForest( max_samples=150, random_state=rng, contamination='auto')\n",
    "# model_iso = IsolationForest( max_samples=150, random_state=rng, contamination=0.01)\n",
    "model_iso.fit(inliers_train)\n",
    "inlier_pred_test = model_iso.predict(inliers_test)\n",
    "outlier_pred = model_iso.predict(outliers)"
   ]
  },
  {
   "cell_type": "code",
   "execution_count": 54,
   "metadata": {
    "colab": {
     "base_uri": "https://localhost:8080/"
    },
    "executionInfo": {
     "elapsed": 313,
     "status": "ok",
     "timestamp": 1662705396129,
     "user": {
      "displayName": "Olusegun Ajibola",
      "userId": "14016280963587867119"
     },
     "user_tz": -120
    },
    "id": "_7qKk8wi7eHF",
    "outputId": "5048b19b-dee9-44ba-a50e-d23a6b73a5c4"
   },
   "outputs": [
    {
     "name": "stdout",
     "output_type": "stream",
     "text": [
      "Accuracy in Detecting no-injury Cases: 0.8467732386027235\n",
      "Accuracy in Detecting injury Cases: 0.17565217391304347\n"
     ]
    }
   ],
   "source": [
    "print(\"Accuracy in Detecting no-injury Cases:\", list(inlier_pred_test).count(1)/inlier_pred_test.shape[0])\n",
    "print(\"Accuracy in Detecting injury Cases:\", list(outlier_pred).count(-1)/outlier_pred.shape[0])"
   ]
  },
  {
   "cell_type": "code",
   "execution_count": 33,
   "metadata": {
    "colab": {
     "base_uri": "https://localhost:8080/"
    },
    "executionInfo": {
     "elapsed": 331,
     "status": "ok",
     "timestamp": 1662705400078,
     "user": {
      "displayName": "Olusegun Ajibola",
      "userId": "14016280963587867119"
     },
     "user_tz": -120
    },
    "id": "jfwEOG8m7AHu",
    "outputId": "0314db4d-644c-4c64-aeda-9486f3b5d334"
   },
   "outputs": [
    {
     "data": {
      "text/plain": [
       "array([-1,  1])"
      ]
     },
     "execution_count": 33,
     "metadata": {},
     "output_type": "execute_result"
    }
   ],
   "source": [
    "np.unique(outlier_pred)"
   ]
  },
  {
   "cell_type": "code",
   "execution_count": 34,
   "metadata": {
    "colab": {
     "base_uri": "https://localhost:8080/"
    },
    "executionInfo": {
     "elapsed": 5,
     "status": "ok",
     "timestamp": 1662705400976,
     "user": {
      "displayName": "Olusegun Ajibola",
      "userId": "14016280963587867119"
     },
     "user_tz": -120
    },
    "id": "eGqbEW5Q6qlA",
    "outputId": "038bbf07-db59-487d-e2bd-e5433157d762"
   },
   "outputs": [
    {
     "name": "stdout",
     "output_type": "stream",
     "text": [
      "F1 Score: 0.299\n"
     ]
    }
   ],
   "source": [
    "# calculate score\n",
    "\n",
    "# mark inliers 1, outliers -1\n",
    "\n",
    "outliers_y = outliers_y.replace(1, -1)\n",
    "\n",
    "outliers_y = outliers_y.replace(0, 1)\n",
    "\n",
    "score = f1_score(outliers_y, outlier_pred, pos_label=-1)\n",
    "print('F1 Score: %.3f' % score)"
   ]
  },
  {
   "cell_type": "code",
   "execution_count": 35,
   "metadata": {},
   "outputs": [
    {
     "data": {
      "text/plain": [
       "0.17565217391304347"
      ]
     },
     "execution_count": 35,
     "metadata": {},
     "output_type": "execute_result"
    }
   ],
   "source": [
    "accuracy_score(outliers_y, outlier_pred)"
   ]
  },
  {
   "cell_type": "code",
   "execution_count": 36,
   "metadata": {},
   "outputs": [
    {
     "data": {
      "text/plain": [
       "3.2973913043478262"
      ]
     },
     "execution_count": 36,
     "metadata": {},
     "output_type": "execute_result"
    }
   ],
   "source": [
    "mean_squared_error(outliers_y, outlier_pred)"
   ]
  },
  {
   "cell_type": "markdown",
   "metadata": {
    "id": "RFEBUpz2ANF6"
   },
   "source": [
    "We can then compare the predictions from the model to the expected target values and calculate a score. Given that we have crisp class labels, we might use a score like precision, recall, or a combination of both, such as the F-measure (F1-score).\n",
    "\n",
    "In this case, we will use F-measure score, which is the harmonic mean of precision and recall. We can calculate the F-measure using the f1_score() function and specify the label of the minority class as -1 via the “pos_label” argument."
   ]
  },
  {
   "cell_type": "markdown",
   "metadata": {
    "id": "66hA5N6humEZ"
   },
   "source": [
    "# Model 3: One Class SVM"
   ]
  },
  {
   "cell_type": "markdown",
   "metadata": {
    "id": "wVp9xkgfXGfS"
   },
   "source": [
    "One Class Classification (OCC) aims to differentiate samples of one particular class by learning from single class samples during training. It is one of the most commonly used approaches to solve Anamoly Detection (AD), a subfield of machine learning that deals with identifying anomalous cases which the model has never seen before. OCC is also called unary classification, class-modelling."
   ]
  },
  {
   "cell_type": "code",
   "execution_count": 55,
   "metadata": {
    "executionInfo": {
     "elapsed": 307,
     "status": "ok",
     "timestamp": 1662700785733,
     "user": {
      "displayName": "Olusegun Ajibola",
      "userId": "14016280963587867119"
     },
     "user_tz": -120
    },
    "id": "Ap3-8zUrZiGm"
   },
   "outputs": [],
   "source": [
    "X = df_week.drop(columns = ['injury', 'athlete_id'])\n",
    "y = df_week['injury']"
   ]
  },
  {
   "cell_type": "code",
   "execution_count": 56,
   "metadata": {
    "executionInfo": {
     "elapsed": 4,
     "status": "ok",
     "timestamp": 1662700786809,
     "user": {
      "displayName": "Olusegun Ajibola",
      "userId": "14016280963587867119"
     },
     "user_tz": -120
    },
    "id": "n69G-RJ7ZrtH"
   },
   "outputs": [],
   "source": [
    "# split into train/test sets\n",
    "trainX, testX, trainy, testy = train_test_split(X, y, test_size=0.80, random_state=2, stratify=y)"
   ]
  },
  {
   "cell_type": "markdown",
   "metadata": {
    "id": "kJ9kaP2hdjUT"
   },
   "source": [
    "<!-- train = trainX.copy()\n",
    "train['injury'] = trainy\n",
    "# train -->"
   ]
  },
  {
   "cell_type": "markdown",
   "metadata": {
    "id": "xP3naJcadIGl"
   },
   "source": [
    "<!-- # standardize the dataset\n",
    "scaler = StandardScaler()\n",
    "\n",
    "# Fit on training set only.\n",
    "scaler.fit(trainX)\n",
    "\n",
    "# Apply transform to both the training set and the test set.\n",
    "trainX = scaler.transform(trainX)\n",
    "testX = scaler.transform(testX) -->\n"
   ]
  },
  {
   "cell_type": "code",
   "execution_count": 57,
   "metadata": {
    "executionInfo": {
     "elapsed": 403,
     "status": "ok",
     "timestamp": 1662701473047,
     "user": {
      "displayName": "Olusegun Ajibola",
      "userId": "14016280963587867119"
     },
     "user_tz": -120
    },
    "id": "Kj1I0Rem3loL"
   },
   "outputs": [],
   "source": [
    "model_onec_svm = OneClassSVM() #one class svm model"
   ]
  },
  {
   "cell_type": "code",
   "execution_count": 58,
   "metadata": {
    "executionInfo": {
     "elapsed": 2,
     "status": "ok",
     "timestamp": 1662701474659,
     "user": {
      "displayName": "Olusegun Ajibola",
      "userId": "14016280963587867119"
     },
     "user_tz": -120
    },
    "id": "At88wiRHZ2BZ"
   },
   "outputs": [],
   "source": [
    "# kernel = ['linear', 'poly', 'rbf', 'sigmoid', 'precomputed']\n",
    "kernel = ['linear', 'poly', 'rbf', 'sigmoid']\n",
    "degree = np.arange(2,5)\n",
    "gamma = ['scale', 'auto']\n",
    "shrinking = [True, False]\n",
    "\n",
    "tune_parameters = [{\"kernel\": kernel, 'degree':degree, 'gamma':gamma, 'shrinking':shrinking}]"
   ]
  },
  {
   "cell_type": "code",
   "execution_count": 59,
   "metadata": {
    "colab": {
     "base_uri": "https://localhost:8080/"
    },
    "executionInfo": {
     "elapsed": 5,
     "status": "ok",
     "timestamp": 1662701477906,
     "user": {
      "displayName": "Olusegun Ajibola",
      "userId": "14016280963587867119"
     },
     "user_tz": -120
    },
    "id": "0swzQvyKcaDE",
    "outputId": "215b9c5f-4c13-42bf-dfcd-97b1920e5015"
   },
   "outputs": [
    {
     "data": {
      "text/plain": [
       "[{'kernel': ['linear', 'poly', 'rbf', 'sigmoid'],\n",
       "  'degree': array([2, 3, 4]),\n",
       "  'gamma': ['scale', 'auto'],\n",
       "  'shrinking': [True, False]}]"
      ]
     },
     "execution_count": 59,
     "metadata": {},
     "output_type": "execute_result"
    }
   ],
   "source": [
    "tune_parameters"
   ]
  },
  {
   "cell_type": "code",
   "execution_count": 60,
   "metadata": {
    "executionInfo": {
     "elapsed": 309,
     "status": "ok",
     "timestamp": 1662701481928,
     "user": {
      "displayName": "Olusegun Ajibola",
      "userId": "14016280963587867119"
     },
     "user_tz": -120
    },
    "id": "fGRFjLbZ3p60"
   },
   "outputs": [],
   "source": [
    "# Instantiate the grid search model\n",
    "grid_search = GridSearchCV(estimator = model_onec_svm,\n",
    "                           param_grid = tune_parameters,\n",
    "                           cv = 10,\n",
    "                           n_jobs=-1, verbose=1, scoring=\"accuracy\")"
   ]
  },
  {
   "cell_type": "code",
   "execution_count": 61,
   "metadata": {
    "executionInfo": {
     "elapsed": 454,
     "status": "ok",
     "timestamp": 1662701485485,
     "user": {
      "displayName": "Olusegun Ajibola",
      "userId": "14016280963587867119"
     },
     "user_tz": -120
    },
    "id": "JweW30iWfwcv"
   },
   "outputs": [],
   "source": [
    "# we fit on majority class\n",
    "trainX_copy = trainX.copy()\n",
    "trainX_copy['injury'] = trainy\n",
    "trainX_copy = trainX_copy[trainX_copy.injury == 0]\n",
    "\n",
    "trainy_copy = trainy[trainy ==0]\n",
    "trainX_copy = trainX_copy.drop(columns = 'injury')\n",
    "# trainy_copy = "
   ]
  },
  {
   "cell_type": "code",
   "execution_count": 62,
   "metadata": {
    "colab": {
     "base_uri": "https://localhost:8080/"
    },
    "executionInfo": {
     "elapsed": 384,
     "status": "ok",
     "timestamp": 1662701495705,
     "user": {
      "displayName": "Olusegun Ajibola",
      "userId": "14016280963587867119"
     },
     "user_tz": -120
    },
    "id": "h_H4OHsztflE",
    "outputId": "689f597b-c9da-43e9-ea5c-1e17b8257bfa"
   },
   "outputs": [
    {
     "data": {
      "text/plain": [
       "((8444,), (8444, 70))"
      ]
     },
     "execution_count": 62,
     "metadata": {},
     "output_type": "execute_result"
    }
   ],
   "source": [
    "trainy_copy.shape, trainX_copy.shape"
   ]
  },
  {
   "cell_type": "code",
   "execution_count": 63,
   "metadata": {
    "colab": {
     "base_uri": "https://localhost:8080/"
    },
    "executionInfo": {
     "elapsed": 111252,
     "status": "ok",
     "timestamp": 1662703380413,
     "user": {
      "displayName": "Olusegun Ajibola",
      "userId": "14016280963587867119"
     },
     "user_tz": -120
    },
    "id": "SCp87OvPcC6s",
    "outputId": "082d0902-4565-424d-e7b4-0320c8b274ea"
   },
   "outputs": [],
   "source": [
    "# %%time\n",
    "# grid_search.fit(trainX_copy, trainy_copy)  # hyper parameter tuning to avoid over fitting\n",
    "# # grid_search.fit(trainX_copy)"
   ]
  },
  {
   "cell_type": "code",
   "execution_count": 64,
   "metadata": {
    "colab": {
     "base_uri": "https://localhost:8080/"
    },
    "executionInfo": {
     "elapsed": 890,
     "status": "ok",
     "timestamp": 1662703388978,
     "user": {
      "displayName": "Olusegun Ajibola",
      "userId": "14016280963587867119"
     },
     "user_tz": -120
    },
    "id": "ntSV7X71cHQ0",
    "outputId": "81eaf22c-21b6-4577-a8cc-2106f1f2b5eb"
   },
   "outputs": [],
   "source": [
    "# grid_search.best_score_, grid_search.best_estimator_"
   ]
  },
  {
   "cell_type": "code",
   "execution_count": 65,
   "metadata": {
    "id": "10rqKYqcv09R"
   },
   "outputs": [],
   "source": [
    "# oc_svm_best = grid_search.best_estimator_"
   ]
  },
  {
   "cell_type": "code",
   "execution_count": 66,
   "metadata": {
    "executionInfo": {
     "elapsed": 305,
     "status": "ok",
     "timestamp": 1662703540106,
     "user": {
      "displayName": "Olusegun Ajibola",
      "userId": "14016280963587867119"
     },
     "user_tz": -120
    },
    "id": "CDtazhBR2Nnj"
   },
   "outputs": [],
   "source": [
    "# define outlier detection model\n",
    "model = OneClassSVM(gamma='auto', nu=0.55)"
   ]
  },
  {
   "cell_type": "code",
   "execution_count": 67,
   "metadata": {
    "colab": {
     "base_uri": "https://localhost:8080/"
    },
    "executionInfo": {
     "elapsed": 382,
     "status": "ok",
     "timestamp": 1662703554499,
     "user": {
      "displayName": "Olusegun Ajibola",
      "userId": "14016280963587867119"
     },
     "user_tz": -120
    },
    "id": "xKg76-B92bbV",
    "outputId": "4c731607-88ac-4d9e-ea6d-d2ab82962442"
   },
   "outputs": [
    {
     "data": {
      "text/html": [
       "<style>#sk-container-id-1 {color: black;background-color: white;}#sk-container-id-1 pre{padding: 0;}#sk-container-id-1 div.sk-toggleable {background-color: white;}#sk-container-id-1 label.sk-toggleable__label {cursor: pointer;display: block;width: 100%;margin-bottom: 0;padding: 0.3em;box-sizing: border-box;text-align: center;}#sk-container-id-1 label.sk-toggleable__label-arrow:before {content: \"▸\";float: left;margin-right: 0.25em;color: #696969;}#sk-container-id-1 label.sk-toggleable__label-arrow:hover:before {color: black;}#sk-container-id-1 div.sk-estimator:hover label.sk-toggleable__label-arrow:before {color: black;}#sk-container-id-1 div.sk-toggleable__content {max-height: 0;max-width: 0;overflow: hidden;text-align: left;background-color: #f0f8ff;}#sk-container-id-1 div.sk-toggleable__content pre {margin: 0.2em;color: black;border-radius: 0.25em;background-color: #f0f8ff;}#sk-container-id-1 input.sk-toggleable__control:checked~div.sk-toggleable__content {max-height: 200px;max-width: 100%;overflow: auto;}#sk-container-id-1 input.sk-toggleable__control:checked~label.sk-toggleable__label-arrow:before {content: \"▾\";}#sk-container-id-1 div.sk-estimator input.sk-toggleable__control:checked~label.sk-toggleable__label {background-color: #d4ebff;}#sk-container-id-1 div.sk-label input.sk-toggleable__control:checked~label.sk-toggleable__label {background-color: #d4ebff;}#sk-container-id-1 input.sk-hidden--visually {border: 0;clip: rect(1px 1px 1px 1px);clip: rect(1px, 1px, 1px, 1px);height: 1px;margin: -1px;overflow: hidden;padding: 0;position: absolute;width: 1px;}#sk-container-id-1 div.sk-estimator {font-family: monospace;background-color: #f0f8ff;border: 1px dotted black;border-radius: 0.25em;box-sizing: border-box;margin-bottom: 0.5em;}#sk-container-id-1 div.sk-estimator:hover {background-color: #d4ebff;}#sk-container-id-1 div.sk-parallel-item::after {content: \"\";width: 100%;border-bottom: 1px solid gray;flex-grow: 1;}#sk-container-id-1 div.sk-label:hover label.sk-toggleable__label {background-color: #d4ebff;}#sk-container-id-1 div.sk-serial::before {content: \"\";position: absolute;border-left: 1px solid gray;box-sizing: border-box;top: 0;bottom: 0;left: 50%;z-index: 0;}#sk-container-id-1 div.sk-serial {display: flex;flex-direction: column;align-items: center;background-color: white;padding-right: 0.2em;padding-left: 0.2em;position: relative;}#sk-container-id-1 div.sk-item {position: relative;z-index: 1;}#sk-container-id-1 div.sk-parallel {display: flex;align-items: stretch;justify-content: center;background-color: white;position: relative;}#sk-container-id-1 div.sk-item::before, #sk-container-id-1 div.sk-parallel-item::before {content: \"\";position: absolute;border-left: 1px solid gray;box-sizing: border-box;top: 0;bottom: 0;left: 50%;z-index: -1;}#sk-container-id-1 div.sk-parallel-item {display: flex;flex-direction: column;z-index: 1;position: relative;background-color: white;}#sk-container-id-1 div.sk-parallel-item:first-child::after {align-self: flex-end;width: 50%;}#sk-container-id-1 div.sk-parallel-item:last-child::after {align-self: flex-start;width: 50%;}#sk-container-id-1 div.sk-parallel-item:only-child::after {width: 0;}#sk-container-id-1 div.sk-dashed-wrapped {border: 1px dashed gray;margin: 0 0.4em 0.5em 0.4em;box-sizing: border-box;padding-bottom: 0.4em;background-color: white;}#sk-container-id-1 div.sk-label label {font-family: monospace;font-weight: bold;display: inline-block;line-height: 1.2em;}#sk-container-id-1 div.sk-label-container {text-align: center;}#sk-container-id-1 div.sk-container {/* jupyter's `normalize.less` sets `[hidden] { display: none; }` but bootstrap.min.css set `[hidden] { display: none !important; }` so we also need the `!important` here to be able to override the default hidden behavior on the sphinx rendered scikit-learn.org. See: https://github.com/scikit-learn/scikit-learn/issues/21755 */display: inline-block !important;position: relative;}#sk-container-id-1 div.sk-text-repr-fallback {display: none;}</style><div id=\"sk-container-id-1\" class=\"sk-top-container\"><div class=\"sk-text-repr-fallback\"><pre>OneClassSVM(gamma=&#x27;auto&#x27;, nu=0.55)</pre><b>In a Jupyter environment, please rerun this cell to show the HTML representation or trust the notebook. <br />On GitHub, the HTML representation is unable to render, please try loading this page with nbviewer.org.</b></div><div class=\"sk-container\" hidden><div class=\"sk-item\"><div class=\"sk-estimator sk-toggleable\"><input class=\"sk-toggleable__control sk-hidden--visually\" id=\"sk-estimator-id-1\" type=\"checkbox\" checked><label for=\"sk-estimator-id-1\" class=\"sk-toggleable__label sk-toggleable__label-arrow\">OneClassSVM</label><div class=\"sk-toggleable__content\"><pre>OneClassSVM(gamma=&#x27;auto&#x27;, nu=0.55)</pre></div></div></div></div></div>"
      ],
      "text/plain": [
       "OneClassSVM(gamma='auto', nu=0.55)"
      ]
     },
     "execution_count": 67,
     "metadata": {},
     "output_type": "execute_result"
    }
   ],
   "source": [
    "# fit on majority class\n",
    "\n",
    "model.fit(trainX_copy)"
   ]
  },
  {
   "cell_type": "code",
   "execution_count": 68,
   "metadata": {
    "executionInfo": {
     "elapsed": 847,
     "status": "ok",
     "timestamp": 1662703578422,
     "user": {
      "displayName": "Olusegun Ajibola",
      "userId": "14016280963587867119"
     },
     "user_tz": -120
    },
    "id": "XwJVzYjw2u0w"
   },
   "outputs": [],
   "source": [
    "# detect outliers in the test set\n",
    "yhat = model.predict(testX)"
   ]
  },
  {
   "cell_type": "code",
   "execution_count": 69,
   "metadata": {
    "executionInfo": {
     "elapsed": 267,
     "status": "ok",
     "timestamp": 1662703843149,
     "user": {
      "displayName": "Olusegun Ajibola",
      "userId": "14016280963587867119"
     },
     "user_tz": -120
    },
    "id": "edst2O5T2zOp"
   },
   "outputs": [],
   "source": [
    "# mark inliers 1, outliers -1\n",
    "\n",
    "testy = testy.replace(1, -1)\n",
    "\n",
    "testy = testy.replace(0, 1)"
   ]
  },
  {
   "cell_type": "code",
   "execution_count": 70,
   "metadata": {},
   "outputs": [
    {
     "name": "stdout",
     "output_type": "stream",
     "text": [
      "              precision    recall  f1-score   support\n",
      "\n",
      "          -1       0.01      1.00      0.03       460\n",
      "           1       1.00      0.03      0.06     33779\n",
      "\n",
      "    accuracy                           0.04     34239\n",
      "   macro avg       0.51      0.51      0.04     34239\n",
      "weighted avg       0.98      0.04      0.06     34239\n",
      "\n"
     ]
    }
   ],
   "source": [
    "print(classification_report( testy, yhat ))"
   ]
  },
  {
   "cell_type": "code",
   "execution_count": 71,
   "metadata": {
    "colab": {
     "base_uri": "https://localhost:8080/"
    },
    "executionInfo": {
     "elapsed": 446,
     "status": "ok",
     "timestamp": 1662703846632,
     "user": {
      "displayName": "Olusegun Ajibola",
      "userId": "14016280963587867119"
     },
     "user_tz": -120
    },
    "id": "PBWkZVnF2045",
    "outputId": "2c457d10-1c27-47dc-80be-1205dcfb5dee"
   },
   "outputs": [
    {
     "name": "stdout",
     "output_type": "stream",
     "text": [
      "F1 Score: 0.027\n"
     ]
    }
   ],
   "source": [
    "# calculate score\n",
    "score = f1_score(testy, yhat, pos_label= -1)\n",
    "print('F1 Score: %.3f' % score)"
   ]
  },
  {
   "cell_type": "code",
   "execution_count": 72,
   "metadata": {},
   "outputs": [
    {
     "data": {
      "text/plain": [
       "0.0436344519407693"
      ]
     },
     "execution_count": 72,
     "metadata": {},
     "output_type": "execute_result"
    }
   ],
   "source": [
    "accuracy_score(testy, yhat)"
   ]
  },
  {
   "cell_type": "code",
   "execution_count": 73,
   "metadata": {},
   "outputs": [
    {
     "data": {
      "text/plain": [
       "3.8254621922369227"
      ]
     },
     "execution_count": 73,
     "metadata": {},
     "output_type": "execute_result"
    }
   ],
   "source": [
    "mean_squared_error(testy, yhat)"
   ]
  },
  {
   "cell_type": "markdown",
   "metadata": {
    "id": "yiZHyrZb8jKp"
   },
   "source": [
    "# A -  Repeating Models with Standardized data"
   ]
  },
  {
   "cell_type": "code",
   "execution_count": 74,
   "metadata": {
    "executionInfo": {
     "elapsed": 299,
     "status": "ok",
     "timestamp": 1662732551796,
     "user": {
      "displayName": "Olusegun Ajibola",
      "userId": "14016280963587867119"
     },
     "user_tz": -120
    },
    "id": "eoJ39hYs3SLG"
   },
   "outputs": [],
   "source": [
    "df_week2 = df_week.drop(columns = 'athlete_id')\n",
    "\n",
    "std_scaler = StandardScaler()\n",
    "\n",
    "df_week_scaled = std_scaler.fit_transform(df_week2.drop(columns = 'injury').to_numpy())\n",
    "df_week_scaled = pd.DataFrame(df_week_scaled, columns=list(df_week2.drop(columns = 'injury')))\n",
    "df_week_scaled['injury'] = df_week.injury"
   ]
  },
  {
   "cell_type": "markdown",
   "metadata": {
    "id": "C-Rza9gW-weF"
   },
   "source": [
    "## Model 2: Isolation Forest II"
   ]
  },
  {
   "cell_type": "code",
   "execution_count": 75,
   "metadata": {
    "executionInfo": {
     "elapsed": 279,
     "status": "ok",
     "timestamp": 1662705839095,
     "user": {
      "displayName": "Olusegun Ajibola",
      "userId": "14016280963587867119"
     },
     "user_tz": -120
    },
    "id": "8QcX_fhm-weG"
   },
   "outputs": [],
   "source": [
    "def drop_a_column(df, cols):\n",
    "    \"\"\"\n",
    "    This functiion drops a column in a dataframe and returns the new df without\n",
    "    the dropped column.\n",
    "\n",
    "    cols is a list\n",
    "    df is a dataframe\n",
    "    \"\"\"\n",
    "\n",
    "    df_dr = df.drop(cols, axis = 1)\n",
    "\n",
    "    return df_dr"
   ]
  },
  {
   "cell_type": "code",
   "execution_count": 76,
   "metadata": {
    "executionInfo": {
     "elapsed": 311,
     "status": "ok",
     "timestamp": 1662705849287,
     "user": {
      "displayName": "Olusegun Ajibola",
      "userId": "14016280963587867119"
     },
     "user_tz": -120
    },
    "id": "BiOrbWwx-weG"
   },
   "outputs": [],
   "source": [
    "# inliers = df_week_scaled[df_week_scaled.injury == 'no']\n",
    "inliers = df_week_scaled[df_week_scaled.injury == 0] #  no injury data\n",
    "inliers_y = inliers.injury #  no injury reponse data\n",
    "inliers = inliers.drop(['injury'], axis = 1)"
   ]
  },
  {
   "cell_type": "code",
   "execution_count": 77,
   "metadata": {
    "executionInfo": {
     "elapsed": 293,
     "status": "ok",
     "timestamp": 1662705857779,
     "user": {
      "displayName": "Olusegun Ajibola",
      "userId": "14016280963587867119"
     },
     "user_tz": -120
    },
    "id": "BH4eQBtB-weG"
   },
   "outputs": [],
   "source": [
    "# outliers = df_week_scaled[df_week_scaled.injury == 'yes']\n",
    "outliers = df_week_scaled[df_week_scaled.injury == 1] #  injury data\n",
    "outliers_y = outliers.injury #  injury reponse data\n",
    "outliers = outliers.drop(['injury'], axis = 1)"
   ]
  },
  {
   "cell_type": "code",
   "execution_count": 78,
   "metadata": {
    "colab": {
     "base_uri": "https://localhost:8080/",
     "height": 193
    },
    "executionInfo": {
     "elapsed": 291,
     "status": "ok",
     "timestamp": 1662705859794,
     "user": {
      "displayName": "Olusegun Ajibola",
      "userId": "14016280963587867119"
     },
     "user_tz": -120
    },
    "id": "9Mx3h7u9-weG",
    "outputId": "1ea2a73b-989e-4152-a3d8-20618813bc2c"
   },
   "outputs": [
    {
     "data": {
      "text/html": [
       "<div>\n",
       "<style scoped>\n",
       "    .dataframe tbody tr th:only-of-type {\n",
       "        vertical-align: middle;\n",
       "    }\n",
       "\n",
       "    .dataframe tbody tr th {\n",
       "        vertical-align: top;\n",
       "    }\n",
       "\n",
       "    .dataframe thead th {\n",
       "        text-align: right;\n",
       "    }\n",
       "</style>\n",
       "<table border=\"1\" class=\"dataframe\">\n",
       "  <thead>\n",
       "    <tr style=\"text-align: right;\">\n",
       "      <th></th>\n",
       "      <th>nr_sessions</th>\n",
       "      <th>nr_rest_days</th>\n",
       "      <th>total_kms</th>\n",
       "      <th>max_km_one_day</th>\n",
       "      <th>total_km_z3-z4-z5-t1-t2</th>\n",
       "      <th>nr_tough_sessions_(effort_in_z5,_t1_or_t2)</th>\n",
       "      <th>nr_days_with_interval_session</th>\n",
       "      <th>total_km_z3-4</th>\n",
       "      <th>max_km_z3-4_one_day</th>\n",
       "      <th>total_km_z5-t1-t2</th>\n",
       "      <th>...</th>\n",
       "      <th>avg_training_success_2</th>\n",
       "      <th>min_training_success_2</th>\n",
       "      <th>max_training_success_2</th>\n",
       "      <th>avg_recovery_2</th>\n",
       "      <th>min_recovery_2</th>\n",
       "      <th>max_recovery_2</th>\n",
       "      <th>rel_total_kms_week_0_1</th>\n",
       "      <th>rel_total_kms_week_0_2</th>\n",
       "      <th>rel_total_kms_week_1_2</th>\n",
       "      <th>date</th>\n",
       "    </tr>\n",
       "  </thead>\n",
       "  <tbody>\n",
       "    <tr>\n",
       "      <th>0</th>\n",
       "      <td>-0.325793</td>\n",
       "      <td>0.067628</td>\n",
       "      <td>-0.744770</td>\n",
       "      <td>0.263543</td>\n",
       "      <td>0.266274</td>\n",
       "      <td>0.067091</td>\n",
       "      <td>0.259173</td>\n",
       "      <td>0.735992</td>\n",
       "      <td>1.429448</td>\n",
       "      <td>-0.613609</td>\n",
       "      <td>...</td>\n",
       "      <td>-1.316877</td>\n",
       "      <td>-1.138703</td>\n",
       "      <td>-1.345902</td>\n",
       "      <td>-0.490097</td>\n",
       "      <td>-0.194751</td>\n",
       "      <td>-0.653759</td>\n",
       "      <td>-0.101858</td>\n",
       "      <td>-0.129793</td>\n",
       "      <td>-0.103154</td>\n",
       "      <td>-1.522325</td>\n",
       "    </tr>\n",
       "    <tr>\n",
       "      <th>1</th>\n",
       "      <td>-0.325793</td>\n",
       "      <td>0.067628</td>\n",
       "      <td>-0.761112</td>\n",
       "      <td>0.263543</td>\n",
       "      <td>0.255021</td>\n",
       "      <td>0.067091</td>\n",
       "      <td>0.259173</td>\n",
       "      <td>0.735992</td>\n",
       "      <td>1.429448</td>\n",
       "      <td>-0.631323</td>\n",
       "      <td>...</td>\n",
       "      <td>-1.316877</td>\n",
       "      <td>-1.138703</td>\n",
       "      <td>-1.345902</td>\n",
       "      <td>-0.490097</td>\n",
       "      <td>-0.194751</td>\n",
       "      <td>-0.653759</td>\n",
       "      <td>-0.101858</td>\n",
       "      <td>-0.129793</td>\n",
       "      <td>-0.103154</td>\n",
       "      <td>-1.521085</td>\n",
       "    </tr>\n",
       "  </tbody>\n",
       "</table>\n",
       "<p>2 rows × 70 columns</p>\n",
       "</div>"
      ],
      "text/plain": [
       "   nr_sessions  nr_rest_days  total_kms  max_km_one_day  \\\n",
       "0    -0.325793      0.067628  -0.744770        0.263543   \n",
       "1    -0.325793      0.067628  -0.761112        0.263543   \n",
       "\n",
       "   total_km_z3-z4-z5-t1-t2  nr_tough_sessions_(effort_in_z5,_t1_or_t2)  \\\n",
       "0                 0.266274                                    0.067091   \n",
       "1                 0.255021                                    0.067091   \n",
       "\n",
       "   nr_days_with_interval_session  total_km_z3-4  max_km_z3-4_one_day  \\\n",
       "0                       0.259173       0.735992             1.429448   \n",
       "1                       0.259173       0.735992             1.429448   \n",
       "\n",
       "   total_km_z5-t1-t2  ...  avg_training_success_2  min_training_success_2  \\\n",
       "0          -0.613609  ...               -1.316877               -1.138703   \n",
       "1          -0.631323  ...               -1.316877               -1.138703   \n",
       "\n",
       "   max_training_success_2  avg_recovery_2  min_recovery_2  max_recovery_2  \\\n",
       "0               -1.345902       -0.490097       -0.194751       -0.653759   \n",
       "1               -1.345902       -0.490097       -0.194751       -0.653759   \n",
       "\n",
       "   rel_total_kms_week_0_1  rel_total_kms_week_0_2  rel_total_kms_week_1_2  \\\n",
       "0               -0.101858               -0.129793               -0.103154   \n",
       "1               -0.101858               -0.129793               -0.103154   \n",
       "\n",
       "       date  \n",
       "0 -1.522325  \n",
       "1 -1.521085  \n",
       "\n",
       "[2 rows x 70 columns]"
      ]
     },
     "execution_count": 78,
     "metadata": {},
     "output_type": "execute_result"
    }
   ],
   "source": [
    "inliers.head(2)"
   ]
  },
  {
   "cell_type": "code",
   "execution_count": 79,
   "metadata": {
    "colab": {
     "base_uri": "https://localhost:8080/"
    },
    "executionInfo": {
     "elapsed": 385,
     "status": "ok",
     "timestamp": 1662705867676,
     "user": {
      "displayName": "Olusegun Ajibola",
      "userId": "14016280963587867119"
     },
     "user_tz": -120
    },
    "id": "dOJq2kRL-weH",
    "outputId": "03bad760-ca33-4faf-d355-8d176df1a544"
   },
   "outputs": [
    {
     "data": {
      "text/plain": [
       "((42223, 70), (575, 70))"
      ]
     },
     "execution_count": 79,
     "metadata": {},
     "output_type": "execute_result"
    }
   ],
   "source": [
    "inliers.shape, outliers.shape # this is the respective dimension of our no-injury and injury data in our dataset respectively."
   ]
  },
  {
   "cell_type": "code",
   "execution_count": 80,
   "metadata": {
    "executionInfo": {
     "elapsed": 288,
     "status": "ok",
     "timestamp": 1662705869320,
     "user": {
      "displayName": "Olusegun Ajibola",
      "userId": "14016280963587867119"
     },
     "user_tz": -120
    },
    "id": "k64Rg5d7-weH"
   },
   "outputs": [],
   "source": [
    "inliers_train, inliers_test = train_test_split(inliers, test_size=0.20, random_state=42)"
   ]
  },
  {
   "cell_type": "markdown",
   "metadata": {
    "id": "w0GS4lCM-weH"
   },
   "source": [
    "### Train the isolation Forest Model"
   ]
  },
  {
   "cell_type": "code",
   "execution_count": 81,
   "metadata": {
    "executionInfo": {
     "elapsed": 314,
     "status": "ok",
     "timestamp": 1662705871314,
     "user": {
      "displayName": "Olusegun Ajibola",
      "userId": "14016280963587867119"
     },
     "user_tz": -120
    },
    "id": "K1WoHNoV-weH"
   },
   "outputs": [],
   "source": [
    "rng = np.random.RandomState(42)"
   ]
  },
  {
   "cell_type": "code",
   "execution_count": 82,
   "metadata": {
    "executionInfo": {
     "elapsed": 277,
     "status": "ok",
     "timestamp": 1662705874740,
     "user": {
      "displayName": "Olusegun Ajibola",
      "userId": "14016280963587867119"
     },
     "user_tz": -120
    },
    "id": "JVkQCRha-weH"
   },
   "outputs": [],
   "source": [
    "inliers_train, inliers_test = train_test_split(inliers, test_size=0.20, random_state = 42)"
   ]
  },
  {
   "cell_type": "code",
   "execution_count": 83,
   "metadata": {
    "executionInfo": {
     "elapsed": 1095,
     "status": "ok",
     "timestamp": 1662705898921,
     "user": {
      "displayName": "Olusegun Ajibola",
      "userId": "14016280963587867119"
     },
     "user_tz": -120
    },
    "id": "UCpF9D5u-weH"
   },
   "outputs": [],
   "source": [
    "model_iso = IsolationForest( max_samples=150, random_state=rng, contamination='auto')\n",
    "# model_iso = IsolationForest( max_samples=150, random_state=rng, contamination=0.01)\n",
    "model_iso.fit(inliers_train)\n",
    "inlier_pred_test = model_iso.predict(inliers_test)\n",
    "outlier_pred = model_iso.predict(outliers)"
   ]
  },
  {
   "cell_type": "code",
   "execution_count": 84,
   "metadata": {
    "colab": {
     "base_uri": "https://localhost:8080/"
    },
    "executionInfo": {
     "elapsed": 5,
     "status": "ok",
     "timestamp": 1662705899652,
     "user": {
      "displayName": "Olusegun Ajibola",
      "userId": "14016280963587867119"
     },
     "user_tz": -120
    },
    "id": "F5byreA--weH",
    "outputId": "769d198c-ddc3-4b89-a14d-a4b970410e1f"
   },
   "outputs": [
    {
     "name": "stdout",
     "output_type": "stream",
     "text": [
      "Accuracy in Detecting injury Cases: 0.846299585553582\n",
      "Accuracy in Detecting no-injury Cases: 0.16521739130434782\n"
     ]
    }
   ],
   "source": [
    "print(\"Accuracy in Detecting injury Cases:\", list(inlier_pred_test).count(1)/inlier_pred_test.shape[0])\n",
    "print(\"Accuracy in Detecting no-injury Cases:\", list(outlier_pred).count(-1)/outlier_pred.shape[0])"
   ]
  },
  {
   "cell_type": "code",
   "execution_count": 63,
   "metadata": {
    "colab": {
     "base_uri": "https://localhost:8080/"
    },
    "executionInfo": {
     "elapsed": 355,
     "status": "ok",
     "timestamp": 1662705902252,
     "user": {
      "displayName": "Olusegun Ajibola",
      "userId": "14016280963587867119"
     },
     "user_tz": -120
    },
    "id": "ws2irXbr-weI",
    "outputId": "cac7a440-9195-428e-ceda-8dbe0ad088d5"
   },
   "outputs": [
    {
     "data": {
      "text/plain": [
       "array([-1,  1])"
      ]
     },
     "execution_count": 63,
     "metadata": {},
     "output_type": "execute_result"
    }
   ],
   "source": [
    "np.unique(outlier_pred)"
   ]
  },
  {
   "cell_type": "code",
   "execution_count": 64,
   "metadata": {
    "colab": {
     "base_uri": "https://localhost:8080/"
    },
    "executionInfo": {
     "elapsed": 296,
     "status": "ok",
     "timestamp": 1662705887500,
     "user": {
      "displayName": "Olusegun Ajibola",
      "userId": "14016280963587867119"
     },
     "user_tz": -120
    },
    "id": "ax8tQfK7-weI",
    "outputId": "acdfd657-2ace-44af-c2b4-a2a2dfc03aff"
   },
   "outputs": [
    {
     "name": "stdout",
     "output_type": "stream",
     "text": [
      "F1 Score: 0.284\n"
     ]
    }
   ],
   "source": [
    "# calculate score\n",
    "\n",
    "# mark inliers 1, outliers -1\n",
    "\n",
    "outliers_y = outliers_y.replace(1, -1)\n",
    "\n",
    "outliers_y = outliers_y.replace(0, 1)\n",
    "\n",
    "score = f1_score(outliers_y, outlier_pred, pos_label=-1)\n",
    "print('F1 Score: %.3f' % score)"
   ]
  },
  {
   "cell_type": "code",
   "execution_count": 66,
   "metadata": {},
   "outputs": [
    {
     "data": {
      "text/plain": [
       "0.16521739130434782"
      ]
     },
     "execution_count": 66,
     "metadata": {},
     "output_type": "execute_result"
    }
   ],
   "source": [
    "accuracy_score(outliers_y, outlier_pred)"
   ]
  },
  {
   "cell_type": "code",
   "execution_count": 65,
   "metadata": {},
   "outputs": [
    {
     "data": {
      "text/plain": [
       "3.3391304347826085"
      ]
     },
     "execution_count": 65,
     "metadata": {},
     "output_type": "execute_result"
    }
   ],
   "source": [
    "mean_squared_error(outliers_y, outlier_pred)"
   ]
  },
  {
   "cell_type": "markdown",
   "metadata": {
    "id": "iA1bvJMa__Uu"
   },
   "source": [
    "## Model 3: One Class SVM II"
   ]
  },
  {
   "cell_type": "code",
   "execution_count": 85,
   "metadata": {
    "executionInfo": {
     "elapsed": 386,
     "status": "ok",
     "timestamp": 1662706082865,
     "user": {
      "displayName": "Olusegun Ajibola",
      "userId": "14016280963587867119"
     },
     "user_tz": -120
    },
    "id": "VdT1OFGo__Uv"
   },
   "outputs": [],
   "source": [
    "X = df_week_scaled.drop(columns = ['injury'])\n",
    "y = df_week_scaled['injury']"
   ]
  },
  {
   "cell_type": "code",
   "execution_count": 86,
   "metadata": {
    "id": "iBbO-M2M__Uv"
   },
   "outputs": [],
   "source": [
    "# split into train/test sets\n",
    "trainX, testX, trainy, testy = train_test_split(X, y, test_size = 0.80, random_state=2, stratify=y)"
   ]
  },
  {
   "cell_type": "code",
   "execution_count": 87,
   "metadata": {
    "executionInfo": {
     "elapsed": 277,
     "status": "ok",
     "timestamp": 1662706094209,
     "user": {
      "displayName": "Olusegun Ajibola",
      "userId": "14016280963587867119"
     },
     "user_tz": -120
    },
    "id": "jVUR7ant__Uv"
   },
   "outputs": [],
   "source": [
    "# we fit on majority class\n",
    "trainX_copy = trainX.copy()\n",
    "trainX_copy['injury'] = trainy\n",
    "trainX_copy = trainX_copy[trainX_copy.injury == 0]\n",
    "\n",
    "trainy_copy = trainy[trainy ==0]\n",
    "\n",
    "trainX_copy = trainX_copy.drop(columns = 'injury')"
   ]
  },
  {
   "cell_type": "code",
   "execution_count": 88,
   "metadata": {
    "colab": {
     "base_uri": "https://localhost:8080/"
    },
    "executionInfo": {
     "elapsed": 393,
     "status": "ok",
     "timestamp": 1662706096889,
     "user": {
      "displayName": "Olusegun Ajibola",
      "userId": "14016280963587867119"
     },
     "user_tz": -120
    },
    "id": "P2j-Xifw__Uv",
    "outputId": "8c550058-f7ae-4dda-cb45-a7c3697c6422"
   },
   "outputs": [
    {
     "data": {
      "text/plain": [
       "((8444,), (8444, 70))"
      ]
     },
     "execution_count": 88,
     "metadata": {},
     "output_type": "execute_result"
    }
   ],
   "source": [
    "trainy_copy.shape, trainX_copy.shape"
   ]
  },
  {
   "cell_type": "code",
   "execution_count": 89,
   "metadata": {
    "executionInfo": {
     "elapsed": 289,
     "status": "ok",
     "timestamp": 1662706099936,
     "user": {
      "displayName": "Olusegun Ajibola",
      "userId": "14016280963587867119"
     },
     "user_tz": -120
    },
    "id": "R0xBBRmv__Uw"
   },
   "outputs": [],
   "source": [
    "# define outlier detection model\n",
    "model = OneClassSVM(gamma='auto', nu=.55)"
   ]
  },
  {
   "cell_type": "code",
   "execution_count": 90,
   "metadata": {
    "colab": {
     "base_uri": "https://localhost:8080/"
    },
    "executionInfo": {
     "elapsed": 271,
     "status": "ok",
     "timestamp": 1662706102023,
     "user": {
      "displayName": "Olusegun Ajibola",
      "userId": "14016280963587867119"
     },
     "user_tz": -120
    },
    "id": "3aBB3iYK__Uw",
    "outputId": "314370a4-e056-470c-fc3f-d07c3daabbee"
   },
   "outputs": [
    {
     "data": {
      "text/html": [
       "<style>#sk-container-id-2 {color: black;background-color: white;}#sk-container-id-2 pre{padding: 0;}#sk-container-id-2 div.sk-toggleable {background-color: white;}#sk-container-id-2 label.sk-toggleable__label {cursor: pointer;display: block;width: 100%;margin-bottom: 0;padding: 0.3em;box-sizing: border-box;text-align: center;}#sk-container-id-2 label.sk-toggleable__label-arrow:before {content: \"▸\";float: left;margin-right: 0.25em;color: #696969;}#sk-container-id-2 label.sk-toggleable__label-arrow:hover:before {color: black;}#sk-container-id-2 div.sk-estimator:hover label.sk-toggleable__label-arrow:before {color: black;}#sk-container-id-2 div.sk-toggleable__content {max-height: 0;max-width: 0;overflow: hidden;text-align: left;background-color: #f0f8ff;}#sk-container-id-2 div.sk-toggleable__content pre {margin: 0.2em;color: black;border-radius: 0.25em;background-color: #f0f8ff;}#sk-container-id-2 input.sk-toggleable__control:checked~div.sk-toggleable__content {max-height: 200px;max-width: 100%;overflow: auto;}#sk-container-id-2 input.sk-toggleable__control:checked~label.sk-toggleable__label-arrow:before {content: \"▾\";}#sk-container-id-2 div.sk-estimator input.sk-toggleable__control:checked~label.sk-toggleable__label {background-color: #d4ebff;}#sk-container-id-2 div.sk-label input.sk-toggleable__control:checked~label.sk-toggleable__label {background-color: #d4ebff;}#sk-container-id-2 input.sk-hidden--visually {border: 0;clip: rect(1px 1px 1px 1px);clip: rect(1px, 1px, 1px, 1px);height: 1px;margin: -1px;overflow: hidden;padding: 0;position: absolute;width: 1px;}#sk-container-id-2 div.sk-estimator {font-family: monospace;background-color: #f0f8ff;border: 1px dotted black;border-radius: 0.25em;box-sizing: border-box;margin-bottom: 0.5em;}#sk-container-id-2 div.sk-estimator:hover {background-color: #d4ebff;}#sk-container-id-2 div.sk-parallel-item::after {content: \"\";width: 100%;border-bottom: 1px solid gray;flex-grow: 1;}#sk-container-id-2 div.sk-label:hover label.sk-toggleable__label {background-color: #d4ebff;}#sk-container-id-2 div.sk-serial::before {content: \"\";position: absolute;border-left: 1px solid gray;box-sizing: border-box;top: 0;bottom: 0;left: 50%;z-index: 0;}#sk-container-id-2 div.sk-serial {display: flex;flex-direction: column;align-items: center;background-color: white;padding-right: 0.2em;padding-left: 0.2em;position: relative;}#sk-container-id-2 div.sk-item {position: relative;z-index: 1;}#sk-container-id-2 div.sk-parallel {display: flex;align-items: stretch;justify-content: center;background-color: white;position: relative;}#sk-container-id-2 div.sk-item::before, #sk-container-id-2 div.sk-parallel-item::before {content: \"\";position: absolute;border-left: 1px solid gray;box-sizing: border-box;top: 0;bottom: 0;left: 50%;z-index: -1;}#sk-container-id-2 div.sk-parallel-item {display: flex;flex-direction: column;z-index: 1;position: relative;background-color: white;}#sk-container-id-2 div.sk-parallel-item:first-child::after {align-self: flex-end;width: 50%;}#sk-container-id-2 div.sk-parallel-item:last-child::after {align-self: flex-start;width: 50%;}#sk-container-id-2 div.sk-parallel-item:only-child::after {width: 0;}#sk-container-id-2 div.sk-dashed-wrapped {border: 1px dashed gray;margin: 0 0.4em 0.5em 0.4em;box-sizing: border-box;padding-bottom: 0.4em;background-color: white;}#sk-container-id-2 div.sk-label label {font-family: monospace;font-weight: bold;display: inline-block;line-height: 1.2em;}#sk-container-id-2 div.sk-label-container {text-align: center;}#sk-container-id-2 div.sk-container {/* jupyter's `normalize.less` sets `[hidden] { display: none; }` but bootstrap.min.css set `[hidden] { display: none !important; }` so we also need the `!important` here to be able to override the default hidden behavior on the sphinx rendered scikit-learn.org. See: https://github.com/scikit-learn/scikit-learn/issues/21755 */display: inline-block !important;position: relative;}#sk-container-id-2 div.sk-text-repr-fallback {display: none;}</style><div id=\"sk-container-id-2\" class=\"sk-top-container\"><div class=\"sk-text-repr-fallback\"><pre>OneClassSVM(gamma=&#x27;auto&#x27;, nu=0.55)</pre><b>In a Jupyter environment, please rerun this cell to show the HTML representation or trust the notebook. <br />On GitHub, the HTML representation is unable to render, please try loading this page with nbviewer.org.</b></div><div class=\"sk-container\" hidden><div class=\"sk-item\"><div class=\"sk-estimator sk-toggleable\"><input class=\"sk-toggleable__control sk-hidden--visually\" id=\"sk-estimator-id-2\" type=\"checkbox\" checked><label for=\"sk-estimator-id-2\" class=\"sk-toggleable__label sk-toggleable__label-arrow\">OneClassSVM</label><div class=\"sk-toggleable__content\"><pre>OneClassSVM(gamma=&#x27;auto&#x27;, nu=0.55)</pre></div></div></div></div></div>"
      ],
      "text/plain": [
       "OneClassSVM(gamma='auto', nu=0.55)"
      ]
     },
     "execution_count": 90,
     "metadata": {},
     "output_type": "execute_result"
    }
   ],
   "source": [
    "# fit on majority class\n",
    "\n",
    "model.fit(trainX_copy)"
   ]
  },
  {
   "cell_type": "code",
   "execution_count": 91,
   "metadata": {
    "executionInfo": {
     "elapsed": 697,
     "status": "ok",
     "timestamp": 1662706105616,
     "user": {
      "displayName": "Olusegun Ajibola",
      "userId": "14016280963587867119"
     },
     "user_tz": -120
    },
    "id": "KlSvZcXU__Uw"
   },
   "outputs": [],
   "source": [
    "# detect outliers in the test set\n",
    "yhat = model.predict(testX)"
   ]
  },
  {
   "cell_type": "code",
   "execution_count": 92,
   "metadata": {
    "executionInfo": {
     "elapsed": 282,
     "status": "ok",
     "timestamp": 1662706107851,
     "user": {
      "displayName": "Olusegun Ajibola",
      "userId": "14016280963587867119"
     },
     "user_tz": -120
    },
    "id": "4L87a1fx__Uw"
   },
   "outputs": [],
   "source": [
    "# mark inliers 1, outliers -1\n",
    "\n",
    "testy = testy.replace(1, -1)\n",
    "\n",
    "testy = testy.replace(0, 1)"
   ]
  },
  {
   "cell_type": "code",
   "execution_count": 93,
   "metadata": {},
   "outputs": [
    {
     "name": "stdout",
     "output_type": "stream",
     "text": [
      "              precision    recall  f1-score   support\n",
      "\n",
      "          -1       0.01      0.52      0.02       460\n",
      "           1       0.99      0.45      0.62     33779\n",
      "\n",
      "    accuracy                           0.45     34239\n",
      "   macro avg       0.50      0.48      0.32     34239\n",
      "weighted avg       0.97      0.45      0.61     34239\n",
      "\n"
     ]
    }
   ],
   "source": [
    "print(classification_report( testy, yhat ))"
   ]
  },
  {
   "cell_type": "code",
   "execution_count": 94,
   "metadata": {},
   "outputs": [
    {
     "data": {
      "text/plain": [
       "0.4509769561026899"
      ]
     },
     "execution_count": 94,
     "metadata": {},
     "output_type": "execute_result"
    }
   ],
   "source": [
    "accuracy_score(testy, yhat)"
   ]
  },
  {
   "cell_type": "code",
   "execution_count": 95,
   "metadata": {},
   "outputs": [
    {
     "data": {
      "text/plain": [
       "0.4509769561026899"
      ]
     },
     "execution_count": 95,
     "metadata": {},
     "output_type": "execute_result"
    }
   ],
   "source": [
    "accuracy_score(testy, yhat)"
   ]
  },
  {
   "cell_type": "code",
   "execution_count": 96,
   "metadata": {},
   "outputs": [
    {
     "data": {
      "text/plain": [
       "2.19609217558924"
      ]
     },
     "execution_count": 96,
     "metadata": {},
     "output_type": "execute_result"
    }
   ],
   "source": [
    "mean_squared_error(testy, yhat)"
   ]
  },
  {
   "cell_type": "code",
   "execution_count": 97,
   "metadata": {
    "colab": {
     "base_uri": "https://localhost:8080/"
    },
    "executionInfo": {
     "elapsed": 276,
     "status": "ok",
     "timestamp": 1662706109967,
     "user": {
      "displayName": "Olusegun Ajibola",
      "userId": "14016280963587867119"
     },
     "user_tz": -120
    },
    "id": "N1lZ7udQ__Uw",
    "outputId": "676c2bae-49cd-41f5-f9a6-39625272ccfe"
   },
   "outputs": [
    {
     "name": "stdout",
     "output_type": "stream",
     "text": [
      "F1 Score: 0.025\n"
     ]
    }
   ],
   "source": [
    "# calculate score\n",
    "score = f1_score(testy, yhat, pos_label= -1)\n",
    "print('F1 Score: %.3f' % score)"
   ]
  },
  {
   "cell_type": "markdown",
   "metadata": {
    "id": "79sMx1_oAreC"
   },
   "source": [
    "The outcome for both scaled and unscaled data, the results are the same in terms of f1 score for IF, but for the SVM, there is an improvement with scaling."
   ]
  },
  {
   "cell_type": "markdown",
   "metadata": {
    "id": "kvoYYIXVi6o5"
   },
   "source": [
    "# B - Repeating Models with PCA"
   ]
  },
  {
   "cell_type": "markdown",
   "metadata": {
    "id": "ciigzlJ0lMzO"
   },
   "source": [
    "## Model 2: Isolation Forest III"
   ]
  },
  {
   "cell_type": "code",
   "execution_count": 80,
   "metadata": {
    "executionInfo": {
     "elapsed": 4,
     "status": "ok",
     "timestamp": 1662733034893,
     "user": {
      "displayName": "Olusegun Ajibola",
      "userId": "14016280963587867119"
     },
     "user_tz": -120
    },
    "id": "JglPp2sble3E"
   },
   "outputs": [],
   "source": [
    "# Make an instance of the Model\n",
    "pca_if = PCA(.95) # retain 95% variance in the data"
   ]
  },
  {
   "cell_type": "code",
   "execution_count": 81,
   "metadata": {
    "executionInfo": {
     "elapsed": 242,
     "status": "ok",
     "timestamp": 1662733038129,
     "user": {
      "displayName": "Olusegun Ajibola",
      "userId": "14016280963587867119"
     },
     "user_tz": -120
    },
    "id": "w78q11XFlMzP"
   },
   "outputs": [],
   "source": [
    "# inliers = df_week_scaled[df_week_scaled.injury == 'no']\n",
    "inliers = df_week_scaled[df_week_scaled.injury == 0] #  no injury data\n",
    "\n",
    "\n",
    "####---------may comment-------------###\n",
    "# inliers_y = inliers.injury #  no injury reponse data \n",
    "# inliers = inliers.drop(['injury'], axis = 1)"
   ]
  },
  {
   "cell_type": "code",
   "execution_count": 82,
   "metadata": {
    "executionInfo": {
     "elapsed": 280,
     "status": "ok",
     "timestamp": 1662733110171,
     "user": {
      "displayName": "Olusegun Ajibola",
      "userId": "14016280963587867119"
     },
     "user_tz": -120
    },
    "id": "w0F1XLDglMzP"
   },
   "outputs": [],
   "source": [
    "# outliers = df_week_scaled[df_week_scaled.injury == 'yes']\n",
    "outliers = df_week_scaled[df_week_scaled.injury == 1] #  injury data\n",
    "outliers_y = outliers.injury #  injury reponse data\n",
    "outliers = outliers.drop(['injury'], axis = 1)"
   ]
  },
  {
   "cell_type": "code",
   "execution_count": 83,
   "metadata": {
    "colab": {
     "base_uri": "https://localhost:8080/",
     "height": 193
    },
    "executionInfo": {
     "elapsed": 6,
     "status": "ok",
     "timestamp": 1662733111890,
     "user": {
      "displayName": "Olusegun Ajibola",
      "userId": "14016280963587867119"
     },
     "user_tz": -120
    },
    "id": "dXwGIGsulMzP",
    "outputId": "73ec0452-7e47-49e2-f4fc-2be3c57fe515",
    "scrolled": true
   },
   "outputs": [
    {
     "data": {
      "text/html": [
       "<div>\n",
       "<style scoped>\n",
       "    .dataframe tbody tr th:only-of-type {\n",
       "        vertical-align: middle;\n",
       "    }\n",
       "\n",
       "    .dataframe tbody tr th {\n",
       "        vertical-align: top;\n",
       "    }\n",
       "\n",
       "    .dataframe thead th {\n",
       "        text-align: right;\n",
       "    }\n",
       "</style>\n",
       "<table border=\"1\" class=\"dataframe\">\n",
       "  <thead>\n",
       "    <tr style=\"text-align: right;\">\n",
       "      <th></th>\n",
       "      <th>nr_sessions</th>\n",
       "      <th>nr_rest_days</th>\n",
       "      <th>total_kms</th>\n",
       "      <th>max_km_one_day</th>\n",
       "      <th>total_km_z3-z4-z5-t1-t2</th>\n",
       "      <th>nr_tough_sessions_(effort_in_z5,_t1_or_t2)</th>\n",
       "      <th>nr_days_with_interval_session</th>\n",
       "      <th>total_km_z3-4</th>\n",
       "      <th>max_km_z3-4_one_day</th>\n",
       "      <th>total_km_z5-t1-t2</th>\n",
       "      <th>...</th>\n",
       "      <th>min_training_success_2</th>\n",
       "      <th>max_training_success_2</th>\n",
       "      <th>avg_recovery_2</th>\n",
       "      <th>min_recovery_2</th>\n",
       "      <th>max_recovery_2</th>\n",
       "      <th>rel_total_kms_week_0_1</th>\n",
       "      <th>rel_total_kms_week_0_2</th>\n",
       "      <th>rel_total_kms_week_1_2</th>\n",
       "      <th>date</th>\n",
       "      <th>injury</th>\n",
       "    </tr>\n",
       "  </thead>\n",
       "  <tbody>\n",
       "    <tr>\n",
       "      <th>0</th>\n",
       "      <td>-0.325793</td>\n",
       "      <td>0.067628</td>\n",
       "      <td>-0.744770</td>\n",
       "      <td>0.263543</td>\n",
       "      <td>0.266274</td>\n",
       "      <td>0.067091</td>\n",
       "      <td>0.259173</td>\n",
       "      <td>0.735992</td>\n",
       "      <td>1.429448</td>\n",
       "      <td>-0.613609</td>\n",
       "      <td>...</td>\n",
       "      <td>-1.138703</td>\n",
       "      <td>-1.345902</td>\n",
       "      <td>-0.490097</td>\n",
       "      <td>-0.194751</td>\n",
       "      <td>-0.653759</td>\n",
       "      <td>-0.101858</td>\n",
       "      <td>-0.129793</td>\n",
       "      <td>-0.103154</td>\n",
       "      <td>-1.522325</td>\n",
       "      <td>0</td>\n",
       "    </tr>\n",
       "    <tr>\n",
       "      <th>1</th>\n",
       "      <td>-0.325793</td>\n",
       "      <td>0.067628</td>\n",
       "      <td>-0.761112</td>\n",
       "      <td>0.263543</td>\n",
       "      <td>0.255021</td>\n",
       "      <td>0.067091</td>\n",
       "      <td>0.259173</td>\n",
       "      <td>0.735992</td>\n",
       "      <td>1.429448</td>\n",
       "      <td>-0.631323</td>\n",
       "      <td>...</td>\n",
       "      <td>-1.138703</td>\n",
       "      <td>-1.345902</td>\n",
       "      <td>-0.490097</td>\n",
       "      <td>-0.194751</td>\n",
       "      <td>-0.653759</td>\n",
       "      <td>-0.101858</td>\n",
       "      <td>-0.129793</td>\n",
       "      <td>-0.103154</td>\n",
       "      <td>-1.521085</td>\n",
       "      <td>0</td>\n",
       "    </tr>\n",
       "  </tbody>\n",
       "</table>\n",
       "<p>2 rows × 71 columns</p>\n",
       "</div>"
      ],
      "text/plain": [
       "   nr_sessions  nr_rest_days  total_kms  max_km_one_day  \\\n",
       "0    -0.325793      0.067628  -0.744770        0.263543   \n",
       "1    -0.325793      0.067628  -0.761112        0.263543   \n",
       "\n",
       "   total_km_z3-z4-z5-t1-t2  nr_tough_sessions_(effort_in_z5,_t1_or_t2)  \\\n",
       "0                 0.266274                                    0.067091   \n",
       "1                 0.255021                                    0.067091   \n",
       "\n",
       "   nr_days_with_interval_session  total_km_z3-4  max_km_z3-4_one_day  \\\n",
       "0                       0.259173       0.735992             1.429448   \n",
       "1                       0.259173       0.735992             1.429448   \n",
       "\n",
       "   total_km_z5-t1-t2  ...  min_training_success_2  max_training_success_2  \\\n",
       "0          -0.613609  ...               -1.138703               -1.345902   \n",
       "1          -0.631323  ...               -1.138703               -1.345902   \n",
       "\n",
       "   avg_recovery_2  min_recovery_2  max_recovery_2  rel_total_kms_week_0_1  \\\n",
       "0       -0.490097       -0.194751       -0.653759               -0.101858   \n",
       "1       -0.490097       -0.194751       -0.653759               -0.101858   \n",
       "\n",
       "   rel_total_kms_week_0_2  rel_total_kms_week_1_2      date  injury  \n",
       "0               -0.129793               -0.103154 -1.522325       0  \n",
       "1               -0.129793               -0.103154 -1.521085       0  \n",
       "\n",
       "[2 rows x 71 columns]"
      ]
     },
     "execution_count": 83,
     "metadata": {},
     "output_type": "execute_result"
    }
   ],
   "source": [
    "inliers.head(2)"
   ]
  },
  {
   "cell_type": "code",
   "execution_count": 84,
   "metadata": {
    "colab": {
     "base_uri": "https://localhost:8080/"
    },
    "executionInfo": {
     "elapsed": 379,
     "status": "ok",
     "timestamp": 1662733129658,
     "user": {
      "displayName": "Olusegun Ajibola",
      "userId": "14016280963587867119"
     },
     "user_tz": -120
    },
    "id": "C-4Nc5qAlMzP",
    "outputId": "931b5a77-eb30-4b3b-ef1c-040093a79082"
   },
   "outputs": [
    {
     "data": {
      "text/plain": [
       "((42223, 71), (575, 70))"
      ]
     },
     "execution_count": 84,
     "metadata": {},
     "output_type": "execute_result"
    }
   ],
   "source": [
    "inliers.shape, outliers.shape # this is the respective dimension of our no-injury and injury data in our dataset respectively."
   ]
  },
  {
   "cell_type": "code",
   "execution_count": 85,
   "metadata": {
    "executionInfo": {
     "elapsed": 339,
     "status": "ok",
     "timestamp": 1662733148108,
     "user": {
      "displayName": "Olusegun Ajibola",
      "userId": "14016280963587867119"
     },
     "user_tz": -120
    },
    "id": "ea-dzE_XlMzQ"
   },
   "outputs": [],
   "source": [
    "inliers_train, inliers_test = train_test_split(inliers, test_size=0.20, random_state=42)"
   ]
  },
  {
   "cell_type": "code",
   "execution_count": 86,
   "metadata": {
    "executionInfo": {
     "elapsed": 300,
     "status": "ok",
     "timestamp": 1662733151029,
     "user": {
      "displayName": "Olusegun Ajibola",
      "userId": "14016280963587867119"
     },
     "user_tz": -120
    },
    "id": "O-nFHph8mq9m"
   },
   "outputs": [],
   "source": [
    "inliers_train_y = inliers_train.injury #  no injury reponse data\n",
    "inliers_train = inliers_train.drop(['injury'], axis = 1)\n",
    "\n",
    "inliers_test_y = inliers_test.injury\n",
    "inliers_test = inliers_test.drop(['injury'], axis = 1)"
   ]
  },
  {
   "cell_type": "code",
   "execution_count": 87,
   "metadata": {
    "colab": {
     "base_uri": "https://localhost:8080/",
     "height": 505
    },
    "executionInfo": {
     "elapsed": 480,
     "status": "ok",
     "timestamp": 1662733153768,
     "user": {
      "displayName": "Olusegun Ajibola",
      "userId": "14016280963587867119"
     },
     "user_tz": -120
    },
    "id": "qtionQ6TmTID",
    "outputId": "9d47ac11-f89b-444e-91c5-1094b4f9238e",
    "scrolled": true
   },
   "outputs": [],
   "source": [
    "# inliers_train"
   ]
  },
  {
   "cell_type": "markdown",
   "metadata": {
    "id": "RJ27gfNKl624"
   },
   "source": [
    "### Apply PCA on data splits"
   ]
  },
  {
   "cell_type": "markdown",
   "metadata": {
    "id": "kE_kzAEnmIHq"
   },
   "source": [
    "Fit PCA on training set on training set alone."
   ]
  },
  {
   "cell_type": "code",
   "execution_count": 88,
   "metadata": {
    "colab": {
     "base_uri": "https://localhost:8080/"
    },
    "executionInfo": {
     "elapsed": 276,
     "status": "ok",
     "timestamp": 1662733392134,
     "user": {
      "displayName": "Olusegun Ajibola",
      "userId": "14016280963587867119"
     },
     "user_tz": -120
    },
    "id": "dc7UMXelmJdl",
    "outputId": "803095be-1c8c-4c8a-f1a2-6d8addb97d15",
    "scrolled": true
   },
   "outputs": [
    {
     "data": {
      "text/html": [
       "<style>#sk-container-id-4 {color: black;background-color: white;}#sk-container-id-4 pre{padding: 0;}#sk-container-id-4 div.sk-toggleable {background-color: white;}#sk-container-id-4 label.sk-toggleable__label {cursor: pointer;display: block;width: 100%;margin-bottom: 0;padding: 0.3em;box-sizing: border-box;text-align: center;}#sk-container-id-4 label.sk-toggleable__label-arrow:before {content: \"▸\";float: left;margin-right: 0.25em;color: #696969;}#sk-container-id-4 label.sk-toggleable__label-arrow:hover:before {color: black;}#sk-container-id-4 div.sk-estimator:hover label.sk-toggleable__label-arrow:before {color: black;}#sk-container-id-4 div.sk-toggleable__content {max-height: 0;max-width: 0;overflow: hidden;text-align: left;background-color: #f0f8ff;}#sk-container-id-4 div.sk-toggleable__content pre {margin: 0.2em;color: black;border-radius: 0.25em;background-color: #f0f8ff;}#sk-container-id-4 input.sk-toggleable__control:checked~div.sk-toggleable__content {max-height: 200px;max-width: 100%;overflow: auto;}#sk-container-id-4 input.sk-toggleable__control:checked~label.sk-toggleable__label-arrow:before {content: \"▾\";}#sk-container-id-4 div.sk-estimator input.sk-toggleable__control:checked~label.sk-toggleable__label {background-color: #d4ebff;}#sk-container-id-4 div.sk-label input.sk-toggleable__control:checked~label.sk-toggleable__label {background-color: #d4ebff;}#sk-container-id-4 input.sk-hidden--visually {border: 0;clip: rect(1px 1px 1px 1px);clip: rect(1px, 1px, 1px, 1px);height: 1px;margin: -1px;overflow: hidden;padding: 0;position: absolute;width: 1px;}#sk-container-id-4 div.sk-estimator {font-family: monospace;background-color: #f0f8ff;border: 1px dotted black;border-radius: 0.25em;box-sizing: border-box;margin-bottom: 0.5em;}#sk-container-id-4 div.sk-estimator:hover {background-color: #d4ebff;}#sk-container-id-4 div.sk-parallel-item::after {content: \"\";width: 100%;border-bottom: 1px solid gray;flex-grow: 1;}#sk-container-id-4 div.sk-label:hover label.sk-toggleable__label {background-color: #d4ebff;}#sk-container-id-4 div.sk-serial::before {content: \"\";position: absolute;border-left: 1px solid gray;box-sizing: border-box;top: 0;bottom: 0;left: 50%;z-index: 0;}#sk-container-id-4 div.sk-serial {display: flex;flex-direction: column;align-items: center;background-color: white;padding-right: 0.2em;padding-left: 0.2em;position: relative;}#sk-container-id-4 div.sk-item {position: relative;z-index: 1;}#sk-container-id-4 div.sk-parallel {display: flex;align-items: stretch;justify-content: center;background-color: white;position: relative;}#sk-container-id-4 div.sk-item::before, #sk-container-id-4 div.sk-parallel-item::before {content: \"\";position: absolute;border-left: 1px solid gray;box-sizing: border-box;top: 0;bottom: 0;left: 50%;z-index: -1;}#sk-container-id-4 div.sk-parallel-item {display: flex;flex-direction: column;z-index: 1;position: relative;background-color: white;}#sk-container-id-4 div.sk-parallel-item:first-child::after {align-self: flex-end;width: 50%;}#sk-container-id-4 div.sk-parallel-item:last-child::after {align-self: flex-start;width: 50%;}#sk-container-id-4 div.sk-parallel-item:only-child::after {width: 0;}#sk-container-id-4 div.sk-dashed-wrapped {border: 1px dashed gray;margin: 0 0.4em 0.5em 0.4em;box-sizing: border-box;padding-bottom: 0.4em;background-color: white;}#sk-container-id-4 div.sk-label label {font-family: monospace;font-weight: bold;display: inline-block;line-height: 1.2em;}#sk-container-id-4 div.sk-label-container {text-align: center;}#sk-container-id-4 div.sk-container {/* jupyter's `normalize.less` sets `[hidden] { display: none; }` but bootstrap.min.css set `[hidden] { display: none !important; }` so we also need the `!important` here to be able to override the default hidden behavior on the sphinx rendered scikit-learn.org. See: https://github.com/scikit-learn/scikit-learn/issues/21755 */display: inline-block !important;position: relative;}#sk-container-id-4 div.sk-text-repr-fallback {display: none;}</style><div id=\"sk-container-id-4\" class=\"sk-top-container\"><div class=\"sk-text-repr-fallback\"><pre>PCA(n_components=0.95)</pre><b>In a Jupyter environment, please rerun this cell to show the HTML representation or trust the notebook. <br />On GitHub, the HTML representation is unable to render, please try loading this page with nbviewer.org.</b></div><div class=\"sk-container\" hidden><div class=\"sk-item\"><div class=\"sk-estimator sk-toggleable\"><input class=\"sk-toggleable__control sk-hidden--visually\" id=\"sk-estimator-id-4\" type=\"checkbox\" checked><label for=\"sk-estimator-id-4\" class=\"sk-toggleable__label sk-toggleable__label-arrow\">PCA</label><div class=\"sk-toggleable__content\"><pre>PCA(n_components=0.95)</pre></div></div></div></div></div>"
      ],
      "text/plain": [
       "PCA(n_components=0.95)"
      ]
     },
     "execution_count": 88,
     "metadata": {},
     "output_type": "execute_result"
    }
   ],
   "source": [
    "pca_if.fit(inliers_train)"
   ]
  },
  {
   "cell_type": "markdown",
   "metadata": {
    "id": "NkNC1c-ynzww"
   },
   "source": [
    "Apply the mapping (transform) to both the training set and the test set."
   ]
  },
  {
   "cell_type": "code",
   "execution_count": 89,
   "metadata": {
    "colab": {
     "background_save": true,
     "output_embedded_package_id": "1zH0UOo5HYgO6vNJw3Jy0p32CsYf3haEu"
    },
    "id": "w3M5BnW2o0kt",
    "outputId": "3a70fd94-7020-44f6-be89-4edcaec7ac91",
    "scrolled": true,
    "tags": []
   },
   "outputs": [
    {
     "data": {
      "text/plain": [
       "(33778, 70)"
      ]
     },
     "execution_count": 89,
     "metadata": {},
     "output_type": "execute_result"
    }
   ],
   "source": [
    "inliers_train.shape"
   ]
  },
  {
   "cell_type": "code",
   "execution_count": 90,
   "metadata": {
    "colab": {
     "base_uri": "https://localhost:8080/",
     "height": 399
    },
    "executionInfo": {
     "elapsed": 598,
     "status": "error",
     "timestamp": 1662733394315,
     "user": {
      "displayName": "Olusegun Ajibola",
      "userId": "14016280963587867119"
     },
     "user_tz": -120
    },
    "id": "EtyJb4SRmAf6",
    "outputId": "b497c651-cfea-4929-b2cd-d7399fc06d10"
   },
   "outputs": [],
   "source": [
    "inliers_train = pca_if.transform(inliers_train)\n",
    "inliers_test = pca_if.transform(inliers_test)\n",
    "outliers = pca_if.transform(outliers)"
   ]
  },
  {
   "cell_type": "markdown",
   "metadata": {
    "id": "dNGH17ctlMzQ"
   },
   "source": [
    "### Train the isolation Forest Model"
   ]
  },
  {
   "cell_type": "code",
   "execution_count": 91,
   "metadata": {
    "executionInfo": {
     "elapsed": 375,
     "status": "ok",
     "timestamp": 1662733299118,
     "user": {
      "displayName": "Olusegun Ajibola",
      "userId": "14016280963587867119"
     },
     "user_tz": -120
    },
    "id": "1E32wNCKlMzQ",
    "tags": []
   },
   "outputs": [],
   "source": [
    "rng = np.random.RandomState(42)"
   ]
  },
  {
   "cell_type": "code",
   "execution_count": 92,
   "metadata": {
    "id": "lb8go5aolMzQ"
   },
   "outputs": [],
   "source": [
    "# inliers_train, inliers_test = train_test_split(inliers, test_size=0.20, random_state = 42)"
   ]
  },
  {
   "cell_type": "code",
   "execution_count": 93,
   "metadata": {
    "colab": {
     "base_uri": "https://localhost:8080/",
     "height": 419
    },
    "executionInfo": {
     "elapsed": 1856,
     "status": "error",
     "timestamp": 1662733331512,
     "user": {
      "displayName": "Olusegun Ajibola",
      "userId": "14016280963587867119"
     },
     "user_tz": -120
    },
    "id": "BJm-swXZlMzQ",
    "outputId": "26807a54-b4f6-4677-9e61-c0e4285277ab"
   },
   "outputs": [],
   "source": [
    "model_iso = IsolationForest( max_samples=150, random_state=rng, contamination='auto')\n",
    "# model_iso = IsolationForest( max_samples=150, random_state=rng, contamination=0.01)\n",
    "model_iso.fit(inliers_train)\n",
    "inlier_pred_test = model_iso.predict(inliers_test)\n",
    "outlier_pred = model_iso.predict(outliers)"
   ]
  },
  {
   "cell_type": "code",
   "execution_count": 94,
   "metadata": {
    "colab": {
     "base_uri": "https://localhost:8080/"
    },
    "executionInfo": {
     "elapsed": 5,
     "status": "ok",
     "timestamp": 1662705899652,
     "user": {
      "displayName": "Olusegun Ajibola",
      "userId": "14016280963587867119"
     },
     "user_tz": -120
    },
    "id": "yFPTyb5ClMzQ",
    "outputId": "769d198c-ddc3-4b89-a14d-a4b970410e1f"
   },
   "outputs": [
    {
     "name": "stdout",
     "output_type": "stream",
     "text": [
      "Accuracy in Detecting injury Cases: 0.959976317347543\n",
      "Accuracy in Detecting no-injury Cases: 0.03130434782608696\n"
     ]
    }
   ],
   "source": [
    "print(\"Accuracy in Detecting injury Cases:\", list(inlier_pred_test).count(1)/inlier_pred_test.shape[0])\n",
    "print(\"Accuracy in Detecting no-injury Cases:\", list(outlier_pred).count(-1)/outlier_pred.shape[0])"
   ]
  },
  {
   "cell_type": "code",
   "execution_count": 95,
   "metadata": {
    "colab": {
     "base_uri": "https://localhost:8080/"
    },
    "executionInfo": {
     "elapsed": 355,
     "status": "ok",
     "timestamp": 1662705902252,
     "user": {
      "displayName": "Olusegun Ajibola",
      "userId": "14016280963587867119"
     },
     "user_tz": -120
    },
    "id": "IqQfrEx2lMzR",
    "outputId": "cac7a440-9195-428e-ceda-8dbe0ad088d5"
   },
   "outputs": [
    {
     "data": {
      "text/plain": [
       "array([-1,  1])"
      ]
     },
     "execution_count": 95,
     "metadata": {},
     "output_type": "execute_result"
    }
   ],
   "source": [
    "np.unique(outlier_pred)"
   ]
  },
  {
   "cell_type": "code",
   "execution_count": 96,
   "metadata": {
    "colab": {
     "base_uri": "https://localhost:8080/"
    },
    "executionInfo": {
     "elapsed": 296,
     "status": "ok",
     "timestamp": 1662705887500,
     "user": {
      "displayName": "Olusegun Ajibola",
      "userId": "14016280963587867119"
     },
     "user_tz": -120
    },
    "id": "cUGyDlH1lMzR",
    "outputId": "acdfd657-2ace-44af-c2b4-a2a2dfc03aff"
   },
   "outputs": [
    {
     "name": "stdout",
     "output_type": "stream",
     "text": [
      "F1 Score: 0.061\n"
     ]
    }
   ],
   "source": [
    "# calculate score\n",
    "\n",
    "# mark inliers 1, outliers -1\n",
    "\n",
    "outliers_y = outliers_y.replace(1, -1)\n",
    "\n",
    "outliers_y = outliers_y.replace(0, 1)\n",
    "\n",
    "score = f1_score(outliers_y, outlier_pred, pos_label=-1)\n",
    "print('F1 Score: %.3f' % score)"
   ]
  },
  {
   "cell_type": "code",
   "execution_count": 97,
   "metadata": {},
   "outputs": [
    {
     "data": {
      "text/plain": [
       "0.03130434782608696"
      ]
     },
     "execution_count": 97,
     "metadata": {},
     "output_type": "execute_result"
    }
   ],
   "source": [
    "accuracy_score(outliers_y, outlier_pred)"
   ]
  },
  {
   "cell_type": "code",
   "execution_count": 98,
   "metadata": {},
   "outputs": [
    {
     "data": {
      "text/plain": [
       "3.8747826086956523"
      ]
     },
     "execution_count": 98,
     "metadata": {},
     "output_type": "execute_result"
    }
   ],
   "source": [
    "mean_squared_error(outliers_y, outlier_pred)"
   ]
  },
  {
   "cell_type": "markdown",
   "metadata": {},
   "source": [
    "The use of PCA reduced our prediction accuracy"
   ]
  },
  {
   "cell_type": "markdown",
   "metadata": {
    "id": "0-UxUllslMzR"
   },
   "source": [
    "## Model 3: One Class SVM III"
   ]
  },
  {
   "cell_type": "code",
   "execution_count": 98,
   "metadata": {
    "id": "Ql06Rjd0lMzR"
   },
   "outputs": [],
   "source": [
    "X = df_week_scaled.drop(columns = ['injury'])\n",
    "y = df_week_scaled['injury']"
   ]
  },
  {
   "cell_type": "code",
   "execution_count": 99,
   "metadata": {
    "id": "hbLgHrunlMzR",
    "tags": []
   },
   "outputs": [],
   "source": [
    "# split into train/test sets\n",
    "trainX, testX, trainy, testy = train_test_split(X, y, test_size=0.80, random_state=2, stratify=y)"
   ]
  },
  {
   "cell_type": "code",
   "execution_count": 100,
   "metadata": {
    "id": "boDYbiTwlMzR",
    "tags": []
   },
   "outputs": [],
   "source": [
    "# we fit on majority class\n",
    "trainX_copy = trainX.copy()\n",
    "trainX_copy['injury'] = trainy\n",
    "trainX_copy = trainX_copy[trainX_copy.injury == 0]\n",
    "\n",
    "trainy_copy = trainy[trainy ==0]\n",
    "trainX_copy = trainX_copy.drop(columns = 'injury')\n",
    "# trainy_copy = "
   ]
  },
  {
   "cell_type": "markdown",
   "metadata": {
    "id": "RJ27gfNKl624"
   },
   "source": [
    "### Apply PCA on data splits"
   ]
  },
  {
   "cell_type": "code",
   "execution_count": 101,
   "metadata": {
    "executionInfo": {
     "elapsed": 4,
     "status": "ok",
     "timestamp": 1662733034893,
     "user": {
      "displayName": "Olusegun Ajibola",
      "userId": "14016280963587867119"
     },
     "user_tz": -120
    },
    "id": "JglPp2sble3E"
   },
   "outputs": [],
   "source": [
    "# Make an instance of the Model\n",
    "pca_oc_svm = PCA(.95) # retain 95% variance in the data"
   ]
  },
  {
   "cell_type": "markdown",
   "metadata": {
    "id": "kE_kzAEnmIHq"
   },
   "source": [
    "Fit PCA on training set on training set alone."
   ]
  },
  {
   "cell_type": "code",
   "execution_count": 102,
   "metadata": {
    "colab": {
     "base_uri": "https://localhost:8080/"
    },
    "executionInfo": {
     "elapsed": 276,
     "status": "ok",
     "timestamp": 1662733392134,
     "user": {
      "displayName": "Olusegun Ajibola",
      "userId": "14016280963587867119"
     },
     "user_tz": -120
    },
    "id": "dc7UMXelmJdl",
    "outputId": "803095be-1c8c-4c8a-f1a2-6d8addb97d15",
    "scrolled": true
   },
   "outputs": [
    {
     "data": {
      "text/html": [
       "<style>#sk-container-id-3 {color: black;background-color: white;}#sk-container-id-3 pre{padding: 0;}#sk-container-id-3 div.sk-toggleable {background-color: white;}#sk-container-id-3 label.sk-toggleable__label {cursor: pointer;display: block;width: 100%;margin-bottom: 0;padding: 0.3em;box-sizing: border-box;text-align: center;}#sk-container-id-3 label.sk-toggleable__label-arrow:before {content: \"▸\";float: left;margin-right: 0.25em;color: #696969;}#sk-container-id-3 label.sk-toggleable__label-arrow:hover:before {color: black;}#sk-container-id-3 div.sk-estimator:hover label.sk-toggleable__label-arrow:before {color: black;}#sk-container-id-3 div.sk-toggleable__content {max-height: 0;max-width: 0;overflow: hidden;text-align: left;background-color: #f0f8ff;}#sk-container-id-3 div.sk-toggleable__content pre {margin: 0.2em;color: black;border-radius: 0.25em;background-color: #f0f8ff;}#sk-container-id-3 input.sk-toggleable__control:checked~div.sk-toggleable__content {max-height: 200px;max-width: 100%;overflow: auto;}#sk-container-id-3 input.sk-toggleable__control:checked~label.sk-toggleable__label-arrow:before {content: \"▾\";}#sk-container-id-3 div.sk-estimator input.sk-toggleable__control:checked~label.sk-toggleable__label {background-color: #d4ebff;}#sk-container-id-3 div.sk-label input.sk-toggleable__control:checked~label.sk-toggleable__label {background-color: #d4ebff;}#sk-container-id-3 input.sk-hidden--visually {border: 0;clip: rect(1px 1px 1px 1px);clip: rect(1px, 1px, 1px, 1px);height: 1px;margin: -1px;overflow: hidden;padding: 0;position: absolute;width: 1px;}#sk-container-id-3 div.sk-estimator {font-family: monospace;background-color: #f0f8ff;border: 1px dotted black;border-radius: 0.25em;box-sizing: border-box;margin-bottom: 0.5em;}#sk-container-id-3 div.sk-estimator:hover {background-color: #d4ebff;}#sk-container-id-3 div.sk-parallel-item::after {content: \"\";width: 100%;border-bottom: 1px solid gray;flex-grow: 1;}#sk-container-id-3 div.sk-label:hover label.sk-toggleable__label {background-color: #d4ebff;}#sk-container-id-3 div.sk-serial::before {content: \"\";position: absolute;border-left: 1px solid gray;box-sizing: border-box;top: 0;bottom: 0;left: 50%;z-index: 0;}#sk-container-id-3 div.sk-serial {display: flex;flex-direction: column;align-items: center;background-color: white;padding-right: 0.2em;padding-left: 0.2em;position: relative;}#sk-container-id-3 div.sk-item {position: relative;z-index: 1;}#sk-container-id-3 div.sk-parallel {display: flex;align-items: stretch;justify-content: center;background-color: white;position: relative;}#sk-container-id-3 div.sk-item::before, #sk-container-id-3 div.sk-parallel-item::before {content: \"\";position: absolute;border-left: 1px solid gray;box-sizing: border-box;top: 0;bottom: 0;left: 50%;z-index: -1;}#sk-container-id-3 div.sk-parallel-item {display: flex;flex-direction: column;z-index: 1;position: relative;background-color: white;}#sk-container-id-3 div.sk-parallel-item:first-child::after {align-self: flex-end;width: 50%;}#sk-container-id-3 div.sk-parallel-item:last-child::after {align-self: flex-start;width: 50%;}#sk-container-id-3 div.sk-parallel-item:only-child::after {width: 0;}#sk-container-id-3 div.sk-dashed-wrapped {border: 1px dashed gray;margin: 0 0.4em 0.5em 0.4em;box-sizing: border-box;padding-bottom: 0.4em;background-color: white;}#sk-container-id-3 div.sk-label label {font-family: monospace;font-weight: bold;display: inline-block;line-height: 1.2em;}#sk-container-id-3 div.sk-label-container {text-align: center;}#sk-container-id-3 div.sk-container {/* jupyter's `normalize.less` sets `[hidden] { display: none; }` but bootstrap.min.css set `[hidden] { display: none !important; }` so we also need the `!important` here to be able to override the default hidden behavior on the sphinx rendered scikit-learn.org. See: https://github.com/scikit-learn/scikit-learn/issues/21755 */display: inline-block !important;position: relative;}#sk-container-id-3 div.sk-text-repr-fallback {display: none;}</style><div id=\"sk-container-id-3\" class=\"sk-top-container\"><div class=\"sk-text-repr-fallback\"><pre>PCA(n_components=0.95)</pre><b>In a Jupyter environment, please rerun this cell to show the HTML representation or trust the notebook. <br />On GitHub, the HTML representation is unable to render, please try loading this page with nbviewer.org.</b></div><div class=\"sk-container\" hidden><div class=\"sk-item\"><div class=\"sk-estimator sk-toggleable\"><input class=\"sk-toggleable__control sk-hidden--visually\" id=\"sk-estimator-id-3\" type=\"checkbox\" checked><label for=\"sk-estimator-id-3\" class=\"sk-toggleable__label sk-toggleable__label-arrow\">PCA</label><div class=\"sk-toggleable__content\"><pre>PCA(n_components=0.95)</pre></div></div></div></div></div>"
      ],
      "text/plain": [
       "PCA(n_components=0.95)"
      ]
     },
     "execution_count": 102,
     "metadata": {},
     "output_type": "execute_result"
    }
   ],
   "source": [
    "pca_oc_svm.fit(trainX_copy)"
   ]
  },
  {
   "cell_type": "markdown",
   "metadata": {
    "id": "NkNC1c-ynzww"
   },
   "source": [
    "Apply the mapping (transform) to both the training set and the test set."
   ]
  },
  {
   "cell_type": "code",
   "execution_count": 103,
   "metadata": {
    "colab": {
     "base_uri": "https://localhost:8080/",
     "height": 399
    },
    "executionInfo": {
     "elapsed": 598,
     "status": "error",
     "timestamp": 1662733394315,
     "user": {
      "displayName": "Olusegun Ajibola",
      "userId": "14016280963587867119"
     },
     "user_tz": -120
    },
    "id": "EtyJb4SRmAf6",
    "outputId": "b497c651-cfea-4929-b2cd-d7399fc06d10"
   },
   "outputs": [],
   "source": [
    "trainX_copy = pca_oc_svm.transform(trainX_copy)\n",
    "testX = pca_oc_svm.transform(testX)\n",
    "# outliers = pca_oc_svm.transform(outliers)"
   ]
  },
  {
   "cell_type": "code",
   "execution_count": 104,
   "metadata": {
    "colab": {
     "base_uri": "https://localhost:8080/"
    },
    "executionInfo": {
     "elapsed": 393,
     "status": "ok",
     "timestamp": 1662706096889,
     "user": {
      "displayName": "Olusegun Ajibola",
      "userId": "14016280963587867119"
     },
     "user_tz": -120
    },
    "id": "PAxeTFj-lMzR",
    "outputId": "8c550058-f7ae-4dda-cb45-a7c3697c6422"
   },
   "outputs": [],
   "source": [
    "# trainy_copy.shape, trainX_copy.shape"
   ]
  },
  {
   "cell_type": "code",
   "execution_count": 105,
   "metadata": {
    "id": "73iYZqdrlMzS"
   },
   "outputs": [],
   "source": [
    "# define outlier detection model\n",
    "model_one_class_svm_pca = OneClassSVM(gamma='auto', nu=0.55)"
   ]
  },
  {
   "cell_type": "code",
   "execution_count": 106,
   "metadata": {
    "colab": {
     "base_uri": "https://localhost:8080/"
    },
    "executionInfo": {
     "elapsed": 271,
     "status": "ok",
     "timestamp": 1662706102023,
     "user": {
      "displayName": "Olusegun Ajibola",
      "userId": "14016280963587867119"
     },
     "user_tz": -120
    },
    "id": "aQrGnofilMzS",
    "outputId": "314370a4-e056-470c-fc3f-d07c3daabbee"
   },
   "outputs": [
    {
     "data": {
      "text/html": [
       "<style>#sk-container-id-4 {color: black;background-color: white;}#sk-container-id-4 pre{padding: 0;}#sk-container-id-4 div.sk-toggleable {background-color: white;}#sk-container-id-4 label.sk-toggleable__label {cursor: pointer;display: block;width: 100%;margin-bottom: 0;padding: 0.3em;box-sizing: border-box;text-align: center;}#sk-container-id-4 label.sk-toggleable__label-arrow:before {content: \"▸\";float: left;margin-right: 0.25em;color: #696969;}#sk-container-id-4 label.sk-toggleable__label-arrow:hover:before {color: black;}#sk-container-id-4 div.sk-estimator:hover label.sk-toggleable__label-arrow:before {color: black;}#sk-container-id-4 div.sk-toggleable__content {max-height: 0;max-width: 0;overflow: hidden;text-align: left;background-color: #f0f8ff;}#sk-container-id-4 div.sk-toggleable__content pre {margin: 0.2em;color: black;border-radius: 0.25em;background-color: #f0f8ff;}#sk-container-id-4 input.sk-toggleable__control:checked~div.sk-toggleable__content {max-height: 200px;max-width: 100%;overflow: auto;}#sk-container-id-4 input.sk-toggleable__control:checked~label.sk-toggleable__label-arrow:before {content: \"▾\";}#sk-container-id-4 div.sk-estimator input.sk-toggleable__control:checked~label.sk-toggleable__label {background-color: #d4ebff;}#sk-container-id-4 div.sk-label input.sk-toggleable__control:checked~label.sk-toggleable__label {background-color: #d4ebff;}#sk-container-id-4 input.sk-hidden--visually {border: 0;clip: rect(1px 1px 1px 1px);clip: rect(1px, 1px, 1px, 1px);height: 1px;margin: -1px;overflow: hidden;padding: 0;position: absolute;width: 1px;}#sk-container-id-4 div.sk-estimator {font-family: monospace;background-color: #f0f8ff;border: 1px dotted black;border-radius: 0.25em;box-sizing: border-box;margin-bottom: 0.5em;}#sk-container-id-4 div.sk-estimator:hover {background-color: #d4ebff;}#sk-container-id-4 div.sk-parallel-item::after {content: \"\";width: 100%;border-bottom: 1px solid gray;flex-grow: 1;}#sk-container-id-4 div.sk-label:hover label.sk-toggleable__label {background-color: #d4ebff;}#sk-container-id-4 div.sk-serial::before {content: \"\";position: absolute;border-left: 1px solid gray;box-sizing: border-box;top: 0;bottom: 0;left: 50%;z-index: 0;}#sk-container-id-4 div.sk-serial {display: flex;flex-direction: column;align-items: center;background-color: white;padding-right: 0.2em;padding-left: 0.2em;position: relative;}#sk-container-id-4 div.sk-item {position: relative;z-index: 1;}#sk-container-id-4 div.sk-parallel {display: flex;align-items: stretch;justify-content: center;background-color: white;position: relative;}#sk-container-id-4 div.sk-item::before, #sk-container-id-4 div.sk-parallel-item::before {content: \"\";position: absolute;border-left: 1px solid gray;box-sizing: border-box;top: 0;bottom: 0;left: 50%;z-index: -1;}#sk-container-id-4 div.sk-parallel-item {display: flex;flex-direction: column;z-index: 1;position: relative;background-color: white;}#sk-container-id-4 div.sk-parallel-item:first-child::after {align-self: flex-end;width: 50%;}#sk-container-id-4 div.sk-parallel-item:last-child::after {align-self: flex-start;width: 50%;}#sk-container-id-4 div.sk-parallel-item:only-child::after {width: 0;}#sk-container-id-4 div.sk-dashed-wrapped {border: 1px dashed gray;margin: 0 0.4em 0.5em 0.4em;box-sizing: border-box;padding-bottom: 0.4em;background-color: white;}#sk-container-id-4 div.sk-label label {font-family: monospace;font-weight: bold;display: inline-block;line-height: 1.2em;}#sk-container-id-4 div.sk-label-container {text-align: center;}#sk-container-id-4 div.sk-container {/* jupyter's `normalize.less` sets `[hidden] { display: none; }` but bootstrap.min.css set `[hidden] { display: none !important; }` so we also need the `!important` here to be able to override the default hidden behavior on the sphinx rendered scikit-learn.org. See: https://github.com/scikit-learn/scikit-learn/issues/21755 */display: inline-block !important;position: relative;}#sk-container-id-4 div.sk-text-repr-fallback {display: none;}</style><div id=\"sk-container-id-4\" class=\"sk-top-container\"><div class=\"sk-text-repr-fallback\"><pre>OneClassSVM(gamma=&#x27;auto&#x27;, nu=0.55)</pre><b>In a Jupyter environment, please rerun this cell to show the HTML representation or trust the notebook. <br />On GitHub, the HTML representation is unable to render, please try loading this page with nbviewer.org.</b></div><div class=\"sk-container\" hidden><div class=\"sk-item\"><div class=\"sk-estimator sk-toggleable\"><input class=\"sk-toggleable__control sk-hidden--visually\" id=\"sk-estimator-id-4\" type=\"checkbox\" checked><label for=\"sk-estimator-id-4\" class=\"sk-toggleable__label sk-toggleable__label-arrow\">OneClassSVM</label><div class=\"sk-toggleable__content\"><pre>OneClassSVM(gamma=&#x27;auto&#x27;, nu=0.55)</pre></div></div></div></div></div>"
      ],
      "text/plain": [
       "OneClassSVM(gamma='auto', nu=0.55)"
      ]
     },
     "execution_count": 106,
     "metadata": {},
     "output_type": "execute_result"
    }
   ],
   "source": [
    "# fit on majority class\n",
    "\n",
    "model_one_class_svm_pca.fit(trainX_copy)"
   ]
  },
  {
   "cell_type": "code",
   "execution_count": 107,
   "metadata": {
    "id": "PDVXWyunlMzS"
   },
   "outputs": [],
   "source": [
    "# detect outliers in the test set\n",
    "yhat = model_one_class_svm_pca.predict(testX)"
   ]
  },
  {
   "cell_type": "code",
   "execution_count": 108,
   "metadata": {
    "id": "PbSMi-v7lMzS"
   },
   "outputs": [],
   "source": [
    "# mark inliers 1, outliers -1\n",
    "\n",
    "testy = testy.replace(1, -1)\n",
    "\n",
    "testy = testy.replace(0, 1)"
   ]
  },
  {
   "cell_type": "code",
   "execution_count": 109,
   "metadata": {},
   "outputs": [
    {
     "name": "stdout",
     "output_type": "stream",
     "text": [
      "              precision    recall  f1-score   support\n",
      "\n",
      "          -1       0.01      0.53      0.03       460\n",
      "           1       0.99      0.45      0.61     33779\n",
      "\n",
      "    accuracy                           0.45     34239\n",
      "   macro avg       0.50      0.49      0.32     34239\n",
      "weighted avg       0.97      0.45      0.61     34239\n",
      "\n"
     ]
    }
   ],
   "source": [
    "print(classification_report( testy, yhat ))"
   ]
  },
  {
   "cell_type": "code",
   "execution_count": 110,
   "metadata": {
    "colab": {
     "base_uri": "https://localhost:8080/"
    },
    "executionInfo": {
     "elapsed": 276,
     "status": "ok",
     "timestamp": 1662706109967,
     "user": {
      "displayName": "Olusegun Ajibola",
      "userId": "14016280963587867119"
     },
     "user_tz": -120
    },
    "id": "siy27vfclMzW",
    "outputId": "676c2bae-49cd-41f5-f9a6-39625272ccfe"
   },
   "outputs": [
    {
     "name": "stdout",
     "output_type": "stream",
     "text": [
      "F1 Score: 0.025\n"
     ]
    }
   ],
   "source": [
    "# calculate score\n",
    "score = f1_score(testy, yhat, pos_label= -1)\n",
    "print('F1 Score: %.3f' % score)"
   ]
  },
  {
   "cell_type": "code",
   "execution_count": 111,
   "metadata": {},
   "outputs": [
    {
     "data": {
      "text/plain": [
       "0.44744297438593417"
      ]
     },
     "execution_count": 111,
     "metadata": {},
     "output_type": "execute_result"
    }
   ],
   "source": [
    "accuracy_score(testy, yhat)"
   ]
  },
  {
   "cell_type": "code",
   "execution_count": 112,
   "metadata": {},
   "outputs": [
    {
     "data": {
      "text/plain": [
       "2.2102281024562633"
      ]
     },
     "execution_count": 112,
     "metadata": {},
     "output_type": "execute_result"
    }
   ],
   "source": [
    "mean_squared_error(testy, yhat)"
   ]
  },
  {
   "cell_type": "markdown",
   "metadata": {
    "id": "UmiKJ1PKjalu"
   },
   "source": [
    "The accuracy further decreased  by 0.002 when we use PCA in One Class SVM."
   ]
  },
  {
   "cell_type": "markdown",
   "metadata": {},
   "source": [
    "# C - Dim Red + Unscaled Data"
   ]
  },
  {
   "cell_type": "markdown",
   "metadata": {
    "id": "ciigzlJ0lMzO"
   },
   "source": [
    "## Model 3: Isolation Forest IV"
   ]
  },
  {
   "cell_type": "code",
   "execution_count": 123,
   "metadata": {
    "executionInfo": {
     "elapsed": 4,
     "status": "ok",
     "timestamp": 1662733034893,
     "user": {
      "displayName": "Olusegun Ajibola",
      "userId": "14016280963587867119"
     },
     "user_tz": -120
    },
    "id": "JglPp2sble3E"
   },
   "outputs": [],
   "source": [
    "# Make an instance of the Model\n",
    "pca_if = PCA(.95) # retain 95% variance in the data"
   ]
  },
  {
   "cell_type": "code",
   "execution_count": 124,
   "metadata": {
    "executionInfo": {
     "elapsed": 242,
     "status": "ok",
     "timestamp": 1662733038129,
     "user": {
      "displayName": "Olusegun Ajibola",
      "userId": "14016280963587867119"
     },
     "user_tz": -120
    },
    "id": "w78q11XFlMzP"
   },
   "outputs": [],
   "source": [
    "# inliers = df_week_scaled[df_week_scaled.injury == 'no']\n",
    "inliers = df_week[df_week.injury == 0] #  no injury data\n",
    "\n",
    "\n",
    "####---------may comment-------------###\n",
    "# inliers_y = inliers.injury #  no injury reponse data \n",
    "# inliers = inliers.drop(['injury'], axis = 1)"
   ]
  },
  {
   "cell_type": "code",
   "execution_count": 125,
   "metadata": {
    "executionInfo": {
     "elapsed": 280,
     "status": "ok",
     "timestamp": 1662733110171,
     "user": {
      "displayName": "Olusegun Ajibola",
      "userId": "14016280963587867119"
     },
     "user_tz": -120
    },
    "id": "w0F1XLDglMzP"
   },
   "outputs": [],
   "source": [
    "# outliers = df_week_scaled[df_week_scaled.injury == 'yes']\n",
    "outliers = df_week[df_week.injury == 1] #  injury data\n",
    "outliers_y = outliers.injury #  injury reponse data\n",
    "outliers = outliers.drop(['injury'], axis = 1)"
   ]
  },
  {
   "cell_type": "code",
   "execution_count": 126,
   "metadata": {
    "colab": {
     "base_uri": "https://localhost:8080/",
     "height": 193
    },
    "executionInfo": {
     "elapsed": 6,
     "status": "ok",
     "timestamp": 1662733111890,
     "user": {
      "displayName": "Olusegun Ajibola",
      "userId": "14016280963587867119"
     },
     "user_tz": -120
    },
    "id": "dXwGIGsulMzP",
    "outputId": "73ec0452-7e47-49e2-f4fc-2be3c57fe515",
    "scrolled": true
   },
   "outputs": [
    {
     "data": {
      "text/html": [
       "<div>\n",
       "<style scoped>\n",
       "    .dataframe tbody tr th:only-of-type {\n",
       "        vertical-align: middle;\n",
       "    }\n",
       "\n",
       "    .dataframe tbody tr th {\n",
       "        vertical-align: top;\n",
       "    }\n",
       "\n",
       "    .dataframe thead th {\n",
       "        text-align: right;\n",
       "    }\n",
       "</style>\n",
       "<table border=\"1\" class=\"dataframe\">\n",
       "  <thead>\n",
       "    <tr style=\"text-align: right;\">\n",
       "      <th></th>\n",
       "      <th>nr_sessions</th>\n",
       "      <th>nr_rest_days</th>\n",
       "      <th>total_kms</th>\n",
       "      <th>max_km_one_day</th>\n",
       "      <th>total_km_z3-z4-z5-t1-t2</th>\n",
       "      <th>nr_tough_sessions_(effort_in_z5,_t1_or_t2)</th>\n",
       "      <th>nr_days_with_interval_session</th>\n",
       "      <th>total_km_z3-4</th>\n",
       "      <th>max_km_z3-4_one_day</th>\n",
       "      <th>total_km_z5-t1-t2</th>\n",
       "      <th>...</th>\n",
       "      <th>max_training_success_2</th>\n",
       "      <th>avg_recovery_2</th>\n",
       "      <th>min_recovery_2</th>\n",
       "      <th>max_recovery_2</th>\n",
       "      <th>athlete_id</th>\n",
       "      <th>injury</th>\n",
       "      <th>rel_total_kms_week_0_1</th>\n",
       "      <th>rel_total_kms_week_0_2</th>\n",
       "      <th>rel_total_kms_week_1_2</th>\n",
       "      <th>date</th>\n",
       "    </tr>\n",
       "  </thead>\n",
       "  <tbody>\n",
       "    <tr>\n",
       "      <th>0</th>\n",
       "      <td>5</td>\n",
       "      <td>2</td>\n",
       "      <td>22.2</td>\n",
       "      <td>16.4</td>\n",
       "      <td>11.8</td>\n",
       "      <td>1</td>\n",
       "      <td>2</td>\n",
       "      <td>10.0</td>\n",
       "      <td>10.0</td>\n",
       "      <td>0.6</td>\n",
       "      <td>...</td>\n",
       "      <td>0.0</td>\n",
       "      <td>0.18</td>\n",
       "      <td>0.16</td>\n",
       "      <td>0.2</td>\n",
       "      <td>0</td>\n",
       "      <td>0</td>\n",
       "      <td>0.718447</td>\n",
       "      <td>1.378882</td>\n",
       "      <td>1.919255</td>\n",
       "      <td>0</td>\n",
       "    </tr>\n",
       "    <tr>\n",
       "      <th>1</th>\n",
       "      <td>5</td>\n",
       "      <td>2</td>\n",
       "      <td>21.6</td>\n",
       "      <td>16.4</td>\n",
       "      <td>11.7</td>\n",
       "      <td>1</td>\n",
       "      <td>2</td>\n",
       "      <td>10.0</td>\n",
       "      <td>10.0</td>\n",
       "      <td>0.5</td>\n",
       "      <td>...</td>\n",
       "      <td>0.0</td>\n",
       "      <td>0.18</td>\n",
       "      <td>0.16</td>\n",
       "      <td>0.2</td>\n",
       "      <td>0</td>\n",
       "      <td>0</td>\n",
       "      <td>0.683544</td>\n",
       "      <td>1.018868</td>\n",
       "      <td>1.490566</td>\n",
       "      <td>1</td>\n",
       "    </tr>\n",
       "  </tbody>\n",
       "</table>\n",
       "<p>2 rows × 72 columns</p>\n",
       "</div>"
      ],
      "text/plain": [
       "  nr_sessions nr_rest_days  total_kms  max_km_one_day  \\\n",
       "0           5            2       22.2            16.4   \n",
       "1           5            2       21.6            16.4   \n",
       "\n",
       "   total_km_z3-z4-z5-t1-t2 nr_tough_sessions_(effort_in_z5,_t1_or_t2)  \\\n",
       "0                     11.8                                          1   \n",
       "1                     11.7                                          1   \n",
       "\n",
       "  nr_days_with_interval_session  total_km_z3-4  max_km_z3-4_one_day  \\\n",
       "0                             2           10.0                 10.0   \n",
       "1                             2           10.0                 10.0   \n",
       "\n",
       "   total_km_z5-t1-t2  ...  max_training_success_2  avg_recovery_2  \\\n",
       "0                0.6  ...                     0.0            0.18   \n",
       "1                0.5  ...                     0.0            0.18   \n",
       "\n",
       "  min_recovery_2  max_recovery_2  athlete_id  injury  rel_total_kms_week_0_1  \\\n",
       "0           0.16             0.2           0       0                0.718447   \n",
       "1           0.16             0.2           0       0                0.683544   \n",
       "\n",
       "   rel_total_kms_week_0_2  rel_total_kms_week_1_2  date  \n",
       "0                1.378882                1.919255     0  \n",
       "1                1.018868                1.490566     1  \n",
       "\n",
       "[2 rows x 72 columns]"
      ]
     },
     "execution_count": 126,
     "metadata": {},
     "output_type": "execute_result"
    }
   ],
   "source": [
    "inliers.head(2)"
   ]
  },
  {
   "cell_type": "code",
   "execution_count": 127,
   "metadata": {
    "colab": {
     "base_uri": "https://localhost:8080/"
    },
    "executionInfo": {
     "elapsed": 379,
     "status": "ok",
     "timestamp": 1662733129658,
     "user": {
      "displayName": "Olusegun Ajibola",
      "userId": "14016280963587867119"
     },
     "user_tz": -120
    },
    "id": "C-4Nc5qAlMzP",
    "outputId": "931b5a77-eb30-4b3b-ef1c-040093a79082"
   },
   "outputs": [
    {
     "data": {
      "text/plain": [
       "((42223, 72), (575, 71))"
      ]
     },
     "execution_count": 127,
     "metadata": {},
     "output_type": "execute_result"
    }
   ],
   "source": [
    "inliers.shape, outliers.shape # this is the respective dimension of our no-injury and injury data in our dataset respectively."
   ]
  },
  {
   "cell_type": "code",
   "execution_count": 128,
   "metadata": {
    "executionInfo": {
     "elapsed": 339,
     "status": "ok",
     "timestamp": 1662733148108,
     "user": {
      "displayName": "Olusegun Ajibola",
      "userId": "14016280963587867119"
     },
     "user_tz": -120
    },
    "id": "ea-dzE_XlMzQ"
   },
   "outputs": [],
   "source": [
    "inliers_train, inliers_test = train_test_split(inliers, test_size=0.20, random_state=42)"
   ]
  },
  {
   "cell_type": "code",
   "execution_count": 129,
   "metadata": {
    "executionInfo": {
     "elapsed": 300,
     "status": "ok",
     "timestamp": 1662733151029,
     "user": {
      "displayName": "Olusegun Ajibola",
      "userId": "14016280963587867119"
     },
     "user_tz": -120
    },
    "id": "O-nFHph8mq9m"
   },
   "outputs": [],
   "source": [
    "inliers_train_y = inliers_train.injury #  no injury reponse data\n",
    "inliers_train = inliers_train.drop(['injury'], axis = 1)\n",
    "\n",
    "inliers_test_y = inliers_test.injury\n",
    "inliers_test = inliers_test.drop(['injury'], axis = 1)"
   ]
  },
  {
   "cell_type": "code",
   "execution_count": 87,
   "metadata": {
    "colab": {
     "base_uri": "https://localhost:8080/",
     "height": 505
    },
    "executionInfo": {
     "elapsed": 480,
     "status": "ok",
     "timestamp": 1662733153768,
     "user": {
      "displayName": "Olusegun Ajibola",
      "userId": "14016280963587867119"
     },
     "user_tz": -120
    },
    "id": "qtionQ6TmTID",
    "outputId": "9d47ac11-f89b-444e-91c5-1094b4f9238e",
    "scrolled": true
   },
   "outputs": [],
   "source": [
    "# inliers_train"
   ]
  },
  {
   "cell_type": "markdown",
   "metadata": {
    "id": "RJ27gfNKl624"
   },
   "source": [
    "### Apply PCA on data splits"
   ]
  },
  {
   "cell_type": "markdown",
   "metadata": {
    "id": "kE_kzAEnmIHq"
   },
   "source": [
    "Fit PCA on training set on training set alone."
   ]
  },
  {
   "cell_type": "code",
   "execution_count": 130,
   "metadata": {
    "colab": {
     "base_uri": "https://localhost:8080/"
    },
    "executionInfo": {
     "elapsed": 276,
     "status": "ok",
     "timestamp": 1662733392134,
     "user": {
      "displayName": "Olusegun Ajibola",
      "userId": "14016280963587867119"
     },
     "user_tz": -120
    },
    "id": "dc7UMXelmJdl",
    "outputId": "803095be-1c8c-4c8a-f1a2-6d8addb97d15",
    "scrolled": true
   },
   "outputs": [
    {
     "data": {
      "text/html": [
       "<style>#sk-container-id-9 {color: black;background-color: white;}#sk-container-id-9 pre{padding: 0;}#sk-container-id-9 div.sk-toggleable {background-color: white;}#sk-container-id-9 label.sk-toggleable__label {cursor: pointer;display: block;width: 100%;margin-bottom: 0;padding: 0.3em;box-sizing: border-box;text-align: center;}#sk-container-id-9 label.sk-toggleable__label-arrow:before {content: \"▸\";float: left;margin-right: 0.25em;color: #696969;}#sk-container-id-9 label.sk-toggleable__label-arrow:hover:before {color: black;}#sk-container-id-9 div.sk-estimator:hover label.sk-toggleable__label-arrow:before {color: black;}#sk-container-id-9 div.sk-toggleable__content {max-height: 0;max-width: 0;overflow: hidden;text-align: left;background-color: #f0f8ff;}#sk-container-id-9 div.sk-toggleable__content pre {margin: 0.2em;color: black;border-radius: 0.25em;background-color: #f0f8ff;}#sk-container-id-9 input.sk-toggleable__control:checked~div.sk-toggleable__content {max-height: 200px;max-width: 100%;overflow: auto;}#sk-container-id-9 input.sk-toggleable__control:checked~label.sk-toggleable__label-arrow:before {content: \"▾\";}#sk-container-id-9 div.sk-estimator input.sk-toggleable__control:checked~label.sk-toggleable__label {background-color: #d4ebff;}#sk-container-id-9 div.sk-label input.sk-toggleable__control:checked~label.sk-toggleable__label {background-color: #d4ebff;}#sk-container-id-9 input.sk-hidden--visually {border: 0;clip: rect(1px 1px 1px 1px);clip: rect(1px, 1px, 1px, 1px);height: 1px;margin: -1px;overflow: hidden;padding: 0;position: absolute;width: 1px;}#sk-container-id-9 div.sk-estimator {font-family: monospace;background-color: #f0f8ff;border: 1px dotted black;border-radius: 0.25em;box-sizing: border-box;margin-bottom: 0.5em;}#sk-container-id-9 div.sk-estimator:hover {background-color: #d4ebff;}#sk-container-id-9 div.sk-parallel-item::after {content: \"\";width: 100%;border-bottom: 1px solid gray;flex-grow: 1;}#sk-container-id-9 div.sk-label:hover label.sk-toggleable__label {background-color: #d4ebff;}#sk-container-id-9 div.sk-serial::before {content: \"\";position: absolute;border-left: 1px solid gray;box-sizing: border-box;top: 0;bottom: 0;left: 50%;z-index: 0;}#sk-container-id-9 div.sk-serial {display: flex;flex-direction: column;align-items: center;background-color: white;padding-right: 0.2em;padding-left: 0.2em;position: relative;}#sk-container-id-9 div.sk-item {position: relative;z-index: 1;}#sk-container-id-9 div.sk-parallel {display: flex;align-items: stretch;justify-content: center;background-color: white;position: relative;}#sk-container-id-9 div.sk-item::before, #sk-container-id-9 div.sk-parallel-item::before {content: \"\";position: absolute;border-left: 1px solid gray;box-sizing: border-box;top: 0;bottom: 0;left: 50%;z-index: -1;}#sk-container-id-9 div.sk-parallel-item {display: flex;flex-direction: column;z-index: 1;position: relative;background-color: white;}#sk-container-id-9 div.sk-parallel-item:first-child::after {align-self: flex-end;width: 50%;}#sk-container-id-9 div.sk-parallel-item:last-child::after {align-self: flex-start;width: 50%;}#sk-container-id-9 div.sk-parallel-item:only-child::after {width: 0;}#sk-container-id-9 div.sk-dashed-wrapped {border: 1px dashed gray;margin: 0 0.4em 0.5em 0.4em;box-sizing: border-box;padding-bottom: 0.4em;background-color: white;}#sk-container-id-9 div.sk-label label {font-family: monospace;font-weight: bold;display: inline-block;line-height: 1.2em;}#sk-container-id-9 div.sk-label-container {text-align: center;}#sk-container-id-9 div.sk-container {/* jupyter's `normalize.less` sets `[hidden] { display: none; }` but bootstrap.min.css set `[hidden] { display: none !important; }` so we also need the `!important` here to be able to override the default hidden behavior on the sphinx rendered scikit-learn.org. See: https://github.com/scikit-learn/scikit-learn/issues/21755 */display: inline-block !important;position: relative;}#sk-container-id-9 div.sk-text-repr-fallback {display: none;}</style><div id=\"sk-container-id-9\" class=\"sk-top-container\"><div class=\"sk-text-repr-fallback\"><pre>PCA(n_components=0.95)</pre><b>In a Jupyter environment, please rerun this cell to show the HTML representation or trust the notebook. <br />On GitHub, the HTML representation is unable to render, please try loading this page with nbviewer.org.</b></div><div class=\"sk-container\" hidden><div class=\"sk-item\"><div class=\"sk-estimator sk-toggleable\"><input class=\"sk-toggleable__control sk-hidden--visually\" id=\"sk-estimator-id-9\" type=\"checkbox\" checked><label for=\"sk-estimator-id-9\" class=\"sk-toggleable__label sk-toggleable__label-arrow\">PCA</label><div class=\"sk-toggleable__content\"><pre>PCA(n_components=0.95)</pre></div></div></div></div></div>"
      ],
      "text/plain": [
       "PCA(n_components=0.95)"
      ]
     },
     "execution_count": 130,
     "metadata": {},
     "output_type": "execute_result"
    }
   ],
   "source": [
    "pca_if.fit(inliers_train)"
   ]
  },
  {
   "cell_type": "markdown",
   "metadata": {
    "id": "NkNC1c-ynzww"
   },
   "source": [
    "Apply the mapping (transform) to both the training set and the test set."
   ]
  },
  {
   "cell_type": "code",
   "execution_count": 131,
   "metadata": {
    "colab": {
     "base_uri": "https://localhost:8080/",
     "height": 399
    },
    "executionInfo": {
     "elapsed": 598,
     "status": "error",
     "timestamp": 1662733394315,
     "user": {
      "displayName": "Olusegun Ajibola",
      "userId": "14016280963587867119"
     },
     "user_tz": -120
    },
    "id": "EtyJb4SRmAf6",
    "outputId": "b497c651-cfea-4929-b2cd-d7399fc06d10"
   },
   "outputs": [],
   "source": [
    "inliers_train = pca_if.transform(inliers_train)\n",
    "inliers_test = pca_if.transform(inliers_test)\n",
    "outliers = pca_if.transform(outliers)"
   ]
  },
  {
   "cell_type": "markdown",
   "metadata": {
    "id": "dNGH17ctlMzQ",
    "tags": []
   },
   "source": [
    "### Train the isolation Forest Model"
   ]
  },
  {
   "cell_type": "code",
   "execution_count": 132,
   "metadata": {
    "executionInfo": {
     "elapsed": 375,
     "status": "ok",
     "timestamp": 1662733299118,
     "user": {
      "displayName": "Olusegun Ajibola",
      "userId": "14016280963587867119"
     },
     "user_tz": -120
    },
    "id": "1E32wNCKlMzQ",
    "tags": []
   },
   "outputs": [],
   "source": [
    "rng = np.random.RandomState(42)"
   ]
  },
  {
   "cell_type": "code",
   "execution_count": 133,
   "metadata": {
    "id": "lb8go5aolMzQ"
   },
   "outputs": [],
   "source": [
    "# inliers_train, inliers_test = train_test_split(inliers, test_size=0.20, random_state = 42)"
   ]
  },
  {
   "cell_type": "code",
   "execution_count": 134,
   "metadata": {
    "colab": {
     "base_uri": "https://localhost:8080/",
     "height": 419
    },
    "executionInfo": {
     "elapsed": 1856,
     "status": "error",
     "timestamp": 1662733331512,
     "user": {
      "displayName": "Olusegun Ajibola",
      "userId": "14016280963587867119"
     },
     "user_tz": -120
    },
    "id": "BJm-swXZlMzQ",
    "outputId": "26807a54-b4f6-4677-9e61-c0e4285277ab"
   },
   "outputs": [],
   "source": [
    "model_iso = IsolationForest( max_samples=150, random_state=rng, contamination='auto')\n",
    "# model_iso = IsolationForest( max_samples=150, random_state=rng, contamination=0.01)\n",
    "model_iso.fit(inliers_train)\n",
    "inlier_pred_test = model_iso.predict(inliers_test)\n",
    "outlier_pred = model_iso.predict(outliers)"
   ]
  },
  {
   "cell_type": "code",
   "execution_count": 135,
   "metadata": {
    "colab": {
     "base_uri": "https://localhost:8080/"
    },
    "executionInfo": {
     "elapsed": 5,
     "status": "ok",
     "timestamp": 1662705899652,
     "user": {
      "displayName": "Olusegun Ajibola",
      "userId": "14016280963587867119"
     },
     "user_tz": -120
    },
    "id": "yFPTyb5ClMzQ",
    "outputId": "769d198c-ddc3-4b89-a14d-a4b970410e1f"
   },
   "outputs": [
    {
     "name": "stdout",
     "output_type": "stream",
     "text": [
      "Accuracy in Detecting injury Cases: 0.9416222616933096\n",
      "Accuracy in Detecting no-injury Cases: 0.05217391304347826\n"
     ]
    }
   ],
   "source": [
    "print(\"Accuracy in Detecting injury Cases:\", list(inlier_pred_test).count(1)/inlier_pred_test.shape[0])\n",
    "print(\"Accuracy in Detecting no-injury Cases:\", list(outlier_pred).count(-1)/outlier_pred.shape[0])"
   ]
  },
  {
   "cell_type": "code",
   "execution_count": 136,
   "metadata": {
    "colab": {
     "base_uri": "https://localhost:8080/"
    },
    "executionInfo": {
     "elapsed": 355,
     "status": "ok",
     "timestamp": 1662705902252,
     "user": {
      "displayName": "Olusegun Ajibola",
      "userId": "14016280963587867119"
     },
     "user_tz": -120
    },
    "id": "IqQfrEx2lMzR",
    "outputId": "cac7a440-9195-428e-ceda-8dbe0ad088d5"
   },
   "outputs": [
    {
     "data": {
      "text/plain": [
       "array([-1,  1])"
      ]
     },
     "execution_count": 136,
     "metadata": {},
     "output_type": "execute_result"
    }
   ],
   "source": [
    "np.unique(outlier_pred)"
   ]
  },
  {
   "cell_type": "code",
   "execution_count": 137,
   "metadata": {
    "colab": {
     "base_uri": "https://localhost:8080/"
    },
    "executionInfo": {
     "elapsed": 296,
     "status": "ok",
     "timestamp": 1662705887500,
     "user": {
      "displayName": "Olusegun Ajibola",
      "userId": "14016280963587867119"
     },
     "user_tz": -120
    },
    "id": "cUGyDlH1lMzR",
    "outputId": "acdfd657-2ace-44af-c2b4-a2a2dfc03aff"
   },
   "outputs": [
    {
     "name": "stdout",
     "output_type": "stream",
     "text": [
      "F1 Score: 0.099\n"
     ]
    }
   ],
   "source": [
    "# calculate score\n",
    "\n",
    "# mark inliers 1, outliers -1\n",
    "\n",
    "outliers_y = outliers_y.replace(1, -1)\n",
    "\n",
    "outliers_y = outliers_y.replace(0, 1)\n",
    "\n",
    "score = f1_score(outliers_y, outlier_pred, pos_label=-1)\n",
    "print('F1 Score: %.3f' % score)"
   ]
  },
  {
   "cell_type": "code",
   "execution_count": 138,
   "metadata": {},
   "outputs": [
    {
     "data": {
      "text/plain": [
       "0.05217391304347826"
      ]
     },
     "execution_count": 138,
     "metadata": {},
     "output_type": "execute_result"
    }
   ],
   "source": [
    "accuracy_score(outliers_y, outlier_pred)"
   ]
  },
  {
   "cell_type": "code",
   "execution_count": 139,
   "metadata": {},
   "outputs": [
    {
     "data": {
      "text/plain": [
       "3.791304347826087"
      ]
     },
     "execution_count": 139,
     "metadata": {},
     "output_type": "execute_result"
    }
   ],
   "source": [
    "mean_squared_error(outliers_y, outlier_pred)"
   ]
  },
  {
   "cell_type": "markdown",
   "metadata": {},
   "source": [
    "The use of PCA reduced our prediction accuracy"
   ]
  },
  {
   "cell_type": "markdown",
   "metadata": {
    "id": "0-UxUllslMzR"
   },
   "source": [
    "## Model 3: One Class SVM IV"
   ]
  },
  {
   "cell_type": "code",
   "execution_count": 113,
   "metadata": {
    "id": "Ql06Rjd0lMzR"
   },
   "outputs": [],
   "source": [
    "X = df_week.drop(columns = ['injury'])\n",
    "y = df_week['injury']"
   ]
  },
  {
   "cell_type": "code",
   "execution_count": 114,
   "metadata": {
    "id": "hbLgHrunlMzR",
    "tags": []
   },
   "outputs": [],
   "source": [
    "# split into train/test sets\n",
    "trainX, testX, trainy, testy = train_test_split(X, y, test_size=0.80, random_state=2, stratify=y)"
   ]
  },
  {
   "cell_type": "code",
   "execution_count": 115,
   "metadata": {
    "id": "boDYbiTwlMzR",
    "tags": []
   },
   "outputs": [],
   "source": [
    "# we fit on majority class\n",
    "trainX_copy = trainX.copy()\n",
    "trainX_copy['injury'] = trainy\n",
    "trainX_copy = trainX_copy[trainX_copy.injury == 0]\n",
    "\n",
    "trainy_copy = trainy[trainy ==0]\n",
    "trainX_copy = trainX_copy.drop(columns = 'injury')\n",
    "# trainy_copy = "
   ]
  },
  {
   "cell_type": "markdown",
   "metadata": {
    "id": "RJ27gfNKl624"
   },
   "source": [
    "### Apply PCA on data splits"
   ]
  },
  {
   "cell_type": "code",
   "execution_count": 116,
   "metadata": {
    "executionInfo": {
     "elapsed": 4,
     "status": "ok",
     "timestamp": 1662733034893,
     "user": {
      "displayName": "Olusegun Ajibola",
      "userId": "14016280963587867119"
     },
     "user_tz": -120
    },
    "id": "JglPp2sble3E"
   },
   "outputs": [],
   "source": [
    "# Make an instance of the Model\n",
    "pca_oc_svm = PCA(.95) # retain 95% variance in the data"
   ]
  },
  {
   "cell_type": "markdown",
   "metadata": {
    "id": "kE_kzAEnmIHq"
   },
   "source": [
    "Fit PCA on training set on training set alone."
   ]
  },
  {
   "cell_type": "code",
   "execution_count": 117,
   "metadata": {
    "colab": {
     "base_uri": "https://localhost:8080/"
    },
    "executionInfo": {
     "elapsed": 276,
     "status": "ok",
     "timestamp": 1662733392134,
     "user": {
      "displayName": "Olusegun Ajibola",
      "userId": "14016280963587867119"
     },
     "user_tz": -120
    },
    "id": "dc7UMXelmJdl",
    "outputId": "803095be-1c8c-4c8a-f1a2-6d8addb97d15",
    "scrolled": true
   },
   "outputs": [
    {
     "data": {
      "text/html": [
       "<style>#sk-container-id-5 {color: black;background-color: white;}#sk-container-id-5 pre{padding: 0;}#sk-container-id-5 div.sk-toggleable {background-color: white;}#sk-container-id-5 label.sk-toggleable__label {cursor: pointer;display: block;width: 100%;margin-bottom: 0;padding: 0.3em;box-sizing: border-box;text-align: center;}#sk-container-id-5 label.sk-toggleable__label-arrow:before {content: \"▸\";float: left;margin-right: 0.25em;color: #696969;}#sk-container-id-5 label.sk-toggleable__label-arrow:hover:before {color: black;}#sk-container-id-5 div.sk-estimator:hover label.sk-toggleable__label-arrow:before {color: black;}#sk-container-id-5 div.sk-toggleable__content {max-height: 0;max-width: 0;overflow: hidden;text-align: left;background-color: #f0f8ff;}#sk-container-id-5 div.sk-toggleable__content pre {margin: 0.2em;color: black;border-radius: 0.25em;background-color: #f0f8ff;}#sk-container-id-5 input.sk-toggleable__control:checked~div.sk-toggleable__content {max-height: 200px;max-width: 100%;overflow: auto;}#sk-container-id-5 input.sk-toggleable__control:checked~label.sk-toggleable__label-arrow:before {content: \"▾\";}#sk-container-id-5 div.sk-estimator input.sk-toggleable__control:checked~label.sk-toggleable__label {background-color: #d4ebff;}#sk-container-id-5 div.sk-label input.sk-toggleable__control:checked~label.sk-toggleable__label {background-color: #d4ebff;}#sk-container-id-5 input.sk-hidden--visually {border: 0;clip: rect(1px 1px 1px 1px);clip: rect(1px, 1px, 1px, 1px);height: 1px;margin: -1px;overflow: hidden;padding: 0;position: absolute;width: 1px;}#sk-container-id-5 div.sk-estimator {font-family: monospace;background-color: #f0f8ff;border: 1px dotted black;border-radius: 0.25em;box-sizing: border-box;margin-bottom: 0.5em;}#sk-container-id-5 div.sk-estimator:hover {background-color: #d4ebff;}#sk-container-id-5 div.sk-parallel-item::after {content: \"\";width: 100%;border-bottom: 1px solid gray;flex-grow: 1;}#sk-container-id-5 div.sk-label:hover label.sk-toggleable__label {background-color: #d4ebff;}#sk-container-id-5 div.sk-serial::before {content: \"\";position: absolute;border-left: 1px solid gray;box-sizing: border-box;top: 0;bottom: 0;left: 50%;z-index: 0;}#sk-container-id-5 div.sk-serial {display: flex;flex-direction: column;align-items: center;background-color: white;padding-right: 0.2em;padding-left: 0.2em;position: relative;}#sk-container-id-5 div.sk-item {position: relative;z-index: 1;}#sk-container-id-5 div.sk-parallel {display: flex;align-items: stretch;justify-content: center;background-color: white;position: relative;}#sk-container-id-5 div.sk-item::before, #sk-container-id-5 div.sk-parallel-item::before {content: \"\";position: absolute;border-left: 1px solid gray;box-sizing: border-box;top: 0;bottom: 0;left: 50%;z-index: -1;}#sk-container-id-5 div.sk-parallel-item {display: flex;flex-direction: column;z-index: 1;position: relative;background-color: white;}#sk-container-id-5 div.sk-parallel-item:first-child::after {align-self: flex-end;width: 50%;}#sk-container-id-5 div.sk-parallel-item:last-child::after {align-self: flex-start;width: 50%;}#sk-container-id-5 div.sk-parallel-item:only-child::after {width: 0;}#sk-container-id-5 div.sk-dashed-wrapped {border: 1px dashed gray;margin: 0 0.4em 0.5em 0.4em;box-sizing: border-box;padding-bottom: 0.4em;background-color: white;}#sk-container-id-5 div.sk-label label {font-family: monospace;font-weight: bold;display: inline-block;line-height: 1.2em;}#sk-container-id-5 div.sk-label-container {text-align: center;}#sk-container-id-5 div.sk-container {/* jupyter's `normalize.less` sets `[hidden] { display: none; }` but bootstrap.min.css set `[hidden] { display: none !important; }` so we also need the `!important` here to be able to override the default hidden behavior on the sphinx rendered scikit-learn.org. See: https://github.com/scikit-learn/scikit-learn/issues/21755 */display: inline-block !important;position: relative;}#sk-container-id-5 div.sk-text-repr-fallback {display: none;}</style><div id=\"sk-container-id-5\" class=\"sk-top-container\"><div class=\"sk-text-repr-fallback\"><pre>PCA(n_components=0.95)</pre><b>In a Jupyter environment, please rerun this cell to show the HTML representation or trust the notebook. <br />On GitHub, the HTML representation is unable to render, please try loading this page with nbviewer.org.</b></div><div class=\"sk-container\" hidden><div class=\"sk-item\"><div class=\"sk-estimator sk-toggleable\"><input class=\"sk-toggleable__control sk-hidden--visually\" id=\"sk-estimator-id-5\" type=\"checkbox\" checked><label for=\"sk-estimator-id-5\" class=\"sk-toggleable__label sk-toggleable__label-arrow\">PCA</label><div class=\"sk-toggleable__content\"><pre>PCA(n_components=0.95)</pre></div></div></div></div></div>"
      ],
      "text/plain": [
       "PCA(n_components=0.95)"
      ]
     },
     "execution_count": 117,
     "metadata": {},
     "output_type": "execute_result"
    }
   ],
   "source": [
    "pca_oc_svm.fit(trainX_copy)"
   ]
  },
  {
   "cell_type": "markdown",
   "metadata": {
    "id": "NkNC1c-ynzww"
   },
   "source": [
    "Apply the mapping (transform) to both the training set and the test set."
   ]
  },
  {
   "cell_type": "code",
   "execution_count": 118,
   "metadata": {
    "colab": {
     "base_uri": "https://localhost:8080/",
     "height": 399
    },
    "executionInfo": {
     "elapsed": 598,
     "status": "error",
     "timestamp": 1662733394315,
     "user": {
      "displayName": "Olusegun Ajibola",
      "userId": "14016280963587867119"
     },
     "user_tz": -120
    },
    "id": "EtyJb4SRmAf6",
    "outputId": "b497c651-cfea-4929-b2cd-d7399fc06d10"
   },
   "outputs": [],
   "source": [
    "trainX_copy = pca_oc_svm.transform(trainX_copy)\n",
    "testX = pca_oc_svm.transform(testX)\n",
    "# outliers = pca_oc_svm.transform(outliers)"
   ]
  },
  {
   "cell_type": "code",
   "execution_count": 119,
   "metadata": {
    "colab": {
     "base_uri": "https://localhost:8080/"
    },
    "executionInfo": {
     "elapsed": 393,
     "status": "ok",
     "timestamp": 1662706096889,
     "user": {
      "displayName": "Olusegun Ajibola",
      "userId": "14016280963587867119"
     },
     "user_tz": -120
    },
    "id": "PAxeTFj-lMzR",
    "outputId": "8c550058-f7ae-4dda-cb45-a7c3697c6422"
   },
   "outputs": [],
   "source": [
    "# trainy_copy.shape, trainX_copy.shape"
   ]
  },
  {
   "cell_type": "code",
   "execution_count": 120,
   "metadata": {
    "id": "73iYZqdrlMzS"
   },
   "outputs": [],
   "source": [
    "# define outlier detection model\n",
    "model_one_class_svm_pca = OneClassSVM(gamma='auto', nu=0.55)"
   ]
  },
  {
   "cell_type": "code",
   "execution_count": 121,
   "metadata": {
    "colab": {
     "base_uri": "https://localhost:8080/"
    },
    "executionInfo": {
     "elapsed": 271,
     "status": "ok",
     "timestamp": 1662706102023,
     "user": {
      "displayName": "Olusegun Ajibola",
      "userId": "14016280963587867119"
     },
     "user_tz": -120
    },
    "id": "aQrGnofilMzS",
    "outputId": "314370a4-e056-470c-fc3f-d07c3daabbee"
   },
   "outputs": [
    {
     "data": {
      "text/html": [
       "<style>#sk-container-id-6 {color: black;background-color: white;}#sk-container-id-6 pre{padding: 0;}#sk-container-id-6 div.sk-toggleable {background-color: white;}#sk-container-id-6 label.sk-toggleable__label {cursor: pointer;display: block;width: 100%;margin-bottom: 0;padding: 0.3em;box-sizing: border-box;text-align: center;}#sk-container-id-6 label.sk-toggleable__label-arrow:before {content: \"▸\";float: left;margin-right: 0.25em;color: #696969;}#sk-container-id-6 label.sk-toggleable__label-arrow:hover:before {color: black;}#sk-container-id-6 div.sk-estimator:hover label.sk-toggleable__label-arrow:before {color: black;}#sk-container-id-6 div.sk-toggleable__content {max-height: 0;max-width: 0;overflow: hidden;text-align: left;background-color: #f0f8ff;}#sk-container-id-6 div.sk-toggleable__content pre {margin: 0.2em;color: black;border-radius: 0.25em;background-color: #f0f8ff;}#sk-container-id-6 input.sk-toggleable__control:checked~div.sk-toggleable__content {max-height: 200px;max-width: 100%;overflow: auto;}#sk-container-id-6 input.sk-toggleable__control:checked~label.sk-toggleable__label-arrow:before {content: \"▾\";}#sk-container-id-6 div.sk-estimator input.sk-toggleable__control:checked~label.sk-toggleable__label {background-color: #d4ebff;}#sk-container-id-6 div.sk-label input.sk-toggleable__control:checked~label.sk-toggleable__label {background-color: #d4ebff;}#sk-container-id-6 input.sk-hidden--visually {border: 0;clip: rect(1px 1px 1px 1px);clip: rect(1px, 1px, 1px, 1px);height: 1px;margin: -1px;overflow: hidden;padding: 0;position: absolute;width: 1px;}#sk-container-id-6 div.sk-estimator {font-family: monospace;background-color: #f0f8ff;border: 1px dotted black;border-radius: 0.25em;box-sizing: border-box;margin-bottom: 0.5em;}#sk-container-id-6 div.sk-estimator:hover {background-color: #d4ebff;}#sk-container-id-6 div.sk-parallel-item::after {content: \"\";width: 100%;border-bottom: 1px solid gray;flex-grow: 1;}#sk-container-id-6 div.sk-label:hover label.sk-toggleable__label {background-color: #d4ebff;}#sk-container-id-6 div.sk-serial::before {content: \"\";position: absolute;border-left: 1px solid gray;box-sizing: border-box;top: 0;bottom: 0;left: 50%;z-index: 0;}#sk-container-id-6 div.sk-serial {display: flex;flex-direction: column;align-items: center;background-color: white;padding-right: 0.2em;padding-left: 0.2em;position: relative;}#sk-container-id-6 div.sk-item {position: relative;z-index: 1;}#sk-container-id-6 div.sk-parallel {display: flex;align-items: stretch;justify-content: center;background-color: white;position: relative;}#sk-container-id-6 div.sk-item::before, #sk-container-id-6 div.sk-parallel-item::before {content: \"\";position: absolute;border-left: 1px solid gray;box-sizing: border-box;top: 0;bottom: 0;left: 50%;z-index: -1;}#sk-container-id-6 div.sk-parallel-item {display: flex;flex-direction: column;z-index: 1;position: relative;background-color: white;}#sk-container-id-6 div.sk-parallel-item:first-child::after {align-self: flex-end;width: 50%;}#sk-container-id-6 div.sk-parallel-item:last-child::after {align-self: flex-start;width: 50%;}#sk-container-id-6 div.sk-parallel-item:only-child::after {width: 0;}#sk-container-id-6 div.sk-dashed-wrapped {border: 1px dashed gray;margin: 0 0.4em 0.5em 0.4em;box-sizing: border-box;padding-bottom: 0.4em;background-color: white;}#sk-container-id-6 div.sk-label label {font-family: monospace;font-weight: bold;display: inline-block;line-height: 1.2em;}#sk-container-id-6 div.sk-label-container {text-align: center;}#sk-container-id-6 div.sk-container {/* jupyter's `normalize.less` sets `[hidden] { display: none; }` but bootstrap.min.css set `[hidden] { display: none !important; }` so we also need the `!important` here to be able to override the default hidden behavior on the sphinx rendered scikit-learn.org. See: https://github.com/scikit-learn/scikit-learn/issues/21755 */display: inline-block !important;position: relative;}#sk-container-id-6 div.sk-text-repr-fallback {display: none;}</style><div id=\"sk-container-id-6\" class=\"sk-top-container\"><div class=\"sk-text-repr-fallback\"><pre>OneClassSVM(gamma=&#x27;auto&#x27;, nu=0.55)</pre><b>In a Jupyter environment, please rerun this cell to show the HTML representation or trust the notebook. <br />On GitHub, the HTML representation is unable to render, please try loading this page with nbviewer.org.</b></div><div class=\"sk-container\" hidden><div class=\"sk-item\"><div class=\"sk-estimator sk-toggleable\"><input class=\"sk-toggleable__control sk-hidden--visually\" id=\"sk-estimator-id-6\" type=\"checkbox\" checked><label for=\"sk-estimator-id-6\" class=\"sk-toggleable__label sk-toggleable__label-arrow\">OneClassSVM</label><div class=\"sk-toggleable__content\"><pre>OneClassSVM(gamma=&#x27;auto&#x27;, nu=0.55)</pre></div></div></div></div></div>"
      ],
      "text/plain": [
       "OneClassSVM(gamma='auto', nu=0.55)"
      ]
     },
     "execution_count": 121,
     "metadata": {},
     "output_type": "execute_result"
    }
   ],
   "source": [
    "# fit on majority class\n",
    "\n",
    "model_one_class_svm_pca.fit(trainX_copy)"
   ]
  },
  {
   "cell_type": "code",
   "execution_count": 122,
   "metadata": {
    "id": "PDVXWyunlMzS"
   },
   "outputs": [],
   "source": [
    "# detect outliers in the test set\n",
    "yhat = model_one_class_svm_pca.predict(testX)"
   ]
  },
  {
   "cell_type": "code",
   "execution_count": 123,
   "metadata": {
    "id": "PbSMi-v7lMzS"
   },
   "outputs": [],
   "source": [
    "# mark inliers 1, outliers -1\n",
    "\n",
    "testy = testy.replace(1, -1)\n",
    "\n",
    "testy = testy.replace(0, 1)"
   ]
  },
  {
   "cell_type": "code",
   "execution_count": 124,
   "metadata": {},
   "outputs": [
    {
     "name": "stdout",
     "output_type": "stream",
     "text": [
      "              precision    recall  f1-score   support\n",
      "\n",
      "          -1       0.01      0.53      0.03       460\n",
      "           1       0.99      0.45      0.62     33779\n",
      "\n",
      "    accuracy                           0.45     34239\n",
      "   macro avg       0.50      0.49      0.32     34239\n",
      "weighted avg       0.97      0.45      0.61     34239\n",
      "\n"
     ]
    }
   ],
   "source": [
    "print(classification_report( testy, yhat ))"
   ]
  },
  {
   "cell_type": "code",
   "execution_count": 125,
   "metadata": {
    "colab": {
     "base_uri": "https://localhost:8080/"
    },
    "executionInfo": {
     "elapsed": 276,
     "status": "ok",
     "timestamp": 1662706109967,
     "user": {
      "displayName": "Olusegun Ajibola",
      "userId": "14016280963587867119"
     },
     "user_tz": -120
    },
    "id": "siy27vfclMzW",
    "outputId": "676c2bae-49cd-41f5-f9a6-39625272ccfe"
   },
   "outputs": [
    {
     "name": "stdout",
     "output_type": "stream",
     "text": [
      "F1 Score: 0.025\n"
     ]
    }
   ],
   "source": [
    "# calculate score\n",
    "score = f1_score(testy, yhat, pos_label= -1)\n",
    "print('F1 Score: %.3f' % score)"
   ]
  },
  {
   "cell_type": "code",
   "execution_count": 126,
   "metadata": {},
   "outputs": [
    {
     "data": {
      "text/plain": [
       "0.44869885218610356"
      ]
     },
     "execution_count": 126,
     "metadata": {},
     "output_type": "execute_result"
    }
   ],
   "source": [
    "accuracy_score(testy, yhat)"
   ]
  },
  {
   "cell_type": "code",
   "execution_count": 127,
   "metadata": {},
   "outputs": [
    {
     "data": {
      "text/plain": [
       "2.2052045912555855"
      ]
     },
     "execution_count": 127,
     "metadata": {},
     "output_type": "execute_result"
    }
   ],
   "source": [
    "mean_squared_error(testy, yhat)"
   ]
  },
  {
   "cell_type": "markdown",
   "metadata": {
    "id": "UmiKJ1PKjalu"
   },
   "source": [
    "The accuracy further decreased  by 0.002 when we use PCA in One Class SVM."
   ]
  },
  {
   "cell_type": "markdown",
   "metadata": {},
   "source": [
    "## Auto Encoder II"
   ]
  },
  {
   "cell_type": "markdown",
   "metadata": {
    "id": "wRqCXGxmZhAr"
   },
   "source": [
    "## Starting and initializing H2O server."
   ]
  },
  {
   "cell_type": "code",
   "execution_count": 11,
   "metadata": {
    "colab": {
     "base_uri": "https://localhost:8080/",
     "height": 491
    },
    "executionInfo": {
     "elapsed": 12449,
     "status": "ok",
     "timestamp": 1661545719192,
     "user": {
      "displayName": "Olusegun Ajibola",
      "userId": "14016280963587867119"
     },
     "user_tz": -120
    },
    "id": "wQFBKEG0ZjQ3",
    "outputId": "b9ee3732-e2bb-473d-9bfe-df0bac427685"
   },
   "outputs": [
    {
     "name": "stdout",
     "output_type": "stream",
     "text": [
      "Checking whether there is an H2O instance running at http://localhost:54321 . connected.\n"
     ]
    },
    {
     "data": {
      "text/html": [
       "<div style=\"overflow:auto\"><table style=\"width:50%\"><tr><td>H2O_cluster_uptime:</td>\n",
       "<td>49 mins 47 secs</td></tr>\n",
       "<tr><td>H2O_cluster_timezone:</td>\n",
       "<td>Europe/Berlin</td></tr>\n",
       "<tr><td>H2O_data_parsing_timezone:</td>\n",
       "<td>UTC</td></tr>\n",
       "<tr><td>H2O_cluster_version:</td>\n",
       "<td>3.36.1.4</td></tr>\n",
       "<tr><td>H2O_cluster_version_age:</td>\n",
       "<td>1 month and 11 days </td></tr>\n",
       "<tr><td>H2O_cluster_name:</td>\n",
       "<td>H2O_from_python_USER_61dy3j</td></tr>\n",
       "<tr><td>H2O_cluster_total_nodes:</td>\n",
       "<td>1</td></tr>\n",
       "<tr><td>H2O_cluster_free_memory:</td>\n",
       "<td>1.567 Gb</td></tr>\n",
       "<tr><td>H2O_cluster_total_cores:</td>\n",
       "<td>4</td></tr>\n",
       "<tr><td>H2O_cluster_allowed_cores:</td>\n",
       "<td>4</td></tr>\n",
       "<tr><td>H2O_cluster_status:</td>\n",
       "<td>locked, healthy</td></tr>\n",
       "<tr><td>H2O_connection_url:</td>\n",
       "<td>http://localhost:54321</td></tr>\n",
       "<tr><td>H2O_connection_proxy:</td>\n",
       "<td>{\"http\": null, \"https\": null}</td></tr>\n",
       "<tr><td>H2O_internal_security:</td>\n",
       "<td>False</td></tr>\n",
       "<tr><td>Python_version:</td>\n",
       "<td>3.9.13 final</td></tr></table></div>"
      ],
      "text/plain": [
       "--------------------------  -----------------------------\n",
       "H2O_cluster_uptime:         49 mins 47 secs\n",
       "H2O_cluster_timezone:       Europe/Berlin\n",
       "H2O_data_parsing_timezone:  UTC\n",
       "H2O_cluster_version:        3.36.1.4\n",
       "H2O_cluster_version_age:    1 month and 11 days\n",
       "H2O_cluster_name:           H2O_from_python_USER_61dy3j\n",
       "H2O_cluster_total_nodes:    1\n",
       "H2O_cluster_free_memory:    1.567 Gb\n",
       "H2O_cluster_total_cores:    4\n",
       "H2O_cluster_allowed_cores:  4\n",
       "H2O_cluster_status:         locked, healthy\n",
       "H2O_connection_url:         http://localhost:54321\n",
       "H2O_connection_proxy:       {\"http\": null, \"https\": null}\n",
       "H2O_internal_security:      False\n",
       "Python_version:             3.9.13 final\n",
       "--------------------------  -----------------------------"
      ]
     },
     "metadata": {},
     "output_type": "display_data"
    }
   ],
   "source": [
    "h2o.init() # initializing h2o server\n",
    "# h2o.remove_all()"
   ]
  },
  {
   "cell_type": "code",
   "execution_count": 12,
   "metadata": {
    "colab": {
     "base_uri": "https://localhost:8080/"
    },
    "executionInfo": {
     "elapsed": 6950,
     "status": "ok",
     "timestamp": 1661545778080,
     "user": {
      "displayName": "Olusegun Ajibola",
      "userId": "14016280963587867119"
     },
     "user_tz": -120
    },
    "id": "KOf-6XZracj9",
    "outputId": "07f7059d-cbf1-419c-fff1-f52daa0c0f12"
   },
   "outputs": [
    {
     "name": "stdout",
     "output_type": "stream",
     "text": [
      "Parse progress: |████████████████████████████████████████████████████████████████| (done) 100%\n"
     ]
    }
   ],
   "source": [
    "hdf_week = h2o.import_file(r\"data/week_approach_maskedID_timeseries_v3.0.csv\") #import the file as a h2o file\n",
    "hdf_week[\"date\"] = hdf_week[\"date\"].asfactor() # coonvert date to factor i.e categorical\n",
    "hdf_week[\"injury\"] = hdf_week[\"injury\"].asfactor()\n",
    "features_week  = hdf_week.drop(['athlete_id', 'C1'], axis=1) # we do not need the athlete id again alonside the 'C1' column which is an automatic addition by h2o import\n",
    "train_week , test_week = features_week.split_frame([0.8]) # 80% of data for training and 20% for testing "
   ]
  },
  {
   "cell_type": "markdown",
   "metadata": {
    "id": "e3qmuar_rKP-"
   },
   "source": [
    "We used a 80-20 split between the training and testing because of the imbalance in the dataset. This spit enables us to get enough of the undersampled class."
   ]
  },
  {
   "cell_type": "code",
   "execution_count": 13,
   "metadata": {
    "colab": {
     "base_uri": "https://localhost:8080/",
     "height": 137
    },
    "executionInfo": {
     "elapsed": 1539,
     "status": "ok",
     "timestamp": 1661545805988,
     "user": {
      "displayName": "Olusegun Ajibola",
      "userId": "14016280963587867119"
     },
     "user_tz": -120
    },
    "id": "KbNDIY3GGQ3x",
    "outputId": "1d9f0ed5-ad70-43c9-997e-6fdee67a3839"
   },
   "outputs": [
    {
     "data": {
      "text/html": [
       "<table>\n",
       "<thead>\n",
       "<tr><th style=\"text-align: right;\">  nr_sessions</th><th style=\"text-align: right;\">  nr_rest_days</th><th style=\"text-align: right;\">  total_kms</th><th style=\"text-align: right;\">  max_km_one_day</th><th style=\"text-align: right;\">  total_km_z3-z4-z5-t1-t2</th><th style=\"text-align: right;\">  nr_tough_sessions_(effort_in_z5,_t1_or_t2)</th><th style=\"text-align: right;\">  nr_days_with_interval_session</th><th style=\"text-align: right;\">  total_km_z3-4</th><th style=\"text-align: right;\">  max_km_z3-4_one_day</th><th style=\"text-align: right;\">  total_km_z5-t1-t2</th><th style=\"text-align: right;\">  max_km_z5-t1-t2_one_day</th><th style=\"text-align: right;\">  total_hours_alternative_training</th><th style=\"text-align: right;\">  nr_strength_trainings</th><th style=\"text-align: right;\">  avg_exertion</th><th style=\"text-align: right;\">  min_exertion</th><th style=\"text-align: right;\">  max_exertion</th><th style=\"text-align: right;\">  avg_training_success</th><th style=\"text-align: right;\">  min_training_success</th><th style=\"text-align: right;\">  max_training_success</th><th style=\"text-align: right;\">  avg_recovery</th><th style=\"text-align: right;\">  min_recovery</th><th style=\"text-align: right;\">  max_recovery</th><th style=\"text-align: right;\">  nr_sessions_1</th><th style=\"text-align: right;\">  nr_rest_days_1</th><th style=\"text-align: right;\">  total_kms_1</th><th style=\"text-align: right;\">  max_km_one_day_1</th><th style=\"text-align: right;\">  total_km_z3-z4-z5-t1-t2_1</th><th style=\"text-align: right;\">  nr_tough_sessions_(effort_in_z5,_t1_or_t2)_1</th><th style=\"text-align: right;\">  nr_days_with_interval_session_1</th><th style=\"text-align: right;\">  total_km_z3-4_1</th><th style=\"text-align: right;\">  max_km_z3-4_one_day_1</th><th style=\"text-align: right;\">  total_km_z5-t1-t2_1</th><th style=\"text-align: right;\">  max_km_z5-t1-t2_one_day_1</th><th style=\"text-align: right;\">  total_hours_alternative_training_1</th><th style=\"text-align: right;\">  nr_strength_trainings_1</th><th style=\"text-align: right;\">  avg_exertion_1</th><th style=\"text-align: right;\">  min_exertion_1</th><th style=\"text-align: right;\">  max_exertion_1</th><th style=\"text-align: right;\">  avg_training_success_1</th><th style=\"text-align: right;\">  min_training_success_1</th><th style=\"text-align: right;\">  max_training_success_1</th><th style=\"text-align: right;\">  avg_recovery_1</th><th style=\"text-align: right;\">  min_recovery_1</th><th style=\"text-align: right;\">  max_recovery_1</th><th style=\"text-align: right;\">  nr_sessions_2</th><th style=\"text-align: right;\">  nr_rest_days_2</th><th style=\"text-align: right;\">  total_kms_2</th><th style=\"text-align: right;\">  max_km_one_day_2</th><th style=\"text-align: right;\">  total_km_z3-z4-z5-t1-t2_2</th><th style=\"text-align: right;\">  nr_tough_sessions_(effort_in_z5,_t1_or_t2)_2</th><th style=\"text-align: right;\">  nr_days_with_interval_session_2</th><th style=\"text-align: right;\">  total_km_z3-4_2</th><th style=\"text-align: right;\">  max_km_z3-4_one_day_2</th><th style=\"text-align: right;\">  total_km_z5-t1-t2_2</th><th style=\"text-align: right;\">  max_km_z5-t1-t2_one_day_2</th><th style=\"text-align: right;\">  total_hours_alternative_training_2</th><th style=\"text-align: right;\">  nr_strength_trainings_2</th><th style=\"text-align: right;\">  avg_exertion_2</th><th style=\"text-align: right;\">  min_exertion_2</th><th style=\"text-align: right;\">  max_exertion_2</th><th style=\"text-align: right;\">  avg_training_success_2</th><th style=\"text-align: right;\">  min_training_success_2</th><th style=\"text-align: right;\">  max_training_success_2</th><th style=\"text-align: right;\">  avg_recovery_2</th><th style=\"text-align: right;\">  min_recovery_2</th><th style=\"text-align: right;\">  max_recovery_2</th><th style=\"text-align: right;\">  injury</th><th style=\"text-align: right;\">  rel_total_kms_week_0_1</th><th style=\"text-align: right;\">  rel_total_kms_week_0_2</th><th style=\"text-align: right;\">  rel_total_kms_week_1_2</th><th style=\"text-align: right;\">  date</th></tr>\n",
       "</thead>\n",
       "<tbody>\n",
       "<tr><td style=\"text-align: right;\">            5</td><td style=\"text-align: right;\">             2</td><td style=\"text-align: right;\">       22.2</td><td style=\"text-align: right;\">            16.4</td><td style=\"text-align: right;\">                     11.8</td><td style=\"text-align: right;\">                                           1</td><td style=\"text-align: right;\">                              2</td><td style=\"text-align: right;\">             10</td><td style=\"text-align: right;\">                   10</td><td style=\"text-align: right;\">                0.6</td><td style=\"text-align: right;\">                      0.6</td><td style=\"text-align: right;\">                              2.08</td><td style=\"text-align: right;\">                      2</td><td style=\"text-align: right;\">           0.1</td><td style=\"text-align: right;\">          0.08</td><td style=\"text-align: right;\">          0.11</td><td style=\"text-align: right;\">                     0</td><td style=\"text-align: right;\">                     0</td><td style=\"text-align: right;\">                     0</td><td style=\"text-align: right;\">          0.17</td><td style=\"text-align: right;\">          0.15</td><td style=\"text-align: right;\">          0.18</td><td style=\"text-align: right;\">              6</td><td style=\"text-align: right;\">               1</td><td style=\"text-align: right;\">         30.9</td><td style=\"text-align: right;\">              13.8</td><td style=\"text-align: right;\">                       13.5</td><td style=\"text-align: right;\">                                             0</td><td style=\"text-align: right;\">                                2</td><td style=\"text-align: right;\">             12.4</td><td style=\"text-align: right;\">                    6.4</td><td style=\"text-align: right;\">                  0  </td><td style=\"text-align: right;\">                        0  </td><td style=\"text-align: right;\">                                2.08</td><td style=\"text-align: right;\">                        2</td><td style=\"text-align: right;\">             0.1</td><td style=\"text-align: right;\">            0.09</td><td style=\"text-align: right;\">            0.12</td><td style=\"text-align: right;\">                       0</td><td style=\"text-align: right;\">                       0</td><td style=\"text-align: right;\">                       0</td><td style=\"text-align: right;\">            0.17</td><td style=\"text-align: right;\">            0.16</td><td style=\"text-align: right;\">            0.18</td><td style=\"text-align: right;\">              3</td><td style=\"text-align: right;\">               4</td><td style=\"text-align: right;\">         16.1</td><td style=\"text-align: right;\">               9.9</td><td style=\"text-align: right;\">                        3.9</td><td style=\"text-align: right;\">                                             0</td><td style=\"text-align: right;\">                                1</td><td style=\"text-align: right;\">              3.2</td><td style=\"text-align: right;\">                    3.2</td><td style=\"text-align: right;\">                    0</td><td style=\"text-align: right;\">                          0</td><td style=\"text-align: right;\">                                   0</td><td style=\"text-align: right;\">                        1</td><td style=\"text-align: right;\">            0.09</td><td style=\"text-align: right;\">            0.08</td><td style=\"text-align: right;\">             0.1</td><td style=\"text-align: right;\">                       0</td><td style=\"text-align: right;\">                       0</td><td style=\"text-align: right;\">                       0</td><td style=\"text-align: right;\">            0.18</td><td style=\"text-align: right;\">            0.16</td><td style=\"text-align: right;\">            0.2 </td><td style=\"text-align: right;\">       0</td><td style=\"text-align: right;\">                0.718447</td><td style=\"text-align: right;\">                 1.37888</td><td style=\"text-align: right;\">                 1.91925</td><td style=\"text-align: right;\">     0</td></tr>\n",
       "<tr><td style=\"text-align: right;\">            5</td><td style=\"text-align: right;\">             2</td><td style=\"text-align: right;\">       21.6</td><td style=\"text-align: right;\">            16.4</td><td style=\"text-align: right;\">                     11.7</td><td style=\"text-align: right;\">                                           1</td><td style=\"text-align: right;\">                              2</td><td style=\"text-align: right;\">             10</td><td style=\"text-align: right;\">                   10</td><td style=\"text-align: right;\">                0.5</td><td style=\"text-align: right;\">                      0.5</td><td style=\"text-align: right;\">                              2.08</td><td style=\"text-align: right;\">                      2</td><td style=\"text-align: right;\">           0.1</td><td style=\"text-align: right;\">          0.08</td><td style=\"text-align: right;\">          0.11</td><td style=\"text-align: right;\">                     0</td><td style=\"text-align: right;\">                     0</td><td style=\"text-align: right;\">                     0</td><td style=\"text-align: right;\">          0.17</td><td style=\"text-align: right;\">          0.15</td><td style=\"text-align: right;\">          0.18</td><td style=\"text-align: right;\">              6</td><td style=\"text-align: right;\">               1</td><td style=\"text-align: right;\">         31.6</td><td style=\"text-align: right;\">              13.8</td><td style=\"text-align: right;\">                       14.2</td><td style=\"text-align: right;\">                                             1</td><td style=\"text-align: right;\">                                3</td><td style=\"text-align: right;\">             12.4</td><td style=\"text-align: right;\">                    6.4</td><td style=\"text-align: right;\">                  0.6</td><td style=\"text-align: right;\">                        0.6</td><td style=\"text-align: right;\">                                2.08</td><td style=\"text-align: right;\">                        2</td><td style=\"text-align: right;\">             0.1</td><td style=\"text-align: right;\">            0.09</td><td style=\"text-align: right;\">            0.12</td><td style=\"text-align: right;\">                       0</td><td style=\"text-align: right;\">                       0</td><td style=\"text-align: right;\">                       0</td><td style=\"text-align: right;\">            0.17</td><td style=\"text-align: right;\">            0.16</td><td style=\"text-align: right;\">            0.18</td><td style=\"text-align: right;\">              4</td><td style=\"text-align: right;\">               3</td><td style=\"text-align: right;\">         21.2</td><td style=\"text-align: right;\">               9.9</td><td style=\"text-align: right;\">                        5  </td><td style=\"text-align: right;\">                                             0</td><td style=\"text-align: right;\">                                1</td><td style=\"text-align: right;\">              3.2</td><td style=\"text-align: right;\">                    3.2</td><td style=\"text-align: right;\">                    0</td><td style=\"text-align: right;\">                          0</td><td style=\"text-align: right;\">                                   0</td><td style=\"text-align: right;\">                        1</td><td style=\"text-align: right;\">            0.1 </td><td style=\"text-align: right;\">            0.08</td><td style=\"text-align: right;\">             0.1</td><td style=\"text-align: right;\">                       0</td><td style=\"text-align: right;\">                       0</td><td style=\"text-align: right;\">                       0</td><td style=\"text-align: right;\">            0.18</td><td style=\"text-align: right;\">            0.16</td><td style=\"text-align: right;\">            0.2 </td><td style=\"text-align: right;\">       0</td><td style=\"text-align: right;\">                0.683544</td><td style=\"text-align: right;\">                 1.01887</td><td style=\"text-align: right;\">                 1.49057</td><td style=\"text-align: right;\">     1</td></tr>\n",
       "<tr><td style=\"text-align: right;\">            5</td><td style=\"text-align: right;\">             2</td><td style=\"text-align: right;\">       21.6</td><td style=\"text-align: right;\">            16.4</td><td style=\"text-align: right;\">                     11.7</td><td style=\"text-align: right;\">                                           1</td><td style=\"text-align: right;\">                              2</td><td style=\"text-align: right;\">             10</td><td style=\"text-align: right;\">                   10</td><td style=\"text-align: right;\">                0.5</td><td style=\"text-align: right;\">                      0.5</td><td style=\"text-align: right;\">                              2.08</td><td style=\"text-align: right;\">                      2</td><td style=\"text-align: right;\">           0.1</td><td style=\"text-align: right;\">          0.08</td><td style=\"text-align: right;\">          0.11</td><td style=\"text-align: right;\">                     0</td><td style=\"text-align: right;\">                     0</td><td style=\"text-align: right;\">                     0</td><td style=\"text-align: right;\">          0.17</td><td style=\"text-align: right;\">          0.15</td><td style=\"text-align: right;\">          0.18</td><td style=\"text-align: right;\">              6</td><td style=\"text-align: right;\">               1</td><td style=\"text-align: right;\">         31.6</td><td style=\"text-align: right;\">              13.8</td><td style=\"text-align: right;\">                       14.2</td><td style=\"text-align: right;\">                                             1</td><td style=\"text-align: right;\">                                3</td><td style=\"text-align: right;\">             12.4</td><td style=\"text-align: right;\">                    6.4</td><td style=\"text-align: right;\">                  0.6</td><td style=\"text-align: right;\">                        0.6</td><td style=\"text-align: right;\">                                2.08</td><td style=\"text-align: right;\">                        2</td><td style=\"text-align: right;\">             0.1</td><td style=\"text-align: right;\">            0.09</td><td style=\"text-align: right;\">            0.12</td><td style=\"text-align: right;\">                       0</td><td style=\"text-align: right;\">                       0</td><td style=\"text-align: right;\">                       0</td><td style=\"text-align: right;\">            0.17</td><td style=\"text-align: right;\">            0.16</td><td style=\"text-align: right;\">            0.18</td><td style=\"text-align: right;\">              3</td><td style=\"text-align: right;\">               4</td><td style=\"text-align: right;\">         21.2</td><td style=\"text-align: right;\">               9.9</td><td style=\"text-align: right;\">                        5  </td><td style=\"text-align: right;\">                                             0</td><td style=\"text-align: right;\">                                1</td><td style=\"text-align: right;\">              3.2</td><td style=\"text-align: right;\">                    3.2</td><td style=\"text-align: right;\">                    0</td><td style=\"text-align: right;\">                          0</td><td style=\"text-align: right;\">                                   0</td><td style=\"text-align: right;\">                        0</td><td style=\"text-align: right;\">            0.1 </td><td style=\"text-align: right;\">            0.1 </td><td style=\"text-align: right;\">             0.1</td><td style=\"text-align: right;\">                       0</td><td style=\"text-align: right;\">                       0</td><td style=\"text-align: right;\">                       0</td><td style=\"text-align: right;\">            0.17</td><td style=\"text-align: right;\">            0.16</td><td style=\"text-align: right;\">            0.18</td><td style=\"text-align: right;\">       0</td><td style=\"text-align: right;\">                0.683544</td><td style=\"text-align: right;\">                 1.01887</td><td style=\"text-align: right;\">                 1.49057</td><td style=\"text-align: right;\">     2</td></tr>\n",
       "</tbody>\n",
       "</table>"
      ]
     },
     "metadata": {},
     "output_type": "display_data"
    },
    {
     "data": {
      "text/plain": []
     },
     "execution_count": 13,
     "metadata": {},
     "output_type": "execute_result"
    }
   ],
   "source": [
    "features_week.head(3)"
   ]
  },
  {
   "cell_type": "code",
   "execution_count": 14,
   "metadata": {
    "colab": {
     "base_uri": "https://localhost:8080/"
    },
    "executionInfo": {
     "elapsed": 466,
     "status": "ok",
     "timestamp": 1661545813800,
     "user": {
      "displayName": "Olusegun Ajibola",
      "userId": "14016280963587867119"
     },
     "user_tz": -120
    },
    "id": "QSSl9ZHW-uwg",
    "outputId": "4c22aa90-b431-4ed4-dac5-b57c3cbd59e3"
   },
   "outputs": [
    {
     "data": {
      "text/plain": [
       "{'nr_sessions': 'int',\n",
       " 'nr_rest_days': 'int',\n",
       " 'total_kms': 'real',\n",
       " 'max_km_one_day': 'real',\n",
       " 'total_km_z3-z4-z5-t1-t2': 'real',\n",
       " 'nr_tough_sessions_(effort_in_z5,_t1_or_t2)': 'int',\n",
       " 'nr_days_with_interval_session': 'int',\n",
       " 'total_km_z3-4': 'real',\n",
       " 'max_km_z3-4_one_day': 'real',\n",
       " 'total_km_z5-t1-t2': 'real',\n",
       " 'max_km_z5-t1-t2_one_day': 'real',\n",
       " 'total_hours_alternative_training': 'real',\n",
       " 'nr_strength_trainings': 'int',\n",
       " 'avg_exertion': 'real',\n",
       " 'min_exertion': 'real',\n",
       " 'max_exertion': 'real',\n",
       " 'avg_training_success': 'real',\n",
       " 'min_training_success': 'real',\n",
       " 'max_training_success': 'real',\n",
       " 'avg_recovery': 'real',\n",
       " 'min_recovery': 'real',\n",
       " 'max_recovery': 'real',\n",
       " 'nr_sessions_1': 'int',\n",
       " 'nr_rest_days_1': 'int',\n",
       " 'total_kms_1': 'real',\n",
       " 'max_km_one_day_1': 'real',\n",
       " 'total_km_z3-z4-z5-t1-t2_1': 'real',\n",
       " 'nr_tough_sessions_(effort_in_z5,_t1_or_t2)_1': 'int',\n",
       " 'nr_days_with_interval_session_1': 'int',\n",
       " 'total_km_z3-4_1': 'real',\n",
       " 'max_km_z3-4_one_day_1': 'real',\n",
       " 'total_km_z5-t1-t2_1': 'real',\n",
       " 'max_km_z5-t1-t2_one_day_1': 'real',\n",
       " 'total_hours_alternative_training_1': 'real',\n",
       " 'nr_strength_trainings_1': 'int',\n",
       " 'avg_exertion_1': 'real',\n",
       " 'min_exertion_1': 'real',\n",
       " 'max_exertion_1': 'real',\n",
       " 'avg_training_success_1': 'real',\n",
       " 'min_training_success_1': 'real',\n",
       " 'max_training_success_1': 'real',\n",
       " 'avg_recovery_1': 'real',\n",
       " 'min_recovery_1': 'real',\n",
       " 'max_recovery_1': 'real',\n",
       " 'nr_sessions_2': 'int',\n",
       " 'nr_rest_days_2': 'int',\n",
       " 'total_kms_2': 'real',\n",
       " 'max_km_one_day_2': 'real',\n",
       " 'total_km_z3-z4-z5-t1-t2_2': 'real',\n",
       " 'nr_tough_sessions_(effort_in_z5,_t1_or_t2)_2': 'int',\n",
       " 'nr_days_with_interval_session_2': 'int',\n",
       " 'total_km_z3-4_2': 'real',\n",
       " 'max_km_z3-4_one_day_2': 'real',\n",
       " 'total_km_z5-t1-t2_2': 'real',\n",
       " 'max_km_z5-t1-t2_one_day_2': 'real',\n",
       " 'total_hours_alternative_training_2': 'real',\n",
       " 'nr_strength_trainings_2': 'int',\n",
       " 'avg_exertion_2': 'real',\n",
       " 'min_exertion_2': 'real',\n",
       " 'max_exertion_2': 'real',\n",
       " 'avg_training_success_2': 'real',\n",
       " 'min_training_success_2': 'real',\n",
       " 'max_training_success_2': 'real',\n",
       " 'avg_recovery_2': 'real',\n",
       " 'min_recovery_2': 'real',\n",
       " 'max_recovery_2': 'real',\n",
       " 'injury': 'enum',\n",
       " 'rel_total_kms_week_0_1': 'real',\n",
       " 'rel_total_kms_week_0_2': 'real',\n",
       " 'rel_total_kms_week_1_2': 'real',\n",
       " 'date': 'enum'}"
      ]
     },
     "execution_count": 14,
     "metadata": {},
     "output_type": "execute_result"
    }
   ],
   "source": [
    "features_week.types"
   ]
  },
  {
   "cell_type": "markdown",
   "metadata": {
    "id": "17tYnFWfcV9M"
   },
   "source": [
    "We now preprocess the dataset by seperating training and test data."
   ]
  },
  {
   "cell_type": "code",
   "execution_count": 15,
   "metadata": {
    "id": "ByKA-DPJdcHG"
   },
   "outputs": [],
   "source": [
    "# converting to pandas dataframe\n",
    "train_week_df = train_week.as_data_frame()\n",
    "test_week_df = test_week.as_data_frame()\n",
    "\n",
    "# noinjury_df_tr = train_week_df[train_week_df['injury'] == 0]\n",
    "# injury_df_tr = train_week_df[train_week_df['injury'] == 1]"
   ]
  },
  {
   "cell_type": "code",
   "execution_count": 16,
   "metadata": {
    "id": "aaIfZzwecTMK"
   },
   "outputs": [],
   "source": [
    "# drop the Class variable\n",
    "\n",
    "Y_test_df = test_week_df['injury'] # true labels of the testing set\n",
    "Y_test_df_ = pd.DataFrame(Y_test_df) # convert to pandas dataframe from pandas series\n",
    "test_df = test_week_df.drop(['injury'], axis=1)"
   ]
  },
  {
   "cell_type": "code",
   "execution_count": 17,
   "metadata": {
    "colab": {
     "base_uri": "https://localhost:8080/"
    },
    "executionInfo": {
     "elapsed": 4376,
     "status": "ok",
     "timestamp": 1661545963462,
     "user": {
      "displayName": "Olusegun Ajibola",
      "userId": "14016280963587867119"
     },
     "user_tz": -120
    },
    "id": "DGbyLdAVfP44",
    "outputId": "24720f8e-f68f-4ea1-c468-ca32e7001253"
   },
   "outputs": [
    {
     "name": "stdout",
     "output_type": "stream",
     "text": [
      "Parse progress: |████████████████████████████████████████████████████████████████| (done) 100%\n",
      "Parse progress: |████████████████████████████████████████████████████████████████| (done) 100%\n",
      "Parse progress: |████████████████████████████████████████████████████████████████| (done) 100%\n"
     ]
    }
   ],
   "source": [
    "# converting to h2o frame\n",
    "Y_test_h2o = h2o.H2OFrame(Y_test_df_) \n",
    "train_h2o = h2o.H2OFrame(train_week_df) \n",
    "test_h2o = h2o.H2OFrame(test_df)"
   ]
  },
  {
   "cell_type": "code",
   "execution_count": 18,
   "metadata": {
    "id": "ddpFQeSPgvDW"
   },
   "outputs": [],
   "source": [
    "cols = train_h2o.columns\n",
    "cols.remove('injury')"
   ]
  },
  {
   "cell_type": "code",
   "execution_count": 19,
   "metadata": {
    "colab": {
     "base_uri": "https://localhost:8080/"
    },
    "executionInfo": {
     "elapsed": 15,
     "status": "ok",
     "timestamp": 1661192382378,
     "user": {
      "displayName": "Olusegun Ajibola",
      "userId": "14016280963587867119"
     },
     "user_tz": -120
    },
    "id": "Z78C7aMEClx0",
    "outputId": "876eb936-d137-492d-a7a8-88cd3706c556"
   },
   "outputs": [
    {
     "data": {
      "text/plain": [
       "['nr_sessions',\n",
       " 'nr_rest_days',\n",
       " 'total_kms',\n",
       " 'max_km_one_day',\n",
       " 'total_km_z3-z4-z5-t1-t2',\n",
       " 'nr_tough_sessions_(effort_in_z5,_t1_or_t2)',\n",
       " 'nr_days_with_interval_session',\n",
       " 'total_km_z3-4',\n",
       " 'max_km_z3-4_one_day',\n",
       " 'total_km_z5-t1-t2',\n",
       " 'max_km_z5-t1-t2_one_day',\n",
       " 'total_hours_alternative_training',\n",
       " 'nr_strength_trainings',\n",
       " 'avg_exertion',\n",
       " 'min_exertion',\n",
       " 'max_exertion',\n",
       " 'avg_training_success',\n",
       " 'min_training_success',\n",
       " 'max_training_success',\n",
       " 'avg_recovery',\n",
       " 'min_recovery',\n",
       " 'max_recovery',\n",
       " 'nr_sessions_1',\n",
       " 'nr_rest_days_1',\n",
       " 'total_kms_1',\n",
       " 'max_km_one_day_1',\n",
       " 'total_km_z3-z4-z5-t1-t2_1',\n",
       " 'nr_tough_sessions_(effort_in_z5,_t1_or_t2)_1',\n",
       " 'nr_days_with_interval_session_1',\n",
       " 'total_km_z3-4_1',\n",
       " 'max_km_z3-4_one_day_1',\n",
       " 'total_km_z5-t1-t2_1',\n",
       " 'max_km_z5-t1-t2_one_day_1',\n",
       " 'total_hours_alternative_training_1',\n",
       " 'nr_strength_trainings_1',\n",
       " 'avg_exertion_1',\n",
       " 'min_exertion_1',\n",
       " 'max_exertion_1',\n",
       " 'avg_training_success_1',\n",
       " 'min_training_success_1',\n",
       " 'max_training_success_1',\n",
       " 'avg_recovery_1',\n",
       " 'min_recovery_1',\n",
       " 'max_recovery_1',\n",
       " 'nr_sessions_2',\n",
       " 'nr_rest_days_2',\n",
       " 'total_kms_2',\n",
       " 'max_km_one_day_2',\n",
       " 'total_km_z3-z4-z5-t1-t2_2',\n",
       " 'nr_tough_sessions_(effort_in_z5,_t1_or_t2)_2',\n",
       " 'nr_days_with_interval_session_2',\n",
       " 'total_km_z3-4_2',\n",
       " 'max_km_z3-4_one_day_2',\n",
       " 'total_km_z5-t1-t2_2',\n",
       " 'max_km_z5-t1-t2_one_day_2',\n",
       " 'total_hours_alternative_training_2',\n",
       " 'nr_strength_trainings_2',\n",
       " 'avg_exertion_2',\n",
       " 'min_exertion_2',\n",
       " 'max_exertion_2',\n",
       " 'avg_training_success_2',\n",
       " 'min_training_success_2',\n",
       " 'max_training_success_2',\n",
       " 'avg_recovery_2',\n",
       " 'min_recovery_2',\n",
       " 'max_recovery_2',\n",
       " 'rel_total_kms_week_0_1',\n",
       " 'rel_total_kms_week_0_2',\n",
       " 'rel_total_kms_week_1_2',\n",
       " 'date']"
      ]
     },
     "execution_count": 19,
     "metadata": {},
     "output_type": "execute_result"
    }
   ],
   "source": [
    "cols"
   ]
  },
  {
   "cell_type": "markdown",
   "metadata": {
    "id": "-uyGkZF6cH4U"
   },
   "source": [
    "We now create a local estimator and start the training process"
   ]
  },
  {
   "cell_type": "markdown",
   "metadata": {
    "id": "vIRuF-xaqPta"
   },
   "source": [
    "In the deep learning model below, we included the h2o library for anomaly detection i.e autoencoder."
   ]
  },
  {
   "cell_type": "code",
   "execution_count": 40,
   "metadata": {},
   "outputs": [
    {
     "data": {
      "text/html": [
       "<table>\n",
       "<thead>\n",
       "<tr><th style=\"text-align: right;\">  nr_sessions</th><th style=\"text-align: right;\">  nr_rest_days</th><th style=\"text-align: right;\">  total_kms</th><th style=\"text-align: right;\">  max_km_one_day</th><th style=\"text-align: right;\">  total_km_z3-z4-z5-t1-t2</th><th style=\"text-align: right;\">  nr_tough_sessions_(effort_in_z5,_t1_or_t2)</th><th style=\"text-align: right;\">  nr_days_with_interval_session</th><th style=\"text-align: right;\">  total_km_z3-4</th><th style=\"text-align: right;\">  max_km_z3-4_one_day</th><th style=\"text-align: right;\">  total_km_z5-t1-t2</th><th style=\"text-align: right;\">  max_km_z5-t1-t2_one_day</th><th style=\"text-align: right;\">  total_hours_alternative_training</th><th style=\"text-align: right;\">  nr_strength_trainings</th><th style=\"text-align: right;\">  avg_exertion</th><th style=\"text-align: right;\">  min_exertion</th><th style=\"text-align: right;\">  max_exertion</th><th style=\"text-align: right;\">  avg_training_success</th><th style=\"text-align: right;\">  min_training_success</th><th style=\"text-align: right;\">  max_training_success</th><th style=\"text-align: right;\">  avg_recovery</th><th style=\"text-align: right;\">  min_recovery</th><th style=\"text-align: right;\">  max_recovery</th><th style=\"text-align: right;\">  nr_sessions_1</th><th style=\"text-align: right;\">  nr_rest_days_1</th><th style=\"text-align: right;\">  total_kms_1</th><th style=\"text-align: right;\">  max_km_one_day_1</th><th style=\"text-align: right;\">  total_km_z3-z4-z5-t1-t2_1</th><th style=\"text-align: right;\">  nr_tough_sessions_(effort_in_z5,_t1_or_t2)_1</th><th style=\"text-align: right;\">  nr_days_with_interval_session_1</th><th style=\"text-align: right;\">  total_km_z3-4_1</th><th style=\"text-align: right;\">  max_km_z3-4_one_day_1</th><th style=\"text-align: right;\">  total_km_z5-t1-t2_1</th><th style=\"text-align: right;\">  max_km_z5-t1-t2_one_day_1</th><th style=\"text-align: right;\">  total_hours_alternative_training_1</th><th style=\"text-align: right;\">  nr_strength_trainings_1</th><th style=\"text-align: right;\">  avg_exertion_1</th><th style=\"text-align: right;\">  min_exertion_1</th><th style=\"text-align: right;\">  max_exertion_1</th><th style=\"text-align: right;\">  avg_training_success_1</th><th style=\"text-align: right;\">  min_training_success_1</th><th style=\"text-align: right;\">  max_training_success_1</th><th style=\"text-align: right;\">  avg_recovery_1</th><th style=\"text-align: right;\">  min_recovery_1</th><th style=\"text-align: right;\">  max_recovery_1</th><th style=\"text-align: right;\">  nr_sessions_2</th><th style=\"text-align: right;\">  nr_rest_days_2</th><th style=\"text-align: right;\">  total_kms_2</th><th style=\"text-align: right;\">  max_km_one_day_2</th><th style=\"text-align: right;\">  total_km_z3-z4-z5-t1-t2_2</th><th style=\"text-align: right;\">  nr_tough_sessions_(effort_in_z5,_t1_or_t2)_2</th><th style=\"text-align: right;\">  nr_days_with_interval_session_2</th><th style=\"text-align: right;\">  total_km_z3-4_2</th><th style=\"text-align: right;\">  max_km_z3-4_one_day_2</th><th style=\"text-align: right;\">  total_km_z5-t1-t2_2</th><th style=\"text-align: right;\">  max_km_z5-t1-t2_one_day_2</th><th style=\"text-align: right;\">  total_hours_alternative_training_2</th><th style=\"text-align: right;\">  nr_strength_trainings_2</th><th style=\"text-align: right;\">  avg_exertion_2</th><th style=\"text-align: right;\">  min_exertion_2</th><th style=\"text-align: right;\">  max_exertion_2</th><th style=\"text-align: right;\">  avg_training_success_2</th><th style=\"text-align: right;\">  min_training_success_2</th><th style=\"text-align: right;\">  max_training_success_2</th><th style=\"text-align: right;\">  avg_recovery_2</th><th style=\"text-align: right;\">  min_recovery_2</th><th style=\"text-align: right;\">  max_recovery_2</th><th style=\"text-align: right;\">  injury</th><th style=\"text-align: right;\">  rel_total_kms_week_0_1</th><th style=\"text-align: right;\">  rel_total_kms_week_0_2</th><th style=\"text-align: right;\">  rel_total_kms_week_1_2</th><th style=\"text-align: right;\">  date</th></tr>\n",
       "</thead>\n",
       "<tbody>\n",
       "<tr><td style=\"text-align: right;\">            5</td><td style=\"text-align: right;\">             2</td><td style=\"text-align: right;\">       22.2</td><td style=\"text-align: right;\">            16.4</td><td style=\"text-align: right;\">                     11.8</td><td style=\"text-align: right;\">                                           1</td><td style=\"text-align: right;\">                              2</td><td style=\"text-align: right;\">           10  </td><td style=\"text-align: right;\">                 10  </td><td style=\"text-align: right;\">                0.6</td><td style=\"text-align: right;\">                      0.6</td><td style=\"text-align: right;\">                              2.08</td><td style=\"text-align: right;\">                      2</td><td style=\"text-align: right;\">           0.1</td><td style=\"text-align: right;\">          0.08</td><td style=\"text-align: right;\">          0.11</td><td style=\"text-align: right;\">                     0</td><td style=\"text-align: right;\">                     0</td><td style=\"text-align: right;\">                     0</td><td style=\"text-align: right;\">          0.17</td><td style=\"text-align: right;\">          0.15</td><td style=\"text-align: right;\">          0.18</td><td style=\"text-align: right;\">              6</td><td style=\"text-align: right;\">               1</td><td style=\"text-align: right;\">         30.9</td><td style=\"text-align: right;\">              13.8</td><td style=\"text-align: right;\">                       13.5</td><td style=\"text-align: right;\">                                             0</td><td style=\"text-align: right;\">                                2</td><td style=\"text-align: right;\">             12.4</td><td style=\"text-align: right;\">                    6.4</td><td style=\"text-align: right;\">                  0  </td><td style=\"text-align: right;\">                        0  </td><td style=\"text-align: right;\">                                2.08</td><td style=\"text-align: right;\">                        2</td><td style=\"text-align: right;\">             0.1</td><td style=\"text-align: right;\">            0.09</td><td style=\"text-align: right;\">            0.12</td><td style=\"text-align: right;\">                       0</td><td style=\"text-align: right;\">                       0</td><td style=\"text-align: right;\">                       0</td><td style=\"text-align: right;\">            0.17</td><td style=\"text-align: right;\">            0.16</td><td style=\"text-align: right;\">            0.18</td><td style=\"text-align: right;\">              3</td><td style=\"text-align: right;\">               4</td><td style=\"text-align: right;\">         16.1</td><td style=\"text-align: right;\">               9.9</td><td style=\"text-align: right;\">                        3.9</td><td style=\"text-align: right;\">                                             0</td><td style=\"text-align: right;\">                                1</td><td style=\"text-align: right;\">              3.2</td><td style=\"text-align: right;\">                    3.2</td><td style=\"text-align: right;\">                  0  </td><td style=\"text-align: right;\">                        0  </td><td style=\"text-align: right;\">                                0   </td><td style=\"text-align: right;\">                        1</td><td style=\"text-align: right;\">            0.09</td><td style=\"text-align: right;\">            0.08</td><td style=\"text-align: right;\">            0.1 </td><td style=\"text-align: right;\">                       0</td><td style=\"text-align: right;\">                       0</td><td style=\"text-align: right;\">                       0</td><td style=\"text-align: right;\">            0.18</td><td style=\"text-align: right;\">            0.16</td><td style=\"text-align: right;\">            0.2 </td><td style=\"text-align: right;\">       0</td><td style=\"text-align: right;\">                0.718447</td><td style=\"text-align: right;\">                 1.37888</td><td style=\"text-align: right;\">                1.91925 </td><td style=\"text-align: right;\">     0</td></tr>\n",
       "<tr><td style=\"text-align: right;\">            5</td><td style=\"text-align: right;\">             2</td><td style=\"text-align: right;\">       21.6</td><td style=\"text-align: right;\">            16.4</td><td style=\"text-align: right;\">                     11.7</td><td style=\"text-align: right;\">                                           1</td><td style=\"text-align: right;\">                              2</td><td style=\"text-align: right;\">           10  </td><td style=\"text-align: right;\">                 10  </td><td style=\"text-align: right;\">                0.5</td><td style=\"text-align: right;\">                      0.5</td><td style=\"text-align: right;\">                              2.08</td><td style=\"text-align: right;\">                      2</td><td style=\"text-align: right;\">           0.1</td><td style=\"text-align: right;\">          0.08</td><td style=\"text-align: right;\">          0.11</td><td style=\"text-align: right;\">                     0</td><td style=\"text-align: right;\">                     0</td><td style=\"text-align: right;\">                     0</td><td style=\"text-align: right;\">          0.17</td><td style=\"text-align: right;\">          0.15</td><td style=\"text-align: right;\">          0.18</td><td style=\"text-align: right;\">              6</td><td style=\"text-align: right;\">               1</td><td style=\"text-align: right;\">         31.6</td><td style=\"text-align: right;\">              13.8</td><td style=\"text-align: right;\">                       14.2</td><td style=\"text-align: right;\">                                             1</td><td style=\"text-align: right;\">                                3</td><td style=\"text-align: right;\">             12.4</td><td style=\"text-align: right;\">                    6.4</td><td style=\"text-align: right;\">                  0.6</td><td style=\"text-align: right;\">                        0.6</td><td style=\"text-align: right;\">                                2.08</td><td style=\"text-align: right;\">                        2</td><td style=\"text-align: right;\">             0.1</td><td style=\"text-align: right;\">            0.09</td><td style=\"text-align: right;\">            0.12</td><td style=\"text-align: right;\">                       0</td><td style=\"text-align: right;\">                       0</td><td style=\"text-align: right;\">                       0</td><td style=\"text-align: right;\">            0.17</td><td style=\"text-align: right;\">            0.16</td><td style=\"text-align: right;\">            0.18</td><td style=\"text-align: right;\">              4</td><td style=\"text-align: right;\">               3</td><td style=\"text-align: right;\">         21.2</td><td style=\"text-align: right;\">               9.9</td><td style=\"text-align: right;\">                        5  </td><td style=\"text-align: right;\">                                             0</td><td style=\"text-align: right;\">                                1</td><td style=\"text-align: right;\">              3.2</td><td style=\"text-align: right;\">                    3.2</td><td style=\"text-align: right;\">                  0  </td><td style=\"text-align: right;\">                        0  </td><td style=\"text-align: right;\">                                0   </td><td style=\"text-align: right;\">                        1</td><td style=\"text-align: right;\">            0.1 </td><td style=\"text-align: right;\">            0.08</td><td style=\"text-align: right;\">            0.1 </td><td style=\"text-align: right;\">                       0</td><td style=\"text-align: right;\">                       0</td><td style=\"text-align: right;\">                       0</td><td style=\"text-align: right;\">            0.18</td><td style=\"text-align: right;\">            0.16</td><td style=\"text-align: right;\">            0.2 </td><td style=\"text-align: right;\">       0</td><td style=\"text-align: right;\">                0.683544</td><td style=\"text-align: right;\">                 1.01887</td><td style=\"text-align: right;\">                1.49057 </td><td style=\"text-align: right;\">     1</td></tr>\n",
       "<tr><td style=\"text-align: right;\">            5</td><td style=\"text-align: right;\">             2</td><td style=\"text-align: right;\">       21.6</td><td style=\"text-align: right;\">            16.4</td><td style=\"text-align: right;\">                     11.7</td><td style=\"text-align: right;\">                                           1</td><td style=\"text-align: right;\">                              2</td><td style=\"text-align: right;\">           10  </td><td style=\"text-align: right;\">                 10  </td><td style=\"text-align: right;\">                0.5</td><td style=\"text-align: right;\">                      0.5</td><td style=\"text-align: right;\">                              2.08</td><td style=\"text-align: right;\">                      2</td><td style=\"text-align: right;\">           0.1</td><td style=\"text-align: right;\">          0.08</td><td style=\"text-align: right;\">          0.11</td><td style=\"text-align: right;\">                     0</td><td style=\"text-align: right;\">                     0</td><td style=\"text-align: right;\">                     0</td><td style=\"text-align: right;\">          0.17</td><td style=\"text-align: right;\">          0.15</td><td style=\"text-align: right;\">          0.18</td><td style=\"text-align: right;\">              6</td><td style=\"text-align: right;\">               1</td><td style=\"text-align: right;\">         31.6</td><td style=\"text-align: right;\">              13.8</td><td style=\"text-align: right;\">                       14.2</td><td style=\"text-align: right;\">                                             1</td><td style=\"text-align: right;\">                                3</td><td style=\"text-align: right;\">             12.4</td><td style=\"text-align: right;\">                    6.4</td><td style=\"text-align: right;\">                  0.6</td><td style=\"text-align: right;\">                        0.6</td><td style=\"text-align: right;\">                                2.08</td><td style=\"text-align: right;\">                        2</td><td style=\"text-align: right;\">             0.1</td><td style=\"text-align: right;\">            0.09</td><td style=\"text-align: right;\">            0.12</td><td style=\"text-align: right;\">                       0</td><td style=\"text-align: right;\">                       0</td><td style=\"text-align: right;\">                       0</td><td style=\"text-align: right;\">            0.17</td><td style=\"text-align: right;\">            0.16</td><td style=\"text-align: right;\">            0.18</td><td style=\"text-align: right;\">              3</td><td style=\"text-align: right;\">               4</td><td style=\"text-align: right;\">         21.2</td><td style=\"text-align: right;\">               9.9</td><td style=\"text-align: right;\">                        5  </td><td style=\"text-align: right;\">                                             0</td><td style=\"text-align: right;\">                                1</td><td style=\"text-align: right;\">              3.2</td><td style=\"text-align: right;\">                    3.2</td><td style=\"text-align: right;\">                  0  </td><td style=\"text-align: right;\">                        0  </td><td style=\"text-align: right;\">                                0   </td><td style=\"text-align: right;\">                        0</td><td style=\"text-align: right;\">            0.1 </td><td style=\"text-align: right;\">            0.1 </td><td style=\"text-align: right;\">            0.1 </td><td style=\"text-align: right;\">                       0</td><td style=\"text-align: right;\">                       0</td><td style=\"text-align: right;\">                       0</td><td style=\"text-align: right;\">            0.17</td><td style=\"text-align: right;\">            0.16</td><td style=\"text-align: right;\">            0.18</td><td style=\"text-align: right;\">       0</td><td style=\"text-align: right;\">                0.683544</td><td style=\"text-align: right;\">                 1.01887</td><td style=\"text-align: right;\">                1.49057 </td><td style=\"text-align: right;\">     2</td></tr>\n",
       "<tr><td style=\"text-align: right;\">            5</td><td style=\"text-align: right;\">             2</td><td style=\"text-align: right;\">       21.6</td><td style=\"text-align: right;\">            16.4</td><td style=\"text-align: right;\">                     11.7</td><td style=\"text-align: right;\">                                           1</td><td style=\"text-align: right;\">                              2</td><td style=\"text-align: right;\">           10  </td><td style=\"text-align: right;\">                 10  </td><td style=\"text-align: right;\">                0.5</td><td style=\"text-align: right;\">                      0.5</td><td style=\"text-align: right;\">                              2.08</td><td style=\"text-align: right;\">                      2</td><td style=\"text-align: right;\">           0.1</td><td style=\"text-align: right;\">          0.08</td><td style=\"text-align: right;\">          0.11</td><td style=\"text-align: right;\">                     0</td><td style=\"text-align: right;\">                     0</td><td style=\"text-align: right;\">                     0</td><td style=\"text-align: right;\">          0.17</td><td style=\"text-align: right;\">          0.15</td><td style=\"text-align: right;\">          0.18</td><td style=\"text-align: right;\">              6</td><td style=\"text-align: right;\">               1</td><td style=\"text-align: right;\">         31.6</td><td style=\"text-align: right;\">              13.8</td><td style=\"text-align: right;\">                       14.2</td><td style=\"text-align: right;\">                                             1</td><td style=\"text-align: right;\">                                3</td><td style=\"text-align: right;\">             12.4</td><td style=\"text-align: right;\">                    6.4</td><td style=\"text-align: right;\">                  0.6</td><td style=\"text-align: right;\">                        0.6</td><td style=\"text-align: right;\">                                2.08</td><td style=\"text-align: right;\">                        2</td><td style=\"text-align: right;\">             0.1</td><td style=\"text-align: right;\">            0.09</td><td style=\"text-align: right;\">            0.11</td><td style=\"text-align: right;\">                       0</td><td style=\"text-align: right;\">                       0</td><td style=\"text-align: right;\">                       0</td><td style=\"text-align: right;\">            0.17</td><td style=\"text-align: right;\">            0.16</td><td style=\"text-align: right;\">            0.18</td><td style=\"text-align: right;\">              4</td><td style=\"text-align: right;\">               3</td><td style=\"text-align: right;\">         21.2</td><td style=\"text-align: right;\">               9.9</td><td style=\"text-align: right;\">                        5  </td><td style=\"text-align: right;\">                                             0</td><td style=\"text-align: right;\">                                1</td><td style=\"text-align: right;\">              3.2</td><td style=\"text-align: right;\">                    3.2</td><td style=\"text-align: right;\">                  0  </td><td style=\"text-align: right;\">                        0  </td><td style=\"text-align: right;\">                                0   </td><td style=\"text-align: right;\">                        1</td><td style=\"text-align: right;\">            0.11</td><td style=\"text-align: right;\">            0.1 </td><td style=\"text-align: right;\">            0.12</td><td style=\"text-align: right;\">                       0</td><td style=\"text-align: right;\">                       0</td><td style=\"text-align: right;\">                       0</td><td style=\"text-align: right;\">            0.18</td><td style=\"text-align: right;\">            0.16</td><td style=\"text-align: right;\">            0.18</td><td style=\"text-align: right;\">       0</td><td style=\"text-align: right;\">                0.683544</td><td style=\"text-align: right;\">                 1.01887</td><td style=\"text-align: right;\">                1.49057 </td><td style=\"text-align: right;\">     3</td></tr>\n",
       "<tr><td style=\"text-align: right;\">            6</td><td style=\"text-align: right;\">             1</td><td style=\"text-align: right;\">       39.2</td><td style=\"text-align: right;\">            17.6</td><td style=\"text-align: right;\">                     18.9</td><td style=\"text-align: right;\">                                           1</td><td style=\"text-align: right;\">                              3</td><td style=\"text-align: right;\">           17.2</td><td style=\"text-align: right;\">                 10  </td><td style=\"text-align: right;\">                0.5</td><td style=\"text-align: right;\">                      0.5</td><td style=\"text-align: right;\">                              2.08</td><td style=\"text-align: right;\">                      2</td><td style=\"text-align: right;\">           0.1</td><td style=\"text-align: right;\">          0.08</td><td style=\"text-align: right;\">          0.11</td><td style=\"text-align: right;\">                     0</td><td style=\"text-align: right;\">                     0</td><td style=\"text-align: right;\">                     0</td><td style=\"text-align: right;\">          0.17</td><td style=\"text-align: right;\">          0.15</td><td style=\"text-align: right;\">          0.18</td><td style=\"text-align: right;\">              5</td><td style=\"text-align: right;\">               2</td><td style=\"text-align: right;\">         17.8</td><td style=\"text-align: right;\">              12  </td><td style=\"text-align: right;\">                        7.8</td><td style=\"text-align: right;\">                                             1</td><td style=\"text-align: right;\">                                2</td><td style=\"text-align: right;\">              6  </td><td style=\"text-align: right;\">                    6  </td><td style=\"text-align: right;\">                  0.6</td><td style=\"text-align: right;\">                        0.6</td><td style=\"text-align: right;\">                                2.08</td><td style=\"text-align: right;\">                        2</td><td style=\"text-align: right;\">             0.1</td><td style=\"text-align: right;\">            0.09</td><td style=\"text-align: right;\">            0.11</td><td style=\"text-align: right;\">                       0</td><td style=\"text-align: right;\">                       0</td><td style=\"text-align: right;\">                       0</td><td style=\"text-align: right;\">            0.17</td><td style=\"text-align: right;\">            0.16</td><td style=\"text-align: right;\">            0.18</td><td style=\"text-align: right;\">              4</td><td style=\"text-align: right;\">               3</td><td style=\"text-align: right;\">         28.8</td><td style=\"text-align: right;\">              13.8</td><td style=\"text-align: right;\">                       10.7</td><td style=\"text-align: right;\">                                             0</td><td style=\"text-align: right;\">                                2</td><td style=\"text-align: right;\">              9.6</td><td style=\"text-align: right;\">                    6.4</td><td style=\"text-align: right;\">                  0  </td><td style=\"text-align: right;\">                        0  </td><td style=\"text-align: right;\">                                0   </td><td style=\"text-align: right;\">                        1</td><td style=\"text-align: right;\">            0.11</td><td style=\"text-align: right;\">            0.1 </td><td style=\"text-align: right;\">            0.12</td><td style=\"text-align: right;\">                       0</td><td style=\"text-align: right;\">                       0</td><td style=\"text-align: right;\">                       0</td><td style=\"text-align: right;\">            0.17</td><td style=\"text-align: right;\">            0.16</td><td style=\"text-align: right;\">            0.18</td><td style=\"text-align: right;\">       0</td><td style=\"text-align: right;\">                2.20225 </td><td style=\"text-align: right;\">                 1.36111</td><td style=\"text-align: right;\">                0.618056</td><td style=\"text-align: right;\">     4</td></tr>\n",
       "<tr><td style=\"text-align: right;\">            6</td><td style=\"text-align: right;\">             1</td><td style=\"text-align: right;\">       39.2</td><td style=\"text-align: right;\">            17.6</td><td style=\"text-align: right;\">                     18.9</td><td style=\"text-align: right;\">                                           1</td><td style=\"text-align: right;\">                              3</td><td style=\"text-align: right;\">           17.2</td><td style=\"text-align: right;\">                 10  </td><td style=\"text-align: right;\">                0.5</td><td style=\"text-align: right;\">                      0.5</td><td style=\"text-align: right;\">                              2   </td><td style=\"text-align: right;\">                      2</td><td style=\"text-align: right;\">           0.1</td><td style=\"text-align: right;\">          0.08</td><td style=\"text-align: right;\">          0.11</td><td style=\"text-align: right;\">                     0</td><td style=\"text-align: right;\">                     0</td><td style=\"text-align: right;\">                     0</td><td style=\"text-align: right;\">          0.17</td><td style=\"text-align: right;\">          0.15</td><td style=\"text-align: right;\">          0.17</td><td style=\"text-align: right;\">              5</td><td style=\"text-align: right;\">               2</td><td style=\"text-align: right;\">         17.8</td><td style=\"text-align: right;\">              12  </td><td style=\"text-align: right;\">                        7.8</td><td style=\"text-align: right;\">                                             1</td><td style=\"text-align: right;\">                                2</td><td style=\"text-align: right;\">              6  </td><td style=\"text-align: right;\">                    6  </td><td style=\"text-align: right;\">                  0.6</td><td style=\"text-align: right;\">                        0.6</td><td style=\"text-align: right;\">                                2.08</td><td style=\"text-align: right;\">                        2</td><td style=\"text-align: right;\">             0.1</td><td style=\"text-align: right;\">            0.08</td><td style=\"text-align: right;\">            0.11</td><td style=\"text-align: right;\">                       0</td><td style=\"text-align: right;\">                       0</td><td style=\"text-align: right;\">                       0</td><td style=\"text-align: right;\">            0.17</td><td style=\"text-align: right;\">            0.16</td><td style=\"text-align: right;\">            0.18</td><td style=\"text-align: right;\">              5</td><td style=\"text-align: right;\">               2</td><td style=\"text-align: right;\">         28.8</td><td style=\"text-align: right;\">              13.8</td><td style=\"text-align: right;\">                       10.7</td><td style=\"text-align: right;\">                                             0</td><td style=\"text-align: right;\">                                2</td><td style=\"text-align: right;\">              9.6</td><td style=\"text-align: right;\">                    6.4</td><td style=\"text-align: right;\">                  0  </td><td style=\"text-align: right;\">                        0  </td><td style=\"text-align: right;\">                                1.08</td><td style=\"text-align: right;\">                        1</td><td style=\"text-align: right;\">            0.1 </td><td style=\"text-align: right;\">            0.09</td><td style=\"text-align: right;\">            0.12</td><td style=\"text-align: right;\">                       0</td><td style=\"text-align: right;\">                       0</td><td style=\"text-align: right;\">                       0</td><td style=\"text-align: right;\">            0.17</td><td style=\"text-align: right;\">            0.16</td><td style=\"text-align: right;\">            0.18</td><td style=\"text-align: right;\">       0</td><td style=\"text-align: right;\">                2.20225 </td><td style=\"text-align: right;\">                 1.36111</td><td style=\"text-align: right;\">                0.618056</td><td style=\"text-align: right;\">     5</td></tr>\n",
       "<tr><td style=\"text-align: right;\">            5</td><td style=\"text-align: right;\">             2</td><td style=\"text-align: right;\">       33.3</td><td style=\"text-align: right;\">            17.6</td><td style=\"text-align: right;\">                     15.4</td><td style=\"text-align: right;\">                                           1</td><td style=\"text-align: right;\">                              3</td><td style=\"text-align: right;\">           13.7</td><td style=\"text-align: right;\">                  7.2</td><td style=\"text-align: right;\">                0.5</td><td style=\"text-align: right;\">                      0.5</td><td style=\"text-align: right;\">                              1   </td><td style=\"text-align: right;\">                      1</td><td style=\"text-align: right;\">           0.1</td><td style=\"text-align: right;\">          0.08</td><td style=\"text-align: right;\">          0.11</td><td style=\"text-align: right;\">                     0</td><td style=\"text-align: right;\">                     0</td><td style=\"text-align: right;\">                     0</td><td style=\"text-align: right;\">          0.17</td><td style=\"text-align: right;\">          0.17</td><td style=\"text-align: right;\">          0.18</td><td style=\"text-align: right;\">              5</td><td style=\"text-align: right;\">               2</td><td style=\"text-align: right;\">         22.2</td><td style=\"text-align: right;\">              16.4</td><td style=\"text-align: right;\">                       11.8</td><td style=\"text-align: right;\">                                             1</td><td style=\"text-align: right;\">                                2</td><td style=\"text-align: right;\">             10  </td><td style=\"text-align: right;\">                   10  </td><td style=\"text-align: right;\">                  0.6</td><td style=\"text-align: right;\">                        0.6</td><td style=\"text-align: right;\">                                2.08</td><td style=\"text-align: right;\">                        2</td><td style=\"text-align: right;\">             0.1</td><td style=\"text-align: right;\">            0.08</td><td style=\"text-align: right;\">            0.11</td><td style=\"text-align: right;\">                       0</td><td style=\"text-align: right;\">                       0</td><td style=\"text-align: right;\">                       0</td><td style=\"text-align: right;\">            0.17</td><td style=\"text-align: right;\">            0.15</td><td style=\"text-align: right;\">            0.18</td><td style=\"text-align: right;\">              6</td><td style=\"text-align: right;\">               1</td><td style=\"text-align: right;\">         30.9</td><td style=\"text-align: right;\">              13.8</td><td style=\"text-align: right;\">                       13.5</td><td style=\"text-align: right;\">                                             0</td><td style=\"text-align: right;\">                                2</td><td style=\"text-align: right;\">             12.4</td><td style=\"text-align: right;\">                    6.4</td><td style=\"text-align: right;\">                  0  </td><td style=\"text-align: right;\">                        0  </td><td style=\"text-align: right;\">                                2.08</td><td style=\"text-align: right;\">                        2</td><td style=\"text-align: right;\">            0.1 </td><td style=\"text-align: right;\">            0.09</td><td style=\"text-align: right;\">            0.12</td><td style=\"text-align: right;\">                       0</td><td style=\"text-align: right;\">                       0</td><td style=\"text-align: right;\">                       0</td><td style=\"text-align: right;\">            0.17</td><td style=\"text-align: right;\">            0.16</td><td style=\"text-align: right;\">            0.18</td><td style=\"text-align: right;\">       0</td><td style=\"text-align: right;\">                1.5     </td><td style=\"text-align: right;\">                 1.07767</td><td style=\"text-align: right;\">                0.718447</td><td style=\"text-align: right;\">     7</td></tr>\n",
       "<tr><td style=\"text-align: right;\">            5</td><td style=\"text-align: right;\">             2</td><td style=\"text-align: right;\">       32.9</td><td style=\"text-align: right;\">            17.6</td><td style=\"text-align: right;\">                     15.5</td><td style=\"text-align: right;\">                                           0</td><td style=\"text-align: right;\">                              3</td><td style=\"text-align: right;\">           14.3</td><td style=\"text-align: right;\">                  7.2</td><td style=\"text-align: right;\">                0  </td><td style=\"text-align: right;\">                      0  </td><td style=\"text-align: right;\">                              1   </td><td style=\"text-align: right;\">                      1</td><td style=\"text-align: right;\">           0.1</td><td style=\"text-align: right;\">          0.08</td><td style=\"text-align: right;\">          0.11</td><td style=\"text-align: right;\">                     0</td><td style=\"text-align: right;\">                     0</td><td style=\"text-align: right;\">                     0</td><td style=\"text-align: right;\">          0.17</td><td style=\"text-align: right;\">          0.17</td><td style=\"text-align: right;\">          0.18</td><td style=\"text-align: right;\">              5</td><td style=\"text-align: right;\">               2</td><td style=\"text-align: right;\">         21.6</td><td style=\"text-align: right;\">              16.4</td><td style=\"text-align: right;\">                       11.7</td><td style=\"text-align: right;\">                                             1</td><td style=\"text-align: right;\">                                2</td><td style=\"text-align: right;\">             10  </td><td style=\"text-align: right;\">                   10  </td><td style=\"text-align: right;\">                  0.5</td><td style=\"text-align: right;\">                        0.5</td><td style=\"text-align: right;\">                                2.08</td><td style=\"text-align: right;\">                        2</td><td style=\"text-align: right;\">             0.1</td><td style=\"text-align: right;\">            0.08</td><td style=\"text-align: right;\">            0.11</td><td style=\"text-align: right;\">                       0</td><td style=\"text-align: right;\">                       0</td><td style=\"text-align: right;\">                       0</td><td style=\"text-align: right;\">            0.17</td><td style=\"text-align: right;\">            0.15</td><td style=\"text-align: right;\">            0.18</td><td style=\"text-align: right;\">              6</td><td style=\"text-align: right;\">               1</td><td style=\"text-align: right;\">         31.6</td><td style=\"text-align: right;\">              13.8</td><td style=\"text-align: right;\">                       14.2</td><td style=\"text-align: right;\">                                             1</td><td style=\"text-align: right;\">                                3</td><td style=\"text-align: right;\">             12.4</td><td style=\"text-align: right;\">                    6.4</td><td style=\"text-align: right;\">                  0.6</td><td style=\"text-align: right;\">                        0.6</td><td style=\"text-align: right;\">                                2.08</td><td style=\"text-align: right;\">                        2</td><td style=\"text-align: right;\">            0.1 </td><td style=\"text-align: right;\">            0.09</td><td style=\"text-align: right;\">            0.12</td><td style=\"text-align: right;\">                       0</td><td style=\"text-align: right;\">                       0</td><td style=\"text-align: right;\">                       0</td><td style=\"text-align: right;\">            0.17</td><td style=\"text-align: right;\">            0.16</td><td style=\"text-align: right;\">            0.18</td><td style=\"text-align: right;\">       0</td><td style=\"text-align: right;\">                1.52315 </td><td style=\"text-align: right;\">                 1.04114</td><td style=\"text-align: right;\">                0.683544</td><td style=\"text-align: right;\">     8</td></tr>\n",
       "<tr><td style=\"text-align: right;\">            5</td><td style=\"text-align: right;\">             2</td><td style=\"text-align: right;\">       32.9</td><td style=\"text-align: right;\">            17.6</td><td style=\"text-align: right;\">                     15.5</td><td style=\"text-align: right;\">                                           0</td><td style=\"text-align: right;\">                              3</td><td style=\"text-align: right;\">           14.3</td><td style=\"text-align: right;\">                  7.2</td><td style=\"text-align: right;\">                0  </td><td style=\"text-align: right;\">                      0  </td><td style=\"text-align: right;\">                              1   </td><td style=\"text-align: right;\">                      1</td><td style=\"text-align: right;\">           0.1</td><td style=\"text-align: right;\">          0.08</td><td style=\"text-align: right;\">          0.11</td><td style=\"text-align: right;\">                     0</td><td style=\"text-align: right;\">                     0</td><td style=\"text-align: right;\">                     0</td><td style=\"text-align: right;\">          0.17</td><td style=\"text-align: right;\">          0.17</td><td style=\"text-align: right;\">          0.18</td><td style=\"text-align: right;\">              5</td><td style=\"text-align: right;\">               2</td><td style=\"text-align: right;\">         21.6</td><td style=\"text-align: right;\">              16.4</td><td style=\"text-align: right;\">                       11.7</td><td style=\"text-align: right;\">                                             1</td><td style=\"text-align: right;\">                                2</td><td style=\"text-align: right;\">             10  </td><td style=\"text-align: right;\">                   10  </td><td style=\"text-align: right;\">                  0.5</td><td style=\"text-align: right;\">                        0.5</td><td style=\"text-align: right;\">                                2.08</td><td style=\"text-align: right;\">                        2</td><td style=\"text-align: right;\">             0.1</td><td style=\"text-align: right;\">            0.08</td><td style=\"text-align: right;\">            0.11</td><td style=\"text-align: right;\">                       0</td><td style=\"text-align: right;\">                       0</td><td style=\"text-align: right;\">                       0</td><td style=\"text-align: right;\">            0.17</td><td style=\"text-align: right;\">            0.15</td><td style=\"text-align: right;\">            0.18</td><td style=\"text-align: right;\">              6</td><td style=\"text-align: right;\">               1</td><td style=\"text-align: right;\">         31.6</td><td style=\"text-align: right;\">              13.8</td><td style=\"text-align: right;\">                       14.2</td><td style=\"text-align: right;\">                                             1</td><td style=\"text-align: right;\">                                3</td><td style=\"text-align: right;\">             12.4</td><td style=\"text-align: right;\">                    6.4</td><td style=\"text-align: right;\">                  0.6</td><td style=\"text-align: right;\">                        0.6</td><td style=\"text-align: right;\">                                2.08</td><td style=\"text-align: right;\">                        2</td><td style=\"text-align: right;\">            0.1 </td><td style=\"text-align: right;\">            0.09</td><td style=\"text-align: right;\">            0.12</td><td style=\"text-align: right;\">                       0</td><td style=\"text-align: right;\">                       0</td><td style=\"text-align: right;\">                       0</td><td style=\"text-align: right;\">            0.17</td><td style=\"text-align: right;\">            0.16</td><td style=\"text-align: right;\">            0.18</td><td style=\"text-align: right;\">       0</td><td style=\"text-align: right;\">                1.52315 </td><td style=\"text-align: right;\">                 1.04114</td><td style=\"text-align: right;\">                0.683544</td><td style=\"text-align: right;\">     9</td></tr>\n",
       "<tr><td style=\"text-align: right;\">            5</td><td style=\"text-align: right;\">             2</td><td style=\"text-align: right;\">       32.9</td><td style=\"text-align: right;\">            17.6</td><td style=\"text-align: right;\">                     15.5</td><td style=\"text-align: right;\">                                           0</td><td style=\"text-align: right;\">                              3</td><td style=\"text-align: right;\">           14.3</td><td style=\"text-align: right;\">                  7.2</td><td style=\"text-align: right;\">                0  </td><td style=\"text-align: right;\">                      0  </td><td style=\"text-align: right;\">                              1   </td><td style=\"text-align: right;\">                      1</td><td style=\"text-align: right;\">           0.1</td><td style=\"text-align: right;\">          0.08</td><td style=\"text-align: right;\">          0.11</td><td style=\"text-align: right;\">                     0</td><td style=\"text-align: right;\">                     0</td><td style=\"text-align: right;\">                     0</td><td style=\"text-align: right;\">          0.17</td><td style=\"text-align: right;\">          0.17</td><td style=\"text-align: right;\">          0.18</td><td style=\"text-align: right;\">              5</td><td style=\"text-align: right;\">               2</td><td style=\"text-align: right;\">         21.6</td><td style=\"text-align: right;\">              16.4</td><td style=\"text-align: right;\">                       11.7</td><td style=\"text-align: right;\">                                             1</td><td style=\"text-align: right;\">                                2</td><td style=\"text-align: right;\">             10  </td><td style=\"text-align: right;\">                   10  </td><td style=\"text-align: right;\">                  0.5</td><td style=\"text-align: right;\">                        0.5</td><td style=\"text-align: right;\">                                2.08</td><td style=\"text-align: right;\">                        2</td><td style=\"text-align: right;\">             0.1</td><td style=\"text-align: right;\">            0.08</td><td style=\"text-align: right;\">            0.11</td><td style=\"text-align: right;\">                       0</td><td style=\"text-align: right;\">                       0</td><td style=\"text-align: right;\">                       0</td><td style=\"text-align: right;\">            0.17</td><td style=\"text-align: right;\">            0.15</td><td style=\"text-align: right;\">            0.18</td><td style=\"text-align: right;\">              6</td><td style=\"text-align: right;\">               1</td><td style=\"text-align: right;\">         31.6</td><td style=\"text-align: right;\">              13.8</td><td style=\"text-align: right;\">                       14.2</td><td style=\"text-align: right;\">                                             1</td><td style=\"text-align: right;\">                                3</td><td style=\"text-align: right;\">             12.4</td><td style=\"text-align: right;\">                    6.4</td><td style=\"text-align: right;\">                  0.6</td><td style=\"text-align: right;\">                        0.6</td><td style=\"text-align: right;\">                                2.08</td><td style=\"text-align: right;\">                        2</td><td style=\"text-align: right;\">            0.1 </td><td style=\"text-align: right;\">            0.09</td><td style=\"text-align: right;\">            0.11</td><td style=\"text-align: right;\">                       0</td><td style=\"text-align: right;\">                       0</td><td style=\"text-align: right;\">                       0</td><td style=\"text-align: right;\">            0.17</td><td style=\"text-align: right;\">            0.16</td><td style=\"text-align: right;\">            0.18</td><td style=\"text-align: right;\">       0</td><td style=\"text-align: right;\">                1.52315 </td><td style=\"text-align: right;\">                 1.04114</td><td style=\"text-align: right;\">                0.683544</td><td style=\"text-align: right;\">    10</td></tr>\n",
       "</tbody>\n",
       "</table>"
      ]
     },
     "metadata": {},
     "output_type": "display_data"
    },
    {
     "data": {
      "text/plain": []
     },
     "execution_count": 40,
     "metadata": {},
     "output_type": "execute_result"
    }
   ],
   "source": [
    "train_h2o"
   ]
  },
  {
   "cell_type": "code",
   "execution_count": 20,
   "metadata": {
    "id": "EZvOc8B2i-bH"
   },
   "outputs": [],
   "source": [
    "# our model with its hyper parameters\n",
    "\n",
    "deepl_model = H2ODeepLearningEstimator(activation = \"Tanh\",\n",
    "                               hidden = [15,7,7,7,15],\n",
    "                               epochs = 100,\n",
    "                               standardize = False,\n",
    "                                stopping_metric = 'MSE',\n",
    "                                loss = 'automatic',\n",
    "                                train_samples_per_iteration = 32,\n",
    "                                shuffle_training_data = True,     \n",
    "                               autoencoder = True,\n",
    "                               l1 = 10e-5)"
   ]
  },
  {
   "cell_type": "code",
   "execution_count": 21,
   "metadata": {
    "colab": {
     "base_uri": "https://localhost:8080/"
    },
    "executionInfo": {
     "elapsed": 2972793,
     "status": "ok",
     "timestamp": 1661549483129,
     "user": {
      "displayName": "Olusegun Ajibola",
      "userId": "14016280963587867119"
     },
     "user_tz": -120
    },
    "id": "ysiog36JjAY3",
    "outputId": "e91cd1c6-966f-4036-e71c-800eba6cda44"
   },
   "outputs": [
    {
     "name": "stdout",
     "output_type": "stream",
     "text": [
      "deeplearning Model Build progress: |█████████████████████████████████████████████| (done) 100%\n",
      "deeplearning Model Build progress: |█████████████████████████████████████████████| (done) 100%\n",
      "deeplearning Model Build progress: |█████████████████████████████████████████████| (done) 100%\n",
      "deeplearning Model Build progress: |█████████████████████████████████████████████| (done) 100%\n",
      "deeplearning Model Build progress: |█████████████████████████████████████████████| (done) 100%\n",
      "deeplearning Model Build progress: |█████████████████████████████████████████████| (done) 100%\n",
      "deeplearning Model Build progress: |█████████████████████████████████████████████| (done) 100%\n",
      "deeplearning Model Build progress: |█████████████████████████████████████████████| (done) 100%\n",
      "1min 1s ± 8.43 s per loop (mean ± std. dev. of 7 runs, 1 loop each)\n"
     ]
    }
   ],
   "source": [
    "%timeit deepl_model.train(x = cols , y = 'injury', training_frame = train_h2o) # this takes a while at least an hour "
   ]
  },
  {
   "cell_type": "code",
   "execution_count": 37,
   "metadata": {
    "colab": {
     "base_uri": "https://localhost:8080/"
    },
    "executionInfo": {
     "elapsed": 473,
     "status": "ok",
     "timestamp": 1661549953220,
     "user": {
      "displayName": "Olusegun Ajibola",
      "userId": "14016280963587867119"
     },
     "user_tz": -120
    },
    "id": "5Ken-3NPo4Dq",
    "outputId": "64826733-332a-43f4-e562-b57020411837"
   },
   "outputs": [
    {
     "name": "stdout",
     "output_type": "stream",
     "text": [
      "\n",
      "ModelMetricsAutoEncoder: deeplearning\n",
      "** Reported on train data. **\n",
      "\n",
      "MSE: 1232303716189.851\n",
      "RMSE: 1110091.7602567147\n"
     ]
    },
    {
     "data": {
      "text/plain": []
     },
     "execution_count": 37,
     "metadata": {},
     "output_type": "execute_result"
    }
   ],
   "source": [
    "# Evaluate performance:\n",
    "\n",
    "perf = deepl_model.model_performance()\n",
    "perf"
   ]
  },
  {
   "cell_type": "markdown",
   "metadata": {
    "id": "ic2BV2d-qlE2"
   },
   "source": [
    "The MSE & RMSE helps us to understand how far off our prediction is on the training data as opposed to the actual results. The small number above which almost equals zero tells us that our model performs well on the training set.\n",
    "\n",
    "We also note that $RMSE = \\sqrt{MSE}$"
   ]
  },
  {
   "cell_type": "markdown",
   "metadata": {
    "id": "cxuafel6kRAt"
   },
   "source": [
    "Show the model feature importance in a dataframe"
   ]
  },
  {
   "cell_type": "code",
   "execution_count": 38,
   "metadata": {
    "colab": {
     "base_uri": "https://localhost:8080/",
     "height": 1000
    },
    "executionInfo": {
     "elapsed": 464,
     "status": "ok",
     "timestamp": 1661549956349,
     "user": {
      "displayName": "Olusegun Ajibola",
      "userId": "14016280963587867119"
     },
     "user_tz": -120
    },
    "id": "oA54wpE9jJDG",
    "outputId": "9abef579-3d10-475e-e3a6-2237898c04ba"
   },
   "outputs": [
    {
     "data": {
      "text/html": [
       "<div>\n",
       "<style scoped>\n",
       "    .dataframe tbody tr th:only-of-type {\n",
       "        vertical-align: middle;\n",
       "    }\n",
       "\n",
       "    .dataframe tbody tr th {\n",
       "        vertical-align: top;\n",
       "    }\n",
       "\n",
       "    .dataframe thead th {\n",
       "        text-align: right;\n",
       "    }\n",
       "</style>\n",
       "<table border=\"1\" class=\"dataframe\">\n",
       "  <thead>\n",
       "    <tr style=\"text-align: right;\">\n",
       "      <th></th>\n",
       "      <th>variable</th>\n",
       "      <th>relative_importance</th>\n",
       "      <th>scaled_importance</th>\n",
       "      <th>percentage</th>\n",
       "    </tr>\n",
       "  </thead>\n",
       "  <tbody>\n",
       "    <tr>\n",
       "      <th>0</th>\n",
       "      <td>injury</td>\n",
       "      <td>1.000000</td>\n",
       "      <td>1.000000</td>\n",
       "      <td>0.089409</td>\n",
       "    </tr>\n",
       "    <tr>\n",
       "      <th>1</th>\n",
       "      <td>nr_tough_sessions_(effort_in_z5,_t1_or_t2)_1</td>\n",
       "      <td>0.191991</td>\n",
       "      <td>0.191991</td>\n",
       "      <td>0.017166</td>\n",
       "    </tr>\n",
       "    <tr>\n",
       "      <th>2</th>\n",
       "      <td>min_training_success_2</td>\n",
       "      <td>0.188565</td>\n",
       "      <td>0.188565</td>\n",
       "      <td>0.016859</td>\n",
       "    </tr>\n",
       "    <tr>\n",
       "      <th>3</th>\n",
       "      <td>nr_rest_days_2</td>\n",
       "      <td>0.186311</td>\n",
       "      <td>0.186311</td>\n",
       "      <td>0.016658</td>\n",
       "    </tr>\n",
       "    <tr>\n",
       "      <th>4</th>\n",
       "      <td>total_hours_alternative_training</td>\n",
       "      <td>0.181459</td>\n",
       "      <td>0.181459</td>\n",
       "      <td>0.016224</td>\n",
       "    </tr>\n",
       "    <tr>\n",
       "      <th>...</th>\n",
       "      <td>...</td>\n",
       "      <td>...</td>\n",
       "      <td>...</td>\n",
       "      <td>...</td>\n",
       "    </tr>\n",
       "    <tr>\n",
       "      <th>66</th>\n",
       "      <td>min_training_success_1</td>\n",
       "      <td>0.103075</td>\n",
       "      <td>0.103075</td>\n",
       "      <td>0.009216</td>\n",
       "    </tr>\n",
       "    <tr>\n",
       "      <th>67</th>\n",
       "      <td>date</td>\n",
       "      <td>0.102763</td>\n",
       "      <td>0.102763</td>\n",
       "      <td>0.009188</td>\n",
       "    </tr>\n",
       "    <tr>\n",
       "      <th>68</th>\n",
       "      <td>total_km_z5-t1-t2</td>\n",
       "      <td>0.101149</td>\n",
       "      <td>0.101149</td>\n",
       "      <td>0.009044</td>\n",
       "    </tr>\n",
       "    <tr>\n",
       "      <th>69</th>\n",
       "      <td>total_hours_alternative_training_1</td>\n",
       "      <td>0.097870</td>\n",
       "      <td>0.097870</td>\n",
       "      <td>0.008750</td>\n",
       "    </tr>\n",
       "    <tr>\n",
       "      <th>70</th>\n",
       "      <td>total_km_z3-z4-z5-t1-t2</td>\n",
       "      <td>0.096745</td>\n",
       "      <td>0.096745</td>\n",
       "      <td>0.008650</td>\n",
       "    </tr>\n",
       "  </tbody>\n",
       "</table>\n",
       "<p>71 rows × 4 columns</p>\n",
       "</div>"
      ],
      "text/plain": [
       "                                        variable  relative_importance  \\\n",
       "0                                         injury             1.000000   \n",
       "1   nr_tough_sessions_(effort_in_z5,_t1_or_t2)_1             0.191991   \n",
       "2                         min_training_success_2             0.188565   \n",
       "3                                 nr_rest_days_2             0.186311   \n",
       "4               total_hours_alternative_training             0.181459   \n",
       "..                                           ...                  ...   \n",
       "66                        min_training_success_1             0.103075   \n",
       "67                                          date             0.102763   \n",
       "68                             total_km_z5-t1-t2             0.101149   \n",
       "69            total_hours_alternative_training_1             0.097870   \n",
       "70                       total_km_z3-z4-z5-t1-t2             0.096745   \n",
       "\n",
       "    scaled_importance  percentage  \n",
       "0            1.000000    0.089409  \n",
       "1            0.191991    0.017166  \n",
       "2            0.188565    0.016859  \n",
       "3            0.186311    0.016658  \n",
       "4            0.181459    0.016224  \n",
       "..                ...         ...  \n",
       "66           0.103075    0.009216  \n",
       "67           0.102763    0.009188  \n",
       "68           0.101149    0.009044  \n",
       "69           0.097870    0.008750  \n",
       "70           0.096745    0.008650  \n",
       "\n",
       "[71 rows x 4 columns]"
      ]
     },
     "execution_count": 38,
     "metadata": {},
     "output_type": "execute_result"
    }
   ],
   "source": [
    "deepl_model._model_json['output']['variable_importances'].as_data_frame()"
   ]
  },
  {
   "cell_type": "markdown",
   "metadata": {
    "id": "0ctJxD89kgAw"
   },
   "source": [
    "Visualization of the feature importance"
   ]
  },
  {
   "cell_type": "code",
   "execution_count": 39,
   "metadata": {
    "colab": {
     "base_uri": "https://localhost:8080/",
     "height": 513
    },
    "executionInfo": {
     "elapsed": 851,
     "status": "ok",
     "timestamp": 1661549965239,
     "user": {
      "displayName": "Olusegun Ajibola",
      "userId": "14016280963587867119"
     },
     "user_tz": -120
    },
    "id": "73vZUHmmkfhI",
    "outputId": "1f6f7393-0d14-49a9-b3f9-29cda6aba5a5"
   },
   "outputs": [
    {
     "data": {
      "image/png": "[encoded data removed]",
      "text/plain": [
       "<Figure size 1400x800 with 1 Axes>"
      ]
     },
     "metadata": {},
     "output_type": "display_data"
    }
   ],
   "source": [
    "# plotting the variable importance\n",
    "rcParams['figure.figsize'] = 14, 8\n",
    "#plt.rcdefaults()\n",
    "fig, ax = plt.subplots()\n",
    "\n",
    "variables = deepl_model._model_json['output']['variable_importances']['variable']\n",
    "var = variables[0:10]\n",
    "y_pos = np.arange(len(var))\n",
    "\n",
    "scaled_importance = deepl_model._model_json['output']['variable_importances']['scaled_importance']\n",
    "sc = scaled_importance[0:10]\n",
    "\n",
    "ax.barh(y_pos, sc, align='center', color='green', ecolor='black')\n",
    "ax.set_yticks(y_pos)\n",
    "# ax.set_yticklabels(variables)\n",
    "ax.set_yticklabels(var)\n",
    "ax.invert_yaxis()\n",
    "ax.set_xlabel('Scaled Importance')\n",
    "ax.set_title('Variable Importance of Top 10 Features ')\n",
    "plt.show()"
   ]
  },
  {
   "cell_type": "markdown",
   "metadata": {
    "id": "ir90Ed2_krem"
   },
   "source": [
    "Visualize the model loss."
   ]
  },
  {
   "cell_type": "code",
   "execution_count": 25,
   "metadata": {
    "colab": {
     "base_uri": "https://localhost:8080/",
     "height": 531
    },
    "executionInfo": {
     "elapsed": 558,
     "status": "ok",
     "timestamp": 1661549977060,
     "user": {
      "displayName": "Olusegun Ajibola",
      "userId": "14016280963587867119"
     },
     "user_tz": -120
    },
    "id": "G7ZoE668kfdh",
    "outputId": "186e2a3e-d233-488b-a088-02f8ca814870",
    "tags": []
   },
   "outputs": [
    {
     "data": {
      "text/plain": [
       "Text(0.5, 0, 'epoch')"
      ]
     },
     "execution_count": 25,
     "metadata": {},
     "output_type": "execute_result"
    },
    {
     "data": {
      "image/png": "[encoded data removed]",
      "text/plain": [
       "<Figure size 1400x800 with 1 Axes>"
      ]
     },
     "metadata": {},
     "output_type": "display_data"
    }
   ],
   "source": [
    "# plotting the loss\n",
    "\n",
    "scoring_history = deepl_model.score_history()\n",
    "\n",
    "rcParams['figure.figsize'] = 14, 8\n",
    "plt.plot(scoring_history['training_mse'])\n",
    "plt.title('model loss')\n",
    "plt.ylabel('loss')\n",
    "plt.xlabel('epoch')"
   ]
  },
  {
   "cell_type": "markdown",
   "metadata": {
    "id": "2SFWIkEUkyrQ"
   },
   "source": [
    "Visualize the scatter plot across the dataset"
   ]
  },
  {
   "cell_type": "code",
   "execution_count": 26,
   "metadata": {
    "colab": {
     "base_uri": "https://localhost:8080/",
     "height": 497
    },
    "executionInfo": {
     "elapsed": 1284,
     "status": "ok",
     "timestamp": 1661550047053,
     "user": {
      "displayName": "Olusegun Ajibola",
      "userId": "14016280963587867119"
     },
     "user_tz": -120
    },
    "id": "BQFsmBYqkedk",
    "outputId": "45a6bc5f-7683-40d8-f615-3d58497b7a7b"
   },
   "outputs": [
    {
     "data": {
      "image/png": "[encoded data removed]",
      "text/plain": [
       "<Figure size 1400x800 with 1 Axes>"
      ]
     },
     "metadata": {},
     "output_type": "display_data"
    }
   ],
   "source": [
    "test_rec_error = deepl_model.anomaly(test_h2o) \n",
    "\n",
    "# deepl is a H2O function which calculates the error for the dataset\n",
    "\n",
    "# converting to pandas dataframe\n",
    "test_rec_error_df = test_rec_error.as_data_frame()\n",
    "\n",
    "# plotting the testing dataset against the error\n",
    "test_rec_error_df['id'] = test_rec_error_df.index\n",
    "rcParams['figure.figsize'] = 14, 8\n",
    "test_rec_error_df.plot(kind=\"scatter\", x='id', y=\"Reconstruction.MSE\")\n",
    "plt.show()"
   ]
  },
  {
   "cell_type": "code",
   "execution_count": 27,
   "metadata": {
    "colab": {
     "base_uri": "https://localhost:8080/",
     "height": 162
    },
    "executionInfo": {
     "elapsed": 923,
     "status": "ok",
     "timestamp": 1661550105410,
     "user": {
      "displayName": "Olusegun Ajibola",
      "userId": "14016280963587867119"
     },
     "user_tz": -120
    },
    "id": "bh5vqpwrk-6f",
    "outputId": "025423f6-730d-45cb-f405-43343b980dee"
   },
   "outputs": [
    {
     "name": "stdout",
     "output_type": "stream",
     "text": [
      "deeplearning prediction progress: |██████████████████████████████████████████████| (done) 100%\n"
     ]
    },
    {
     "data": {
      "text/html": [
       "<div>\n",
       "<style scoped>\n",
       "    .dataframe tbody tr th:only-of-type {\n",
       "        vertical-align: middle;\n",
       "    }\n",
       "\n",
       "    .dataframe tbody tr th {\n",
       "        vertical-align: top;\n",
       "    }\n",
       "\n",
       "    .dataframe thead th {\n",
       "        text-align: right;\n",
       "    }\n",
       "</style>\n",
       "<table border=\"1\" class=\"dataframe\">\n",
       "  <thead>\n",
       "    <tr style=\"text-align: right;\">\n",
       "      <th></th>\n",
       "      <th>reconstruction_error</th>\n",
       "    </tr>\n",
       "    <tr>\n",
       "      <th>true_class</th>\n",
       "      <th></th>\n",
       "    </tr>\n",
       "  </thead>\n",
       "  <tbody>\n",
       "    <tr>\n",
       "      <th>0</th>\n",
       "      <td>8441</td>\n",
       "    </tr>\n",
       "    <tr>\n",
       "      <th>1</th>\n",
       "      <td>121</td>\n",
       "    </tr>\n",
       "  </tbody>\n",
       "</table>\n",
       "</div>"
      ],
      "text/plain": [
       "            reconstruction_error\n",
       "true_class                      \n",
       "0                           8441\n",
       "1                            121"
      ]
     },
     "execution_count": 27,
     "metadata": {},
     "output_type": "execute_result"
    }
   ],
   "source": [
    "# predicting the class for the testing dataset\n",
    "predictions = deepl_model.predict(test_h2o)\n",
    "error_df = pd.DataFrame({'reconstruction_error': test_rec_error_df['Reconstruction.MSE'],\n",
    "                        'true_class': Y_test_df})\n",
    "error_df.groupby('true_class').count()"
   ]
  },
  {
   "cell_type": "markdown",
   "metadata": {
    "id": "1w7rTflOmqaR"
   },
   "source": [
    "Calculate the threshold score/ cutoff score"
   ]
  },
  {
   "cell_type": "code",
   "execution_count": 28,
   "metadata": {
    "colab": {
     "base_uri": "https://localhost:8080/"
    },
    "executionInfo": {
     "elapsed": 1053,
     "status": "ok",
     "timestamp": 1661550124839,
     "user": {
      "displayName": "Olusegun Ajibola",
      "userId": "14016280963587867119"
     },
     "user_tz": -120
    },
    "id": "Eh8uvN88lJCG",
    "outputId": "7e0c71d8-88a3-4e6c-cf73-14ed3e3d65db"
   },
   "outputs": [
    {
     "data": {
      "text/plain": [
       "61742376521536.88"
      ]
     },
     "execution_count": 28,
     "metadata": {},
     "output_type": "execute_result"
    }
   ],
   "source": [
    "score_mean = error_df['reconstruction_error'].mean()\n",
    "score_std = error_df['reconstruction_error'].std()\n",
    "score_cutoff = score_mean + 4*score_std\n",
    "score_cutoff"
   ]
  },
  {
   "cell_type": "code",
   "execution_count": 29,
   "metadata": {
    "colab": {
     "base_uri": "https://localhost:8080/"
    },
    "executionInfo": {
     "elapsed": 923,
     "status": "ok",
     "timestamp": 1661550129468,
     "user": {
      "displayName": "Olusegun Ajibola",
      "userId": "14016280963587867119"
     },
     "user_tz": -120
    },
    "id": "QXGWE7GEmuZV",
    "outputId": "52ab71a1-a420-40b3-df20-85a100072836"
   },
   "outputs": [
    {
     "data": {
      "text/plain": [
       "reconstruction_error    121\n",
       "true_class              121\n",
       "dtype: int64"
      ]
     },
     "execution_count": 29,
     "metadata": {},
     "output_type": "execute_result"
    }
   ],
   "source": [
    "error_df[(error_df['true_class'] == 1) & error_df['reconstruction_error'] > 0.0095].count()"
   ]
  },
  {
   "cell_type": "markdown",
   "metadata": {
    "id": "R3ostMdJm446"
   },
   "source": [
    "Print out the confusion matrix and adjust and tune the confusion matrix from the threshold."
   ]
  },
  {
   "cell_type": "code",
   "execution_count": 30,
   "metadata": {
    "id": "ysr4PhagVgjL"
   },
   "outputs": [],
   "source": [
    "# len(y_pred), len(error_df.true_class)"
   ]
  },
  {
   "cell_type": "code",
   "execution_count": 31,
   "metadata": {
    "colab": {
     "base_uri": "https://localhost:8080/",
     "height": 49
    },
    "executionInfo": {
     "elapsed": 420,
     "status": "ok",
     "timestamp": 1661550139734,
     "user": {
      "displayName": "Olusegun Ajibola",
      "userId": "14016280963587867119"
     },
     "user_tz": -120
    },
    "id": "Qv9BWEtgXSA4",
    "outputId": "212b4761-b96d-4326-f3f7-bea7151125ab"
   },
   "outputs": [
    {
     "data": {
      "text/html": [
       "<div>\n",
       "<style scoped>\n",
       "    .dataframe tbody tr th:only-of-type {\n",
       "        vertical-align: middle;\n",
       "    }\n",
       "\n",
       "    .dataframe tbody tr th {\n",
       "        vertical-align: top;\n",
       "    }\n",
       "\n",
       "    .dataframe thead th {\n",
       "        text-align: right;\n",
       "    }\n",
       "</style>\n",
       "<table border=\"1\" class=\"dataframe\">\n",
       "  <thead>\n",
       "    <tr style=\"text-align: right;\">\n",
       "      <th></th>\n",
       "      <th>reconstruction_error</th>\n",
       "      <th>true_class</th>\n",
       "    </tr>\n",
       "  </thead>\n",
       "  <tbody>\n",
       "  </tbody>\n",
       "</table>\n",
       "</div>"
      ],
      "text/plain": [
       "Empty DataFrame\n",
       "Columns: [reconstruction_error, true_class]\n",
       "Index: []"
      ]
     },
     "execution_count": 31,
     "metadata": {},
     "output_type": "execute_result"
    }
   ],
   "source": [
    "error_df[error_df['true_class'] == 'NaN' ]"
   ]
  },
  {
   "cell_type": "code",
   "execution_count": 137,
   "metadata": {
    "colab": {
     "base_uri": "https://localhost:8080/",
     "height": 730
    },
    "executionInfo": {
     "elapsed": 957,
     "status": "ok",
     "timestamp": 1661550570050,
     "user": {
      "displayName": "Olusegun Ajibola",
      "userId": "14016280963587867119"
     },
     "user_tz": -120
    },
    "id": "9zhQqaJ5mw6h",
    "outputId": "33383ec3-8f68-49da-f984-4625be177fd9"
   },
   "outputs": [
    {
     "data": {
      "image/png": "[encoded data removed]",
      "text/plain": [
       "<Figure size 1200x1200 with 2 Axes>"
      ]
     },
     "metadata": {},
     "output_type": "display_data"
    }
   ],
   "source": [
    "threshold = 85000 # we can equally choose to use different values for our threshold [0.009]\n",
    "LABELS = ['Injury', 'No Injury']\n",
    "y_pred = [1 if e > threshold else 0 for e in error_df.reconstruction_error.values]\n",
    "conf_matrix = confusion_matrix(error_df.true_class, y_pred)\n",
    "plt.figure(figsize=(12, 12))\n",
    "sns.heatmap(conf_matrix, xticklabels=LABELS, yticklabels=LABELS, annot=True, fmt=\"d\");\n",
    "plt.title(\"Confusion matrix\")\n",
    "plt.ylabel('True class')\n",
    "plt.xlabel('Predicted class')\n",
    "plt.show()"
   ]
  },
  {
   "cell_type": "markdown",
   "metadata": {
    "id": "E7WigCeargv-"
   },
   "source": [
    "The confusion matrix above helps us to understand our accuracy on the test data. \n",
    "\n",
    "We note that:\n",
    "- 6963: The model predicts this case to be actually injury where the true case is injury too.\n",
    "- 24: The model predicts no-injury with the true case being no injury.\n",
    "- 96: The model predicts injury where the actual class in no-injury\n",
    "- 1442: The model predicts no-injury where the actual class is injury.\n",
    "\n",
    "The above explanation is given in the classification report below."
   ]
  },
  {
   "cell_type": "code",
   "execution_count": 138,
   "metadata": {
    "colab": {
     "base_uri": "https://localhost:8080/"
    },
    "executionInfo": {
     "elapsed": 604,
     "status": "ok",
     "timestamp": 1661550572900,
     "user": {
      "displayName": "Olusegun Ajibola",
      "userId": "14016280963587867119"
     },
     "user_tz": -120
    },
    "id": "1r58H_V9HjyY",
    "outputId": "de25a40b-0a02-41d3-f297-c44167817cd1"
   },
   "outputs": [
    {
     "name": "stdout",
     "output_type": "stream",
     "text": [
      "              precision    recall  f1-score   support\n",
      "\n",
      "           0       0.99      0.88      0.93      8441\n",
      "           1       0.01      0.12      0.03       121\n",
      "\n",
      "    accuracy                           0.87      8562\n",
      "   macro avg       0.50      0.50      0.48      8562\n",
      "weighted avg       0.97      0.87      0.92      8562\n",
      "\n"
     ]
    }
   ],
   "source": [
    "print(classification_report(error_df.true_class, y_pred))"
   ]
  },
  {
   "cell_type": "code",
   "execution_count": 139,
   "metadata": {},
   "outputs": [
    {
     "data": {
      "text/plain": [
       "0.02617801047120419"
      ]
     },
     "execution_count": 139,
     "metadata": {},
     "output_type": "execute_result"
    }
   ],
   "source": [
    "f1_score(error_df.true_class, y_pred)"
   ]
  },
  {
   "cell_type": "code",
   "execution_count": 140,
   "metadata": {},
   "outputs": [
    {
     "data": {
      "text/plain": [
       "0.869656622284513"
      ]
     },
     "execution_count": 140,
     "metadata": {},
     "output_type": "execute_result"
    }
   ],
   "source": [
    "accuracy_score(error_df.true_class, y_pred)"
   ]
  },
  {
   "cell_type": "code",
   "execution_count": 141,
   "metadata": {},
   "outputs": [
    {
     "data": {
      "text/plain": [
       "0.13034337771548704"
      ]
     },
     "execution_count": 141,
     "metadata": {},
     "output_type": "execute_result"
    }
   ],
   "source": [
    "mean_squared_error(error_df.true_class, y_pred)"
   ]
  },
  {
   "cell_type": "markdown",
   "metadata": {
    "id": "LHDzPS1PAyAy"
   },
   "source": [
    "# Conclusion I\n",
    "\n",
    "- All models i.e Autoenconders, Isolation Forest and One Class SVM have a high accuracy.  \n",
    "- Isolation Forest has the best f1 score and we conclude it to be our best model."
   ]
  },
  {
   "cell_type": "code",
   "execution_count": null,
   "metadata": {},
   "outputs": [],
   "source": []
  }
 ],
 "metadata": {
  "colab": {
   "authorship_tag": "ABX9TyNatMkjs60/4PGct5YcRMAf",
   "collapsed_sections": [],
   "mount_file_id": "1PJm3hWtdtvX-hDKbbw5rNUA1gbKfIyzn",
   "name": "",
   "toc_visible": true,
   "version": ""
  },
  "gpuClass": "standard",
  "kernelspec": {
   "display_name": "Python 3 (ipykernel)",
   "language": "python",
   "name": "python3"
  },
  "language_info": {
   "codemirror_mode": {
    "name": "ipython",
    "version": 3
   },
   "file_extension": ".py",
   "mimetype": "text/x-python",
   "name": "python",
   "nbconvert_exporter": "python",
   "pygments_lexer": "ipython3",
   "version": "3.9.13"
  },
  "toc-autonumbering": false
 },
 "nbformat": 4,
 "nbformat_minor": 4
}
