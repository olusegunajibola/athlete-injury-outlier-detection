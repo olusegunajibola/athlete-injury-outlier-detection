{
 "cells": [
  {
   "cell_type": "markdown",
   "metadata": {
    "id": "s7n20Yz89dwe"
   },
   "source": [
    "# Importing and Data Preparation"
   ]
  },
  {
   "cell_type": "code",
   "execution_count": 14,
   "metadata": {
    "executionInfo": {
     "elapsed": 14,
     "status": "ok",
     "timestamp": 1662732225454,
     "user": {
      "displayName": "Olusegun Ajibola",
      "userId": "14016280963587867119"
     },
     "user_tz": -120
    },
    "id": "_01TAJ-GjI0y"
   },
   "outputs": [],
   "source": [
    "# !pip install h2o # we need to run this at every instance if we are using google colab, "
   ]
  },
  {
   "cell_type": "code",
   "execution_count": 15,
   "metadata": {
    "executionInfo": {
     "elapsed": 13,
     "status": "ok",
     "timestamp": 1662732225455,
     "user": {
      "displayName": "Olusegun Ajibola",
      "userId": "14016280963587867119"
     },
     "user_tz": -120
    },
    "id": "WgcpKC5LKx0n"
   },
   "outputs": [],
   "source": [
    "# import h2o\n",
    "# from h2o.estimators.deeplearning import H2OAutoEncoderEstimator, H2ODeepLearningEstimator"
   ]
  },
  {
   "cell_type": "code",
   "execution_count": 29,
   "metadata": {
    "executionInfo": {
     "elapsed": 298,
     "status": "ok",
     "timestamp": 1662732667396,
     "user": {
      "displayName": "Olusegun Ajibola",
      "userId": "14016280963587867119"
     },
     "user_tz": -120
    },
    "id": "paYvI9iy5izh",
    "scrolled": true
   },
   "outputs": [],
   "source": [
    "# importing relevant libraries\n",
    "\n",
    "import time\n",
    "\n",
    "import matplotlib.pyplot as plt # plotting graphs\n",
    "import seaborn as sns\n",
    "\n",
    "from pylab import rcParams\n",
    "\n",
    "import sys\n",
    "\n",
    "import numpy as np # linear algebra\n",
    "np.set_printoptions(threshold=sys.maxsize) # view max elements of numpy array\n",
    "\n",
    "import pandas as pd # data processing, CSV file I/O (e.g. pd.read_csv)\n",
    "pd.set_option('display.max_columns', None) #pandas shows maximum columns\n",
    "pd.set_option('display.max_rows', 146) #pandas shows 73 rows\n",
    "\n",
    "import os # for file directories\n",
    "\n",
    "from sklearn.metrics import (confusion_matrix, precision_recall_curve, auc,\n",
    "                             roc_curve, recall_score, classification_report, f1_score,\n",
    "                             precision_recall_fscore_support, make_scorer)\n",
    "from sklearn.ensemble import IsolationForest\n",
    "from sklearn.model_selection import train_test_split, GridSearchCV\n",
    "from sklearn import model_selection\n",
    "\n",
    "from sklearn.pipeline import Pipeline, make_pipeline\n",
    "from sklearn.preprocessing import StandardScaler\n",
    "\n",
    "from sklearn.svm import OneClassSVM\n",
    "from sklearn.decomposition import PCA"
   ]
  },
  {
   "cell_type": "code",
   "execution_count": 17,
   "metadata": {
    "colab": {
     "base_uri": "https://localhost:8080/"
    },
    "executionInfo": {
     "elapsed": 10,
     "status": "ok",
     "timestamp": 1662732226714,
     "user": {
      "displayName": "Olusegun Ajibola",
      "userId": "14016280963587867119"
     },
     "user_tz": -120
    },
    "id": "pyC1C5CMiiQB",
    "outputId": "9915d28f-0188-4661-9cc6-77c4bfdfefc7"
   },
   "outputs": [
    {
     "name": "stdout",
     "output_type": "stream",
     "text": [
      " Volume in drive C has no label.\n",
      " Volume Serial Number is 7EC7-B585\n",
      "\n",
      " Directory of C:\\Users\\USER\\Downloads\\MercJbs\n",
      "\n",
      "\n",
      " Directory of C:\\Users\\USER\\Downloads\\MercJbs\n",
      "\n",
      "\n",
      " Directory of C:\\Users\\USER\\Downloads\\MercJbs\n",
      "\n",
      "\n",
      " Directory of C:\\Users\\USER\\Downloads\\MercJbs\n",
      "\n"
     ]
    },
    {
     "name": "stderr",
     "output_type": "stream",
     "text": [
      "File Not Found\n"
     ]
    }
   ],
   "source": [
    "ls # shows our directory"
   ]
  },
  {
   "cell_type": "code",
   "execution_count": 18,
   "metadata": {
    "executionInfo": {
     "elapsed": 5,
     "status": "ok",
     "timestamp": 1662732226715,
     "user": {
      "displayName": "Olusegun Ajibola",
      "userId": "14016280963587867119"
     },
     "user_tz": -120
    },
    "id": "7crl5r-O5qRi"
   },
   "outputs": [],
   "source": [
    "# os.chdir('/content/drive/MyDrive/Colab Files/MercJbs') # change directory"
   ]
  },
  {
   "cell_type": "code",
   "execution_count": 19,
   "metadata": {
    "colab": {
     "base_uri": "https://localhost:8080/"
    },
    "executionInfo": {
     "elapsed": 338,
     "status": "ok",
     "timestamp": 1662732227048,
     "user": {
      "displayName": "Olusegun Ajibola",
      "userId": "14016280963587867119"
     },
     "user_tz": -120
    },
    "id": "mOJ6ZDRL-zVD",
    "outputId": "ed2f1ed1-9dc1-4e6c-8de5-0a5faad693d2"
   },
   "outputs": [
    {
     "name": "stderr",
     "output_type": "stream",
     "text": [
      "Invalid switch - \"folders\".\n"
     ]
    }
   ],
   "source": [
    "ls # show current files/folders in directory"
   ]
  },
  {
   "cell_type": "code",
   "execution_count": 20,
   "metadata": {},
   "outputs": [
    {
     "data": {
      "text/plain": [
       "'C:\\\\Users\\\\USER\\\\Downloads\\\\MercJbs'"
      ]
     },
     "execution_count": 20,
     "metadata": {},
     "output_type": "execute_result"
    }
   ],
   "source": [
    "pwd"
   ]
  },
  {
   "cell_type": "code",
   "execution_count": 21,
   "metadata": {
    "executionInfo": {
     "elapsed": 860,
     "status": "ok",
     "timestamp": 1662732227906,
     "user": {
      "displayName": "Olusegun Ajibola",
      "userId": "14016280963587867119"
     },
     "user_tz": -120
    },
    "id": "QGgz2H94ZFT8"
   },
   "outputs": [],
   "source": [
    "# import dataset\n",
    "df_day = pd.read_csv(r'data/day_approach_maskedID_timeseries_v2.0.csv')"
   ]
  },
  {
   "cell_type": "code",
   "execution_count": 22,
   "metadata": {
    "colab": {
     "base_uri": "https://localhost:8080/",
     "height": 179
    },
    "executionInfo": {
     "elapsed": 338,
     "status": "ok",
     "timestamp": 1662732228240,
     "user": {
      "displayName": "Olusegun Ajibola",
      "userId": "14016280963587867119"
     },
     "user_tz": -120
    },
    "id": "YNCTAcN7wVKO",
    "outputId": "4ccd4988-ea93-455b-e674-59001600bc25"
   },
   "outputs": [
    {
     "data": {
      "text/html": [
       "<div>\n",
       "<style scoped>\n",
       "    .dataframe tbody tr th:only-of-type {\n",
       "        vertical-align: middle;\n",
       "    }\n",
       "\n",
       "    .dataframe tbody tr th {\n",
       "        vertical-align: top;\n",
       "    }\n",
       "\n",
       "    .dataframe thead th {\n",
       "        text-align: right;\n",
       "    }\n",
       "</style>\n",
       "<table border=\"1\" class=\"dataframe\">\n",
       "  <thead>\n",
       "    <tr style=\"text-align: right;\">\n",
       "      <th></th>\n",
       "      <th>Unnamed: 0</th>\n",
       "      <th>nr_sessions</th>\n",
       "      <th>total_km</th>\n",
       "      <th>km_z3-4</th>\n",
       "      <th>km_z5-t1-t2</th>\n",
       "      <th>km_sprinting</th>\n",
       "      <th>strength_training</th>\n",
       "      <th>hours_alternative</th>\n",
       "      <th>perceived_exertion</th>\n",
       "      <th>perceived_trainingsuccess</th>\n",
       "      <th>perceived_recovery</th>\n",
       "      <th>nr_sessions_1</th>\n",
       "      <th>total_km_1</th>\n",
       "      <th>km_z3-4_1</th>\n",
       "      <th>km_z5-t1-t2_1</th>\n",
       "      <th>km_sprinting_1</th>\n",
       "      <th>strength_training_1</th>\n",
       "      <th>hours_alternative_1</th>\n",
       "      <th>perceived_exertion_1</th>\n",
       "      <th>perceived_trainingsuccess_1</th>\n",
       "      <th>perceived_recovery_1</th>\n",
       "      <th>nr_sessions_2</th>\n",
       "      <th>total_km_2</th>\n",
       "      <th>km_z3-4_2</th>\n",
       "      <th>km_z5-t1-t2_2</th>\n",
       "      <th>km_sprinting_2</th>\n",
       "      <th>strength_training_2</th>\n",
       "      <th>hours_alternative_2</th>\n",
       "      <th>perceived_exertion_2</th>\n",
       "      <th>perceived_trainingsuccess_2</th>\n",
       "      <th>perceived_recovery_2</th>\n",
       "      <th>nr_sessions_3</th>\n",
       "      <th>total_km_3</th>\n",
       "      <th>km_z3-4_3</th>\n",
       "      <th>km_z5-t1-t2_3</th>\n",
       "      <th>km_sprinting_3</th>\n",
       "      <th>strength_training_3</th>\n",
       "      <th>hours_alternative_3</th>\n",
       "      <th>perceived_exertion_3</th>\n",
       "      <th>perceived_trainingsuccess_3</th>\n",
       "      <th>perceived_recovery_3</th>\n",
       "      <th>nr_sessions_4</th>\n",
       "      <th>total_km_4</th>\n",
       "      <th>km_z3-4_4</th>\n",
       "      <th>km_z5-t1-t2_4</th>\n",
       "      <th>km_sprinting_4</th>\n",
       "      <th>strength_training_4</th>\n",
       "      <th>hours_alternative_4</th>\n",
       "      <th>perceived_exertion_4</th>\n",
       "      <th>perceived_trainingsuccess_4</th>\n",
       "      <th>perceived_recovery_4</th>\n",
       "      <th>nr_sessions_5</th>\n",
       "      <th>total_km_5</th>\n",
       "      <th>km_z3-4_5</th>\n",
       "      <th>km_z5-t1-t2_5</th>\n",
       "      <th>km_sprinting_5</th>\n",
       "      <th>strength_training_5</th>\n",
       "      <th>hours_alternative_5</th>\n",
       "      <th>perceived_exertion_5</th>\n",
       "      <th>perceived_trainingsuccess_5</th>\n",
       "      <th>perceived_recovery_5</th>\n",
       "      <th>nr_sessions_6</th>\n",
       "      <th>total_km_6</th>\n",
       "      <th>km_z3-4_6</th>\n",
       "      <th>km_z5-t1-t2_6</th>\n",
       "      <th>km_sprinting_6</th>\n",
       "      <th>strength_training_6</th>\n",
       "      <th>hours_alternative_6</th>\n",
       "      <th>perceived_exertion_6</th>\n",
       "      <th>perceived_trainingsuccess_6</th>\n",
       "      <th>perceived_recovery_6</th>\n",
       "      <th>athlete_id</th>\n",
       "      <th>injury</th>\n",
       "      <th>date</th>\n",
       "    </tr>\n",
       "  </thead>\n",
       "  <tbody>\n",
       "    <tr>\n",
       "      <th>0</th>\n",
       "      <td>0</td>\n",
       "      <td>1</td>\n",
       "      <td>5.8</td>\n",
       "      <td>0.0</td>\n",
       "      <td>0.6</td>\n",
       "      <td>1.2</td>\n",
       "      <td>0</td>\n",
       "      <td>0.0</td>\n",
       "      <td>0.11</td>\n",
       "      <td>0.0</td>\n",
       "      <td>0.18</td>\n",
       "      <td>0</td>\n",
       "      <td>0.0</td>\n",
       "      <td>0.0</td>\n",
       "      <td>0.0</td>\n",
       "      <td>0.0</td>\n",
       "      <td>0</td>\n",
       "      <td>0.0</td>\n",
       "      <td>-0.01</td>\n",
       "      <td>-0.01</td>\n",
       "      <td>-0.01</td>\n",
       "      <td>1</td>\n",
       "      <td>0.0</td>\n",
       "      <td>0.0</td>\n",
       "      <td>0.0</td>\n",
       "      <td>0.0</td>\n",
       "      <td>1</td>\n",
       "      <td>0.0</td>\n",
       "      <td>0.1</td>\n",
       "      <td>0.0</td>\n",
       "      <td>0.17</td>\n",
       "      <td>0</td>\n",
       "      <td>0.0</td>\n",
       "      <td>0.0</td>\n",
       "      <td>0.0</td>\n",
       "      <td>0.0</td>\n",
       "      <td>0</td>\n",
       "      <td>0.0</td>\n",
       "      <td>-0.01</td>\n",
       "      <td>-0.01</td>\n",
       "      <td>-0.01</td>\n",
       "      <td>1</td>\n",
       "      <td>0.0</td>\n",
       "      <td>0.0</td>\n",
       "      <td>0.0</td>\n",
       "      <td>0.0</td>\n",
       "      <td>0</td>\n",
       "      <td>1.08</td>\n",
       "      <td>0.08</td>\n",
       "      <td>0.0</td>\n",
       "      <td>0.18</td>\n",
       "      <td>1</td>\n",
       "      <td>16.4</td>\n",
       "      <td>10.0</td>\n",
       "      <td>0.0</td>\n",
       "      <td>0.0</td>\n",
       "      <td>1</td>\n",
       "      <td>0.0</td>\n",
       "      <td>0.11</td>\n",
       "      <td>0.0</td>\n",
       "      <td>0.17</td>\n",
       "      <td>1</td>\n",
       "      <td>0.0</td>\n",
       "      <td>0.0</td>\n",
       "      <td>0.0</td>\n",
       "      <td>0.0</td>\n",
       "      <td>0</td>\n",
       "      <td>1.0</td>\n",
       "      <td>0.1</td>\n",
       "      <td>0.0</td>\n",
       "      <td>0.15</td>\n",
       "      <td>0</td>\n",
       "      <td>0</td>\n",
       "      <td>0</td>\n",
       "    </tr>\n",
       "  </tbody>\n",
       "</table>\n",
       "</div>"
      ],
      "text/plain": [
       "   Unnamed: 0  nr_sessions  total_km  km_z3-4  km_z5-t1-t2  km_sprinting  \\\n",
       "0           0            1       5.8      0.0          0.6           1.2   \n",
       "\n",
       "   strength_training  hours_alternative  perceived_exertion  \\\n",
       "0                  0                0.0                0.11   \n",
       "\n",
       "   perceived_trainingsuccess  perceived_recovery  nr_sessions_1  total_km_1  \\\n",
       "0                        0.0                0.18              0         0.0   \n",
       "\n",
       "   km_z3-4_1  km_z5-t1-t2_1  km_sprinting_1  strength_training_1  \\\n",
       "0        0.0            0.0             0.0                    0   \n",
       "\n",
       "   hours_alternative_1  perceived_exertion_1  perceived_trainingsuccess_1  \\\n",
       "0                  0.0                 -0.01                        -0.01   \n",
       "\n",
       "   perceived_recovery_1  nr_sessions_2  total_km_2  km_z3-4_2  km_z5-t1-t2_2  \\\n",
       "0                 -0.01              1         0.0        0.0            0.0   \n",
       "\n",
       "   km_sprinting_2  strength_training_2  hours_alternative_2  \\\n",
       "0             0.0                    1                  0.0   \n",
       "\n",
       "   perceived_exertion_2  perceived_trainingsuccess_2  perceived_recovery_2  \\\n",
       "0                   0.1                          0.0                  0.17   \n",
       "\n",
       "   nr_sessions_3  total_km_3  km_z3-4_3  km_z5-t1-t2_3  km_sprinting_3  \\\n",
       "0              0         0.0        0.0            0.0             0.0   \n",
       "\n",
       "   strength_training_3  hours_alternative_3  perceived_exertion_3  \\\n",
       "0                    0                  0.0                 -0.01   \n",
       "\n",
       "   perceived_trainingsuccess_3  perceived_recovery_3  nr_sessions_4  \\\n",
       "0                        -0.01                 -0.01              1   \n",
       "\n",
       "   total_km_4  km_z3-4_4  km_z5-t1-t2_4  km_sprinting_4  strength_training_4  \\\n",
       "0         0.0        0.0            0.0             0.0                    0   \n",
       "\n",
       "   hours_alternative_4  perceived_exertion_4  perceived_trainingsuccess_4  \\\n",
       "0                 1.08                  0.08                          0.0   \n",
       "\n",
       "   perceived_recovery_4  nr_sessions_5  total_km_5  km_z3-4_5  km_z5-t1-t2_5  \\\n",
       "0                  0.18              1        16.4       10.0            0.0   \n",
       "\n",
       "   km_sprinting_5  strength_training_5  hours_alternative_5  \\\n",
       "0             0.0                    1                  0.0   \n",
       "\n",
       "   perceived_exertion_5  perceived_trainingsuccess_5  perceived_recovery_5  \\\n",
       "0                  0.11                          0.0                  0.17   \n",
       "\n",
       "   nr_sessions_6  total_km_6  km_z3-4_6  km_z5-t1-t2_6  km_sprinting_6  \\\n",
       "0              1         0.0        0.0            0.0             0.0   \n",
       "\n",
       "   strength_training_6  hours_alternative_6  perceived_exertion_6  \\\n",
       "0                    0                  1.0                   0.1   \n",
       "\n",
       "   perceived_trainingsuccess_6  perceived_recovery_6  athlete_id  injury  date  \n",
       "0                          0.0                  0.15           0       0     0  "
      ]
     },
     "execution_count": 22,
     "metadata": {},
     "output_type": "execute_result"
    }
   ],
   "source": [
    "df_day.head(1)"
   ]
  },
  {
   "cell_type": "code",
   "execution_count": 23,
   "metadata": {
    "executionInfo": {
     "elapsed": 8,
     "status": "ok",
     "timestamp": 1662732228241,
     "user": {
      "displayName": "Olusegun Ajibola",
      "userId": "14016280963587867119"
     },
     "user_tz": -120
    },
    "id": "MH3yW-pcDx3C"
   },
   "outputs": [],
   "source": [
    "df_day.drop(['Unnamed: 0'], axis = 1, inplace = True)\n",
    "df_day['date'] = df_day['date'].astype('category')"
   ]
  },
  {
   "cell_type": "code",
   "execution_count": 24,
   "metadata": {
    "executionInfo": {
     "elapsed": 8,
     "status": "ok",
     "timestamp": 1662732228242,
     "user": {
      "displayName": "Olusegun Ajibola",
      "userId": "14016280963587867119"
     },
     "user_tz": -120
    },
    "id": "Wowekz941-d6"
   },
   "outputs": [],
   "source": [
    "# df_day['injury'] = df_day['injury'].apply(lambda x: 'yes' if x == 1 else 'no')"
   ]
  },
  {
   "cell_type": "code",
   "execution_count": 25,
   "metadata": {
    "colab": {
     "base_uri": "https://localhost:8080/"
    },
    "executionInfo": {
     "elapsed": 393,
     "status": "ok",
     "timestamp": 1662732228627,
     "user": {
      "displayName": "Olusegun Ajibola",
      "userId": "14016280963587867119"
     },
     "user_tz": -120
    },
    "id": "XB12N9N82dHt",
    "outputId": "1b44ff1a-ba23-4255-b725-d70dc5e0d8b5"
   },
   "outputs": [
    {
     "data": {
      "text/plain": [
       "[0, 1]\n",
       "Categories (2, int64): [0, 1]"
      ]
     },
     "execution_count": 25,
     "metadata": {},
     "output_type": "execute_result"
    }
   ],
   "source": [
    "\n",
    "df_day[df_day.nunique()[df_day.nunique() < 30].index] = df_day[df_day.nunique()[df_day.nunique() < 30].index].astype('category')\n",
    "df_day['injury'].unique()"
   ]
  },
  {
   "cell_type": "code",
   "execution_count": 26,
   "metadata": {
    "colab": {
     "base_uri": "https://localhost:8080/",
     "height": 305
    },
    "executionInfo": {
     "elapsed": 17,
     "status": "ok",
     "timestamp": 1662732228628,
     "user": {
      "displayName": "Olusegun Ajibola",
      "userId": "14016280963587867119"
     },
     "user_tz": -120
    },
    "id": "VJlFVtqGDhb-",
    "outputId": "afcc131a-9e63-42bd-c90c-1198f076d8d3"
   },
   "outputs": [
    {
     "data": {
      "text/html": [
       "<div>\n",
       "<style scoped>\n",
       "    .dataframe tbody tr th:only-of-type {\n",
       "        vertical-align: middle;\n",
       "    }\n",
       "\n",
       "    .dataframe tbody tr th {\n",
       "        vertical-align: top;\n",
       "    }\n",
       "\n",
       "    .dataframe thead th {\n",
       "        text-align: right;\n",
       "    }\n",
       "</style>\n",
       "<table border=\"1\" class=\"dataframe\">\n",
       "  <thead>\n",
       "    <tr style=\"text-align: right;\">\n",
       "      <th></th>\n",
       "      <th>nr_sessions</th>\n",
       "      <th>total_km</th>\n",
       "      <th>km_z3-4</th>\n",
       "      <th>km_z5-t1-t2</th>\n",
       "      <th>km_sprinting</th>\n",
       "      <th>strength_training</th>\n",
       "      <th>hours_alternative</th>\n",
       "      <th>perceived_exertion</th>\n",
       "      <th>perceived_trainingsuccess</th>\n",
       "      <th>perceived_recovery</th>\n",
       "      <th>nr_sessions_1</th>\n",
       "      <th>total_km_1</th>\n",
       "      <th>km_z3-4_1</th>\n",
       "      <th>km_z5-t1-t2_1</th>\n",
       "      <th>km_sprinting_1</th>\n",
       "      <th>strength_training_1</th>\n",
       "      <th>hours_alternative_1</th>\n",
       "      <th>perceived_exertion_1</th>\n",
       "      <th>perceived_trainingsuccess_1</th>\n",
       "      <th>perceived_recovery_1</th>\n",
       "      <th>nr_sessions_2</th>\n",
       "      <th>total_km_2</th>\n",
       "      <th>km_z3-4_2</th>\n",
       "      <th>km_z5-t1-t2_2</th>\n",
       "      <th>km_sprinting_2</th>\n",
       "      <th>strength_training_2</th>\n",
       "      <th>hours_alternative_2</th>\n",
       "      <th>perceived_exertion_2</th>\n",
       "      <th>perceived_trainingsuccess_2</th>\n",
       "      <th>perceived_recovery_2</th>\n",
       "      <th>nr_sessions_3</th>\n",
       "      <th>total_km_3</th>\n",
       "      <th>km_z3-4_3</th>\n",
       "      <th>km_z5-t1-t2_3</th>\n",
       "      <th>km_sprinting_3</th>\n",
       "      <th>strength_training_3</th>\n",
       "      <th>hours_alternative_3</th>\n",
       "      <th>perceived_exertion_3</th>\n",
       "      <th>perceived_trainingsuccess_3</th>\n",
       "      <th>perceived_recovery_3</th>\n",
       "      <th>nr_sessions_4</th>\n",
       "      <th>total_km_4</th>\n",
       "      <th>km_z3-4_4</th>\n",
       "      <th>km_z5-t1-t2_4</th>\n",
       "      <th>km_sprinting_4</th>\n",
       "      <th>strength_training_4</th>\n",
       "      <th>hours_alternative_4</th>\n",
       "      <th>perceived_exertion_4</th>\n",
       "      <th>perceived_trainingsuccess_4</th>\n",
       "      <th>perceived_recovery_4</th>\n",
       "      <th>nr_sessions_5</th>\n",
       "      <th>total_km_5</th>\n",
       "      <th>km_z3-4_5</th>\n",
       "      <th>km_z5-t1-t2_5</th>\n",
       "      <th>km_sprinting_5</th>\n",
       "      <th>strength_training_5</th>\n",
       "      <th>hours_alternative_5</th>\n",
       "      <th>perceived_exertion_5</th>\n",
       "      <th>perceived_trainingsuccess_5</th>\n",
       "      <th>perceived_recovery_5</th>\n",
       "      <th>nr_sessions_6</th>\n",
       "      <th>total_km_6</th>\n",
       "      <th>km_z3-4_6</th>\n",
       "      <th>km_z5-t1-t2_6</th>\n",
       "      <th>km_sprinting_6</th>\n",
       "      <th>strength_training_6</th>\n",
       "      <th>hours_alternative_6</th>\n",
       "      <th>perceived_exertion_6</th>\n",
       "      <th>perceived_trainingsuccess_6</th>\n",
       "      <th>perceived_recovery_6</th>\n",
       "      <th>athlete_id</th>\n",
       "      <th>injury</th>\n",
       "      <th>date</th>\n",
       "    </tr>\n",
       "  </thead>\n",
       "  <tbody>\n",
       "    <tr>\n",
       "      <th>0</th>\n",
       "      <td>1</td>\n",
       "      <td>5.8</td>\n",
       "      <td>0.0</td>\n",
       "      <td>0.6</td>\n",
       "      <td>1.2</td>\n",
       "      <td>0</td>\n",
       "      <td>0.00</td>\n",
       "      <td>0.11</td>\n",
       "      <td>0.00</td>\n",
       "      <td>0.18</td>\n",
       "      <td>0</td>\n",
       "      <td>0.0</td>\n",
       "      <td>0.0</td>\n",
       "      <td>0.0</td>\n",
       "      <td>0.0</td>\n",
       "      <td>0</td>\n",
       "      <td>0.00</td>\n",
       "      <td>-0.01</td>\n",
       "      <td>-0.01</td>\n",
       "      <td>-0.01</td>\n",
       "      <td>1</td>\n",
       "      <td>0.0</td>\n",
       "      <td>0.0</td>\n",
       "      <td>0.0</td>\n",
       "      <td>0.0</td>\n",
       "      <td>1</td>\n",
       "      <td>0.00</td>\n",
       "      <td>0.10</td>\n",
       "      <td>0.00</td>\n",
       "      <td>0.17</td>\n",
       "      <td>0</td>\n",
       "      <td>0.0</td>\n",
       "      <td>0.0</td>\n",
       "      <td>0.0</td>\n",
       "      <td>0.0</td>\n",
       "      <td>0</td>\n",
       "      <td>0.00</td>\n",
       "      <td>-0.01</td>\n",
       "      <td>-0.01</td>\n",
       "      <td>-0.01</td>\n",
       "      <td>1</td>\n",
       "      <td>0.0</td>\n",
       "      <td>0.0</td>\n",
       "      <td>0.0</td>\n",
       "      <td>0.0</td>\n",
       "      <td>0</td>\n",
       "      <td>1.08</td>\n",
       "      <td>0.08</td>\n",
       "      <td>0.00</td>\n",
       "      <td>0.18</td>\n",
       "      <td>1</td>\n",
       "      <td>16.4</td>\n",
       "      <td>10.0</td>\n",
       "      <td>0.0</td>\n",
       "      <td>0.0</td>\n",
       "      <td>1</td>\n",
       "      <td>0.0</td>\n",
       "      <td>0.11</td>\n",
       "      <td>0.00</td>\n",
       "      <td>0.17</td>\n",
       "      <td>1</td>\n",
       "      <td>0.0</td>\n",
       "      <td>0.0</td>\n",
       "      <td>0.0</td>\n",
       "      <td>0.0</td>\n",
       "      <td>0</td>\n",
       "      <td>1.0</td>\n",
       "      <td>0.10</td>\n",
       "      <td>0.00</td>\n",
       "      <td>0.15</td>\n",
       "      <td>0</td>\n",
       "      <td>0</td>\n",
       "      <td>0</td>\n",
       "    </tr>\n",
       "    <tr>\n",
       "      <th>1</th>\n",
       "      <td>0</td>\n",
       "      <td>0.0</td>\n",
       "      <td>0.0</td>\n",
       "      <td>0.0</td>\n",
       "      <td>0.0</td>\n",
       "      <td>0</td>\n",
       "      <td>0.00</td>\n",
       "      <td>-0.01</td>\n",
       "      <td>-0.01</td>\n",
       "      <td>-0.01</td>\n",
       "      <td>1</td>\n",
       "      <td>0.0</td>\n",
       "      <td>0.0</td>\n",
       "      <td>0.0</td>\n",
       "      <td>0.0</td>\n",
       "      <td>1</td>\n",
       "      <td>0.00</td>\n",
       "      <td>0.10</td>\n",
       "      <td>0.00</td>\n",
       "      <td>0.17</td>\n",
       "      <td>0</td>\n",
       "      <td>0.0</td>\n",
       "      <td>0.0</td>\n",
       "      <td>0.0</td>\n",
       "      <td>0.0</td>\n",
       "      <td>0</td>\n",
       "      <td>0.00</td>\n",
       "      <td>-0.01</td>\n",
       "      <td>-0.01</td>\n",
       "      <td>-0.01</td>\n",
       "      <td>1</td>\n",
       "      <td>0.0</td>\n",
       "      <td>0.0</td>\n",
       "      <td>0.0</td>\n",
       "      <td>0.0</td>\n",
       "      <td>0</td>\n",
       "      <td>1.08</td>\n",
       "      <td>0.08</td>\n",
       "      <td>0.00</td>\n",
       "      <td>0.18</td>\n",
       "      <td>1</td>\n",
       "      <td>16.4</td>\n",
       "      <td>10.0</td>\n",
       "      <td>0.0</td>\n",
       "      <td>0.0</td>\n",
       "      <td>1</td>\n",
       "      <td>0.00</td>\n",
       "      <td>0.11</td>\n",
       "      <td>0.00</td>\n",
       "      <td>0.17</td>\n",
       "      <td>1</td>\n",
       "      <td>0.0</td>\n",
       "      <td>0.0</td>\n",
       "      <td>0.0</td>\n",
       "      <td>0.0</td>\n",
       "      <td>0</td>\n",
       "      <td>1.0</td>\n",
       "      <td>0.10</td>\n",
       "      <td>0.00</td>\n",
       "      <td>0.15</td>\n",
       "      <td>1</td>\n",
       "      <td>5.2</td>\n",
       "      <td>0.0</td>\n",
       "      <td>0.5</td>\n",
       "      <td>1.2</td>\n",
       "      <td>0</td>\n",
       "      <td>0.0</td>\n",
       "      <td>0.10</td>\n",
       "      <td>0.00</td>\n",
       "      <td>0.17</td>\n",
       "      <td>0</td>\n",
       "      <td>0</td>\n",
       "      <td>1</td>\n",
       "    </tr>\n",
       "    <tr>\n",
       "      <th>2</th>\n",
       "      <td>1</td>\n",
       "      <td>0.0</td>\n",
       "      <td>0.0</td>\n",
       "      <td>0.0</td>\n",
       "      <td>0.0</td>\n",
       "      <td>1</td>\n",
       "      <td>0.00</td>\n",
       "      <td>0.10</td>\n",
       "      <td>0.00</td>\n",
       "      <td>0.17</td>\n",
       "      <td>0</td>\n",
       "      <td>0.0</td>\n",
       "      <td>0.0</td>\n",
       "      <td>0.0</td>\n",
       "      <td>0.0</td>\n",
       "      <td>0</td>\n",
       "      <td>0.00</td>\n",
       "      <td>-0.01</td>\n",
       "      <td>-0.01</td>\n",
       "      <td>-0.01</td>\n",
       "      <td>1</td>\n",
       "      <td>0.0</td>\n",
       "      <td>0.0</td>\n",
       "      <td>0.0</td>\n",
       "      <td>0.0</td>\n",
       "      <td>0</td>\n",
       "      <td>1.08</td>\n",
       "      <td>0.08</td>\n",
       "      <td>0.00</td>\n",
       "      <td>0.18</td>\n",
       "      <td>1</td>\n",
       "      <td>16.4</td>\n",
       "      <td>10.0</td>\n",
       "      <td>0.0</td>\n",
       "      <td>0.0</td>\n",
       "      <td>1</td>\n",
       "      <td>0.00</td>\n",
       "      <td>0.11</td>\n",
       "      <td>0.00</td>\n",
       "      <td>0.17</td>\n",
       "      <td>1</td>\n",
       "      <td>0.0</td>\n",
       "      <td>0.0</td>\n",
       "      <td>0.0</td>\n",
       "      <td>0.0</td>\n",
       "      <td>0</td>\n",
       "      <td>1.00</td>\n",
       "      <td>0.10</td>\n",
       "      <td>0.00</td>\n",
       "      <td>0.15</td>\n",
       "      <td>1</td>\n",
       "      <td>5.2</td>\n",
       "      <td>0.0</td>\n",
       "      <td>0.5</td>\n",
       "      <td>1.2</td>\n",
       "      <td>0</td>\n",
       "      <td>0.0</td>\n",
       "      <td>0.10</td>\n",
       "      <td>0.00</td>\n",
       "      <td>0.17</td>\n",
       "      <td>0</td>\n",
       "      <td>0.0</td>\n",
       "      <td>0.0</td>\n",
       "      <td>0.0</td>\n",
       "      <td>0.0</td>\n",
       "      <td>0</td>\n",
       "      <td>0.0</td>\n",
       "      <td>-0.01</td>\n",
       "      <td>-0.01</td>\n",
       "      <td>-0.01</td>\n",
       "      <td>0</td>\n",
       "      <td>0</td>\n",
       "      <td>2</td>\n",
       "    </tr>\n",
       "    <tr>\n",
       "      <th>3</th>\n",
       "      <td>0</td>\n",
       "      <td>0.0</td>\n",
       "      <td>0.0</td>\n",
       "      <td>0.0</td>\n",
       "      <td>0.0</td>\n",
       "      <td>0</td>\n",
       "      <td>0.00</td>\n",
       "      <td>-0.01</td>\n",
       "      <td>-0.01</td>\n",
       "      <td>-0.01</td>\n",
       "      <td>1</td>\n",
       "      <td>0.0</td>\n",
       "      <td>0.0</td>\n",
       "      <td>0.0</td>\n",
       "      <td>0.0</td>\n",
       "      <td>0</td>\n",
       "      <td>1.08</td>\n",
       "      <td>0.08</td>\n",
       "      <td>0.00</td>\n",
       "      <td>0.18</td>\n",
       "      <td>1</td>\n",
       "      <td>16.4</td>\n",
       "      <td>10.0</td>\n",
       "      <td>0.0</td>\n",
       "      <td>0.0</td>\n",
       "      <td>1</td>\n",
       "      <td>0.00</td>\n",
       "      <td>0.11</td>\n",
       "      <td>0.00</td>\n",
       "      <td>0.17</td>\n",
       "      <td>1</td>\n",
       "      <td>0.0</td>\n",
       "      <td>0.0</td>\n",
       "      <td>0.0</td>\n",
       "      <td>0.0</td>\n",
       "      <td>0</td>\n",
       "      <td>1.00</td>\n",
       "      <td>0.10</td>\n",
       "      <td>0.00</td>\n",
       "      <td>0.15</td>\n",
       "      <td>1</td>\n",
       "      <td>5.2</td>\n",
       "      <td>0.0</td>\n",
       "      <td>0.5</td>\n",
       "      <td>1.2</td>\n",
       "      <td>0</td>\n",
       "      <td>0.00</td>\n",
       "      <td>0.10</td>\n",
       "      <td>0.00</td>\n",
       "      <td>0.17</td>\n",
       "      <td>0</td>\n",
       "      <td>0.0</td>\n",
       "      <td>0.0</td>\n",
       "      <td>0.0</td>\n",
       "      <td>0.0</td>\n",
       "      <td>0</td>\n",
       "      <td>0.0</td>\n",
       "      <td>-0.01</td>\n",
       "      <td>-0.01</td>\n",
       "      <td>-0.01</td>\n",
       "      <td>1</td>\n",
       "      <td>0.0</td>\n",
       "      <td>0.0</td>\n",
       "      <td>0.0</td>\n",
       "      <td>0.0</td>\n",
       "      <td>1</td>\n",
       "      <td>0.0</td>\n",
       "      <td>0.10</td>\n",
       "      <td>0.00</td>\n",
       "      <td>0.17</td>\n",
       "      <td>0</td>\n",
       "      <td>0</td>\n",
       "      <td>3</td>\n",
       "    </tr>\n",
       "    <tr>\n",
       "      <th>4</th>\n",
       "      <td>1</td>\n",
       "      <td>0.0</td>\n",
       "      <td>0.0</td>\n",
       "      <td>0.0</td>\n",
       "      <td>0.0</td>\n",
       "      <td>0</td>\n",
       "      <td>1.08</td>\n",
       "      <td>0.08</td>\n",
       "      <td>0.00</td>\n",
       "      <td>0.18</td>\n",
       "      <td>1</td>\n",
       "      <td>16.4</td>\n",
       "      <td>10.0</td>\n",
       "      <td>0.0</td>\n",
       "      <td>0.0</td>\n",
       "      <td>1</td>\n",
       "      <td>0.00</td>\n",
       "      <td>0.11</td>\n",
       "      <td>0.00</td>\n",
       "      <td>0.17</td>\n",
       "      <td>1</td>\n",
       "      <td>0.0</td>\n",
       "      <td>0.0</td>\n",
       "      <td>0.0</td>\n",
       "      <td>0.0</td>\n",
       "      <td>0</td>\n",
       "      <td>1.00</td>\n",
       "      <td>0.10</td>\n",
       "      <td>0.00</td>\n",
       "      <td>0.15</td>\n",
       "      <td>1</td>\n",
       "      <td>5.2</td>\n",
       "      <td>0.0</td>\n",
       "      <td>0.5</td>\n",
       "      <td>1.2</td>\n",
       "      <td>0</td>\n",
       "      <td>0.00</td>\n",
       "      <td>0.10</td>\n",
       "      <td>0.00</td>\n",
       "      <td>0.17</td>\n",
       "      <td>0</td>\n",
       "      <td>0.0</td>\n",
       "      <td>0.0</td>\n",
       "      <td>0.0</td>\n",
       "      <td>0.0</td>\n",
       "      <td>0</td>\n",
       "      <td>0.00</td>\n",
       "      <td>-0.01</td>\n",
       "      <td>-0.01</td>\n",
       "      <td>-0.01</td>\n",
       "      <td>1</td>\n",
       "      <td>0.0</td>\n",
       "      <td>0.0</td>\n",
       "      <td>0.0</td>\n",
       "      <td>0.0</td>\n",
       "      <td>1</td>\n",
       "      <td>0.0</td>\n",
       "      <td>0.10</td>\n",
       "      <td>0.00</td>\n",
       "      <td>0.17</td>\n",
       "      <td>1</td>\n",
       "      <td>17.6</td>\n",
       "      <td>7.2</td>\n",
       "      <td>0.0</td>\n",
       "      <td>0.0</td>\n",
       "      <td>0</td>\n",
       "      <td>0.0</td>\n",
       "      <td>0.11</td>\n",
       "      <td>0.00</td>\n",
       "      <td>0.17</td>\n",
       "      <td>0</td>\n",
       "      <td>0</td>\n",
       "      <td>4</td>\n",
       "    </tr>\n",
       "  </tbody>\n",
       "</table>\n",
       "</div>"
      ],
      "text/plain": [
       "  nr_sessions  total_km  km_z3-4  km_z5-t1-t2  km_sprinting strength_training  \\\n",
       "0           1       5.8      0.0          0.6           1.2                 0   \n",
       "1           0       0.0      0.0          0.0           0.0                 0   \n",
       "2           1       0.0      0.0          0.0           0.0                 1   \n",
       "3           0       0.0      0.0          0.0           0.0                 0   \n",
       "4           1       0.0      0.0          0.0           0.0                 0   \n",
       "\n",
       "   hours_alternative  perceived_exertion  perceived_trainingsuccess  \\\n",
       "0               0.00                0.11                       0.00   \n",
       "1               0.00               -0.01                      -0.01   \n",
       "2               0.00                0.10                       0.00   \n",
       "3               0.00               -0.01                      -0.01   \n",
       "4               1.08                0.08                       0.00   \n",
       "\n",
       "   perceived_recovery nr_sessions_1  total_km_1  km_z3-4_1  km_z5-t1-t2_1  \\\n",
       "0                0.18             0         0.0        0.0            0.0   \n",
       "1               -0.01             1         0.0        0.0            0.0   \n",
       "2                0.17             0         0.0        0.0            0.0   \n",
       "3               -0.01             1         0.0        0.0            0.0   \n",
       "4                0.18             1        16.4       10.0            0.0   \n",
       "\n",
       "   km_sprinting_1 strength_training_1  hours_alternative_1  \\\n",
       "0             0.0                   0                 0.00   \n",
       "1             0.0                   1                 0.00   \n",
       "2             0.0                   0                 0.00   \n",
       "3             0.0                   0                 1.08   \n",
       "4             0.0                   1                 0.00   \n",
       "\n",
       "   perceived_exertion_1  perceived_trainingsuccess_1  perceived_recovery_1  \\\n",
       "0                 -0.01                        -0.01                 -0.01   \n",
       "1                  0.10                         0.00                  0.17   \n",
       "2                 -0.01                        -0.01                 -0.01   \n",
       "3                  0.08                         0.00                  0.18   \n",
       "4                  0.11                         0.00                  0.17   \n",
       "\n",
       "  nr_sessions_2  total_km_2  km_z3-4_2  km_z5-t1-t2_2  km_sprinting_2  \\\n",
       "0             1         0.0        0.0            0.0             0.0   \n",
       "1             0         0.0        0.0            0.0             0.0   \n",
       "2             1         0.0        0.0            0.0             0.0   \n",
       "3             1        16.4       10.0            0.0             0.0   \n",
       "4             1         0.0        0.0            0.0             0.0   \n",
       "\n",
       "  strength_training_2  hours_alternative_2  perceived_exertion_2  \\\n",
       "0                   1                 0.00                  0.10   \n",
       "1                   0                 0.00                 -0.01   \n",
       "2                   0                 1.08                  0.08   \n",
       "3                   1                 0.00                  0.11   \n",
       "4                   0                 1.00                  0.10   \n",
       "\n",
       "   perceived_trainingsuccess_2  perceived_recovery_2 nr_sessions_3  \\\n",
       "0                         0.00                  0.17             0   \n",
       "1                        -0.01                 -0.01             1   \n",
       "2                         0.00                  0.18             1   \n",
       "3                         0.00                  0.17             1   \n",
       "4                         0.00                  0.15             1   \n",
       "\n",
       "   total_km_3  km_z3-4_3  km_z5-t1-t2_3  km_sprinting_3 strength_training_3  \\\n",
       "0         0.0        0.0            0.0             0.0                   0   \n",
       "1         0.0        0.0            0.0             0.0                   0   \n",
       "2        16.4       10.0            0.0             0.0                   1   \n",
       "3         0.0        0.0            0.0             0.0                   0   \n",
       "4         5.2        0.0            0.5             1.2                   0   \n",
       "\n",
       "   hours_alternative_3  perceived_exertion_3  perceived_trainingsuccess_3  \\\n",
       "0                 0.00                 -0.01                        -0.01   \n",
       "1                 1.08                  0.08                         0.00   \n",
       "2                 0.00                  0.11                         0.00   \n",
       "3                 1.00                  0.10                         0.00   \n",
       "4                 0.00                  0.10                         0.00   \n",
       "\n",
       "   perceived_recovery_3 nr_sessions_4  total_km_4  km_z3-4_4  km_z5-t1-t2_4  \\\n",
       "0                 -0.01             1         0.0        0.0            0.0   \n",
       "1                  0.18             1        16.4       10.0            0.0   \n",
       "2                  0.17             1         0.0        0.0            0.0   \n",
       "3                  0.15             1         5.2        0.0            0.5   \n",
       "4                  0.17             0         0.0        0.0            0.0   \n",
       "\n",
       "   km_sprinting_4 strength_training_4  hours_alternative_4  \\\n",
       "0             0.0                   0                 1.08   \n",
       "1             0.0                   1                 0.00   \n",
       "2             0.0                   0                 1.00   \n",
       "3             1.2                   0                 0.00   \n",
       "4             0.0                   0                 0.00   \n",
       "\n",
       "   perceived_exertion_4  perceived_trainingsuccess_4  perceived_recovery_4  \\\n",
       "0                  0.08                         0.00                  0.18   \n",
       "1                  0.11                         0.00                  0.17   \n",
       "2                  0.10                         0.00                  0.15   \n",
       "3                  0.10                         0.00                  0.17   \n",
       "4                 -0.01                        -0.01                 -0.01   \n",
       "\n",
       "  nr_sessions_5  total_km_5  km_z3-4_5  km_z5-t1-t2_5  km_sprinting_5  \\\n",
       "0             1        16.4       10.0            0.0             0.0   \n",
       "1             1         0.0        0.0            0.0             0.0   \n",
       "2             1         5.2        0.0            0.5             1.2   \n",
       "3             0         0.0        0.0            0.0             0.0   \n",
       "4             1         0.0        0.0            0.0             0.0   \n",
       "\n",
       "  strength_training_5  hours_alternative_5  perceived_exertion_5  \\\n",
       "0                   1                  0.0                  0.11   \n",
       "1                   0                  1.0                  0.10   \n",
       "2                   0                  0.0                  0.10   \n",
       "3                   0                  0.0                 -0.01   \n",
       "4                   1                  0.0                  0.10   \n",
       "\n",
       "   perceived_trainingsuccess_5  perceived_recovery_5 nr_sessions_6  \\\n",
       "0                         0.00                  0.17             1   \n",
       "1                         0.00                  0.15             1   \n",
       "2                         0.00                  0.17             0   \n",
       "3                        -0.01                 -0.01             1   \n",
       "4                         0.00                  0.17             1   \n",
       "\n",
       "   total_km_6  km_z3-4_6  km_z5-t1-t2_6  km_sprinting_6 strength_training_6  \\\n",
       "0         0.0        0.0            0.0             0.0                   0   \n",
       "1         5.2        0.0            0.5             1.2                   0   \n",
       "2         0.0        0.0            0.0             0.0                   0   \n",
       "3         0.0        0.0            0.0             0.0                   1   \n",
       "4        17.6        7.2            0.0             0.0                   0   \n",
       "\n",
       "   hours_alternative_6  perceived_exertion_6  perceived_trainingsuccess_6  \\\n",
       "0                  1.0                  0.10                         0.00   \n",
       "1                  0.0                  0.10                         0.00   \n",
       "2                  0.0                 -0.01                        -0.01   \n",
       "3                  0.0                  0.10                         0.00   \n",
       "4                  0.0                  0.11                         0.00   \n",
       "\n",
       "   perceived_recovery_6  athlete_id injury date  \n",
       "0                  0.15           0      0    0  \n",
       "1                  0.17           0      0    1  \n",
       "2                 -0.01           0      0    2  \n",
       "3                  0.17           0      0    3  \n",
       "4                  0.17           0      0    4  "
      ]
     },
     "execution_count": 26,
     "metadata": {},
     "output_type": "execute_result"
    }
   ],
   "source": [
    "df_day.head()"
   ]
  },
  {
   "cell_type": "code",
   "execution_count": 27,
   "metadata": {
    "colab": {
     "base_uri": "https://localhost:8080/"
    },
    "executionInfo": {
     "elapsed": 16,
     "status": "ok",
     "timestamp": 1662732228629,
     "user": {
      "displayName": "Olusegun Ajibola",
      "userId": "14016280963587867119"
     },
     "user_tz": -120
    },
    "id": "nmUf6Fhz69V4",
    "outputId": "32fed26a-479e-46d4-af18-4896e7e9446a"
   },
   "outputs": [
    {
     "name": "stdout",
     "output_type": "stream",
     "text": [
      "<class 'pandas.core.frame.DataFrame'>\n",
      "RangeIndex: 42766 entries, 0 to 42765\n",
      "Data columns (total 73 columns):\n",
      " #   Column                       Non-Null Count  Dtype   \n",
      "---  ------                       --------------  -----   \n",
      " 0   nr_sessions                  42766 non-null  category\n",
      " 1   total_km                     42766 non-null  float64 \n",
      " 2   km_z3-4                      42766 non-null  float64 \n",
      " 3   km_z5-t1-t2                  42766 non-null  float64 \n",
      " 4   km_sprinting                 42766 non-null  float64 \n",
      " 5   strength_training            42766 non-null  category\n",
      " 6   hours_alternative            42766 non-null  float64 \n",
      " 7   perceived_exertion           42766 non-null  float64 \n",
      " 8   perceived_trainingsuccess    42766 non-null  float64 \n",
      " 9   perceived_recovery           42766 non-null  float64 \n",
      " 10  nr_sessions_1                42766 non-null  category\n",
      " 11  total_km_1                   42766 non-null  float64 \n",
      " 12  km_z3-4_1                    42766 non-null  float64 \n",
      " 13  km_z5-t1-t2_1                42766 non-null  float64 \n",
      " 14  km_sprinting_1               42766 non-null  float64 \n",
      " 15  strength_training_1          42766 non-null  category\n",
      " 16  hours_alternative_1          42766 non-null  float64 \n",
      " 17  perceived_exertion_1         42766 non-null  float64 \n",
      " 18  perceived_trainingsuccess_1  42766 non-null  float64 \n",
      " 19  perceived_recovery_1         42766 non-null  float64 \n",
      " 20  nr_sessions_2                42766 non-null  category\n",
      " 21  total_km_2                   42766 non-null  float64 \n",
      " 22  km_z3-4_2                    42766 non-null  float64 \n",
      " 23  km_z5-t1-t2_2                42766 non-null  float64 \n",
      " 24  km_sprinting_2               42766 non-null  float64 \n",
      " 25  strength_training_2          42766 non-null  category\n",
      " 26  hours_alternative_2          42766 non-null  float64 \n",
      " 27  perceived_exertion_2         42766 non-null  float64 \n",
      " 28  perceived_trainingsuccess_2  42766 non-null  float64 \n",
      " 29  perceived_recovery_2         42766 non-null  float64 \n",
      " 30  nr_sessions_3                42766 non-null  category\n",
      " 31  total_km_3                   42766 non-null  float64 \n",
      " 32  km_z3-4_3                    42766 non-null  float64 \n",
      " 33  km_z5-t1-t2_3                42766 non-null  float64 \n",
      " 34  km_sprinting_3               42766 non-null  float64 \n",
      " 35  strength_training_3          42766 non-null  category\n",
      " 36  hours_alternative_3          42766 non-null  float64 \n",
      " 37  perceived_exertion_3         42766 non-null  float64 \n",
      " 38  perceived_trainingsuccess_3  42766 non-null  float64 \n",
      " 39  perceived_recovery_3         42766 non-null  float64 \n",
      " 40  nr_sessions_4                42766 non-null  category\n",
      " 41  total_km_4                   42766 non-null  float64 \n",
      " 42  km_z3-4_4                    42766 non-null  float64 \n",
      " 43  km_z5-t1-t2_4                42766 non-null  float64 \n",
      " 44  km_sprinting_4               42766 non-null  float64 \n",
      " 45  strength_training_4          42766 non-null  category\n",
      " 46  hours_alternative_4          42766 non-null  float64 \n",
      " 47  perceived_exertion_4         42766 non-null  float64 \n",
      " 48  perceived_trainingsuccess_4  42766 non-null  float64 \n",
      " 49  perceived_recovery_4         42766 non-null  float64 \n",
      " 50  nr_sessions_5                42766 non-null  category\n",
      " 51  total_km_5                   42766 non-null  float64 \n",
      " 52  km_z3-4_5                    42766 non-null  float64 \n",
      " 53  km_z5-t1-t2_5                42766 non-null  float64 \n",
      " 54  km_sprinting_5               42766 non-null  float64 \n",
      " 55  strength_training_5          42766 non-null  category\n",
      " 56  hours_alternative_5          42766 non-null  float64 \n",
      " 57  perceived_exertion_5         42766 non-null  float64 \n",
      " 58  perceived_trainingsuccess_5  42766 non-null  float64 \n",
      " 59  perceived_recovery_5         42766 non-null  float64 \n",
      " 60  nr_sessions_6                42766 non-null  category\n",
      " 61  total_km_6                   42766 non-null  float64 \n",
      " 62  km_z3-4_6                    42766 non-null  float64 \n",
      " 63  km_z5-t1-t2_6                42766 non-null  float64 \n",
      " 64  km_sprinting_6               42766 non-null  float64 \n",
      " 65  strength_training_6          42766 non-null  category\n",
      " 66  hours_alternative_6          42766 non-null  float64 \n",
      " 67  perceived_exertion_6         42766 non-null  float64 \n",
      " 68  perceived_trainingsuccess_6  42766 non-null  float64 \n",
      " 69  perceived_recovery_6         42766 non-null  float64 \n",
      " 70  athlete_id                   42766 non-null  int64   \n",
      " 71  injury                       42766 non-null  category\n",
      " 72  date                         42766 non-null  category\n",
      "dtypes: category(16), float64(56), int64(1)\n",
      "memory usage: 19.4 MB\n"
     ]
    }
   ],
   "source": [
    "df_day.info()"
   ]
  },
  {
   "cell_type": "code",
   "execution_count": 28,
   "metadata": {
    "executionInfo": {
     "elapsed": 1845,
     "status": "ok",
     "timestamp": 1662705831978,
     "user": {
      "displayName": "Olusegun Ajibola",
      "userId": "14016280963587867119"
     },
     "user_tz": -120
    },
    "id": "-NrcE8oR3DWM"
   },
   "outputs": [],
   "source": [
    "df_day.to_csv('data/day_approach_maskedID_timeseries_v3.0.csv')"
   ]
  },
  {
   "cell_type": "markdown",
   "metadata": {
    "id": "CPiXjFJ1YEGP"
   },
   "source": [
    "# Introduction\n",
    "\n",
    "In this notebook, we run some advance classification ML algorithms on our datasets. As a result of our dataset having many rows/entries (42766) and columns (73), we use a dimensionality reduction technique (PCA) to see the variability on the data."
   ]
  },
  {
   "cell_type": "markdown",
   "metadata": {
    "id": "mrMcJotaSJyE"
   },
   "source": [
    "<!-- ## PCA -->"
   ]
  },
  {
   "cell_type": "markdown",
   "metadata": {
    "id": "ovll_ZxqQ0TF"
   },
   "source": [
    "<!-- from sklearn.model_selection import train_test_split\n",
    "from sklearn.decomposition import PCA -->"
   ]
  },
  {
   "cell_type": "markdown",
   "metadata": {
    "id": "XYly1zejVFcA"
   },
   "source": [
    "<!-- Xd = df_day.drop(columns = ['injury'])\n",
    "yd = df_day['injury'] -->"
   ]
  },
  {
   "cell_type": "markdown",
   "metadata": {
    "id": "006qxTRhSTm3"
   },
   "source": [
    "<!-- pca = make_pipeline(StandardScaler(), PCA(.95))\n",
    "# pca = PCA()\n",
    "pca.fit_transform(Xd)\n",
    "pca -->"
   ]
  },
  {
   "cell_type": "markdown",
   "metadata": {
    "id": "3ZW-PDn-udze"
   },
   "source": [
    "<!-- **Explained variance** is the amount of variance explained by each of the selected components.  -->"
   ]
  },
  {
   "cell_type": "markdown",
   "metadata": {
    "id": "fe7WxdrpVbc4"
   },
   "source": [
    "<!-- # pca[1].n_components_ -->"
   ]
  },
  {
   "cell_type": "markdown",
   "metadata": {
    "id": "_qDdDcPEUn1k"
   },
   "source": [
    "<!-- explained = pca[1].explained_variance_ratio_\n",
    "explained -->"
   ]
  },
  {
   "cell_type": "markdown",
   "metadata": {
    "id": "LiLqc2RrnTs2"
   },
   "source": [
    "<!-- cumulative_explained = explained.cumsum()\n",
    "\n",
    "cumulative_explained -->"
   ]
  },
  {
   "cell_type": "markdown",
   "metadata": {
    "id": "thW8N6EhoeE9"
   },
   "source": [
    "<!-- pca[1].components_.shape -->"
   ]
  },
  {
   "cell_type": "markdown",
   "metadata": {
    "id": "LTAq_wQsowSW"
   },
   "source": [
    "<!-- plt.figure(figsize=(15,7.5))\n",
    "plt.plot(range(0, 53), explained, label='Explained Variance')\n",
    "plt.plot(range(0, 53), cumulative_explained, label='Cumulative Explained Variance')\n",
    "plt.xlabel('Principal Components')\n",
    "plt.vlines(x=42, ymin= -0.1, ymax=1.1, colors= 'k', label = \"42nd Component\")\n",
    "plt.hlines(y=0.90, xmin=-0.5, xmax=72, colors= 'g', linestyles='--', label = \"90% Explained\")\n",
    "plt.title('Explained Variance Ratio')\n",
    "plt.legend()\n",
    "plt.show() -->"
   ]
  },
  {
   "cell_type": "markdown",
   "metadata": {
    "id": "Kof3dEI9YB99"
   },
   "source": [
    "# Model 1 : Autoencoder\n",
    "**What is Autoencoder?**\n",
    "\n",
    "Autoencoder is an unsupervised artificial neural network that learns how to efficiently compress and encode data then learns how to reconstruct the data back from the reduced encoded representation to a representation that is as close to the original input as possible. Autoencoder, by design, reduces data dimensions by learning how to ignore the noise in the data. "
   ]
  },
  {
   "cell_type": "markdown",
   "metadata": {
    "id": "5zuZXUOEpg-P"
   },
   "source": [
    "**Why Autoencoder works for Anomaly Detection?**\n",
    "\n",
    "Autoencoders are great in learning what is normal. I can identify the normal region ina distribution then anything that is considered an outlier will return a high reconstruction error.\n",
    "\n",
    "Let's start by installing some pre-requisite libraries, h20. \n",
    "\n",
    "**H2O** is an open-source library that can be used to do a number of machine learning tasks. It has a function for the autoencoders. Let's have a look"
   ]
  },
  {
   "cell_type": "markdown",
   "metadata": {
    "id": "wRqCXGxmZhAr"
   },
   "source": [
    "## Starting and initializing H2O server."
   ]
  },
  {
   "cell_type": "code",
   "execution_count": null,
   "metadata": {
    "colab": {
     "base_uri": "https://localhost:8080/",
     "height": 491
    },
    "executionInfo": {
     "elapsed": 12449,
     "status": "ok",
     "timestamp": 1661545719192,
     "user": {
      "displayName": "Olusegun Ajibola",
      "userId": "14016280963587867119"
     },
     "user_tz": -120
    },
    "id": "wQFBKEG0ZjQ3",
    "outputId": "b9ee3732-e2bb-473d-9bfe-df0bac427685"
   },
   "outputs": [
    {
     "name": "stdout",
     "output_type": "stream",
     "text": [
      "Checking whether there is an H2O instance running at http://localhost:54321 ..... not found.\n",
      "Attempting to start a local H2O server...\n",
      "  Java Version: openjdk version \"11.0.16\" 2022-07-19; OpenJDK Runtime Environment (build 11.0.16+8-post-Ubuntu-0ubuntu118.04); OpenJDK 64-Bit Server VM (build 11.0.16+8-post-Ubuntu-0ubuntu118.04, mixed mode, sharing)\n",
      "  Starting server from /usr/local/lib/python3.7/dist-packages/h2o/backend/bin/h2o.jar\n",
      "  Ice root: /tmp/tmplfwolugk\n",
      "  JVM stdout: /tmp/tmplfwolugk/h2o_unknownUser_started_from_python.out\n",
      "  JVM stderr: /tmp/tmplfwolugk/h2o_unknownUser_started_from_python.err\n",
      "  Server is running at http://127.0.0.1:54321\n",
      "Connecting to H2O server at http://127.0.0.1:54321 ... successful.\n"
     ]
    },
    {
     "data": {
      "text/html": [
       "<div style=\"overflow:auto\"><table style=\"width:50%\"><tr><td>H2O_cluster_uptime:</td>\n",
       "<td>05 secs</td></tr>\n",
       "<tr><td>H2O_cluster_timezone:</td>\n",
       "<td>Etc/UTC</td></tr>\n",
       "<tr><td>H2O_data_parsing_timezone:</td>\n",
       "<td>UTC</td></tr>\n",
       "<tr><td>H2O_cluster_version:</td>\n",
       "<td>3.36.1.4</td></tr>\n",
       "<tr><td>H2O_cluster_version_age:</td>\n",
       "<td>23 days </td></tr>\n",
       "<tr><td>H2O_cluster_name:</td>\n",
       "<td>H2O_from_python_unknownUser_vhcj8a</td></tr>\n",
       "<tr><td>H2O_cluster_total_nodes:</td>\n",
       "<td>1</td></tr>\n",
       "<tr><td>H2O_cluster_free_memory:</td>\n",
       "<td>3.172 Gb</td></tr>\n",
       "<tr><td>H2O_cluster_total_cores:</td>\n",
       "<td>2</td></tr>\n",
       "<tr><td>H2O_cluster_allowed_cores:</td>\n",
       "<td>2</td></tr>\n",
       "<tr><td>H2O_cluster_status:</td>\n",
       "<td>locked, healthy</td></tr>\n",
       "<tr><td>H2O_connection_url:</td>\n",
       "<td>http://127.0.0.1:54321</td></tr>\n",
       "<tr><td>H2O_connection_proxy:</td>\n",
       "<td>{\"http\": null, \"https\": null}</td></tr>\n",
       "<tr><td>H2O_internal_security:</td>\n",
       "<td>False</td></tr>\n",
       "<tr><td>Python_version:</td>\n",
       "<td>3.7.13 final</td></tr></table></div>"
      ],
      "text/plain": [
       "--------------------------  ----------------------------------\n",
       "H2O_cluster_uptime:         05 secs\n",
       "H2O_cluster_timezone:       Etc/UTC\n",
       "H2O_data_parsing_timezone:  UTC\n",
       "H2O_cluster_version:        3.36.1.4\n",
       "H2O_cluster_version_age:    23 days\n",
       "H2O_cluster_name:           H2O_from_python_unknownUser_vhcj8a\n",
       "H2O_cluster_total_nodes:    1\n",
       "H2O_cluster_free_memory:    3.172 Gb\n",
       "H2O_cluster_total_cores:    2\n",
       "H2O_cluster_allowed_cores:  2\n",
       "H2O_cluster_status:         locked, healthy\n",
       "H2O_connection_url:         http://127.0.0.1:54321\n",
       "H2O_connection_proxy:       {\"http\": null, \"https\": null}\n",
       "H2O_internal_security:      False\n",
       "Python_version:             3.7.13 final\n",
       "--------------------------  ----------------------------------"
      ]
     },
     "metadata": {},
     "output_type": "display_data"
    }
   ],
   "source": [
    "h2o.init() # initializing h2o server\n",
    "# h2o.remove_all()"
   ]
  },
  {
   "cell_type": "markdown",
   "metadata": {
    "id": "wI2O7uOQZsZU"
   },
   "source": [
    "We now load the dataset into a H2O dataframe and splitting the DS."
   ]
  },
  {
   "cell_type": "code",
   "execution_count": null,
   "metadata": {
    "colab": {
     "base_uri": "https://localhost:8080/"
    },
    "executionInfo": {
     "elapsed": 6950,
     "status": "ok",
     "timestamp": 1661545778080,
     "user": {
      "displayName": "Olusegun Ajibola",
      "userId": "14016280963587867119"
     },
     "user_tz": -120
    },
    "id": "KOf-6XZracj9",
    "outputId": "07f7059d-cbf1-419c-fff1-f52daa0c0f12"
   },
   "outputs": [
    {
     "name": "stdout",
     "output_type": "stream",
     "text": [
      "Parse progress: |████████████████████████████████████████████████████████████████| (done) 100%\n"
     ]
    }
   ],
   "source": [
    "hdf_day = h2o.import_file(r\"data/day_approach_maskedID_timeseries_v3.0.csv\") #import the file as a h2o file\n",
    "hdf_day[\"date\"] = hdf_day[\"date\"].asfactor() # coonvert date to factor i.e categorical\n",
    "hdf_day[\"injury\"] = hdf_day[\"injury\"].asfactor()\n",
    "features_day  = hdf_day.drop(['athlete_id', 'C1'], axis=1) # we do not need the athlete id again alonside the 'C1' column which is an automatic addition by h2o import\n",
    "train_day , test_day = features_day.split_frame([0.8]) # 80% of data for training and 20% for testing "
   ]
  },
  {
   "cell_type": "markdown",
   "metadata": {
    "id": "e3qmuar_rKP-"
   },
   "source": [
    "We used a 80-20 split between the training and testing because of the imbalance in the dataset. This spit enables us to get enough of the undersampled class."
   ]
  },
  {
   "cell_type": "code",
   "execution_count": null,
   "metadata": {
    "colab": {
     "base_uri": "https://localhost:8080/",
     "height": 137
    },
    "executionInfo": {
     "elapsed": 1539,
     "status": "ok",
     "timestamp": 1661545805988,
     "user": {
      "displayName": "Olusegun Ajibola",
      "userId": "14016280963587867119"
     },
     "user_tz": -120
    },
    "id": "KbNDIY3GGQ3x",
    "outputId": "1d9f0ed5-ad70-43c9-997e-6fdee67a3839"
   },
   "outputs": [
    {
     "data": {
      "text/html": [
       "<table>\n",
       "<thead>\n",
       "<tr><th style=\"text-align: right;\">  nr__sessions</th><th style=\"text-align: right;\">  total_km</th><th style=\"text-align: right;\">  km_z3-4</th><th style=\"text-align: right;\">  km_z5-t1-t2</th><th style=\"text-align: right;\">  km_sprinting</th><th style=\"text-align: right;\">  strength_training</th><th style=\"text-align: right;\">  hours_alternative</th><th style=\"text-align: right;\">  perceived_exertion</th><th style=\"text-align: right;\">  perceived_trainingsuccess</th><th style=\"text-align: right;\">  perceived_recovery</th><th style=\"text-align: right;\">  nr__sessions_1</th><th style=\"text-align: right;\">  total_km_1</th><th style=\"text-align: right;\">  km_z3-4_1</th><th style=\"text-align: right;\">  km_z5-t1-t2_1</th><th style=\"text-align: right;\">  km_sprinting_1</th><th style=\"text-align: right;\">  strength_training_1</th><th style=\"text-align: right;\">  hours_alternative_1</th><th style=\"text-align: right;\">  perceived_exertion_1</th><th style=\"text-align: right;\">  perceived_trainingsuccess_1</th><th style=\"text-align: right;\">  perceived_recovery_1</th><th style=\"text-align: right;\">  nr__sessions_2</th><th style=\"text-align: right;\">  total_km_2</th><th style=\"text-align: right;\">  km_z3-4_2</th><th style=\"text-align: right;\">  km_z5-t1-t2_2</th><th style=\"text-align: right;\">  km_sprinting_2</th><th style=\"text-align: right;\">  strength_training_2</th><th style=\"text-align: right;\">  hours_alternative_2</th><th style=\"text-align: right;\">  perceived_exertion_2</th><th style=\"text-align: right;\">  perceived_trainingsuccess_2</th><th style=\"text-align: right;\">  perceived_recovery_2</th><th style=\"text-align: right;\">  nr__sessions_3</th><th style=\"text-align: right;\">  total_km_3</th><th style=\"text-align: right;\">  km_z3-4_3</th><th style=\"text-align: right;\">  km_z5-t1-t2_3</th><th style=\"text-align: right;\">  km_sprinting_3</th><th style=\"text-align: right;\">  strength_training_3</th><th style=\"text-align: right;\">  hours_alternative_3</th><th style=\"text-align: right;\">  perceived_exertion_3</th><th style=\"text-align: right;\">  perceived_trainingsuccess_3</th><th style=\"text-align: right;\">  perceived_recovery_3</th><th style=\"text-align: right;\">  nr__sessions_4</th><th style=\"text-align: right;\">  total_km_4</th><th style=\"text-align: right;\">  km_z3-4_4</th><th style=\"text-align: right;\">  km_z5-t1-t2_4</th><th style=\"text-align: right;\">  km_sprinting_4</th><th style=\"text-align: right;\">  strength_training_4</th><th style=\"text-align: right;\">  hours_alternative_4</th><th style=\"text-align: right;\">  perceived_exertion_4</th><th style=\"text-align: right;\">  perceived_trainingsuccess_4</th><th style=\"text-align: right;\">  perceived_recovery_4</th><th style=\"text-align: right;\">  nr__sessions_5</th><th style=\"text-align: right;\">  total_km_5</th><th style=\"text-align: right;\">  km_z3-4_5</th><th style=\"text-align: right;\">  km_z5-t1-t2_5</th><th style=\"text-align: right;\">  km_sprinting_5</th><th style=\"text-align: right;\">  strength_training_5</th><th style=\"text-align: right;\">  hours_alternative_5</th><th style=\"text-align: right;\">  perceived_exertion_5</th><th style=\"text-align: right;\">  perceived_trainingsuccess_5</th><th style=\"text-align: right;\">  perceived_recovery_5</th><th style=\"text-align: right;\">  nr__sessions_6</th><th style=\"text-align: right;\">  total_km_6</th><th style=\"text-align: right;\">  km_z3-4_6</th><th style=\"text-align: right;\">  km_z5-t1-t2_6</th><th style=\"text-align: right;\">  km_sprinting_6</th><th style=\"text-align: right;\">  strength_training_6</th><th style=\"text-align: right;\">  hours_alternative_6</th><th style=\"text-align: right;\">  perceived_exertion_6</th><th style=\"text-align: right;\">  perceived_trainingsuccess_6</th><th style=\"text-align: right;\">  perceived_recovery_6</th><th style=\"text-align: right;\">  injury</th><th style=\"text-align: right;\">  date</th></tr>\n",
       "</thead>\n",
       "<tbody>\n",
       "<tr><td style=\"text-align: right;\">             1</td><td style=\"text-align: right;\">       5.8</td><td style=\"text-align: right;\">        0</td><td style=\"text-align: right;\">          0.6</td><td style=\"text-align: right;\">           1.2</td><td style=\"text-align: right;\">                  0</td><td style=\"text-align: right;\">                  0</td><td style=\"text-align: right;\">                0.11</td><td style=\"text-align: right;\">                       0   </td><td style=\"text-align: right;\">                0.18</td><td style=\"text-align: right;\">               0</td><td style=\"text-align: right;\">           0</td><td style=\"text-align: right;\">          0</td><td style=\"text-align: right;\">              0</td><td style=\"text-align: right;\">               0</td><td style=\"text-align: right;\">                    0</td><td style=\"text-align: right;\">                    0</td><td style=\"text-align: right;\">                 -0.01</td><td style=\"text-align: right;\">                        -0.01</td><td style=\"text-align: right;\">                 -0.01</td><td style=\"text-align: right;\">               1</td><td style=\"text-align: right;\">           0</td><td style=\"text-align: right;\">          0</td><td style=\"text-align: right;\">              0</td><td style=\"text-align: right;\">               0</td><td style=\"text-align: right;\">                    1</td><td style=\"text-align: right;\">                 0   </td><td style=\"text-align: right;\">                  0.1 </td><td style=\"text-align: right;\">                         0   </td><td style=\"text-align: right;\">                  0.17</td><td style=\"text-align: right;\">               0</td><td style=\"text-align: right;\">         0  </td><td style=\"text-align: right;\">          0</td><td style=\"text-align: right;\">              0</td><td style=\"text-align: right;\">               0</td><td style=\"text-align: right;\">                    0</td><td style=\"text-align: right;\">                 0   </td><td style=\"text-align: right;\">                 -0.01</td><td style=\"text-align: right;\">                        -0.01</td><td style=\"text-align: right;\">                 -0.01</td><td style=\"text-align: right;\">               1</td><td style=\"text-align: right;\">         0  </td><td style=\"text-align: right;\">          0</td><td style=\"text-align: right;\">              0</td><td style=\"text-align: right;\">               0</td><td style=\"text-align: right;\">                    0</td><td style=\"text-align: right;\">                 1.08</td><td style=\"text-align: right;\">                  0.08</td><td style=\"text-align: right;\">                            0</td><td style=\"text-align: right;\">                  0.18</td><td style=\"text-align: right;\">               1</td><td style=\"text-align: right;\">        16.4</td><td style=\"text-align: right;\">         10</td><td style=\"text-align: right;\">            0  </td><td style=\"text-align: right;\">             0  </td><td style=\"text-align: right;\">                    1</td><td style=\"text-align: right;\">                    0</td><td style=\"text-align: right;\">                  0.11</td><td style=\"text-align: right;\">                            0</td><td style=\"text-align: right;\">                  0.17</td><td style=\"text-align: right;\">               1</td><td style=\"text-align: right;\">         0  </td><td style=\"text-align: right;\">          0</td><td style=\"text-align: right;\">            0  </td><td style=\"text-align: right;\">             0  </td><td style=\"text-align: right;\">                    0</td><td style=\"text-align: right;\">                    1</td><td style=\"text-align: right;\">                  0.1 </td><td style=\"text-align: right;\">                         0   </td><td style=\"text-align: right;\">                  0.15</td><td style=\"text-align: right;\">       0</td><td style=\"text-align: right;\">     0</td></tr>\n",
       "<tr><td style=\"text-align: right;\">             0</td><td style=\"text-align: right;\">       0  </td><td style=\"text-align: right;\">        0</td><td style=\"text-align: right;\">          0  </td><td style=\"text-align: right;\">           0  </td><td style=\"text-align: right;\">                  0</td><td style=\"text-align: right;\">                  0</td><td style=\"text-align: right;\">               -0.01</td><td style=\"text-align: right;\">                      -0.01</td><td style=\"text-align: right;\">               -0.01</td><td style=\"text-align: right;\">               1</td><td style=\"text-align: right;\">           0</td><td style=\"text-align: right;\">          0</td><td style=\"text-align: right;\">              0</td><td style=\"text-align: right;\">               0</td><td style=\"text-align: right;\">                    1</td><td style=\"text-align: right;\">                    0</td><td style=\"text-align: right;\">                  0.1 </td><td style=\"text-align: right;\">                         0   </td><td style=\"text-align: right;\">                  0.17</td><td style=\"text-align: right;\">               0</td><td style=\"text-align: right;\">           0</td><td style=\"text-align: right;\">          0</td><td style=\"text-align: right;\">              0</td><td style=\"text-align: right;\">               0</td><td style=\"text-align: right;\">                    0</td><td style=\"text-align: right;\">                 0   </td><td style=\"text-align: right;\">                 -0.01</td><td style=\"text-align: right;\">                        -0.01</td><td style=\"text-align: right;\">                 -0.01</td><td style=\"text-align: right;\">               1</td><td style=\"text-align: right;\">         0  </td><td style=\"text-align: right;\">          0</td><td style=\"text-align: right;\">              0</td><td style=\"text-align: right;\">               0</td><td style=\"text-align: right;\">                    0</td><td style=\"text-align: right;\">                 1.08</td><td style=\"text-align: right;\">                  0.08</td><td style=\"text-align: right;\">                         0   </td><td style=\"text-align: right;\">                  0.18</td><td style=\"text-align: right;\">               1</td><td style=\"text-align: right;\">        16.4</td><td style=\"text-align: right;\">         10</td><td style=\"text-align: right;\">              0</td><td style=\"text-align: right;\">               0</td><td style=\"text-align: right;\">                    1</td><td style=\"text-align: right;\">                 0   </td><td style=\"text-align: right;\">                  0.11</td><td style=\"text-align: right;\">                            0</td><td style=\"text-align: right;\">                  0.17</td><td style=\"text-align: right;\">               1</td><td style=\"text-align: right;\">         0  </td><td style=\"text-align: right;\">          0</td><td style=\"text-align: right;\">            0  </td><td style=\"text-align: right;\">             0  </td><td style=\"text-align: right;\">                    0</td><td style=\"text-align: right;\">                    1</td><td style=\"text-align: right;\">                  0.1 </td><td style=\"text-align: right;\">                            0</td><td style=\"text-align: right;\">                  0.15</td><td style=\"text-align: right;\">               1</td><td style=\"text-align: right;\">         5.2</td><td style=\"text-align: right;\">          0</td><td style=\"text-align: right;\">            0.5</td><td style=\"text-align: right;\">             1.2</td><td style=\"text-align: right;\">                    0</td><td style=\"text-align: right;\">                    0</td><td style=\"text-align: right;\">                  0.1 </td><td style=\"text-align: right;\">                         0   </td><td style=\"text-align: right;\">                  0.17</td><td style=\"text-align: right;\">       0</td><td style=\"text-align: right;\">     1</td></tr>\n",
       "<tr><td style=\"text-align: right;\">             1</td><td style=\"text-align: right;\">       0  </td><td style=\"text-align: right;\">        0</td><td style=\"text-align: right;\">          0  </td><td style=\"text-align: right;\">           0  </td><td style=\"text-align: right;\">                  1</td><td style=\"text-align: right;\">                  0</td><td style=\"text-align: right;\">                0.1 </td><td style=\"text-align: right;\">                       0   </td><td style=\"text-align: right;\">                0.17</td><td style=\"text-align: right;\">               0</td><td style=\"text-align: right;\">           0</td><td style=\"text-align: right;\">          0</td><td style=\"text-align: right;\">              0</td><td style=\"text-align: right;\">               0</td><td style=\"text-align: right;\">                    0</td><td style=\"text-align: right;\">                    0</td><td style=\"text-align: right;\">                 -0.01</td><td style=\"text-align: right;\">                        -0.01</td><td style=\"text-align: right;\">                 -0.01</td><td style=\"text-align: right;\">               1</td><td style=\"text-align: right;\">           0</td><td style=\"text-align: right;\">          0</td><td style=\"text-align: right;\">              0</td><td style=\"text-align: right;\">               0</td><td style=\"text-align: right;\">                    0</td><td style=\"text-align: right;\">                 1.08</td><td style=\"text-align: right;\">                  0.08</td><td style=\"text-align: right;\">                         0   </td><td style=\"text-align: right;\">                  0.18</td><td style=\"text-align: right;\">               1</td><td style=\"text-align: right;\">        16.4</td><td style=\"text-align: right;\">         10</td><td style=\"text-align: right;\">              0</td><td style=\"text-align: right;\">               0</td><td style=\"text-align: right;\">                    1</td><td style=\"text-align: right;\">                 0   </td><td style=\"text-align: right;\">                  0.11</td><td style=\"text-align: right;\">                         0   </td><td style=\"text-align: right;\">                  0.17</td><td style=\"text-align: right;\">               1</td><td style=\"text-align: right;\">         0  </td><td style=\"text-align: right;\">          0</td><td style=\"text-align: right;\">              0</td><td style=\"text-align: right;\">               0</td><td style=\"text-align: right;\">                    0</td><td style=\"text-align: right;\">                 1   </td><td style=\"text-align: right;\">                  0.1 </td><td style=\"text-align: right;\">                            0</td><td style=\"text-align: right;\">                  0.15</td><td style=\"text-align: right;\">               1</td><td style=\"text-align: right;\">         5.2</td><td style=\"text-align: right;\">          0</td><td style=\"text-align: right;\">            0.5</td><td style=\"text-align: right;\">             1.2</td><td style=\"text-align: right;\">                    0</td><td style=\"text-align: right;\">                    0</td><td style=\"text-align: right;\">                  0.1 </td><td style=\"text-align: right;\">                            0</td><td style=\"text-align: right;\">                  0.17</td><td style=\"text-align: right;\">               0</td><td style=\"text-align: right;\">         0  </td><td style=\"text-align: right;\">          0</td><td style=\"text-align: right;\">            0  </td><td style=\"text-align: right;\">             0  </td><td style=\"text-align: right;\">                    0</td><td style=\"text-align: right;\">                    0</td><td style=\"text-align: right;\">                 -0.01</td><td style=\"text-align: right;\">                        -0.01</td><td style=\"text-align: right;\">                 -0.01</td><td style=\"text-align: right;\">       0</td><td style=\"text-align: right;\">     2</td></tr>\n",
       "</tbody>\n",
       "</table>"
      ]
     },
     "metadata": {},
     "output_type": "display_data"
    },
    {
     "data": {
      "text/plain": []
     },
     "execution_count": 26,
     "metadata": {},
     "output_type": "execute_result"
    }
   ],
   "source": [
    "features_day.head(3)"
   ]
  },
  {
   "cell_type": "code",
   "execution_count": null,
   "metadata": {
    "colab": {
     "base_uri": "https://localhost:8080/"
    },
    "executionInfo": {
     "elapsed": 466,
     "status": "ok",
     "timestamp": 1661545813800,
     "user": {
      "displayName": "Olusegun Ajibola",
      "userId": "14016280963587867119"
     },
     "user_tz": -120
    },
    "id": "QSSl9ZHW-uwg",
    "outputId": "4c22aa90-b431-4ed4-dac5-b57c3cbd59e3"
   },
   "outputs": [
    {
     "data": {
      "text/plain": [
       "{'nr__sessions': 'int',\n",
       " 'total_km': 'real',\n",
       " 'km_z3-4': 'real',\n",
       " 'km_z5-t1-t2': 'real',\n",
       " 'km_sprinting': 'real',\n",
       " 'strength_training': 'int',\n",
       " 'hours_alternative': 'real',\n",
       " 'perceived_exertion': 'real',\n",
       " 'perceived_trainingsuccess': 'real',\n",
       " 'perceived_recovery': 'real',\n",
       " 'nr__sessions_1': 'int',\n",
       " 'total_km_1': 'real',\n",
       " 'km_z3-4_1': 'real',\n",
       " 'km_z5-t1-t2_1': 'real',\n",
       " 'km_sprinting_1': 'real',\n",
       " 'strength_training_1': 'int',\n",
       " 'hours_alternative_1': 'real',\n",
       " 'perceived_exertion_1': 'real',\n",
       " 'perceived_trainingsuccess_1': 'real',\n",
       " 'perceived_recovery_1': 'real',\n",
       " 'nr__sessions_2': 'int',\n",
       " 'total_km_2': 'real',\n",
       " 'km_z3-4_2': 'real',\n",
       " 'km_z5-t1-t2_2': 'real',\n",
       " 'km_sprinting_2': 'real',\n",
       " 'strength_training_2': 'int',\n",
       " 'hours_alternative_2': 'real',\n",
       " 'perceived_exertion_2': 'real',\n",
       " 'perceived_trainingsuccess_2': 'real',\n",
       " 'perceived_recovery_2': 'real',\n",
       " 'nr__sessions_3': 'int',\n",
       " 'total_km_3': 'real',\n",
       " 'km_z3-4_3': 'real',\n",
       " 'km_z5-t1-t2_3': 'real',\n",
       " 'km_sprinting_3': 'real',\n",
       " 'strength_training_3': 'int',\n",
       " 'hours_alternative_3': 'real',\n",
       " 'perceived_exertion_3': 'real',\n",
       " 'perceived_trainingsuccess_3': 'real',\n",
       " 'perceived_recovery_3': 'real',\n",
       " 'nr__sessions_4': 'int',\n",
       " 'total_km_4': 'real',\n",
       " 'km_z3-4_4': 'real',\n",
       " 'km_z5-t1-t2_4': 'real',\n",
       " 'km_sprinting_4': 'real',\n",
       " 'strength_training_4': 'int',\n",
       " 'hours_alternative_4': 'real',\n",
       " 'perceived_exertion_4': 'real',\n",
       " 'perceived_trainingsuccess_4': 'real',\n",
       " 'perceived_recovery_4': 'real',\n",
       " 'nr__sessions_5': 'int',\n",
       " 'total_km_5': 'real',\n",
       " 'km_z3-4_5': 'real',\n",
       " 'km_z5-t1-t2_5': 'real',\n",
       " 'km_sprinting_5': 'real',\n",
       " 'strength_training_5': 'int',\n",
       " 'hours_alternative_5': 'real',\n",
       " 'perceived_exertion_5': 'real',\n",
       " 'perceived_trainingsuccess_5': 'real',\n",
       " 'perceived_recovery_5': 'real',\n",
       " 'nr__sessions_6': 'int',\n",
       " 'total_km_6': 'real',\n",
       " 'km_z3-4_6': 'real',\n",
       " 'km_z5-t1-t2_6': 'real',\n",
       " 'km_sprinting_6': 'real',\n",
       " 'strength_training_6': 'int',\n",
       " 'hours_alternative_6': 'real',\n",
       " 'perceived_exertion_6': 'real',\n",
       " 'perceived_trainingsuccess_6': 'real',\n",
       " 'perceived_recovery_6': 'real',\n",
       " 'injury': 'enum',\n",
       " 'date': 'enum'}"
      ]
     },
     "execution_count": 27,
     "metadata": {},
     "output_type": "execute_result"
    }
   ],
   "source": [
    "features_day.types"
   ]
  },
  {
   "cell_type": "markdown",
   "metadata": {
    "id": "17tYnFWfcV9M"
   },
   "source": [
    "We now preprocess the dataset by seperating training and test data."
   ]
  },
  {
   "cell_type": "code",
   "execution_count": null,
   "metadata": {
    "id": "ByKA-DPJdcHG"
   },
   "outputs": [],
   "source": [
    "# converting to pandas dataframe\n",
    "train_day_df = train_day.as_data_frame()\n",
    "test_day_df = test_day.as_data_frame()\n",
    "\n",
    "# noinjury_df_tr = train_day_df[train_day_df['injury'] == 0]\n",
    "# injury_df_tr = train_day_df[train_day_df['injury'] == 1]"
   ]
  },
  {
   "cell_type": "code",
   "execution_count": null,
   "metadata": {
    "id": "aaIfZzwecTMK"
   },
   "outputs": [],
   "source": [
    "# drop the Class variable\n",
    "\n",
    "Y_test_df = test_day_df['injury'] # true labels of the testing set\n",
    "Y_test_df_ = pd.DataFrame(Y_test_df) # convert to pandas dataframe from pandas series\n",
    "test_df = test_day_df.drop(['injury'], axis=1)"
   ]
  },
  {
   "cell_type": "code",
   "execution_count": null,
   "metadata": {
    "colab": {
     "base_uri": "https://localhost:8080/"
    },
    "executionInfo": {
     "elapsed": 4376,
     "status": "ok",
     "timestamp": 1661545963462,
     "user": {
      "displayName": "Olusegun Ajibola",
      "userId": "14016280963587867119"
     },
     "user_tz": -120
    },
    "id": "DGbyLdAVfP44",
    "outputId": "24720f8e-f68f-4ea1-c468-ca32e7001253"
   },
   "outputs": [
    {
     "name": "stdout",
     "output_type": "stream",
     "text": [
      "Parse progress: |████████████████████████████████████████████████████████████████| (done) 100%\n",
      "Parse progress: |████████████████████████████████████████████████████████████████| (done) 100%\n",
      "Parse progress: |████████████████████████████████████████████████████████████████| (done) 100%\n"
     ]
    }
   ],
   "source": [
    "# converting to h2o frame\n",
    "Y_test_h2o = h2o.H2OFrame(Y_test_df_) \n",
    "train_h2o = h2o.H2OFrame(train_day_df) \n",
    "test_h2o = h2o.H2OFrame(test_df)"
   ]
  },
  {
   "cell_type": "code",
   "execution_count": null,
   "metadata": {
    "id": "ddpFQeSPgvDW"
   },
   "outputs": [],
   "source": [
    "cols = train_h2o.columns\n",
    "cols.remove('injury')"
   ]
  },
  {
   "cell_type": "code",
   "execution_count": null,
   "metadata": {
    "colab": {
     "base_uri": "https://localhost:8080/"
    },
    "executionInfo": {
     "elapsed": 15,
     "status": "ok",
     "timestamp": 1661192382378,
     "user": {
      "displayName": "Olusegun Ajibola",
      "userId": "14016280963587867119"
     },
     "user_tz": -120
    },
    "id": "Z78C7aMEClx0",
    "outputId": "876eb936-d137-492d-a7a8-88cd3706c556"
   },
   "outputs": [
    {
     "data": {
      "text/plain": [
       "['nr__sessions',\n",
       " 'total_km',\n",
       " 'km_z3-4',\n",
       " 'km_z5-t1-t2',\n",
       " 'km_sprinting',\n",
       " 'strength_training',\n",
       " 'hours_alternative',\n",
       " 'perceived_exertion',\n",
       " 'perceived_trainingsuccess',\n",
       " 'perceived_recovery',\n",
       " 'nr__sessions_1',\n",
       " 'total_km_1',\n",
       " 'km_z3-4_1',\n",
       " 'km_z5-t1-t2_1',\n",
       " 'km_sprinting_1',\n",
       " 'strength_training_1',\n",
       " 'hours_alternative_1',\n",
       " 'perceived_exertion_1',\n",
       " 'perceived_trainingsuccess_1',\n",
       " 'perceived_recovery_1',\n",
       " 'nr__sessions_2',\n",
       " 'total_km_2',\n",
       " 'km_z3-4_2',\n",
       " 'km_z5-t1-t2_2',\n",
       " 'km_sprinting_2',\n",
       " 'strength_training_2',\n",
       " 'hours_alternative_2',\n",
       " 'perceived_exertion_2',\n",
       " 'perceived_trainingsuccess_2',\n",
       " 'perceived_recovery_2',\n",
       " 'nr__sessions_3',\n",
       " 'total_km_3',\n",
       " 'km_z3-4_3',\n",
       " 'km_z5-t1-t2_3',\n",
       " 'km_sprinting_3',\n",
       " 'strength_training_3',\n",
       " 'hours_alternative_3',\n",
       " 'perceived_exertion_3',\n",
       " 'perceived_trainingsuccess_3',\n",
       " 'perceived_recovery_3',\n",
       " 'nr__sessions_4',\n",
       " 'total_km_4',\n",
       " 'km_z3-4_4',\n",
       " 'km_z5-t1-t2_4',\n",
       " 'km_sprinting_4',\n",
       " 'strength_training_4',\n",
       " 'hours_alternative_4',\n",
       " 'perceived_exertion_4',\n",
       " 'perceived_trainingsuccess_4',\n",
       " 'perceived_recovery_4',\n",
       " 'nr__sessions_5',\n",
       " 'total_km_5',\n",
       " 'km_z3-4_5',\n",
       " 'km_z5-t1-t2_5',\n",
       " 'km_sprinting_5',\n",
       " 'strength_training_5',\n",
       " 'hours_alternative_5',\n",
       " 'perceived_exertion_5',\n",
       " 'perceived_trainingsuccess_5',\n",
       " 'perceived_recovery_5',\n",
       " 'nr__sessions_6',\n",
       " 'total_km_6',\n",
       " 'km_z3-4_6',\n",
       " 'km_z5-t1-t2_6',\n",
       " 'km_sprinting_6',\n",
       " 'strength_training_6',\n",
       " 'hours_alternative_6',\n",
       " 'perceived_exertion_6',\n",
       " 'perceived_trainingsuccess_6',\n",
       " 'perceived_recovery_6',\n",
       " 'date']"
      ]
     },
     "execution_count": 22,
     "metadata": {},
     "output_type": "execute_result"
    }
   ],
   "source": [
    "cols"
   ]
  },
  {
   "cell_type": "markdown",
   "metadata": {
    "id": "-uyGkZF6cH4U"
   },
   "source": [
    "We now create a local estimator and start the training process"
   ]
  },
  {
   "cell_type": "markdown",
   "metadata": {
    "id": "vIRuF-xaqPta"
   },
   "source": [
    "In the deep learning model below, we included the h2o library for anomaly detection i.e autoencoder."
   ]
  },
  {
   "cell_type": "code",
   "execution_count": null,
   "metadata": {
    "id": "EZvOc8B2i-bH"
   },
   "outputs": [],
   "source": [
    "# our model with its hyper parameters\n",
    "\n",
    "deepl_model = H2ODeepLearningEstimator(activation = \"Tanh\",\n",
    "                               hidden = [45,22,22,22,22,22,22,45],\n",
    "                               epochs = 100,\n",
    "                               standardize = True,\n",
    "                                stopping_metric = 'MSE',\n",
    "                                loss = 'automatic',\n",
    "                                train_samples_per_iteration = 32,\n",
    "                                shuffle_training_data = True,     \n",
    "                               autoencoder = True,\n",
    "                               l1 = 10e-5)"
   ]
  },
  {
   "cell_type": "code",
   "execution_count": null,
   "metadata": {
    "colab": {
     "base_uri": "https://localhost:8080/"
    },
    "executionInfo": {
     "elapsed": 2972793,
     "status": "ok",
     "timestamp": 1661549483129,
     "user": {
      "displayName": "Olusegun Ajibola",
      "userId": "14016280963587867119"
     },
     "user_tz": -120
    },
    "id": "ysiog36JjAY3",
    "outputId": "e91cd1c6-966f-4036-e71c-800eba6cda44"
   },
   "outputs": [
    {
     "name": "stdout",
     "output_type": "stream",
     "text": [
      "deeplearning Model Build progress: |█████████████████████████████████████████████| (done) 100%\n",
      "deeplearning Model Build progress: |██████████████████████████████████████████████████████████| (done) 100%\n",
      "deeplearning Model Build progress: |█████████████████████████████| (done) 100%\n",
      "deeplearning Model Build progress: |███████████████████████████████████████████████████████████| (done) 100%\n",
      "deeplearning Model Build progress: |███████████████████████████████| (done) 100%\n",
      "deeplearning Model Build progress: |██████████████████████████████████████████████████████████| (done) 100%\n",
      "deeplearning Model Build progress: |████████████████████████████████| (done) 100%\n",
      "deeplearning Model Build progress: |████████████████████████████████████████████████████████████| (done) 100%\n",
      "deeplearning Model Build progress: |██████████████████████████████| (done) 100%\n",
      "deeplearning Model Build progress: |█████████████████████████████████████████████████████████████| (done) 100%\n",
      "deeplearning Model Build progress: |█████████████████████████████| (done) 100%\n",
      "deeplearning Model Build progress: |████████████████████████████████████████████████████████| (done) 100%\n",
      "deeplearning Model Build progress: |██████████████████████████████████| (done) 100%\n",
      "deeplearning Model Build progress: |█████████████████████████████████████████████████████████████| (done) 100%\n",
      "7min 15s ± 1min 8s per loop (mean ± std. dev. of 7 runs, 1 loop each)\n",
      "█████████████████████████████| (done) 100%\n",
      "7min 15s ± 1min 8s per loop (mean ± std. dev. of 7 runs, 1 loop each)\n"
     ]
    }
   ],
   "source": [
    "%timeit deepl_model.train(x = cols , y = 'injury', training_frame = train_h2o) # this takes a while at least an hour "
   ]
  },
  {
   "cell_type": "code",
   "execution_count": null,
   "metadata": {
    "colab": {
     "base_uri": "https://localhost:8080/"
    },
    "executionInfo": {
     "elapsed": 473,
     "status": "ok",
     "timestamp": 1661549953220,
     "user": {
      "displayName": "Olusegun Ajibola",
      "userId": "14016280963587867119"
     },
     "user_tz": -120
    },
    "id": "5Ken-3NPo4Dq",
    "outputId": "64826733-332a-43f4-e562-b57020411837"
   },
   "outputs": [
    {
     "name": "stdout",
     "output_type": "stream",
     "text": [
      "\n",
      "ModelMetricsAutoEncoder: deeplearning\n",
      "** Reported on train data. **\n",
      "\n",
      "MSE: 0.0039337076845405595\n",
      "RMSE: 0.06271927681774209\n"
     ]
    },
    {
     "data": {
      "text/plain": []
     },
     "execution_count": 45,
     "metadata": {},
     "output_type": "execute_result"
    }
   ],
   "source": [
    "# Evaluate performance:\n",
    "\n",
    "perf = deepl_model.model_performance()\n",
    "perf"
   ]
  },
  {
   "cell_type": "markdown",
   "metadata": {
    "id": "ic2BV2d-qlE2"
   },
   "source": [
    "The MSE & RMSE helps us to understand how far off our prediction is on the training data as opposed to the actual results. The small number above which almost equals zero tells us that our model performs well on the training set.\n",
    "\n",
    "We also note that $RMSE = \\sqrt{MSE}$"
   ]
  },
  {
   "cell_type": "markdown",
   "metadata": {
    "id": "cxuafel6kRAt"
   },
   "source": [
    "Show the model feature importance in a dataframe"
   ]
  },
  {
   "cell_type": "code",
   "execution_count": null,
   "metadata": {
    "colab": {
     "base_uri": "https://localhost:8080/",
     "height": 1000
    },
    "executionInfo": {
     "elapsed": 464,
     "status": "ok",
     "timestamp": 1661549956349,
     "user": {
      "displayName": "Olusegun Ajibola",
      "userId": "14016280963587867119"
     },
     "user_tz": -120
    },
    "id": "oA54wpE9jJDG",
    "outputId": "9abef579-3d10-475e-e3a6-2237898c04ba"
   },
   "outputs": [
    {
     "data": {
      "text/html": [
       "\n",
       "  <div id=\"df-0fd18775-9206-4557-b16e-d5f94f5afde5\">\n",
       "    <div class=\"colab-df-container\">\n",
       "      <div>\n",
       "<style scoped>\n",
       "    .dataframe tbody tr th:only-of-type {\n",
       "        vertical-align: middle;\n",
       "    }\n",
       "\n",
       "    .dataframe tbody tr th {\n",
       "        vertical-align: top;\n",
       "    }\n",
       "\n",
       "    .dataframe thead th {\n",
       "        text-align: right;\n",
       "    }\n",
       "</style>\n",
       "<table border=\"1\" class=\"dataframe\">\n",
       "  <thead>\n",
       "    <tr style=\"text-align: right;\">\n",
       "      <th></th>\n",
       "      <th>variable</th>\n",
       "      <th>relative_importance</th>\n",
       "      <th>scaled_importance</th>\n",
       "      <th>percentage</th>\n",
       "    </tr>\n",
       "  </thead>\n",
       "  <tbody>\n",
       "    <tr>\n",
       "      <th>0</th>\n",
       "      <td>nr__sessions_1</td>\n",
       "      <td>1.000000</td>\n",
       "      <td>1.000000</td>\n",
       "      <td>0.052037</td>\n",
       "    </tr>\n",
       "    <tr>\n",
       "      <th>1</th>\n",
       "      <td>nr__sessions_3</td>\n",
       "      <td>0.837007</td>\n",
       "      <td>0.837007</td>\n",
       "      <td>0.043555</td>\n",
       "    </tr>\n",
       "    <tr>\n",
       "      <th>2</th>\n",
       "      <td>nr__sessions_2</td>\n",
       "      <td>0.832789</td>\n",
       "      <td>0.832789</td>\n",
       "      <td>0.043336</td>\n",
       "    </tr>\n",
       "    <tr>\n",
       "      <th>3</th>\n",
       "      <td>nr__sessions_6</td>\n",
       "      <td>0.812425</td>\n",
       "      <td>0.812425</td>\n",
       "      <td>0.042276</td>\n",
       "    </tr>\n",
       "    <tr>\n",
       "      <th>4</th>\n",
       "      <td>nr__sessions_5</td>\n",
       "      <td>0.792033</td>\n",
       "      <td>0.792033</td>\n",
       "      <td>0.041215</td>\n",
       "    </tr>\n",
       "    <tr>\n",
       "      <th>5</th>\n",
       "      <td>nr__sessions_4</td>\n",
       "      <td>0.774218</td>\n",
       "      <td>0.774218</td>\n",
       "      <td>0.040288</td>\n",
       "    </tr>\n",
       "    <tr>\n",
       "      <th>6</th>\n",
       "      <td>strength_training</td>\n",
       "      <td>0.734084</td>\n",
       "      <td>0.734084</td>\n",
       "      <td>0.038200</td>\n",
       "    </tr>\n",
       "    <tr>\n",
       "      <th>7</th>\n",
       "      <td>strength_training_1</td>\n",
       "      <td>0.694053</td>\n",
       "      <td>0.694053</td>\n",
       "      <td>0.036116</td>\n",
       "    </tr>\n",
       "    <tr>\n",
       "      <th>8</th>\n",
       "      <td>nr__sessions</td>\n",
       "      <td>0.674160</td>\n",
       "      <td>0.674160</td>\n",
       "      <td>0.035081</td>\n",
       "    </tr>\n",
       "    <tr>\n",
       "      <th>9</th>\n",
       "      <td>perceived_exertion_2</td>\n",
       "      <td>0.607244</td>\n",
       "      <td>0.607244</td>\n",
       "      <td>0.031599</td>\n",
       "    </tr>\n",
       "    <tr>\n",
       "      <th>10</th>\n",
       "      <td>strength_training_4</td>\n",
       "      <td>0.597771</td>\n",
       "      <td>0.597771</td>\n",
       "      <td>0.031106</td>\n",
       "    </tr>\n",
       "    <tr>\n",
       "      <th>11</th>\n",
       "      <td>date</td>\n",
       "      <td>0.570068</td>\n",
       "      <td>0.570068</td>\n",
       "      <td>0.029665</td>\n",
       "    </tr>\n",
       "    <tr>\n",
       "      <th>12</th>\n",
       "      <td>perceived_exertion_3</td>\n",
       "      <td>0.549938</td>\n",
       "      <td>0.549938</td>\n",
       "      <td>0.028617</td>\n",
       "    </tr>\n",
       "    <tr>\n",
       "      <th>13</th>\n",
       "      <td>perceived_trainingsuccess_5</td>\n",
       "      <td>0.503045</td>\n",
       "      <td>0.503045</td>\n",
       "      <td>0.026177</td>\n",
       "    </tr>\n",
       "    <tr>\n",
       "      <th>14</th>\n",
       "      <td>perceived_exertion_5</td>\n",
       "      <td>0.459329</td>\n",
       "      <td>0.459329</td>\n",
       "      <td>0.023902</td>\n",
       "    </tr>\n",
       "    <tr>\n",
       "      <th>15</th>\n",
       "      <td>perceived_exertion_1</td>\n",
       "      <td>0.416877</td>\n",
       "      <td>0.416877</td>\n",
       "      <td>0.021693</td>\n",
       "    </tr>\n",
       "    <tr>\n",
       "      <th>16</th>\n",
       "      <td>perceived_exertion_6</td>\n",
       "      <td>0.402688</td>\n",
       "      <td>0.402688</td>\n",
       "      <td>0.020955</td>\n",
       "    </tr>\n",
       "    <tr>\n",
       "      <th>17</th>\n",
       "      <td>strength_training_3</td>\n",
       "      <td>0.385178</td>\n",
       "      <td>0.385178</td>\n",
       "      <td>0.020044</td>\n",
       "    </tr>\n",
       "    <tr>\n",
       "      <th>18</th>\n",
       "      <td>perceived_trainingsuccess_3</td>\n",
       "      <td>0.363605</td>\n",
       "      <td>0.363605</td>\n",
       "      <td>0.018921</td>\n",
       "    </tr>\n",
       "    <tr>\n",
       "      <th>19</th>\n",
       "      <td>perceived_trainingsuccess_2</td>\n",
       "      <td>0.338509</td>\n",
       "      <td>0.338509</td>\n",
       "      <td>0.017615</td>\n",
       "    </tr>\n",
       "    <tr>\n",
       "      <th>20</th>\n",
       "      <td>perceived_exertion</td>\n",
       "      <td>0.335530</td>\n",
       "      <td>0.335530</td>\n",
       "      <td>0.017460</td>\n",
       "    </tr>\n",
       "    <tr>\n",
       "      <th>21</th>\n",
       "      <td>strength_training_6</td>\n",
       "      <td>0.320976</td>\n",
       "      <td>0.320976</td>\n",
       "      <td>0.016703</td>\n",
       "    </tr>\n",
       "    <tr>\n",
       "      <th>22</th>\n",
       "      <td>perceived_trainingsuccess_6</td>\n",
       "      <td>0.302537</td>\n",
       "      <td>0.302537</td>\n",
       "      <td>0.015743</td>\n",
       "    </tr>\n",
       "    <tr>\n",
       "      <th>23</th>\n",
       "      <td>perceived_recovery_5</td>\n",
       "      <td>0.293750</td>\n",
       "      <td>0.293750</td>\n",
       "      <td>0.015286</td>\n",
       "    </tr>\n",
       "    <tr>\n",
       "      <th>24</th>\n",
       "      <td>perceived_trainingsuccess</td>\n",
       "      <td>0.290505</td>\n",
       "      <td>0.290505</td>\n",
       "      <td>0.015117</td>\n",
       "    </tr>\n",
       "    <tr>\n",
       "      <th>25</th>\n",
       "      <td>perceived_recovery_3</td>\n",
       "      <td>0.285945</td>\n",
       "      <td>0.285945</td>\n",
       "      <td>0.014880</td>\n",
       "    </tr>\n",
       "    <tr>\n",
       "      <th>26</th>\n",
       "      <td>perceived_recovery_4</td>\n",
       "      <td>0.284656</td>\n",
       "      <td>0.284656</td>\n",
       "      <td>0.014813</td>\n",
       "    </tr>\n",
       "    <tr>\n",
       "      <th>27</th>\n",
       "      <td>perceived_trainingsuccess_1</td>\n",
       "      <td>0.280605</td>\n",
       "      <td>0.280605</td>\n",
       "      <td>0.014602</td>\n",
       "    </tr>\n",
       "    <tr>\n",
       "      <th>28</th>\n",
       "      <td>perceived_recovery_6</td>\n",
       "      <td>0.265760</td>\n",
       "      <td>0.265760</td>\n",
       "      <td>0.013829</td>\n",
       "    </tr>\n",
       "    <tr>\n",
       "      <th>29</th>\n",
       "      <td>perceived_recovery</td>\n",
       "      <td>0.263282</td>\n",
       "      <td>0.263282</td>\n",
       "      <td>0.013700</td>\n",
       "    </tr>\n",
       "    <tr>\n",
       "      <th>30</th>\n",
       "      <td>strength_training_2</td>\n",
       "      <td>0.252451</td>\n",
       "      <td>0.252451</td>\n",
       "      <td>0.013137</td>\n",
       "    </tr>\n",
       "    <tr>\n",
       "      <th>31</th>\n",
       "      <td>perceived_recovery_2</td>\n",
       "      <td>0.233755</td>\n",
       "      <td>0.233755</td>\n",
       "      <td>0.012164</td>\n",
       "    </tr>\n",
       "    <tr>\n",
       "      <th>32</th>\n",
       "      <td>perceived_recovery_1</td>\n",
       "      <td>0.232987</td>\n",
       "      <td>0.232987</td>\n",
       "      <td>0.012124</td>\n",
       "    </tr>\n",
       "    <tr>\n",
       "      <th>33</th>\n",
       "      <td>strength_training_5</td>\n",
       "      <td>0.231050</td>\n",
       "      <td>0.231050</td>\n",
       "      <td>0.012023</td>\n",
       "    </tr>\n",
       "    <tr>\n",
       "      <th>34</th>\n",
       "      <td>perceived_trainingsuccess_4</td>\n",
       "      <td>0.219581</td>\n",
       "      <td>0.219581</td>\n",
       "      <td>0.011426</td>\n",
       "    </tr>\n",
       "    <tr>\n",
       "      <th>35</th>\n",
       "      <td>perceived_exertion_4</td>\n",
       "      <td>0.218597</td>\n",
       "      <td>0.218597</td>\n",
       "      <td>0.011375</td>\n",
       "    </tr>\n",
       "    <tr>\n",
       "      <th>36</th>\n",
       "      <td>total_km_3</td>\n",
       "      <td>0.187769</td>\n",
       "      <td>0.187769</td>\n",
       "      <td>0.009771</td>\n",
       "    </tr>\n",
       "    <tr>\n",
       "      <th>37</th>\n",
       "      <td>total_km_2</td>\n",
       "      <td>0.184078</td>\n",
       "      <td>0.184078</td>\n",
       "      <td>0.009579</td>\n",
       "    </tr>\n",
       "    <tr>\n",
       "      <th>38</th>\n",
       "      <td>total_km_5</td>\n",
       "      <td>0.166356</td>\n",
       "      <td>0.166356</td>\n",
       "      <td>0.008657</td>\n",
       "    </tr>\n",
       "    <tr>\n",
       "      <th>39</th>\n",
       "      <td>total_km_4</td>\n",
       "      <td>0.154513</td>\n",
       "      <td>0.154513</td>\n",
       "      <td>0.008040</td>\n",
       "    </tr>\n",
       "    <tr>\n",
       "      <th>40</th>\n",
       "      <td>total_km_1</td>\n",
       "      <td>0.150580</td>\n",
       "      <td>0.150580</td>\n",
       "      <td>0.007836</td>\n",
       "    </tr>\n",
       "    <tr>\n",
       "      <th>41</th>\n",
       "      <td>total_km_6</td>\n",
       "      <td>0.150452</td>\n",
       "      <td>0.150452</td>\n",
       "      <td>0.007829</td>\n",
       "    </tr>\n",
       "    <tr>\n",
       "      <th>42</th>\n",
       "      <td>total_km</td>\n",
       "      <td>0.140971</td>\n",
       "      <td>0.140971</td>\n",
       "      <td>0.007336</td>\n",
       "    </tr>\n",
       "    <tr>\n",
       "      <th>43</th>\n",
       "      <td>km_z5-t1-t2_1</td>\n",
       "      <td>0.068250</td>\n",
       "      <td>0.068250</td>\n",
       "      <td>0.003552</td>\n",
       "    </tr>\n",
       "    <tr>\n",
       "      <th>44</th>\n",
       "      <td>hours_alternative_3</td>\n",
       "      <td>0.067490</td>\n",
       "      <td>0.067490</td>\n",
       "      <td>0.003512</td>\n",
       "    </tr>\n",
       "    <tr>\n",
       "      <th>45</th>\n",
       "      <td>hours_alternative</td>\n",
       "      <td>0.067452</td>\n",
       "      <td>0.067452</td>\n",
       "      <td>0.003510</td>\n",
       "    </tr>\n",
       "    <tr>\n",
       "      <th>46</th>\n",
       "      <td>km_z3-4_4</td>\n",
       "      <td>0.063417</td>\n",
       "      <td>0.063417</td>\n",
       "      <td>0.003300</td>\n",
       "    </tr>\n",
       "    <tr>\n",
       "      <th>47</th>\n",
       "      <td>km_z3-4_3</td>\n",
       "      <td>0.061998</td>\n",
       "      <td>0.061998</td>\n",
       "      <td>0.003226</td>\n",
       "    </tr>\n",
       "    <tr>\n",
       "      <th>48</th>\n",
       "      <td>hours_alternative_5</td>\n",
       "      <td>0.061292</td>\n",
       "      <td>0.061292</td>\n",
       "      <td>0.003189</td>\n",
       "    </tr>\n",
       "    <tr>\n",
       "      <th>49</th>\n",
       "      <td>km_z3-4_2</td>\n",
       "      <td>0.061083</td>\n",
       "      <td>0.061083</td>\n",
       "      <td>0.003179</td>\n",
       "    </tr>\n",
       "    <tr>\n",
       "      <th>50</th>\n",
       "      <td>km_z3-4_6</td>\n",
       "      <td>0.058273</td>\n",
       "      <td>0.058273</td>\n",
       "      <td>0.003032</td>\n",
       "    </tr>\n",
       "    <tr>\n",
       "      <th>51</th>\n",
       "      <td>hours_alternative_2</td>\n",
       "      <td>0.057940</td>\n",
       "      <td>0.057940</td>\n",
       "      <td>0.003015</td>\n",
       "    </tr>\n",
       "    <tr>\n",
       "      <th>52</th>\n",
       "      <td>hours_alternative_1</td>\n",
       "      <td>0.057845</td>\n",
       "      <td>0.057845</td>\n",
       "      <td>0.003010</td>\n",
       "    </tr>\n",
       "    <tr>\n",
       "      <th>53</th>\n",
       "      <td>km_z3-4_1</td>\n",
       "      <td>0.056962</td>\n",
       "      <td>0.056962</td>\n",
       "      <td>0.002964</td>\n",
       "    </tr>\n",
       "    <tr>\n",
       "      <th>54</th>\n",
       "      <td>hours_alternative_4</td>\n",
       "      <td>0.055539</td>\n",
       "      <td>0.055539</td>\n",
       "      <td>0.002890</td>\n",
       "    </tr>\n",
       "    <tr>\n",
       "      <th>55</th>\n",
       "      <td>km_z5-t1-t2_5</td>\n",
       "      <td>0.053585</td>\n",
       "      <td>0.053585</td>\n",
       "      <td>0.002788</td>\n",
       "    </tr>\n",
       "    <tr>\n",
       "      <th>56</th>\n",
       "      <td>km_z3-4</td>\n",
       "      <td>0.051384</td>\n",
       "      <td>0.051384</td>\n",
       "      <td>0.002674</td>\n",
       "    </tr>\n",
       "    <tr>\n",
       "      <th>57</th>\n",
       "      <td>km_z5-t1-t2</td>\n",
       "      <td>0.050723</td>\n",
       "      <td>0.050723</td>\n",
       "      <td>0.002639</td>\n",
       "    </tr>\n",
       "    <tr>\n",
       "      <th>58</th>\n",
       "      <td>km_z3-4_5</td>\n",
       "      <td>0.050161</td>\n",
       "      <td>0.050161</td>\n",
       "      <td>0.002610</td>\n",
       "    </tr>\n",
       "    <tr>\n",
       "      <th>59</th>\n",
       "      <td>injury</td>\n",
       "      <td>0.049861</td>\n",
       "      <td>0.049861</td>\n",
       "      <td>0.002595</td>\n",
       "    </tr>\n",
       "    <tr>\n",
       "      <th>60</th>\n",
       "      <td>km_z5-t1-t2_4</td>\n",
       "      <td>0.047651</td>\n",
       "      <td>0.047651</td>\n",
       "      <td>0.002480</td>\n",
       "    </tr>\n",
       "    <tr>\n",
       "      <th>61</th>\n",
       "      <td>km_z5-t1-t2_2</td>\n",
       "      <td>0.044871</td>\n",
       "      <td>0.044871</td>\n",
       "      <td>0.002335</td>\n",
       "    </tr>\n",
       "    <tr>\n",
       "      <th>62</th>\n",
       "      <td>km_z5-t1-t2_6</td>\n",
       "      <td>0.043690</td>\n",
       "      <td>0.043690</td>\n",
       "      <td>0.002274</td>\n",
       "    </tr>\n",
       "    <tr>\n",
       "      <th>63</th>\n",
       "      <td>km_z5-t1-t2_3</td>\n",
       "      <td>0.041144</td>\n",
       "      <td>0.041144</td>\n",
       "      <td>0.002141</td>\n",
       "    </tr>\n",
       "    <tr>\n",
       "      <th>64</th>\n",
       "      <td>hours_alternative_6</td>\n",
       "      <td>0.036241</td>\n",
       "      <td>0.036241</td>\n",
       "      <td>0.001886</td>\n",
       "    </tr>\n",
       "    <tr>\n",
       "      <th>65</th>\n",
       "      <td>km_sprinting_1</td>\n",
       "      <td>0.035335</td>\n",
       "      <td>0.035335</td>\n",
       "      <td>0.001839</td>\n",
       "    </tr>\n",
       "    <tr>\n",
       "      <th>66</th>\n",
       "      <td>km_sprinting_6</td>\n",
       "      <td>0.033413</td>\n",
       "      <td>0.033413</td>\n",
       "      <td>0.001739</td>\n",
       "    </tr>\n",
       "    <tr>\n",
       "      <th>67</th>\n",
       "      <td>km_sprinting_4</td>\n",
       "      <td>0.033172</td>\n",
       "      <td>0.033172</td>\n",
       "      <td>0.001726</td>\n",
       "    </tr>\n",
       "    <tr>\n",
       "      <th>68</th>\n",
       "      <td>km_sprinting</td>\n",
       "      <td>0.031600</td>\n",
       "      <td>0.031600</td>\n",
       "      <td>0.001644</td>\n",
       "    </tr>\n",
       "    <tr>\n",
       "      <th>69</th>\n",
       "      <td>km_sprinting_5</td>\n",
       "      <td>0.029190</td>\n",
       "      <td>0.029190</td>\n",
       "      <td>0.001519</td>\n",
       "    </tr>\n",
       "    <tr>\n",
       "      <th>70</th>\n",
       "      <td>km_sprinting_2</td>\n",
       "      <td>0.027998</td>\n",
       "      <td>0.027998</td>\n",
       "      <td>0.001457</td>\n",
       "    </tr>\n",
       "    <tr>\n",
       "      <th>71</th>\n",
       "      <td>km_sprinting_3</td>\n",
       "      <td>0.027810</td>\n",
       "      <td>0.027810</td>\n",
       "      <td>0.001447</td>\n",
       "    </tr>\n",
       "  </tbody>\n",
       "</table>\n",
       "</div>\n",
       "      <button class=\"colab-df-convert\" onclick=\"convertToInteractive('df-0fd18775-9206-4557-b16e-d5f94f5afde5')\"\n",
       "              title=\"Convert this dataframe to an interactive table.\"\n",
       "              style=\"display:none;\">\n",
       "        \n",
       "  <svg xmlns=\"http://www.w3.org/2000/svg\" height=\"24px\"viewBox=\"0 0 24 24\"\n",
       "       width=\"24px\">\n",
       "    <path d=\"M0 0h24v24H0V0z\" fill=\"none\"/>\n",
       "    <path d=\"M18.56 5.44l.94 2.06.94-2.06 2.06-.94-2.06-.94-.94-2.06-.94 2.06-2.06.94zm-11 1L8.5 8.5l.94-2.06 2.06-.94-2.06-.94L8.5 2.5l-.94 2.06-2.06.94zm10 10l.94 2.06.94-2.06 2.06-.94-2.06-.94-.94-2.06-.94 2.06-2.06.94z\"/><path d=\"M17.41 7.96l-1.37-1.37c-.4-.4-.92-.59-1.43-.59-.52 0-1.04.2-1.43.59L10.3 9.45l-7.72 7.72c-.78.78-.78 2.05 0 2.83L4 21.41c.39.39.9.59 1.41.59.51 0 1.02-.2 1.41-.59l7.78-7.78 2.81-2.81c.8-.78.8-2.07 0-2.86zM5.41 20L4 18.59l7.72-7.72 1.47 1.35L5.41 20z\"/>\n",
       "  </svg>\n",
       "      </button>\n",
       "      \n",
       "  <style>\n",
       "    .colab-df-container {\n",
       "      display:flex;\n",
       "      flex-wrap:wrap;\n",
       "      gap: 12px;\n",
       "    }\n",
       "\n",
       "    .colab-df-convert {\n",
       "      background-color: #E8F0FE;\n",
       "      border: none;\n",
       "      border-radius: 50%;\n",
       "      cursor: pointer;\n",
       "      display: none;\n",
       "      fill: #1967D2;\n",
       "      height: 32px;\n",
       "      padding: 0 0 0 0;\n",
       "      width: 32px;\n",
       "    }\n",
       "\n",
       "    .colab-df-convert:hover {\n",
       "      background-color: #E2EBFA;\n",
       "      box-shadow: 0px 1px 2px rgba(60, 64, 67, 0.3), 0px 1px 3px 1px rgba(60, 64, 67, 0.15);\n",
       "      fill: #174EA6;\n",
       "    }\n",
       "\n",
       "    [theme=dark] .colab-df-convert {\n",
       "      background-color: #3B4455;\n",
       "      fill: #D2E3FC;\n",
       "    }\n",
       "\n",
       "    [theme=dark] .colab-df-convert:hover {\n",
       "      background-color: #434B5C;\n",
       "      box-shadow: 0px 1px 3px 1px rgba(0, 0, 0, 0.15);\n",
       "      filter: drop-shadow(0px 1px 2px rgba(0, 0, 0, 0.3));\n",
       "      fill: #FFFFFF;\n",
       "    }\n",
       "  </style>\n",
       "\n",
       "      <script>\n",
       "        const buttonEl =\n",
       "          document.querySelector('#df-0fd18775-9206-4557-b16e-d5f94f5afde5 button.colab-df-convert');\n",
       "        buttonEl.style.display =\n",
       "          google.colab.kernel.accessAllowed ? 'block' : 'none';\n",
       "\n",
       "        async function convertToInteractive(key) {\n",
       "          const element = document.querySelector('#df-0fd18775-9206-4557-b16e-d5f94f5afde5');\n",
       "          const dataTable =\n",
       "            await google.colab.kernel.invokeFunction('convertToInteractive',\n",
       "                                                     [key], {});\n",
       "          if (!dataTable) return;\n",
       "\n",
       "          const docLinkHtml = 'Like what you see? Visit the ' +\n",
       "            '<a target=\"_blank\" href=https://colab.research.google.com/notebooks/data_table.ipynb>data table notebook</a>'\n",
       "            + ' to learn more about interactive tables.';\n",
       "          element.innerHTML = '';\n",
       "          dataTable['output_type'] = 'display_data';\n",
       "          await google.colab.output.renderOutput(dataTable, element);\n",
       "          const docLink = document.createElement('div');\n",
       "          docLink.innerHTML = docLinkHtml;\n",
       "          element.appendChild(docLink);\n",
       "        }\n",
       "      </script>\n",
       "    </div>\n",
       "  </div>\n",
       "  "
      ],
      "text/plain": [
       "                       variable  relative_importance  scaled_importance  \\\n",
       "0                nr__sessions_1             1.000000           1.000000   \n",
       "1                nr__sessions_3             0.837007           0.837007   \n",
       "2                nr__sessions_2             0.832789           0.832789   \n",
       "3                nr__sessions_6             0.812425           0.812425   \n",
       "4                nr__sessions_5             0.792033           0.792033   \n",
       "5                nr__sessions_4             0.774218           0.774218   \n",
       "6             strength_training             0.734084           0.734084   \n",
       "7           strength_training_1             0.694053           0.694053   \n",
       "8                  nr__sessions             0.674160           0.674160   \n",
       "9          perceived_exertion_2             0.607244           0.607244   \n",
       "10          strength_training_4             0.597771           0.597771   \n",
       "11                         date             0.570068           0.570068   \n",
       "12         perceived_exertion_3             0.549938           0.549938   \n",
       "13  perceived_trainingsuccess_5             0.503045           0.503045   \n",
       "14         perceived_exertion_5             0.459329           0.459329   \n",
       "15         perceived_exertion_1             0.416877           0.416877   \n",
       "16         perceived_exertion_6             0.402688           0.402688   \n",
       "17          strength_training_3             0.385178           0.385178   \n",
       "18  perceived_trainingsuccess_3             0.363605           0.363605   \n",
       "19  perceived_trainingsuccess_2             0.338509           0.338509   \n",
       "20           perceived_exertion             0.335530           0.335530   \n",
       "21          strength_training_6             0.320976           0.320976   \n",
       "22  perceived_trainingsuccess_6             0.302537           0.302537   \n",
       "23         perceived_recovery_5             0.293750           0.293750   \n",
       "24    perceived_trainingsuccess             0.290505           0.290505   \n",
       "25         perceived_recovery_3             0.285945           0.285945   \n",
       "26         perceived_recovery_4             0.284656           0.284656   \n",
       "27  perceived_trainingsuccess_1             0.280605           0.280605   \n",
       "28         perceived_recovery_6             0.265760           0.265760   \n",
       "29           perceived_recovery             0.263282           0.263282   \n",
       "30          strength_training_2             0.252451           0.252451   \n",
       "31         perceived_recovery_2             0.233755           0.233755   \n",
       "32         perceived_recovery_1             0.232987           0.232987   \n",
       "33          strength_training_5             0.231050           0.231050   \n",
       "34  perceived_trainingsuccess_4             0.219581           0.219581   \n",
       "35         perceived_exertion_4             0.218597           0.218597   \n",
       "36                   total_km_3             0.187769           0.187769   \n",
       "37                   total_km_2             0.184078           0.184078   \n",
       "38                   total_km_5             0.166356           0.166356   \n",
       "39                   total_km_4             0.154513           0.154513   \n",
       "40                   total_km_1             0.150580           0.150580   \n",
       "41                   total_km_6             0.150452           0.150452   \n",
       "42                     total_km             0.140971           0.140971   \n",
       "43                km_z5-t1-t2_1             0.068250           0.068250   \n",
       "44          hours_alternative_3             0.067490           0.067490   \n",
       "45            hours_alternative             0.067452           0.067452   \n",
       "46                    km_z3-4_4             0.063417           0.063417   \n",
       "47                    km_z3-4_3             0.061998           0.061998   \n",
       "48          hours_alternative_5             0.061292           0.061292   \n",
       "49                    km_z3-4_2             0.061083           0.061083   \n",
       "50                    km_z3-4_6             0.058273           0.058273   \n",
       "51          hours_alternative_2             0.057940           0.057940   \n",
       "52          hours_alternative_1             0.057845           0.057845   \n",
       "53                    km_z3-4_1             0.056962           0.056962   \n",
       "54          hours_alternative_4             0.055539           0.055539   \n",
       "55                km_z5-t1-t2_5             0.053585           0.053585   \n",
       "56                      km_z3-4             0.051384           0.051384   \n",
       "57                  km_z5-t1-t2             0.050723           0.050723   \n",
       "58                    km_z3-4_5             0.050161           0.050161   \n",
       "59                       injury             0.049861           0.049861   \n",
       "60                km_z5-t1-t2_4             0.047651           0.047651   \n",
       "61                km_z5-t1-t2_2             0.044871           0.044871   \n",
       "62                km_z5-t1-t2_6             0.043690           0.043690   \n",
       "63                km_z5-t1-t2_3             0.041144           0.041144   \n",
       "64          hours_alternative_6             0.036241           0.036241   \n",
       "65               km_sprinting_1             0.035335           0.035335   \n",
       "66               km_sprinting_6             0.033413           0.033413   \n",
       "67               km_sprinting_4             0.033172           0.033172   \n",
       "68                 km_sprinting             0.031600           0.031600   \n",
       "69               km_sprinting_5             0.029190           0.029190   \n",
       "70               km_sprinting_2             0.027998           0.027998   \n",
       "71               km_sprinting_3             0.027810           0.027810   \n",
       "\n",
       "    percentage  \n",
       "0     0.052037  \n",
       "1     0.043555  \n",
       "2     0.043336  \n",
       "3     0.042276  \n",
       "4     0.041215  \n",
       "5     0.040288  \n",
       "6     0.038200  \n",
       "7     0.036116  \n",
       "8     0.035081  \n",
       "9     0.031599  \n",
       "10    0.031106  \n",
       "11    0.029665  \n",
       "12    0.028617  \n",
       "13    0.026177  \n",
       "14    0.023902  \n",
       "15    0.021693  \n",
       "16    0.020955  \n",
       "17    0.020044  \n",
       "18    0.018921  \n",
       "19    0.017615  \n",
       "20    0.017460  \n",
       "21    0.016703  \n",
       "22    0.015743  \n",
       "23    0.015286  \n",
       "24    0.015117  \n",
       "25    0.014880  \n",
       "26    0.014813  \n",
       "27    0.014602  \n",
       "28    0.013829  \n",
       "29    0.013700  \n",
       "30    0.013137  \n",
       "31    0.012164  \n",
       "32    0.012124  \n",
       "33    0.012023  \n",
       "34    0.011426  \n",
       "35    0.011375  \n",
       "36    0.009771  \n",
       "37    0.009579  \n",
       "38    0.008657  \n",
       "39    0.008040  \n",
       "40    0.007836  \n",
       "41    0.007829  \n",
       "42    0.007336  \n",
       "43    0.003552  \n",
       "44    0.003512  \n",
       "45    0.003510  \n",
       "46    0.003300  \n",
       "47    0.003226  \n",
       "48    0.003189  \n",
       "49    0.003179  \n",
       "50    0.003032  \n",
       "51    0.003015  \n",
       "52    0.003010  \n",
       "53    0.002964  \n",
       "54    0.002890  \n",
       "55    0.002788  \n",
       "56    0.002674  \n",
       "57    0.002639  \n",
       "58    0.002610  \n",
       "59    0.002595  \n",
       "60    0.002480  \n",
       "61    0.002335  \n",
       "62    0.002274  \n",
       "63    0.002141  \n",
       "64    0.001886  \n",
       "65    0.001839  \n",
       "66    0.001739  \n",
       "67    0.001726  \n",
       "68    0.001644  \n",
       "69    0.001519  \n",
       "70    0.001457  \n",
       "71    0.001447  "
      ]
     },
     "execution_count": 46,
     "metadata": {},
     "output_type": "execute_result"
    }
   ],
   "source": [
    "deepl_model._model_json['output']['variable_importances'].as_data_frame()"
   ]
  },
  {
   "cell_type": "markdown",
   "metadata": {
    "id": "0ctJxD89kgAw"
   },
   "source": [
    "Visualization of the feature importance"
   ]
  },
  {
   "cell_type": "code",
   "execution_count": null,
   "metadata": {
    "colab": {
     "base_uri": "https://localhost:8080/",
     "height": 513
    },
    "executionInfo": {
     "elapsed": 851,
     "status": "ok",
     "timestamp": 1661549965239,
     "user": {
      "displayName": "Olusegun Ajibola",
      "userId": "14016280963587867119"
     },
     "user_tz": -120
    },
    "id": "73vZUHmmkfhI",
    "outputId": "1f6f7393-0d14-49a9-b3f9-29cda6aba5a5"
   },
   "outputs": [
    {
     "data": {
      "image/png": "[encoded data removed]",
      "text/plain": [
       "<Figure size 1008x576 with 1 Axes>"
      ]
     },
     "metadata": {},
     "output_type": "display_data"
    }
   ],
   "source": [
    "# plotting the variable importance\n",
    "rcParams['figure.figsize'] = 14, 8\n",
    "#plt.rcdefaults()\n",
    "fig, ax = plt.subplots()\n",
    "\n",
    "variables = deepl_model._model_json['output']['variable_importances']['variable']\n",
    "var = variables[0:35]\n",
    "y_pos = np.arange(len(var))\n",
    "\n",
    "scaled_importance = deepl_model._model_json['output']['variable_importances']['scaled_importance']\n",
    "sc = scaled_importance[0:35]\n",
    "\n",
    "ax.barh(y_pos, sc, align='center', color='green', ecolor='black')\n",
    "ax.set_yticks(y_pos)\n",
    "ax.set_yticklabels(variables)\n",
    "ax.invert_yaxis()\n",
    "ax.set_xlabel('Scaled Importance')\n",
    "ax.set_title('Variable Importance of Top 35 Features ')\n",
    "plt.show()"
   ]
  },
  {
   "cell_type": "markdown",
   "metadata": {
    "id": "ir90Ed2_krem"
   },
   "source": [
    "Visualize the model loss."
   ]
  },
  {
   "cell_type": "code",
   "execution_count": null,
   "metadata": {
    "colab": {
     "base_uri": "https://localhost:8080/",
     "height": 531
    },
    "executionInfo": {
     "elapsed": 558,
     "status": "ok",
     "timestamp": 1661549977060,
     "user": {
      "displayName": "Olusegun Ajibola",
      "userId": "14016280963587867119"
     },
     "user_tz": -120
    },
    "id": "G7ZoE668kfdh",
    "outputId": "186e2a3e-d233-488b-a088-02f8ca814870"
   },
   "outputs": [
    {
     "data": {
      "text/plain": [
       "Text(0.5, 0, 'epoch')"
      ]
     },
     "execution_count": 48,
     "metadata": {},
     "output_type": "execute_result"
    },
    {
     "data": {
      "image/png": "[encoded data removed]",
      "text/plain": [
       "<Figure size 1008x576 with 1 Axes>"
      ]
     },
     "metadata": {},
     "output_type": "display_data"
    }
   ],
   "source": [
    "# plotting the loss\n",
    "\n",
    "scoring_history = deepl_model.score_history()\n",
    "\n",
    "rcParams['figure.figsize'] = 14, 8\n",
    "plt.plot(scoring_history['training_mse'])\n",
    "plt.title('model loss')\n",
    "plt.ylabel('loss')\n",
    "plt.xlabel('epoch')"
   ]
  },
  {
   "cell_type": "markdown",
   "metadata": {
    "id": "2SFWIkEUkyrQ"
   },
   "source": [
    "Visualize the scatter plot across the dataset"
   ]
  },
  {
   "cell_type": "code",
   "execution_count": null,
   "metadata": {
    "colab": {
     "base_uri": "https://localhost:8080/",
     "height": 497
    },
    "executionInfo": {
     "elapsed": 1284,
     "status": "ok",
     "timestamp": 1661550047053,
     "user": {
      "displayName": "Olusegun Ajibola",
      "userId": "14016280963587867119"
     },
     "user_tz": -120
    },
    "id": "BQFsmBYqkedk",
    "outputId": "45a6bc5f-7683-40d8-f615-3d58497b7a7b"
   },
   "outputs": [
    {
     "data": {
      "image/png": "[encoded data removed]",
      "text/plain": [
       "<Figure size 1008x576 with 1 Axes>"
      ]
     },
     "metadata": {},
     "output_type": "display_data"
    }
   ],
   "source": [
    "test_rec_error = deepl_model.anomaly(test_h2o) \n",
    "\n",
    "# deepl is a H2O function which calculates the error for the dataset\n",
    "\n",
    "# converting to pandas dataframe\n",
    "test_rec_error_df = test_rec_error.as_data_frame()\n",
    "\n",
    "# plotting the testing dataset against the error\n",
    "test_rec_error_df['id'] = test_rec_error_df.index\n",
    "rcParams['figure.figsize'] = 14, 8\n",
    "test_rec_error_df.plot(kind=\"scatter\", x='id', y=\"Reconstruction.MSE\")\n",
    "plt.show()"
   ]
  },
  {
   "cell_type": "code",
   "execution_count": null,
   "metadata": {
    "colab": {
     "base_uri": "https://localhost:8080/",
     "height": 162
    },
    "executionInfo": {
     "elapsed": 923,
     "status": "ok",
     "timestamp": 1661550105410,
     "user": {
      "displayName": "Olusegun Ajibola",
      "userId": "14016280963587867119"
     },
     "user_tz": -120
    },
    "id": "bh5vqpwrk-6f",
    "outputId": "025423f6-730d-45cb-f405-43343b980dee"
   },
   "outputs": [
    {
     "name": "stdout",
     "output_type": "stream",
     "text": [
      "deeplearning prediction progress: |██████████████████████████████████████████████| (done) 100%\n"
     ]
    },
    {
     "data": {
      "text/html": [
       "\n",
       "  <div id=\"df-b6ac792b-e3f7-413c-b6c9-4b717fa44933\">\n",
       "    <div class=\"colab-df-container\">\n",
       "      <div>\n",
       "<style scoped>\n",
       "    .dataframe tbody tr th:only-of-type {\n",
       "        vertical-align: middle;\n",
       "    }\n",
       "\n",
       "    .dataframe tbody tr th {\n",
       "        vertical-align: top;\n",
       "    }\n",
       "\n",
       "    .dataframe thead th {\n",
       "        text-align: right;\n",
       "    }\n",
       "</style>\n",
       "<table border=\"1\" class=\"dataframe\">\n",
       "  <thead>\n",
       "    <tr style=\"text-align: right;\">\n",
       "      <th></th>\n",
       "      <th>reconstruction_error</th>\n",
       "    </tr>\n",
       "    <tr>\n",
       "      <th>true_class</th>\n",
       "      <th></th>\n",
       "    </tr>\n",
       "  </thead>\n",
       "  <tbody>\n",
       "    <tr>\n",
       "      <th>0</th>\n",
       "      <td>8602</td>\n",
       "    </tr>\n",
       "    <tr>\n",
       "      <th>1</th>\n",
       "      <td>110</td>\n",
       "    </tr>\n",
       "  </tbody>\n",
       "</table>\n",
       "</div>\n",
       "      <button class=\"colab-df-convert\" onclick=\"convertToInteractive('df-b6ac792b-e3f7-413c-b6c9-4b717fa44933')\"\n",
       "              title=\"Convert this dataframe to an interactive table.\"\n",
       "              style=\"display:none;\">\n",
       "        \n",
       "  <svg xmlns=\"http://www.w3.org/2000/svg\" height=\"24px\"viewBox=\"0 0 24 24\"\n",
       "       width=\"24px\">\n",
       "    <path d=\"M0 0h24v24H0V0z\" fill=\"none\"/>\n",
       "    <path d=\"M18.56 5.44l.94 2.06.94-2.06 2.06-.94-2.06-.94-.94-2.06-.94 2.06-2.06.94zm-11 1L8.5 8.5l.94-2.06 2.06-.94-2.06-.94L8.5 2.5l-.94 2.06-2.06.94zm10 10l.94 2.06.94-2.06 2.06-.94-2.06-.94-.94-2.06-.94 2.06-2.06.94z\"/><path d=\"M17.41 7.96l-1.37-1.37c-.4-.4-.92-.59-1.43-.59-.52 0-1.04.2-1.43.59L10.3 9.45l-7.72 7.72c-.78.78-.78 2.05 0 2.83L4 21.41c.39.39.9.59 1.41.59.51 0 1.02-.2 1.41-.59l7.78-7.78 2.81-2.81c.8-.78.8-2.07 0-2.86zM5.41 20L4 18.59l7.72-7.72 1.47 1.35L5.41 20z\"/>\n",
       "  </svg>\n",
       "      </button>\n",
       "      \n",
       "  <style>\n",
       "    .colab-df-container {\n",
       "      display:flex;\n",
       "      flex-wrap:wrap;\n",
       "      gap: 12px;\n",
       "    }\n",
       "\n",
       "    .colab-df-convert {\n",
       "      background-color: #E8F0FE;\n",
       "      border: none;\n",
       "      border-radius: 50%;\n",
       "      cursor: pointer;\n",
       "      display: none;\n",
       "      fill: #1967D2;\n",
       "      height: 32px;\n",
       "      padding: 0 0 0 0;\n",
       "      width: 32px;\n",
       "    }\n",
       "\n",
       "    .colab-df-convert:hover {\n",
       "      background-color: #E2EBFA;\n",
       "      box-shadow: 0px 1px 2px rgba(60, 64, 67, 0.3), 0px 1px 3px 1px rgba(60, 64, 67, 0.15);\n",
       "      fill: #174EA6;\n",
       "    }\n",
       "\n",
       "    [theme=dark] .colab-df-convert {\n",
       "      background-color: #3B4455;\n",
       "      fill: #D2E3FC;\n",
       "    }\n",
       "\n",
       "    [theme=dark] .colab-df-convert:hover {\n",
       "      background-color: #434B5C;\n",
       "      box-shadow: 0px 1px 3px 1px rgba(0, 0, 0, 0.15);\n",
       "      filter: drop-shadow(0px 1px 2px rgba(0, 0, 0, 0.3));\n",
       "      fill: #FFFFFF;\n",
       "    }\n",
       "  </style>\n",
       "\n",
       "      <script>\n",
       "        const buttonEl =\n",
       "          document.querySelector('#df-b6ac792b-e3f7-413c-b6c9-4b717fa44933 button.colab-df-convert');\n",
       "        buttonEl.style.display =\n",
       "          google.colab.kernel.accessAllowed ? 'block' : 'none';\n",
       "\n",
       "        async function convertToInteractive(key) {\n",
       "          const element = document.querySelector('#df-b6ac792b-e3f7-413c-b6c9-4b717fa44933');\n",
       "          const dataTable =\n",
       "            await google.colab.kernel.invokeFunction('convertToInteractive',\n",
       "                                                     [key], {});\n",
       "          if (!dataTable) return;\n",
       "\n",
       "          const docLinkHtml = 'Like what you see? Visit the ' +\n",
       "            '<a target=\"_blank\" href=https://colab.research.google.com/notebooks/data_table.ipynb>data table notebook</a>'\n",
       "            + ' to learn more about interactive tables.';\n",
       "          element.innerHTML = '';\n",
       "          dataTable['output_type'] = 'display_data';\n",
       "          await google.colab.output.renderOutput(dataTable, element);\n",
       "          const docLink = document.createElement('div');\n",
       "          docLink.innerHTML = docLinkHtml;\n",
       "          element.appendChild(docLink);\n",
       "        }\n",
       "      </script>\n",
       "    </div>\n",
       "  </div>\n",
       "  "
      ],
      "text/plain": [
       "            reconstruction_error\n",
       "true_class                      \n",
       "0                           8602\n",
       "1                            110"
      ]
     },
     "execution_count": 51,
     "metadata": {},
     "output_type": "execute_result"
    }
   ],
   "source": [
    "# predicting the class for the testing dataset\n",
    "predictions = deepl_model.predict(test_h2o)\n",
    "error_df = pd.DataFrame({'reconstruction_error': test_rec_error_df['Reconstruction.MSE'],\n",
    "                        'true_class': Y_test_df})\n",
    "error_df.groupby('true_class').count()"
   ]
  },
  {
   "cell_type": "markdown",
   "metadata": {
    "id": "1w7rTflOmqaR"
   },
   "source": [
    "Calculate the threshold score/ cutoff score"
   ]
  },
  {
   "cell_type": "code",
   "execution_count": null,
   "metadata": {
    "colab": {
     "base_uri": "https://localhost:8080/"
    },
    "executionInfo": {
     "elapsed": 1053,
     "status": "ok",
     "timestamp": 1661550124839,
     "user": {
      "displayName": "Olusegun Ajibola",
      "userId": "14016280963587867119"
     },
     "user_tz": -120
    },
    "id": "Eh8uvN88lJCG",
    "outputId": "7e0c71d8-88a3-4e6c-cf73-14ed3e3d65db"
   },
   "outputs": [
    {
     "data": {
      "text/plain": [
       "0.016328085790992836"
      ]
     },
     "execution_count": 52,
     "metadata": {},
     "output_type": "execute_result"
    }
   ],
   "source": [
    "score_mean = error_df['reconstruction_error'].mean()\n",
    "score_std = error_df['reconstruction_error'].std()\n",
    "score_cutoff = score_mean + 4*score_std\n",
    "score_cutoff"
   ]
  },
  {
   "cell_type": "code",
   "execution_count": null,
   "metadata": {
    "colab": {
     "base_uri": "https://localhost:8080/"
    },
    "executionInfo": {
     "elapsed": 923,
     "status": "ok",
     "timestamp": 1661550129468,
     "user": {
      "displayName": "Olusegun Ajibola",
      "userId": "14016280963587867119"
     },
     "user_tz": -120
    },
    "id": "QXGWE7GEmuZV",
    "outputId": "52ab71a1-a420-40b3-df20-85a100072836"
   },
   "outputs": [
    {
     "data": {
      "text/plain": [
       "reconstruction_error    110\n",
       "true_class              110\n",
       "dtype: int64"
      ]
     },
     "execution_count": 53,
     "metadata": {},
     "output_type": "execute_result"
    }
   ],
   "source": [
    "error_df[(error_df['true_class'] == 1) & error_df['reconstruction_error'] > 0.0095].count()"
   ]
  },
  {
   "cell_type": "markdown",
   "metadata": {
    "id": "R3ostMdJm446"
   },
   "source": [
    "Print out the confusion matrix and adjust and tune the confusion matrix from the threshold."
   ]
  },
  {
   "cell_type": "code",
   "execution_count": null,
   "metadata": {
    "id": "ysr4PhagVgjL"
   },
   "outputs": [],
   "source": [
    "# len(y_pred), len(error_df.true_class)"
   ]
  },
  {
   "cell_type": "code",
   "execution_count": null,
   "metadata": {
    "colab": {
     "base_uri": "https://localhost:8080/",
     "height": 49
    },
    "executionInfo": {
     "elapsed": 420,
     "status": "ok",
     "timestamp": 1661550139734,
     "user": {
      "displayName": "Olusegun Ajibola",
      "userId": "14016280963587867119"
     },
     "user_tz": -120
    },
    "id": "Qv9BWEtgXSA4",
    "outputId": "212b4761-b96d-4326-f3f7-bea7151125ab"
   },
   "outputs": [
    {
     "data": {
      "text/html": [
       "\n",
       "  <div id=\"df-ac891abf-1ec9-4ff8-865e-337d6443c614\">\n",
       "    <div class=\"colab-df-container\">\n",
       "      <div>\n",
       "<style scoped>\n",
       "    .dataframe tbody tr th:only-of-type {\n",
       "        vertical-align: middle;\n",
       "    }\n",
       "\n",
       "    .dataframe tbody tr th {\n",
       "        vertical-align: top;\n",
       "    }\n",
       "\n",
       "    .dataframe thead th {\n",
       "        text-align: right;\n",
       "    }\n",
       "</style>\n",
       "<table border=\"1\" class=\"dataframe\">\n",
       "  <thead>\n",
       "    <tr style=\"text-align: right;\">\n",
       "      <th></th>\n",
       "      <th>reconstruction_error</th>\n",
       "      <th>true_class</th>\n",
       "    </tr>\n",
       "  </thead>\n",
       "  <tbody>\n",
       "  </tbody>\n",
       "</table>\n",
       "</div>\n",
       "      <button class=\"colab-df-convert\" onclick=\"convertToInteractive('df-ac891abf-1ec9-4ff8-865e-337d6443c614')\"\n",
       "              title=\"Convert this dataframe to an interactive table.\"\n",
       "              style=\"display:none;\">\n",
       "        \n",
       "  <svg xmlns=\"http://www.w3.org/2000/svg\" height=\"24px\"viewBox=\"0 0 24 24\"\n",
       "       width=\"24px\">\n",
       "    <path d=\"M0 0h24v24H0V0z\" fill=\"none\"/>\n",
       "    <path d=\"M18.56 5.44l.94 2.06.94-2.06 2.06-.94-2.06-.94-.94-2.06-.94 2.06-2.06.94zm-11 1L8.5 8.5l.94-2.06 2.06-.94-2.06-.94L8.5 2.5l-.94 2.06-2.06.94zm10 10l.94 2.06.94-2.06 2.06-.94-2.06-.94-.94-2.06-.94 2.06-2.06.94z\"/><path d=\"M17.41 7.96l-1.37-1.37c-.4-.4-.92-.59-1.43-.59-.52 0-1.04.2-1.43.59L10.3 9.45l-7.72 7.72c-.78.78-.78 2.05 0 2.83L4 21.41c.39.39.9.59 1.41.59.51 0 1.02-.2 1.41-.59l7.78-7.78 2.81-2.81c.8-.78.8-2.07 0-2.86zM5.41 20L4 18.59l7.72-7.72 1.47 1.35L5.41 20z\"/>\n",
       "  </svg>\n",
       "      </button>\n",
       "      \n",
       "  <style>\n",
       "    .colab-df-container {\n",
       "      display:flex;\n",
       "      flex-wrap:wrap;\n",
       "      gap: 12px;\n",
       "    }\n",
       "\n",
       "    .colab-df-convert {\n",
       "      background-color: #E8F0FE;\n",
       "      border: none;\n",
       "      border-radius: 50%;\n",
       "      cursor: pointer;\n",
       "      display: none;\n",
       "      fill: #1967D2;\n",
       "      height: 32px;\n",
       "      padding: 0 0 0 0;\n",
       "      width: 32px;\n",
       "    }\n",
       "\n",
       "    .colab-df-convert:hover {\n",
       "      background-color: #E2EBFA;\n",
       "      box-shadow: 0px 1px 2px rgba(60, 64, 67, 0.3), 0px 1px 3px 1px rgba(60, 64, 67, 0.15);\n",
       "      fill: #174EA6;\n",
       "    }\n",
       "\n",
       "    [theme=dark] .colab-df-convert {\n",
       "      background-color: #3B4455;\n",
       "      fill: #D2E3FC;\n",
       "    }\n",
       "\n",
       "    [theme=dark] .colab-df-convert:hover {\n",
       "      background-color: #434B5C;\n",
       "      box-shadow: 0px 1px 3px 1px rgba(0, 0, 0, 0.15);\n",
       "      filter: drop-shadow(0px 1px 2px rgba(0, 0, 0, 0.3));\n",
       "      fill: #FFFFFF;\n",
       "    }\n",
       "  </style>\n",
       "\n",
       "      <script>\n",
       "        const buttonEl =\n",
       "          document.querySelector('#df-ac891abf-1ec9-4ff8-865e-337d6443c614 button.colab-df-convert');\n",
       "        buttonEl.style.display =\n",
       "          google.colab.kernel.accessAllowed ? 'block' : 'none';\n",
       "\n",
       "        async function convertToInteractive(key) {\n",
       "          const element = document.querySelector('#df-ac891abf-1ec9-4ff8-865e-337d6443c614');\n",
       "          const dataTable =\n",
       "            await google.colab.kernel.invokeFunction('convertToInteractive',\n",
       "                                                     [key], {});\n",
       "          if (!dataTable) return;\n",
       "\n",
       "          const docLinkHtml = 'Like what you see? Visit the ' +\n",
       "            '<a target=\"_blank\" href=https://colab.research.google.com/notebooks/data_table.ipynb>data table notebook</a>'\n",
       "            + ' to learn more about interactive tables.';\n",
       "          element.innerHTML = '';\n",
       "          dataTable['output_type'] = 'display_data';\n",
       "          await google.colab.output.renderOutput(dataTable, element);\n",
       "          const docLink = document.createElement('div');\n",
       "          docLink.innerHTML = docLinkHtml;\n",
       "          element.appendChild(docLink);\n",
       "        }\n",
       "      </script>\n",
       "    </div>\n",
       "  </div>\n",
       "  "
      ],
      "text/plain": [
       "Empty DataFrame\n",
       "Columns: [reconstruction_error, true_class]\n",
       "Index: []"
      ]
     },
     "execution_count": 54,
     "metadata": {},
     "output_type": "execute_result"
    }
   ],
   "source": [
    "error_df[error_df['true_class'] == 'NaN' ]"
   ]
  },
  {
   "cell_type": "code",
   "execution_count": null,
   "metadata": {
    "colab": {
     "base_uri": "https://localhost:8080/",
     "height": 730
    },
    "executionInfo": {
     "elapsed": 957,
     "status": "ok",
     "timestamp": 1661550570050,
     "user": {
      "displayName": "Olusegun Ajibola",
      "userId": "14016280963587867119"
     },
     "user_tz": -120
    },
    "id": "9zhQqaJ5mw6h",
    "outputId": "33383ec3-8f68-49da-f984-4625be177fd9"
   },
   "outputs": [
    {
     "data": {
      "image/png": "[encoded data removed]",
      "text/plain": [
       "<Figure size 864x864 with 2 Axes>"
      ]
     },
     "metadata": {},
     "output_type": "display_data"
    }
   ],
   "source": [
    "threshold = 0.009 # we can equally choose to use different values for our threshold [0.009]\n",
    "LABELS = ['Injury', 'No Injury']\n",
    "y_pred = [1 if e > threshold else 0 for e in error_df.reconstruction_error.values]\n",
    "conf_matrix = confusion_matrix(error_df.true_class, y_pred)\n",
    "plt.figure(figsize=(12, 12))\n",
    "sns.heatmap(conf_matrix, xticklabels=LABELS, yticklabels=LABELS, annot=True, fmt=\"d\");\n",
    "plt.title(\"Confusion matrix\")\n",
    "plt.ylabel('True class')\n",
    "plt.xlabel('Predicted class')\n",
    "plt.show()"
   ]
  },
  {
   "cell_type": "markdown",
   "metadata": {
    "id": "E7WigCeargv-"
   },
   "source": [
    "The confusion matrix above helps us to understand our accuracy on the test data. \n",
    "\n",
    "We note that:\n",
    "- 8099: The model predicts this case to be actually injury where the true case is injury too.\n",
    "- 10: The model predicts no-injury with the true case being no injury.\n",
    "- 100: The model predicts injury where the actual class in no-injury\n",
    "- 503: The model predicts no-injury where the actual class is injury.\n",
    "\n",
    "The above explanation is given in the classification report below."
   ]
  },
  {
   "cell_type": "code",
   "execution_count": null,
   "metadata": {
    "colab": {
     "base_uri": "https://localhost:8080/"
    },
    "executionInfo": {
     "elapsed": 604,
     "status": "ok",
     "timestamp": 1661550572900,
     "user": {
      "displayName": "Olusegun Ajibola",
      "userId": "14016280963587867119"
     },
     "user_tz": -120
    },
    "id": "1r58H_V9HjyY",
    "outputId": "de25a40b-0a02-41d3-f297-c44167817cd1"
   },
   "outputs": [
    {
     "name": "stdout",
     "output_type": "stream",
     "text": [
      "              precision    recall  f1-score   support\n",
      "\n",
      "           0       0.99      0.94      0.96      8602\n",
      "           1       0.02      0.09      0.03       110\n",
      "\n",
      "    accuracy                           0.93      8712\n",
      "   macro avg       0.50      0.52      0.50      8712\n",
      "weighted avg       0.98      0.93      0.95      8712\n",
      "\n"
     ]
    }
   ],
   "source": [
    "print(classification_report(error_df.true_class, y_pred))"
   ]
  },
  {
   "cell_type": "markdown",
   "metadata": {
    "id": "MNXhdwY0ZtSb"
   },
   "source": [
    "# Model 2: Isolation Forest"
   ]
  },
  {
   "cell_type": "code",
   "execution_count": 76,
   "metadata": {
    "executionInfo": {
     "elapsed": 292,
     "status": "ok",
     "timestamp": 1662705368957,
     "user": {
      "displayName": "Olusegun Ajibola",
      "userId": "14016280963587867119"
     },
     "user_tz": -120
    },
    "id": "ZPYa1f_8B7hk"
   },
   "outputs": [],
   "source": [
    "def drop_a_column(df, cols):\n",
    "    \"\"\"\n",
    "    This functiion drops a column in a dataframe and returns the new df without\n",
    "    the dropped column.\n",
    "\n",
    "    cols is a list\n",
    "    df is a dataframe\n",
    "    \"\"\"\n",
    "\n",
    "    df_dr = df.drop(cols, axis = 1)\n",
    "\n",
    "    return df_dr"
   ]
  },
  {
   "cell_type": "code",
   "execution_count": 77,
   "metadata": {
    "executionInfo": {
     "elapsed": 8,
     "status": "ok",
     "timestamp": 1662705370145,
     "user": {
      "displayName": "Olusegun Ajibola",
      "userId": "14016280963587867119"
     },
     "user_tz": -120
    },
    "id": "I4VBDJdW5-SS"
   },
   "outputs": [],
   "source": [
    "# inliers = df_day[df_day.injury == 'no']\n",
    "inliers = df_day[df_day.injury == 0]\n",
    "inliers_y = inliers.injury\n",
    "inliers = inliers.drop(['injury', 'athlete_id'], axis = 1)"
   ]
  },
  {
   "cell_type": "code",
   "execution_count": 78,
   "metadata": {
    "executionInfo": {
     "elapsed": 5,
     "status": "ok",
     "timestamp": 1662705371351,
     "user": {
      "displayName": "Olusegun Ajibola",
      "userId": "14016280963587867119"
     },
     "user_tz": -120
    },
    "id": "o7cvpMDt6nPF"
   },
   "outputs": [],
   "source": [
    "# outliers = df_day[df_day.injury == 'yes']\n",
    "outliers = df_day[df_day.injury == 1]\n",
    "outliers_y = outliers.injury\n",
    "outliers = outliers.drop(['injury', 'athlete_id'], axis = 1)"
   ]
  },
  {
   "cell_type": "code",
   "execution_count": 79,
   "metadata": {
    "colab": {
     "base_uri": "https://localhost:8080/",
     "height": 211
    },
    "executionInfo": {
     "elapsed": 9,
     "status": "ok",
     "timestamp": 1662705372845,
     "user": {
      "displayName": "Olusegun Ajibola",
      "userId": "14016280963587867119"
     },
     "user_tz": -120
    },
    "id": "bnIQ2LkvJe38",
    "outputId": "0aff445a-e326-4ee5-eb42-9e5e22bfbdd5"
   },
   "outputs": [
    {
     "data": {
      "text/html": [
       "<div>\n",
       "<style scoped>\n",
       "    .dataframe tbody tr th:only-of-type {\n",
       "        vertical-align: middle;\n",
       "    }\n",
       "\n",
       "    .dataframe tbody tr th {\n",
       "        vertical-align: top;\n",
       "    }\n",
       "\n",
       "    .dataframe thead th {\n",
       "        text-align: right;\n",
       "    }\n",
       "</style>\n",
       "<table border=\"1\" class=\"dataframe\">\n",
       "  <thead>\n",
       "    <tr style=\"text-align: right;\">\n",
       "      <th></th>\n",
       "      <th>nr_sessions</th>\n",
       "      <th>total_km</th>\n",
       "      <th>km_z3-4</th>\n",
       "      <th>km_z5-t1-t2</th>\n",
       "      <th>km_sprinting</th>\n",
       "      <th>strength_training</th>\n",
       "      <th>hours_alternative</th>\n",
       "      <th>perceived_exertion</th>\n",
       "      <th>perceived_trainingsuccess</th>\n",
       "      <th>perceived_recovery</th>\n",
       "      <th>nr_sessions_1</th>\n",
       "      <th>total_km_1</th>\n",
       "      <th>km_z3-4_1</th>\n",
       "      <th>km_z5-t1-t2_1</th>\n",
       "      <th>km_sprinting_1</th>\n",
       "      <th>strength_training_1</th>\n",
       "      <th>hours_alternative_1</th>\n",
       "      <th>perceived_exertion_1</th>\n",
       "      <th>perceived_trainingsuccess_1</th>\n",
       "      <th>perceived_recovery_1</th>\n",
       "      <th>nr_sessions_2</th>\n",
       "      <th>total_km_2</th>\n",
       "      <th>km_z3-4_2</th>\n",
       "      <th>km_z5-t1-t2_2</th>\n",
       "      <th>km_sprinting_2</th>\n",
       "      <th>strength_training_2</th>\n",
       "      <th>hours_alternative_2</th>\n",
       "      <th>perceived_exertion_2</th>\n",
       "      <th>perceived_trainingsuccess_2</th>\n",
       "      <th>perceived_recovery_2</th>\n",
       "      <th>nr_sessions_3</th>\n",
       "      <th>total_km_3</th>\n",
       "      <th>km_z3-4_3</th>\n",
       "      <th>km_z5-t1-t2_3</th>\n",
       "      <th>km_sprinting_3</th>\n",
       "      <th>strength_training_3</th>\n",
       "      <th>hours_alternative_3</th>\n",
       "      <th>perceived_exertion_3</th>\n",
       "      <th>perceived_trainingsuccess_3</th>\n",
       "      <th>perceived_recovery_3</th>\n",
       "      <th>nr_sessions_4</th>\n",
       "      <th>total_km_4</th>\n",
       "      <th>km_z3-4_4</th>\n",
       "      <th>km_z5-t1-t2_4</th>\n",
       "      <th>km_sprinting_4</th>\n",
       "      <th>strength_training_4</th>\n",
       "      <th>hours_alternative_4</th>\n",
       "      <th>perceived_exertion_4</th>\n",
       "      <th>perceived_trainingsuccess_4</th>\n",
       "      <th>perceived_recovery_4</th>\n",
       "      <th>nr_sessions_5</th>\n",
       "      <th>total_km_5</th>\n",
       "      <th>km_z3-4_5</th>\n",
       "      <th>km_z5-t1-t2_5</th>\n",
       "      <th>km_sprinting_5</th>\n",
       "      <th>strength_training_5</th>\n",
       "      <th>hours_alternative_5</th>\n",
       "      <th>perceived_exertion_5</th>\n",
       "      <th>perceived_trainingsuccess_5</th>\n",
       "      <th>perceived_recovery_5</th>\n",
       "      <th>nr_sessions_6</th>\n",
       "      <th>total_km_6</th>\n",
       "      <th>km_z3-4_6</th>\n",
       "      <th>km_z5-t1-t2_6</th>\n",
       "      <th>km_sprinting_6</th>\n",
       "      <th>strength_training_6</th>\n",
       "      <th>hours_alternative_6</th>\n",
       "      <th>perceived_exertion_6</th>\n",
       "      <th>perceived_trainingsuccess_6</th>\n",
       "      <th>perceived_recovery_6</th>\n",
       "      <th>date</th>\n",
       "    </tr>\n",
       "  </thead>\n",
       "  <tbody>\n",
       "    <tr>\n",
       "      <th>0</th>\n",
       "      <td>1</td>\n",
       "      <td>5.8</td>\n",
       "      <td>0.0</td>\n",
       "      <td>0.6</td>\n",
       "      <td>1.2</td>\n",
       "      <td>0</td>\n",
       "      <td>0.0</td>\n",
       "      <td>0.11</td>\n",
       "      <td>0.00</td>\n",
       "      <td>0.18</td>\n",
       "      <td>0</td>\n",
       "      <td>0.0</td>\n",
       "      <td>0.0</td>\n",
       "      <td>0.0</td>\n",
       "      <td>0.0</td>\n",
       "      <td>0</td>\n",
       "      <td>0.0</td>\n",
       "      <td>-0.01</td>\n",
       "      <td>-0.01</td>\n",
       "      <td>-0.01</td>\n",
       "      <td>1</td>\n",
       "      <td>0.0</td>\n",
       "      <td>0.0</td>\n",
       "      <td>0.0</td>\n",
       "      <td>0.0</td>\n",
       "      <td>1</td>\n",
       "      <td>0.0</td>\n",
       "      <td>0.10</td>\n",
       "      <td>0.00</td>\n",
       "      <td>0.17</td>\n",
       "      <td>0</td>\n",
       "      <td>0.0</td>\n",
       "      <td>0.0</td>\n",
       "      <td>0.0</td>\n",
       "      <td>0.0</td>\n",
       "      <td>0</td>\n",
       "      <td>0.00</td>\n",
       "      <td>-0.01</td>\n",
       "      <td>-0.01</td>\n",
       "      <td>-0.01</td>\n",
       "      <td>1</td>\n",
       "      <td>0.0</td>\n",
       "      <td>0.0</td>\n",
       "      <td>0.0</td>\n",
       "      <td>0.0</td>\n",
       "      <td>0</td>\n",
       "      <td>1.08</td>\n",
       "      <td>0.08</td>\n",
       "      <td>0.0</td>\n",
       "      <td>0.18</td>\n",
       "      <td>1</td>\n",
       "      <td>16.4</td>\n",
       "      <td>10.0</td>\n",
       "      <td>0.0</td>\n",
       "      <td>0.0</td>\n",
       "      <td>1</td>\n",
       "      <td>0.0</td>\n",
       "      <td>0.11</td>\n",
       "      <td>0.0</td>\n",
       "      <td>0.17</td>\n",
       "      <td>1</td>\n",
       "      <td>0.0</td>\n",
       "      <td>0.0</td>\n",
       "      <td>0.0</td>\n",
       "      <td>0.0</td>\n",
       "      <td>0</td>\n",
       "      <td>1.0</td>\n",
       "      <td>0.1</td>\n",
       "      <td>0.0</td>\n",
       "      <td>0.15</td>\n",
       "      <td>0</td>\n",
       "    </tr>\n",
       "    <tr>\n",
       "      <th>1</th>\n",
       "      <td>0</td>\n",
       "      <td>0.0</td>\n",
       "      <td>0.0</td>\n",
       "      <td>0.0</td>\n",
       "      <td>0.0</td>\n",
       "      <td>0</td>\n",
       "      <td>0.0</td>\n",
       "      <td>-0.01</td>\n",
       "      <td>-0.01</td>\n",
       "      <td>-0.01</td>\n",
       "      <td>1</td>\n",
       "      <td>0.0</td>\n",
       "      <td>0.0</td>\n",
       "      <td>0.0</td>\n",
       "      <td>0.0</td>\n",
       "      <td>1</td>\n",
       "      <td>0.0</td>\n",
       "      <td>0.10</td>\n",
       "      <td>0.00</td>\n",
       "      <td>0.17</td>\n",
       "      <td>0</td>\n",
       "      <td>0.0</td>\n",
       "      <td>0.0</td>\n",
       "      <td>0.0</td>\n",
       "      <td>0.0</td>\n",
       "      <td>0</td>\n",
       "      <td>0.0</td>\n",
       "      <td>-0.01</td>\n",
       "      <td>-0.01</td>\n",
       "      <td>-0.01</td>\n",
       "      <td>1</td>\n",
       "      <td>0.0</td>\n",
       "      <td>0.0</td>\n",
       "      <td>0.0</td>\n",
       "      <td>0.0</td>\n",
       "      <td>0</td>\n",
       "      <td>1.08</td>\n",
       "      <td>0.08</td>\n",
       "      <td>0.00</td>\n",
       "      <td>0.18</td>\n",
       "      <td>1</td>\n",
       "      <td>16.4</td>\n",
       "      <td>10.0</td>\n",
       "      <td>0.0</td>\n",
       "      <td>0.0</td>\n",
       "      <td>1</td>\n",
       "      <td>0.00</td>\n",
       "      <td>0.11</td>\n",
       "      <td>0.0</td>\n",
       "      <td>0.17</td>\n",
       "      <td>1</td>\n",
       "      <td>0.0</td>\n",
       "      <td>0.0</td>\n",
       "      <td>0.0</td>\n",
       "      <td>0.0</td>\n",
       "      <td>0</td>\n",
       "      <td>1.0</td>\n",
       "      <td>0.10</td>\n",
       "      <td>0.0</td>\n",
       "      <td>0.15</td>\n",
       "      <td>1</td>\n",
       "      <td>5.2</td>\n",
       "      <td>0.0</td>\n",
       "      <td>0.5</td>\n",
       "      <td>1.2</td>\n",
       "      <td>0</td>\n",
       "      <td>0.0</td>\n",
       "      <td>0.1</td>\n",
       "      <td>0.0</td>\n",
       "      <td>0.17</td>\n",
       "      <td>1</td>\n",
       "    </tr>\n",
       "  </tbody>\n",
       "</table>\n",
       "</div>"
      ],
      "text/plain": [
       "  nr_sessions  total_km  km_z3-4  km_z5-t1-t2  km_sprinting strength_training  \\\n",
       "0           1       5.8      0.0          0.6           1.2                 0   \n",
       "1           0       0.0      0.0          0.0           0.0                 0   \n",
       "\n",
       "   hours_alternative  perceived_exertion  perceived_trainingsuccess  \\\n",
       "0                0.0                0.11                       0.00   \n",
       "1                0.0               -0.01                      -0.01   \n",
       "\n",
       "   perceived_recovery nr_sessions_1  total_km_1  km_z3-4_1  km_z5-t1-t2_1  \\\n",
       "0                0.18             0         0.0        0.0            0.0   \n",
       "1               -0.01             1         0.0        0.0            0.0   \n",
       "\n",
       "   km_sprinting_1 strength_training_1  hours_alternative_1  \\\n",
       "0             0.0                   0                  0.0   \n",
       "1             0.0                   1                  0.0   \n",
       "\n",
       "   perceived_exertion_1  perceived_trainingsuccess_1  perceived_recovery_1  \\\n",
       "0                 -0.01                        -0.01                 -0.01   \n",
       "1                  0.10                         0.00                  0.17   \n",
       "\n",
       "  nr_sessions_2  total_km_2  km_z3-4_2  km_z5-t1-t2_2  km_sprinting_2  \\\n",
       "0             1         0.0        0.0            0.0             0.0   \n",
       "1             0         0.0        0.0            0.0             0.0   \n",
       "\n",
       "  strength_training_2  hours_alternative_2  perceived_exertion_2  \\\n",
       "0                   1                  0.0                  0.10   \n",
       "1                   0                  0.0                 -0.01   \n",
       "\n",
       "   perceived_trainingsuccess_2  perceived_recovery_2 nr_sessions_3  \\\n",
       "0                         0.00                  0.17             0   \n",
       "1                        -0.01                 -0.01             1   \n",
       "\n",
       "   total_km_3  km_z3-4_3  km_z5-t1-t2_3  km_sprinting_3 strength_training_3  \\\n",
       "0         0.0        0.0            0.0             0.0                   0   \n",
       "1         0.0        0.0            0.0             0.0                   0   \n",
       "\n",
       "   hours_alternative_3  perceived_exertion_3  perceived_trainingsuccess_3  \\\n",
       "0                 0.00                 -0.01                        -0.01   \n",
       "1                 1.08                  0.08                         0.00   \n",
       "\n",
       "   perceived_recovery_3 nr_sessions_4  total_km_4  km_z3-4_4  km_z5-t1-t2_4  \\\n",
       "0                 -0.01             1         0.0        0.0            0.0   \n",
       "1                  0.18             1        16.4       10.0            0.0   \n",
       "\n",
       "   km_sprinting_4 strength_training_4  hours_alternative_4  \\\n",
       "0             0.0                   0                 1.08   \n",
       "1             0.0                   1                 0.00   \n",
       "\n",
       "   perceived_exertion_4  perceived_trainingsuccess_4  perceived_recovery_4  \\\n",
       "0                  0.08                          0.0                  0.18   \n",
       "1                  0.11                          0.0                  0.17   \n",
       "\n",
       "  nr_sessions_5  total_km_5  km_z3-4_5  km_z5-t1-t2_5  km_sprinting_5  \\\n",
       "0             1        16.4       10.0            0.0             0.0   \n",
       "1             1         0.0        0.0            0.0             0.0   \n",
       "\n",
       "  strength_training_5  hours_alternative_5  perceived_exertion_5  \\\n",
       "0                   1                  0.0                  0.11   \n",
       "1                   0                  1.0                  0.10   \n",
       "\n",
       "   perceived_trainingsuccess_5  perceived_recovery_5 nr_sessions_6  \\\n",
       "0                          0.0                  0.17             1   \n",
       "1                          0.0                  0.15             1   \n",
       "\n",
       "   total_km_6  km_z3-4_6  km_z5-t1-t2_6  km_sprinting_6 strength_training_6  \\\n",
       "0         0.0        0.0            0.0             0.0                   0   \n",
       "1         5.2        0.0            0.5             1.2                   0   \n",
       "\n",
       "   hours_alternative_6  perceived_exertion_6  perceived_trainingsuccess_6  \\\n",
       "0                  1.0                   0.1                          0.0   \n",
       "1                  0.0                   0.1                          0.0   \n",
       "\n",
       "   perceived_recovery_6 date  \n",
       "0                  0.15    0  \n",
       "1                  0.17    1  "
      ]
     },
     "execution_count": 79,
     "metadata": {},
     "output_type": "execute_result"
    }
   ],
   "source": [
    "inliers.head(2)"
   ]
  },
  {
   "cell_type": "code",
   "execution_count": 80,
   "metadata": {
    "colab": {
     "base_uri": "https://localhost:8080/"
    },
    "executionInfo": {
     "elapsed": 318,
     "status": "ok",
     "timestamp": 1662705378663,
     "user": {
      "displayName": "Olusegun Ajibola",
      "userId": "14016280963587867119"
     },
     "user_tz": -120
    },
    "id": "Ga9WMzXt89Y3",
    "outputId": "dbd4712d-ffb2-4611-fe09-1085cc70d206"
   },
   "outputs": [
    {
     "data": {
      "text/plain": [
       "((42183, 71), (583, 71))"
      ]
     },
     "execution_count": 80,
     "metadata": {},
     "output_type": "execute_result"
    }
   ],
   "source": [
    "inliers.shape, outliers.shape # this is the respective dimension of our no-injury and injury data in our dataset respectively."
   ]
  },
  {
   "cell_type": "code",
   "execution_count": 81,
   "metadata": {
    "executionInfo": {
     "elapsed": 305,
     "status": "ok",
     "timestamp": 1662705380062,
     "user": {
      "displayName": "Olusegun Ajibola",
      "userId": "14016280963587867119"
     },
     "user_tz": -120
    },
    "id": "56HuFunU66Lg"
   },
   "outputs": [],
   "source": [
    "inliers_train, inliers_test = train_test_split(inliers, test_size=0.20, random_state=42)"
   ]
  },
  {
   "cell_type": "markdown",
   "metadata": {
    "id": "hzQwUMU57MB6"
   },
   "source": [
    "## Train the isolation Forest Model"
   ]
  },
  {
   "cell_type": "code",
   "execution_count": 82,
   "metadata": {
    "executionInfo": {
     "elapsed": 471,
     "status": "ok",
     "timestamp": 1662705382282,
     "user": {
      "displayName": "Olusegun Ajibola",
      "userId": "14016280963587867119"
     },
     "user_tz": -120
    },
    "id": "YkeH4DA37UjD"
   },
   "outputs": [],
   "source": [
    "rng = np.random.RandomState(42)"
   ]
  },
  {
   "cell_type": "code",
   "execution_count": 83,
   "metadata": {
    "executionInfo": {
     "elapsed": 2,
     "status": "ok",
     "timestamp": 1662704175406,
     "user": {
      "displayName": "Olusegun Ajibola",
      "userId": "14016280963587867119"
     },
     "user_tz": -120
    },
    "id": "vNrHZsT3DPmG"
   },
   "outputs": [],
   "source": [
    "# inliers = df_day[df_day.injury == 'no']\n",
    "# inliers = df_day[df_day.injury == 1]\n",
    "# inliers_y = inliers.injury\n",
    "# inliers = inliers.drop(['injury'], axis = 1)"
   ]
  },
  {
   "cell_type": "code",
   "execution_count": 84,
   "metadata": {
    "executionInfo": {
     "elapsed": 311,
     "status": "ok",
     "timestamp": 1662705384534,
     "user": {
      "displayName": "Olusegun Ajibola",
      "userId": "14016280963587867119"
     },
     "user_tz": -120
    },
    "id": "B7Tq24fuDai1"
   },
   "outputs": [],
   "source": [
    "inliers_train, inliers_test = train_test_split(inliers, test_size=0.20, random_state = 42)"
   ]
  },
  {
   "cell_type": "code",
   "execution_count": 85,
   "metadata": {
    "executionInfo": {
     "elapsed": 334,
     "status": "ok",
     "timestamp": 1662704553965,
     "user": {
      "displayName": "Olusegun Ajibola",
      "userId": "14016280963587867119"
     },
     "user_tz": -120
    },
    "id": "cAAUapyNDb7Y"
   },
   "outputs": [],
   "source": [
    "# inliers_tr_y = inliers_train.injury\n",
    "# inliers_train = drop_a_column(inliers_train, ['injury', 'athlete_id'])"
   ]
  },
  {
   "cell_type": "code",
   "execution_count": 86,
   "metadata": {
    "executionInfo": {
     "elapsed": 3,
     "status": "ok",
     "timestamp": 1662704555307,
     "user": {
      "displayName": "Olusegun Ajibola",
      "userId": "14016280963587867119"
     },
     "user_tz": -120
    },
    "id": "FL7pBN7KKX7z"
   },
   "outputs": [],
   "source": [
    "# inliers_test = drop_a_column(inliers_test, ['injury', 'athlete_id'])"
   ]
  },
  {
   "cell_type": "code",
   "execution_count": 87,
   "metadata": {
    "executionInfo": {
     "elapsed": 1302,
     "status": "ok",
     "timestamp": 1662705392224,
     "user": {
      "displayName": "Olusegun Ajibola",
      "userId": "14016280963587867119"
     },
     "user_tz": -120
    },
    "id": "DWwb9Dev66B-"
   },
   "outputs": [],
   "source": [
    "model_iso = IsolationForest( max_samples=150, random_state=rng, contamination='auto')\n",
    "# model_iso = IsolationForest( max_samples=150, random_state=rng, contamination=0.01)\n",
    "model_iso.fit(inliers_train)\n",
    "inlier_pred_test = model_iso.predict(inliers_test)\n",
    "outlier_pred = model_iso.predict(outliers)"
   ]
  },
  {
   "cell_type": "code",
   "execution_count": 88,
   "metadata": {
    "colab": {
     "base_uri": "https://localhost:8080/"
    },
    "executionInfo": {
     "elapsed": 313,
     "status": "ok",
     "timestamp": 1662705396129,
     "user": {
      "displayName": "Olusegun Ajibola",
      "userId": "14016280963587867119"
     },
     "user_tz": -120
    },
    "id": "_7qKk8wi7eHF",
    "outputId": "5048b19b-dee9-44ba-a50e-d23a6b73a5c4"
   },
   "outputs": [
    {
     "name": "stdout",
     "output_type": "stream",
     "text": [
      "Accuracy in Detecting injury Cases: 0.9615977243095887\n",
      "Accuracy in Detecting no-injury Cases: 0.0823327615780446\n"
     ]
    }
   ],
   "source": [
    "print(\"Accuracy in Detecting injury Cases:\", list(inlier_pred_test).count(1)/inlier_pred_test.shape[0])\n",
    "print(\"Accuracy in Detecting no-injury Cases:\", list(outlier_pred).count(-1)/outlier_pred.shape[0])"
   ]
  },
  {
   "cell_type": "code",
   "execution_count": 89,
   "metadata": {
    "colab": {
     "base_uri": "https://localhost:8080/"
    },
    "executionInfo": {
     "elapsed": 331,
     "status": "ok",
     "timestamp": 1662705400078,
     "user": {
      "displayName": "Olusegun Ajibola",
      "userId": "14016280963587867119"
     },
     "user_tz": -120
    },
    "id": "jfwEOG8m7AHu",
    "outputId": "0314db4d-644c-4c64-aeda-9486f3b5d334"
   },
   "outputs": [
    {
     "data": {
      "text/plain": [
       "array([-1,  1])"
      ]
     },
     "execution_count": 89,
     "metadata": {},
     "output_type": "execute_result"
    }
   ],
   "source": [
    "np.unique(outlier_pred)"
   ]
  },
  {
   "cell_type": "code",
   "execution_count": 90,
   "metadata": {
    "colab": {
     "base_uri": "https://localhost:8080/"
    },
    "executionInfo": {
     "elapsed": 5,
     "status": "ok",
     "timestamp": 1662705400976,
     "user": {
      "displayName": "Olusegun Ajibola",
      "userId": "14016280963587867119"
     },
     "user_tz": -120
    },
    "id": "eGqbEW5Q6qlA",
    "outputId": "038bbf07-db59-487d-e2bd-e5433157d762"
   },
   "outputs": [
    {
     "name": "stdout",
     "output_type": "stream",
     "text": [
      "F1 Score: 0.152\n"
     ]
    }
   ],
   "source": [
    "# calculate score\n",
    "\n",
    "# mark inliers 1, outliers -1\n",
    "\n",
    "outliers_y = outliers_y.replace(1, -1)\n",
    "\n",
    "outliers_y = outliers_y.replace(0, 1)\n",
    "\n",
    "score = f1_score(outliers_y, outlier_pred, pos_label=-1)\n",
    "print('F1 Score: %.3f' % score)"
   ]
  },
  {
   "cell_type": "markdown",
   "metadata": {
    "id": "RFEBUpz2ANF6"
   },
   "source": [
    "We can then compare the predictions from the model to the expected target values and calculate a score. Given that we have crisp class labels, we might use a score like precision, recall, or a combination of both, such as the F-measure (F1-score).\n",
    "\n",
    "In this case, we will use F-measure score, which is the harmonic mean of precision and recall. We can calculate the F-measure using the f1_score() function and specify the label of the minority class as -1 via the “pos_label” argument."
   ]
  },
  {
   "cell_type": "markdown",
   "metadata": {
    "id": "66hA5N6humEZ"
   },
   "source": [
    "# Model 3: One Class SVM"
   ]
  },
  {
   "cell_type": "markdown",
   "metadata": {
    "id": "wVp9xkgfXGfS"
   },
   "source": [
    "One Class Classification (OCC) aims to differentiate samples of one particular class by learning from single class samples during training. It is one of the most commonly used approaches to solve Anamoly Detection (AD), a subfield of machine learning that deals with identifying anomalous cases which the model has never seen before. OCC is also called unary classification, class-modelling."
   ]
  },
  {
   "cell_type": "code",
   "execution_count": 91,
   "metadata": {
    "executionInfo": {
     "elapsed": 307,
     "status": "ok",
     "timestamp": 1662700785733,
     "user": {
      "displayName": "Olusegun Ajibola",
      "userId": "14016280963587867119"
     },
     "user_tz": -120
    },
    "id": "Ap3-8zUrZiGm"
   },
   "outputs": [],
   "source": [
    "X = df_day.drop(columns = ['injury', 'athlete_id'])\n",
    "y = df_day['injury']"
   ]
  },
  {
   "cell_type": "code",
   "execution_count": 92,
   "metadata": {
    "executionInfo": {
     "elapsed": 4,
     "status": "ok",
     "timestamp": 1662700786809,
     "user": {
      "displayName": "Olusegun Ajibola",
      "userId": "14016280963587867119"
     },
     "user_tz": -120
    },
    "id": "n69G-RJ7ZrtH"
   },
   "outputs": [],
   "source": [
    "# split into train/test sets\n",
    "trainX, testX, trainy, testy = train_test_split(X, y, test_size=0.80, random_state=2, stratify=y)"
   ]
  },
  {
   "cell_type": "markdown",
   "metadata": {
    "id": "kJ9kaP2hdjUT"
   },
   "source": [
    "<!-- train = trainX.copy()\n",
    "train['injury'] = trainy\n",
    "# train -->"
   ]
  },
  {
   "cell_type": "markdown",
   "metadata": {
    "id": "xP3naJcadIGl"
   },
   "source": [
    "<!-- # standardize the dataset\n",
    "scaler = StandardScaler()\n",
    "\n",
    "# Fit on training set only.\n",
    "scaler.fit(trainX)\n",
    "\n",
    "# Apply transform to both the training set and the test set.\n",
    "trainX = scaler.transform(trainX)\n",
    "testX = scaler.transform(testX) -->\n"
   ]
  },
  {
   "cell_type": "code",
   "execution_count": 93,
   "metadata": {
    "executionInfo": {
     "elapsed": 403,
     "status": "ok",
     "timestamp": 1662701473047,
     "user": {
      "displayName": "Olusegun Ajibola",
      "userId": "14016280963587867119"
     },
     "user_tz": -120
    },
    "id": "Kj1I0Rem3loL"
   },
   "outputs": [],
   "source": [
    "model_onec_svm = OneClassSVM() #one class svm model"
   ]
  },
  {
   "cell_type": "code",
   "execution_count": 33,
   "metadata": {
    "executionInfo": {
     "elapsed": 2,
     "status": "ok",
     "timestamp": 1662701474659,
     "user": {
      "displayName": "Olusegun Ajibola",
      "userId": "14016280963587867119"
     },
     "user_tz": -120
    },
    "id": "At88wiRHZ2BZ"
   },
   "outputs": [],
   "source": [
    "# kernel = ['linear', 'poly', 'rbf', 'sigmoid', 'precomputed']\n",
    "kernel = ['linear', 'poly', 'rbf', 'sigmoid']\n",
    "degree = np.arange(2,5)\n",
    "gamma = ['scale', 'auto']\n",
    "shrinking = [True, False]\n",
    "\n",
    "tune_parameters = [{\"kernel\": kernel, 'degree':degree, 'gamma':gamma, 'shrinking':shrinking}]"
   ]
  },
  {
   "cell_type": "code",
   "execution_count": 34,
   "metadata": {
    "colab": {
     "base_uri": "https://localhost:8080/"
    },
    "executionInfo": {
     "elapsed": 5,
     "status": "ok",
     "timestamp": 1662701477906,
     "user": {
      "displayName": "Olusegun Ajibola",
      "userId": "14016280963587867119"
     },
     "user_tz": -120
    },
    "id": "0swzQvyKcaDE",
    "outputId": "215b9c5f-4c13-42bf-dfcd-97b1920e5015"
   },
   "outputs": [
    {
     "data": {
      "text/plain": [
       "[{'kernel': ['linear', 'poly', 'rbf', 'sigmoid'],\n",
       "  'degree': array([2, 3, 4]),\n",
       "  'gamma': ['scale', 'auto'],\n",
       "  'shrinking': [True, False]}]"
      ]
     },
     "execution_count": 34,
     "metadata": {},
     "output_type": "execute_result"
    }
   ],
   "source": [
    "tune_parameters"
   ]
  },
  {
   "cell_type": "code",
   "execution_count": 35,
   "metadata": {
    "executionInfo": {
     "elapsed": 309,
     "status": "ok",
     "timestamp": 1662701481928,
     "user": {
      "displayName": "Olusegun Ajibola",
      "userId": "14016280963587867119"
     },
     "user_tz": -120
    },
    "id": "fGRFjLbZ3p60"
   },
   "outputs": [],
   "source": [
    "# Instantiate the grid search model\n",
    "grid_search = GridSearchCV(estimator = model_onec_svm,\n",
    "                           param_grid = tune_parameters,\n",
    "                           cv = 10,\n",
    "                           n_jobs=-1, verbose=1, scoring=\"accuracy\")"
   ]
  },
  {
   "cell_type": "code",
   "execution_count": 94,
   "metadata": {
    "executionInfo": {
     "elapsed": 454,
     "status": "ok",
     "timestamp": 1662701485485,
     "user": {
      "displayName": "Olusegun Ajibola",
      "userId": "14016280963587867119"
     },
     "user_tz": -120
    },
    "id": "JweW30iWfwcv"
   },
   "outputs": [],
   "source": [
    "# we fit on majority class\n",
    "trainX_copy = trainX.copy()\n",
    "trainX_copy['injury'] = trainy\n",
    "trainX_copy = trainX_copy[trainX_copy.injury == 0]\n",
    "\n",
    "trainy_copy = trainy[trainy ==0]\n",
    "trainX_copy = trainX_copy.drop(columns = 'injury')\n",
    "# trainy_copy = "
   ]
  },
  {
   "cell_type": "code",
   "execution_count": 95,
   "metadata": {
    "colab": {
     "base_uri": "https://localhost:8080/"
    },
    "executionInfo": {
     "elapsed": 384,
     "status": "ok",
     "timestamp": 1662701495705,
     "user": {
      "displayName": "Olusegun Ajibola",
      "userId": "14016280963587867119"
     },
     "user_tz": -120
    },
    "id": "h_H4OHsztflE",
    "outputId": "689f597b-c9da-43e9-ea5c-1e17b8257bfa"
   },
   "outputs": [
    {
     "data": {
      "text/plain": [
       "((8436,), (8436, 71))"
      ]
     },
     "execution_count": 95,
     "metadata": {},
     "output_type": "execute_result"
    }
   ],
   "source": [
    "trainy_copy.shape, trainX_copy.shape"
   ]
  },
  {
   "cell_type": "code",
   "execution_count": 40,
   "metadata": {
    "colab": {
     "base_uri": "https://localhost:8080/"
    },
    "executionInfo": {
     "elapsed": 111252,
     "status": "ok",
     "timestamp": 1662703380413,
     "user": {
      "displayName": "Olusegun Ajibola",
      "userId": "14016280963587867119"
     },
     "user_tz": -120
    },
    "id": "SCp87OvPcC6s",
    "outputId": "082d0902-4565-424d-e7b4-0320c8b274ea"
   },
   "outputs": [
    {
     "name": "stdout",
     "output_type": "stream",
     "text": [
      "Fitting 10 folds for each of 48 candidates, totalling 480 fits\n"
     ]
    },
    {
     "name": "stderr",
     "output_type": "stream",
     "text": [
      "/usr/local/lib/python3.7/dist-packages/sklearn/model_selection/_search.py:972: UserWarning: One or more of the test scores are non-finite: [nan nan nan nan nan nan nan nan nan nan nan nan nan nan nan nan nan nan\n",
      " nan nan nan nan nan nan nan nan nan nan nan nan nan nan nan nan nan nan\n",
      " nan nan nan nan nan nan nan nan nan nan nan nan]\n",
      "  category=UserWarning,\n"
     ]
    },
    {
     "name": "stdout",
     "output_type": "stream",
     "text": [
      "CPU times: user 7.42 s, sys: 312 ms, total: 7.73 s\n",
      "Wall time: 12min 50s\n"
     ]
    },
    {
     "data": {
      "text/plain": [
       "GridSearchCV(cv=10, estimator=OneClassSVM(), n_jobs=-1,\n",
       "             param_grid=[{'degree': array([2, 3, 4]),\n",
       "                          'gamma': ['scale', 'auto'],\n",
       "                          'kernel': ['linear', 'poly', 'rbf', 'sigmoid'],\n",
       "                          'shrinking': [True, False]}],\n",
       "             scoring='accuracy', verbose=1)"
      ]
     },
     "execution_count": 40,
     "metadata": {},
     "output_type": "execute_result"
    }
   ],
   "source": [
    "%%time  # hyper parameter tuning to avoid over fitting\n",
    "grid_search.fit(trainX_copy, trainy_copy)\n",
    "# grid_search.fit(trainX_copy)"
   ]
  },
  {
   "cell_type": "code",
   "execution_count": 41,
   "metadata": {
    "colab": {
     "base_uri": "https://localhost:8080/"
    },
    "executionInfo": {
     "elapsed": 890,
     "status": "ok",
     "timestamp": 1662703388978,
     "user": {
      "displayName": "Olusegun Ajibola",
      "userId": "14016280963587867119"
     },
     "user_tz": -120
    },
    "id": "ntSV7X71cHQ0",
    "outputId": "81eaf22c-21b6-4577-a8cc-2106f1f2b5eb"
   },
   "outputs": [
    {
     "data": {
      "text/plain": [
       "(nan, OneClassSVM(degree=2, kernel='linear'))"
      ]
     },
     "execution_count": 41,
     "metadata": {},
     "output_type": "execute_result"
    }
   ],
   "source": [
    "grid_search.best_score_, grid_search.best_estimator_"
   ]
  },
  {
   "cell_type": "code",
   "execution_count": null,
   "metadata": {
    "id": "10rqKYqcv09R"
   },
   "outputs": [],
   "source": [
    "oc_svm_best = grid_search_bg.best_estimator_"
   ]
  },
  {
   "cell_type": "code",
   "execution_count": 96,
   "metadata": {
    "executionInfo": {
     "elapsed": 305,
     "status": "ok",
     "timestamp": 1662703540106,
     "user": {
      "displayName": "Olusegun Ajibola",
      "userId": "14016280963587867119"
     },
     "user_tz": -120
    },
    "id": "CDtazhBR2Nnj"
   },
   "outputs": [],
   "source": [
    "# define outlier detection model\n",
    "model = OneClassSVM(gamma='scale', nu=0.01)"
   ]
  },
  {
   "cell_type": "code",
   "execution_count": 97,
   "metadata": {
    "colab": {
     "base_uri": "https://localhost:8080/"
    },
    "executionInfo": {
     "elapsed": 382,
     "status": "ok",
     "timestamp": 1662703554499,
     "user": {
      "displayName": "Olusegun Ajibola",
      "userId": "14016280963587867119"
     },
     "user_tz": -120
    },
    "id": "xKg76-B92bbV",
    "outputId": "4c731607-88ac-4d9e-ea6d-d2ab82962442"
   },
   "outputs": [
    {
     "data": {
      "text/plain": [
       "OneClassSVM(nu=0.01)"
      ]
     },
     "execution_count": 97,
     "metadata": {},
     "output_type": "execute_result"
    }
   ],
   "source": [
    "# fit on majority class\n",
    "\n",
    "model.fit(trainX_copy)"
   ]
  },
  {
   "cell_type": "code",
   "execution_count": 98,
   "metadata": {
    "executionInfo": {
     "elapsed": 847,
     "status": "ok",
     "timestamp": 1662703578422,
     "user": {
      "displayName": "Olusegun Ajibola",
      "userId": "14016280963587867119"
     },
     "user_tz": -120
    },
    "id": "XwJVzYjw2u0w"
   },
   "outputs": [],
   "source": [
    "# detect outliers in the test set\n",
    "yhat = model.predict(testX)"
   ]
  },
  {
   "cell_type": "code",
   "execution_count": 99,
   "metadata": {
    "executionInfo": {
     "elapsed": 267,
     "status": "ok",
     "timestamp": 1662703843149,
     "user": {
      "displayName": "Olusegun Ajibola",
      "userId": "14016280963587867119"
     },
     "user_tz": -120
    },
    "id": "edst2O5T2zOp"
   },
   "outputs": [],
   "source": [
    "# mark inliers 1, outliers -1\n",
    "\n",
    "testy = testy.replace(1, -1)\n",
    "\n",
    "testy = testy.replace(0, 1)"
   ]
  },
  {
   "cell_type": "code",
   "execution_count": 100,
   "metadata": {
    "colab": {
     "base_uri": "https://localhost:8080/"
    },
    "executionInfo": {
     "elapsed": 446,
     "status": "ok",
     "timestamp": 1662703846632,
     "user": {
      "displayName": "Olusegun Ajibola",
      "userId": "14016280963587867119"
     },
     "user_tz": -120
    },
    "id": "PBWkZVnF2045",
    "outputId": "2c457d10-1c27-47dc-80be-1205dcfb5dee"
   },
   "outputs": [
    {
     "name": "stdout",
     "output_type": "stream",
     "text": [
      "F1 Score: 0.019\n"
     ]
    }
   ],
   "source": [
    "# calculate score\n",
    "score = f1_score(testy, yhat, pos_label= -1)\n",
    "print('F1 Score: %.3f' % score)"
   ]
  },
  {
   "cell_type": "markdown",
   "metadata": {
    "id": "yiZHyrZb8jKp"
   },
   "source": [
    "# A -  Repeating Models with Standardized data"
   ]
  },
  {
   "cell_type": "code",
   "execution_count": 52,
   "metadata": {
    "executionInfo": {
     "elapsed": 299,
     "status": "ok",
     "timestamp": 1662732551796,
     "user": {
      "displayName": "Olusegun Ajibola",
      "userId": "14016280963587867119"
     },
     "user_tz": -120
    },
    "id": "eoJ39hYs3SLG"
   },
   "outputs": [],
   "source": [
    "df_day2 = df_day.drop(columns = 'athlete_id')\n",
    "\n",
    "std_scaler = StandardScaler()\n",
    "\n",
    "df_day_scaled = std_scaler.fit_transform(df_day2.drop(columns = 'injury').to_numpy())\n",
    "df_day_scaled = pd.DataFrame(df_day_scaled, columns=list(df_day2.drop(columns = 'injury')))\n",
    "df_day_scaled['injury'] = df_day.injury"
   ]
  },
  {
   "cell_type": "markdown",
   "metadata": {
    "id": "C-Rza9gW-weF"
   },
   "source": [
    "## Model 2: Isolation Forest II"
   ]
  },
  {
   "cell_type": "code",
   "execution_count": 53,
   "metadata": {
    "executionInfo": {
     "elapsed": 279,
     "status": "ok",
     "timestamp": 1662705839095,
     "user": {
      "displayName": "Olusegun Ajibola",
      "userId": "14016280963587867119"
     },
     "user_tz": -120
    },
    "id": "8QcX_fhm-weG"
   },
   "outputs": [],
   "source": [
    "def drop_a_column(df, cols):\n",
    "    \"\"\"\n",
    "    This functiion drops a column in a dataframe and returns the new df without\n",
    "    the dropped column.\n",
    "\n",
    "    cols is a list\n",
    "    df is a dataframe\n",
    "    \"\"\"\n",
    "\n",
    "    df_dr = df.drop(cols, axis = 1)\n",
    "\n",
    "    return df_dr"
   ]
  },
  {
   "cell_type": "code",
   "execution_count": 54,
   "metadata": {
    "executionInfo": {
     "elapsed": 311,
     "status": "ok",
     "timestamp": 1662705849287,
     "user": {
      "displayName": "Olusegun Ajibola",
      "userId": "14016280963587867119"
     },
     "user_tz": -120
    },
    "id": "BiOrbWwx-weG"
   },
   "outputs": [],
   "source": [
    "# inliers = df_day_scaled[df_day_scaled.injury == 'no']\n",
    "inliers = df_day_scaled[df_day_scaled.injury == 0] #  no injury data\n",
    "inliers_y = inliers.injury #  no injury reponse data\n",
    "inliers = inliers.drop(['injury'], axis = 1)"
   ]
  },
  {
   "cell_type": "code",
   "execution_count": 55,
   "metadata": {
    "executionInfo": {
     "elapsed": 293,
     "status": "ok",
     "timestamp": 1662705857779,
     "user": {
      "displayName": "Olusegun Ajibola",
      "userId": "14016280963587867119"
     },
     "user_tz": -120
    },
    "id": "BH4eQBtB-weG"
   },
   "outputs": [],
   "source": [
    "# outliers = df_day_scaled[df_day_scaled.injury == 'yes']\n",
    "outliers = df_day_scaled[df_day_scaled.injury == 1] #  injury data\n",
    "outliers_y = outliers.injury #  injury reponse data\n",
    "outliers = outliers.drop(['injury'], axis = 1)"
   ]
  },
  {
   "cell_type": "code",
   "execution_count": 56,
   "metadata": {
    "colab": {
     "base_uri": "https://localhost:8080/",
     "height": 193
    },
    "executionInfo": {
     "elapsed": 291,
     "status": "ok",
     "timestamp": 1662705859794,
     "user": {
      "displayName": "Olusegun Ajibola",
      "userId": "14016280963587867119"
     },
     "user_tz": -120
    },
    "id": "9Mx3h7u9-weG",
    "outputId": "1ea2a73b-989e-4152-a3d8-20618813bc2c"
   },
   "outputs": [
    {
     "data": {
      "text/html": [
       "<div>\n",
       "<style scoped>\n",
       "    .dataframe tbody tr th:only-of-type {\n",
       "        vertical-align: middle;\n",
       "    }\n",
       "\n",
       "    .dataframe tbody tr th {\n",
       "        vertical-align: top;\n",
       "    }\n",
       "\n",
       "    .dataframe thead th {\n",
       "        text-align: right;\n",
       "    }\n",
       "</style>\n",
       "<table border=\"1\" class=\"dataframe\">\n",
       "  <thead>\n",
       "    <tr style=\"text-align: right;\">\n",
       "      <th></th>\n",
       "      <th>nr_sessions</th>\n",
       "      <th>total_km</th>\n",
       "      <th>km_z3-4</th>\n",
       "      <th>km_z5-t1-t2</th>\n",
       "      <th>km_sprinting</th>\n",
       "      <th>strength_training</th>\n",
       "      <th>hours_alternative</th>\n",
       "      <th>perceived_exertion</th>\n",
       "      <th>perceived_trainingsuccess</th>\n",
       "      <th>perceived_recovery</th>\n",
       "      <th>nr_sessions_1</th>\n",
       "      <th>total_km_1</th>\n",
       "      <th>km_z3-4_1</th>\n",
       "      <th>km_z5-t1-t2_1</th>\n",
       "      <th>km_sprinting_1</th>\n",
       "      <th>strength_training_1</th>\n",
       "      <th>hours_alternative_1</th>\n",
       "      <th>perceived_exertion_1</th>\n",
       "      <th>perceived_trainingsuccess_1</th>\n",
       "      <th>perceived_recovery_1</th>\n",
       "      <th>nr_sessions_2</th>\n",
       "      <th>total_km_2</th>\n",
       "      <th>km_z3-4_2</th>\n",
       "      <th>km_z5-t1-t2_2</th>\n",
       "      <th>km_sprinting_2</th>\n",
       "      <th>strength_training_2</th>\n",
       "      <th>hours_alternative_2</th>\n",
       "      <th>perceived_exertion_2</th>\n",
       "      <th>perceived_trainingsuccess_2</th>\n",
       "      <th>perceived_recovery_2</th>\n",
       "      <th>nr_sessions_3</th>\n",
       "      <th>total_km_3</th>\n",
       "      <th>km_z3-4_3</th>\n",
       "      <th>km_z5-t1-t2_3</th>\n",
       "      <th>km_sprinting_3</th>\n",
       "      <th>strength_training_3</th>\n",
       "      <th>hours_alternative_3</th>\n",
       "      <th>perceived_exertion_3</th>\n",
       "      <th>perceived_trainingsuccess_3</th>\n",
       "      <th>perceived_recovery_3</th>\n",
       "      <th>nr_sessions_4</th>\n",
       "      <th>total_km_4</th>\n",
       "      <th>km_z3-4_4</th>\n",
       "      <th>km_z5-t1-t2_4</th>\n",
       "      <th>km_sprinting_4</th>\n",
       "      <th>strength_training_4</th>\n",
       "      <th>hours_alternative_4</th>\n",
       "      <th>perceived_exertion_4</th>\n",
       "      <th>perceived_trainingsuccess_4</th>\n",
       "      <th>perceived_recovery_4</th>\n",
       "      <th>nr_sessions_5</th>\n",
       "      <th>total_km_5</th>\n",
       "      <th>km_z3-4_5</th>\n",
       "      <th>km_z5-t1-t2_5</th>\n",
       "      <th>km_sprinting_5</th>\n",
       "      <th>strength_training_5</th>\n",
       "      <th>hours_alternative_5</th>\n",
       "      <th>perceived_exertion_5</th>\n",
       "      <th>perceived_trainingsuccess_5</th>\n",
       "      <th>perceived_recovery_5</th>\n",
       "      <th>nr_sessions_6</th>\n",
       "      <th>total_km_6</th>\n",
       "      <th>km_z3-4_6</th>\n",
       "      <th>km_z5-t1-t2_6</th>\n",
       "      <th>km_sprinting_6</th>\n",
       "      <th>strength_training_6</th>\n",
       "      <th>hours_alternative_6</th>\n",
       "      <th>perceived_exertion_6</th>\n",
       "      <th>perceived_trainingsuccess_6</th>\n",
       "      <th>perceived_recovery_6</th>\n",
       "      <th>date</th>\n",
       "    </tr>\n",
       "  </thead>\n",
       "  <tbody>\n",
       "    <tr>\n",
       "      <th>0</th>\n",
       "      <td>0.293512</td>\n",
       "      <td>-0.165685</td>\n",
       "      <td>-0.298314</td>\n",
       "      <td>0.011076</td>\n",
       "      <td>2.331009</td>\n",
       "      <td>-0.356549</td>\n",
       "      <td>-0.297443</td>\n",
       "      <td>-0.535600</td>\n",
       "      <td>-0.949786</td>\n",
       "      <td>-0.083533</td>\n",
       "      <td>-1.426339</td>\n",
       "      <td>-0.939949</td>\n",
       "      <td>-0.298336</td>\n",
       "      <td>-0.318424</td>\n",
       "      <td>-0.149973</td>\n",
       "      <td>-0.357972</td>\n",
       "      <td>-0.297451</td>\n",
       "      <td>-1.001754</td>\n",
       "      <td>-0.975817</td>\n",
       "      <td>-1.081285</td>\n",
       "      <td>0.293492</td>\n",
       "      <td>-0.942237</td>\n",
       "      <td>-0.298543</td>\n",
       "      <td>-0.31988</td>\n",
       "      <td>-0.150599</td>\n",
       "      <td>2.704305</td>\n",
       "      <td>-0.296629</td>\n",
       "      <td>-0.574482</td>\n",
       "      <td>-0.949257</td>\n",
       "      <td>-0.137026</td>\n",
       "      <td>-1.428499</td>\n",
       "      <td>-0.943095</td>\n",
       "      <td>-0.299187</td>\n",
       "      <td>-0.319307</td>\n",
       "      <td>-0.150824</td>\n",
       "      <td>-0.35636</td>\n",
       "      <td>-0.296926</td>\n",
       "      <td>-1.002298</td>\n",
       "      <td>-0.976792</td>\n",
       "      <td>-1.081854</td>\n",
       "      <td>0.293177</td>\n",
       "      <td>-0.943872</td>\n",
       "      <td>-0.299153</td>\n",
       "      <td>-0.319664</td>\n",
       "      <td>-0.15043</td>\n",
       "      <td>-0.356194</td>\n",
       "      <td>1.677385</td>\n",
       "      <td>-0.652858</td>\n",
       "      <td>-0.950227</td>\n",
       "      <td>-0.085303</td>\n",
       "      <td>0.29539</td>\n",
       "      <td>1.250975</td>\n",
       "      <td>3.996750</td>\n",
       "      <td>-0.320213</td>\n",
       "      <td>-0.148445</td>\n",
       "      <td>2.714195</td>\n",
       "      <td>-0.296384</td>\n",
       "      <td>-0.535897</td>\n",
       "      <td>-0.949919</td>\n",
       "      <td>-0.137909</td>\n",
       "      <td>0.295179</td>\n",
       "      <td>-0.943941</td>\n",
       "      <td>-0.29909</td>\n",
       "      <td>-0.319835</td>\n",
       "      <td>-0.150087</td>\n",
       "      <td>-0.356184</td>\n",
       "      <td>1.512013</td>\n",
       "      <td>-0.574761</td>\n",
       "      <td>-0.949638</td>\n",
       "      <td>-0.242559</td>\n",
       "      <td>-1.521713</td>\n",
       "    </tr>\n",
       "    <tr>\n",
       "      <th>1</th>\n",
       "      <td>-1.428581</td>\n",
       "      <td>-0.941799</td>\n",
       "      <td>-0.298314</td>\n",
       "      <td>-0.320065</td>\n",
       "      <td>-0.151023</td>\n",
       "      <td>-0.356549</td>\n",
       "      <td>-0.297443</td>\n",
       "      <td>-1.002056</td>\n",
       "      <td>-0.976938</td>\n",
       "      <td>-1.081857</td>\n",
       "      <td>0.294215</td>\n",
       "      <td>-0.939949</td>\n",
       "      <td>-0.298336</td>\n",
       "      <td>-0.318424</td>\n",
       "      <td>-0.149973</td>\n",
       "      <td>2.698331</td>\n",
       "      <td>-0.297451</td>\n",
       "      <td>-0.573368</td>\n",
       "      <td>-0.948660</td>\n",
       "      <td>-0.135464</td>\n",
       "      <td>-1.428482</td>\n",
       "      <td>-0.942237</td>\n",
       "      <td>-0.298543</td>\n",
       "      <td>-0.31988</td>\n",
       "      <td>-0.150599</td>\n",
       "      <td>-0.356656</td>\n",
       "      <td>-0.296629</td>\n",
       "      <td>-1.002254</td>\n",
       "      <td>-0.976427</td>\n",
       "      <td>-1.081894</td>\n",
       "      <td>0.294078</td>\n",
       "      <td>-0.943095</td>\n",
       "      <td>-0.299187</td>\n",
       "      <td>-0.319307</td>\n",
       "      <td>-0.150824</td>\n",
       "      <td>-0.35636</td>\n",
       "      <td>1.670717</td>\n",
       "      <td>-0.652204</td>\n",
       "      <td>-0.949629</td>\n",
       "      <td>-0.084824</td>\n",
       "      <td>0.293177</td>\n",
       "      <td>1.254004</td>\n",
       "      <td>4.002433</td>\n",
       "      <td>-0.319664</td>\n",
       "      <td>-0.15043</td>\n",
       "      <td>2.708791</td>\n",
       "      <td>-0.297461</td>\n",
       "      <td>-0.536027</td>\n",
       "      <td>-0.950227</td>\n",
       "      <td>-0.137798</td>\n",
       "      <td>0.29539</td>\n",
       "      <td>-0.944348</td>\n",
       "      <td>-0.299624</td>\n",
       "      <td>-0.320213</td>\n",
       "      <td>-0.148445</td>\n",
       "      <td>-0.355767</td>\n",
       "      <td>1.540748</td>\n",
       "      <td>-0.574816</td>\n",
       "      <td>-0.949919</td>\n",
       "      <td>-0.242790</td>\n",
       "      <td>0.295179</td>\n",
       "      <td>-0.247831</td>\n",
       "      <td>-0.29909</td>\n",
       "      <td>-0.044280</td>\n",
       "      <td>2.330865</td>\n",
       "      <td>-0.356184</td>\n",
       "      <td>-0.292961</td>\n",
       "      <td>-0.574761</td>\n",
       "      <td>-0.949638</td>\n",
       "      <td>-0.137609</td>\n",
       "      <td>-1.520473</td>\n",
       "    </tr>\n",
       "  </tbody>\n",
       "</table>\n",
       "</div>"
      ],
      "text/plain": [
       "   nr_sessions  total_km   km_z3-4  km_z5-t1-t2  km_sprinting  \\\n",
       "0     0.293512 -0.165685 -0.298314     0.011076      2.331009   \n",
       "1    -1.428581 -0.941799 -0.298314    -0.320065     -0.151023   \n",
       "\n",
       "   strength_training  hours_alternative  perceived_exertion  \\\n",
       "0          -0.356549          -0.297443           -0.535600   \n",
       "1          -0.356549          -0.297443           -1.002056   \n",
       "\n",
       "   perceived_trainingsuccess  perceived_recovery  nr_sessions_1  total_km_1  \\\n",
       "0                  -0.949786           -0.083533      -1.426339   -0.939949   \n",
       "1                  -0.976938           -1.081857       0.294215   -0.939949   \n",
       "\n",
       "   km_z3-4_1  km_z5-t1-t2_1  km_sprinting_1  strength_training_1  \\\n",
       "0  -0.298336      -0.318424       -0.149973            -0.357972   \n",
       "1  -0.298336      -0.318424       -0.149973             2.698331   \n",
       "\n",
       "   hours_alternative_1  perceived_exertion_1  perceived_trainingsuccess_1  \\\n",
       "0            -0.297451             -1.001754                    -0.975817   \n",
       "1            -0.297451             -0.573368                    -0.948660   \n",
       "\n",
       "   perceived_recovery_1  nr_sessions_2  total_km_2  km_z3-4_2  km_z5-t1-t2_2  \\\n",
       "0             -1.081285       0.293492   -0.942237  -0.298543       -0.31988   \n",
       "1             -0.135464      -1.428482   -0.942237  -0.298543       -0.31988   \n",
       "\n",
       "   km_sprinting_2  strength_training_2  hours_alternative_2  \\\n",
       "0       -0.150599             2.704305            -0.296629   \n",
       "1       -0.150599            -0.356656            -0.296629   \n",
       "\n",
       "   perceived_exertion_2  perceived_trainingsuccess_2  perceived_recovery_2  \\\n",
       "0             -0.574482                    -0.949257             -0.137026   \n",
       "1             -1.002254                    -0.976427             -1.081894   \n",
       "\n",
       "   nr_sessions_3  total_km_3  km_z3-4_3  km_z5-t1-t2_3  km_sprinting_3  \\\n",
       "0      -1.428499   -0.943095  -0.299187      -0.319307       -0.150824   \n",
       "1       0.294078   -0.943095  -0.299187      -0.319307       -0.150824   \n",
       "\n",
       "   strength_training_3  hours_alternative_3  perceived_exertion_3  \\\n",
       "0             -0.35636            -0.296926             -1.002298   \n",
       "1             -0.35636             1.670717             -0.652204   \n",
       "\n",
       "   perceived_trainingsuccess_3  perceived_recovery_3  nr_sessions_4  \\\n",
       "0                    -0.976792             -1.081854       0.293177   \n",
       "1                    -0.949629             -0.084824       0.293177   \n",
       "\n",
       "   total_km_4  km_z3-4_4  km_z5-t1-t2_4  km_sprinting_4  strength_training_4  \\\n",
       "0   -0.943872  -0.299153      -0.319664        -0.15043            -0.356194   \n",
       "1    1.254004   4.002433      -0.319664        -0.15043             2.708791   \n",
       "\n",
       "   hours_alternative_4  perceived_exertion_4  perceived_trainingsuccess_4  \\\n",
       "0             1.677385             -0.652858                    -0.950227   \n",
       "1            -0.297461             -0.536027                    -0.950227   \n",
       "\n",
       "   perceived_recovery_4  nr_sessions_5  total_km_5  km_z3-4_5  km_z5-t1-t2_5  \\\n",
       "0             -0.085303        0.29539    1.250975   3.996750      -0.320213   \n",
       "1             -0.137798        0.29539   -0.944348  -0.299624      -0.320213   \n",
       "\n",
       "   km_sprinting_5  strength_training_5  hours_alternative_5  \\\n",
       "0       -0.148445             2.714195            -0.296384   \n",
       "1       -0.148445            -0.355767             1.540748   \n",
       "\n",
       "   perceived_exertion_5  perceived_trainingsuccess_5  perceived_recovery_5  \\\n",
       "0             -0.535897                    -0.949919             -0.137909   \n",
       "1             -0.574816                    -0.949919             -0.242790   \n",
       "\n",
       "   nr_sessions_6  total_km_6  km_z3-4_6  km_z5-t1-t2_6  km_sprinting_6  \\\n",
       "0       0.295179   -0.943941   -0.29909      -0.319835       -0.150087   \n",
       "1       0.295179   -0.247831   -0.29909      -0.044280        2.330865   \n",
       "\n",
       "   strength_training_6  hours_alternative_6  perceived_exertion_6  \\\n",
       "0            -0.356184             1.512013             -0.574761   \n",
       "1            -0.356184            -0.292961             -0.574761   \n",
       "\n",
       "   perceived_trainingsuccess_6  perceived_recovery_6      date  \n",
       "0                    -0.949638             -0.242559 -1.521713  \n",
       "1                    -0.949638             -0.137609 -1.520473  "
      ]
     },
     "execution_count": 56,
     "metadata": {},
     "output_type": "execute_result"
    }
   ],
   "source": [
    "inliers.head(2)"
   ]
  },
  {
   "cell_type": "code",
   "execution_count": 57,
   "metadata": {
    "colab": {
     "base_uri": "https://localhost:8080/"
    },
    "executionInfo": {
     "elapsed": 385,
     "status": "ok",
     "timestamp": 1662705867676,
     "user": {
      "displayName": "Olusegun Ajibola",
      "userId": "14016280963587867119"
     },
     "user_tz": -120
    },
    "id": "dOJq2kRL-weH",
    "outputId": "03bad760-ca33-4faf-d355-8d176df1a544"
   },
   "outputs": [
    {
     "data": {
      "text/plain": [
       "((42183, 71), (583, 71))"
      ]
     },
     "execution_count": 57,
     "metadata": {},
     "output_type": "execute_result"
    }
   ],
   "source": [
    "inliers.shape, outliers.shape # this is the respective dimension of our no-injury and injury data in our dataset respectively."
   ]
  },
  {
   "cell_type": "code",
   "execution_count": 58,
   "metadata": {
    "executionInfo": {
     "elapsed": 288,
     "status": "ok",
     "timestamp": 1662705869320,
     "user": {
      "displayName": "Olusegun Ajibola",
      "userId": "14016280963587867119"
     },
     "user_tz": -120
    },
    "id": "k64Rg5d7-weH"
   },
   "outputs": [],
   "source": [
    "inliers_train, inliers_test = train_test_split(inliers, test_size=0.20, random_state=42)"
   ]
  },
  {
   "cell_type": "markdown",
   "metadata": {
    "id": "w0GS4lCM-weH"
   },
   "source": [
    "### Train the isolation Forest Model"
   ]
  },
  {
   "cell_type": "code",
   "execution_count": 59,
   "metadata": {
    "executionInfo": {
     "elapsed": 314,
     "status": "ok",
     "timestamp": 1662705871314,
     "user": {
      "displayName": "Olusegun Ajibola",
      "userId": "14016280963587867119"
     },
     "user_tz": -120
    },
    "id": "K1WoHNoV-weH"
   },
   "outputs": [],
   "source": [
    "rng = np.random.RandomState(42)"
   ]
  },
  {
   "cell_type": "code",
   "execution_count": 60,
   "metadata": {
    "executionInfo": {
     "elapsed": 277,
     "status": "ok",
     "timestamp": 1662705874740,
     "user": {
      "displayName": "Olusegun Ajibola",
      "userId": "14016280963587867119"
     },
     "user_tz": -120
    },
    "id": "JVkQCRha-weH"
   },
   "outputs": [],
   "source": [
    "inliers_train, inliers_test = train_test_split(inliers, test_size=0.20, random_state = 42)"
   ]
  },
  {
   "cell_type": "code",
   "execution_count": 61,
   "metadata": {
    "executionInfo": {
     "elapsed": 1095,
     "status": "ok",
     "timestamp": 1662705898921,
     "user": {
      "displayName": "Olusegun Ajibola",
      "userId": "14016280963587867119"
     },
     "user_tz": -120
    },
    "id": "UCpF9D5u-weH"
   },
   "outputs": [],
   "source": [
    "model_iso = IsolationForest( max_samples=150, random_state=rng, contamination='auto')\n",
    "# model_iso = IsolationForest( max_samples=150, random_state=rng, contamination=0.01)\n",
    "model_iso.fit(inliers_train)\n",
    "inlier_pred_test = model_iso.predict(inliers_test)\n",
    "outlier_pred = model_iso.predict(outliers)"
   ]
  },
  {
   "cell_type": "code",
   "execution_count": 62,
   "metadata": {
    "colab": {
     "base_uri": "https://localhost:8080/"
    },
    "executionInfo": {
     "elapsed": 5,
     "status": "ok",
     "timestamp": 1662705899652,
     "user": {
      "displayName": "Olusegun Ajibola",
      "userId": "14016280963587867119"
     },
     "user_tz": -120
    },
    "id": "F5byreA--weH",
    "outputId": "769d198c-ddc3-4b89-a14d-a4b970410e1f"
   },
   "outputs": [
    {
     "name": "stdout",
     "output_type": "stream",
     "text": [
      "Accuracy in Detecting injury Cases: 0.9615977243095887\n",
      "Accuracy in Detecting no-injury Cases: 0.0823327615780446\n"
     ]
    }
   ],
   "source": [
    "print(\"Accuracy in Detecting injury Cases:\", list(inlier_pred_test).count(1)/inlier_pred_test.shape[0])\n",
    "print(\"Accuracy in Detecting no-injury Cases:\", list(outlier_pred).count(-1)/outlier_pred.shape[0])"
   ]
  },
  {
   "cell_type": "code",
   "execution_count": 63,
   "metadata": {
    "colab": {
     "base_uri": "https://localhost:8080/"
    },
    "executionInfo": {
     "elapsed": 355,
     "status": "ok",
     "timestamp": 1662705902252,
     "user": {
      "displayName": "Olusegun Ajibola",
      "userId": "14016280963587867119"
     },
     "user_tz": -120
    },
    "id": "ws2irXbr-weI",
    "outputId": "cac7a440-9195-428e-ceda-8dbe0ad088d5"
   },
   "outputs": [
    {
     "data": {
      "text/plain": [
       "array([-1,  1])"
      ]
     },
     "execution_count": 63,
     "metadata": {},
     "output_type": "execute_result"
    }
   ],
   "source": [
    "np.unique(outlier_pred)"
   ]
  },
  {
   "cell_type": "code",
   "execution_count": 64,
   "metadata": {
    "colab": {
     "base_uri": "https://localhost:8080/"
    },
    "executionInfo": {
     "elapsed": 296,
     "status": "ok",
     "timestamp": 1662705887500,
     "user": {
      "displayName": "Olusegun Ajibola",
      "userId": "14016280963587867119"
     },
     "user_tz": -120
    },
    "id": "ax8tQfK7-weI",
    "outputId": "acdfd657-2ace-44af-c2b4-a2a2dfc03aff"
   },
   "outputs": [
    {
     "name": "stdout",
     "output_type": "stream",
     "text": [
      "F1 Score: 0.152\n"
     ]
    }
   ],
   "source": [
    "# calculate score\n",
    "\n",
    "# mark inliers 1, outliers -1\n",
    "\n",
    "outliers_y = outliers_y.replace(1, -1)\n",
    "\n",
    "outliers_y = outliers_y.replace(0, 1)\n",
    "\n",
    "score = f1_score(outliers_y, outlier_pred, pos_label=-1)\n",
    "print('F1 Score: %.3f' % score)"
   ]
  },
  {
   "cell_type": "markdown",
   "metadata": {
    "id": "iA1bvJMa__Uu"
   },
   "source": [
    "## Model 3: One Class SVM II"
   ]
  },
  {
   "cell_type": "code",
   "execution_count": 65,
   "metadata": {
    "executionInfo": {
     "elapsed": 386,
     "status": "ok",
     "timestamp": 1662706082865,
     "user": {
      "displayName": "Olusegun Ajibola",
      "userId": "14016280963587867119"
     },
     "user_tz": -120
    },
    "id": "VdT1OFGo__Uv"
   },
   "outputs": [],
   "source": [
    "X = df_day_scaled.drop(columns = ['injury'])\n",
    "y = df_day_scaled['injury']"
   ]
  },
  {
   "cell_type": "code",
   "execution_count": 66,
   "metadata": {
    "id": "iBbO-M2M__Uv"
   },
   "outputs": [],
   "source": [
    "# split into train/test sets\n",
    "trainX, testX, trainy, testy = train_test_split(X, y, test_size = 0.80, random_state=2, stratify=y)"
   ]
  },
  {
   "cell_type": "code",
   "execution_count": 69,
   "metadata": {
    "executionInfo": {
     "elapsed": 277,
     "status": "ok",
     "timestamp": 1662706094209,
     "user": {
      "displayName": "Olusegun Ajibola",
      "userId": "14016280963587867119"
     },
     "user_tz": -120
    },
    "id": "jVUR7ant__Uv"
   },
   "outputs": [],
   "source": [
    "# we fit on majority class\n",
    "trainX_copy = trainX.copy()\n",
    "trainX_copy['injury'] = trainy\n",
    "trainX_copy = trainX_copy[trainX_copy.injury == 0]\n",
    "\n",
    "trainy_copy = trainy[trainy ==0]\n",
    "\n",
    "trainX_copy = trainX_copy.drop(columns = 'injury')"
   ]
  },
  {
   "cell_type": "code",
   "execution_count": 70,
   "metadata": {
    "colab": {
     "base_uri": "https://localhost:8080/"
    },
    "executionInfo": {
     "elapsed": 393,
     "status": "ok",
     "timestamp": 1662706096889,
     "user": {
      "displayName": "Olusegun Ajibola",
      "userId": "14016280963587867119"
     },
     "user_tz": -120
    },
    "id": "P2j-Xifw__Uv",
    "outputId": "8c550058-f7ae-4dda-cb45-a7c3697c6422"
   },
   "outputs": [
    {
     "data": {
      "text/plain": [
       "((8436,), (8436, 71))"
      ]
     },
     "execution_count": 70,
     "metadata": {},
     "output_type": "execute_result"
    }
   ],
   "source": [
    "trainy_copy.shape, trainX_copy.shape"
   ]
  },
  {
   "cell_type": "code",
   "execution_count": 71,
   "metadata": {
    "executionInfo": {
     "elapsed": 289,
     "status": "ok",
     "timestamp": 1662706099936,
     "user": {
      "displayName": "Olusegun Ajibola",
      "userId": "14016280963587867119"
     },
     "user_tz": -120
    },
    "id": "R0xBBRmv__Uw"
   },
   "outputs": [],
   "source": [
    "# define outlier detection model\n",
    "model = OneClassSVM(gamma='scale', nu=0.01)"
   ]
  },
  {
   "cell_type": "code",
   "execution_count": 72,
   "metadata": {
    "colab": {
     "base_uri": "https://localhost:8080/"
    },
    "executionInfo": {
     "elapsed": 271,
     "status": "ok",
     "timestamp": 1662706102023,
     "user": {
      "displayName": "Olusegun Ajibola",
      "userId": "14016280963587867119"
     },
     "user_tz": -120
    },
    "id": "3aBB3iYK__Uw",
    "outputId": "314370a4-e056-470c-fc3f-d07c3daabbee"
   },
   "outputs": [
    {
     "data": {
      "text/plain": [
       "OneClassSVM(nu=0.01)"
      ]
     },
     "execution_count": 72,
     "metadata": {},
     "output_type": "execute_result"
    }
   ],
   "source": [
    "# fit on majority class\n",
    "\n",
    "model.fit(trainX_copy)"
   ]
  },
  {
   "cell_type": "code",
   "execution_count": 73,
   "metadata": {
    "executionInfo": {
     "elapsed": 697,
     "status": "ok",
     "timestamp": 1662706105616,
     "user": {
      "displayName": "Olusegun Ajibola",
      "userId": "14016280963587867119"
     },
     "user_tz": -120
    },
    "id": "KlSvZcXU__Uw"
   },
   "outputs": [],
   "source": [
    "# detect outliers in the test set\n",
    "yhat = model.predict(testX)"
   ]
  },
  {
   "cell_type": "code",
   "execution_count": 74,
   "metadata": {
    "executionInfo": {
     "elapsed": 282,
     "status": "ok",
     "timestamp": 1662706107851,
     "user": {
      "displayName": "Olusegun Ajibola",
      "userId": "14016280963587867119"
     },
     "user_tz": -120
    },
    "id": "4L87a1fx__Uw"
   },
   "outputs": [],
   "source": [
    "# mark inliers 1, outliers -1\n",
    "\n",
    "testy = testy.replace(1, -1)\n",
    "\n",
    "testy = testy.replace(0, 1)"
   ]
  },
  {
   "cell_type": "code",
   "execution_count": 75,
   "metadata": {
    "colab": {
     "base_uri": "https://localhost:8080/"
    },
    "executionInfo": {
     "elapsed": 276,
     "status": "ok",
     "timestamp": 1662706109967,
     "user": {
      "displayName": "Olusegun Ajibola",
      "userId": "14016280963587867119"
     },
     "user_tz": -120
    },
    "id": "N1lZ7udQ__Uw",
    "outputId": "676c2bae-49cd-41f5-f9a6-39625272ccfe"
   },
   "outputs": [
    {
     "name": "stdout",
     "output_type": "stream",
     "text": [
      "F1 Score: 0.024\n"
     ]
    }
   ],
   "source": [
    "# calculate score\n",
    "score = f1_score(testy, yhat, pos_label= -1)\n",
    "print('F1 Score: %.3f' % score)"
   ]
  },
  {
   "cell_type": "markdown",
   "metadata": {
    "id": "79sMx1_oAreC"
   },
   "source": [
    "The outcome for both scaled and unscaled data, the results are the same in terms of f1 score for IF, but for the SVM, there is an improvement with scaling."
   ]
  },
  {
   "cell_type": "markdown",
   "metadata": {
    "id": "kvoYYIXVi6o5"
   },
   "source": [
    "# B - Repeating Models with PCA"
   ]
  },
  {
   "cell_type": "markdown",
   "metadata": {
    "id": "ciigzlJ0lMzO"
   },
   "source": [
    "## Model 2: Isolation Forest III"
   ]
  },
  {
   "cell_type": "code",
   "execution_count": 101,
   "metadata": {
    "executionInfo": {
     "elapsed": 4,
     "status": "ok",
     "timestamp": 1662733034893,
     "user": {
      "displayName": "Olusegun Ajibola",
      "userId": "14016280963587867119"
     },
     "user_tz": -120
    },
    "id": "JglPp2sble3E"
   },
   "outputs": [],
   "source": [
    "# Make an instance of the Model\n",
    "pca_if = PCA(.95) # retain 95% variance in the data"
   ]
  },
  {
   "cell_type": "code",
   "execution_count": 109,
   "metadata": {
    "executionInfo": {
     "elapsed": 242,
     "status": "ok",
     "timestamp": 1662733038129,
     "user": {
      "displayName": "Olusegun Ajibola",
      "userId": "14016280963587867119"
     },
     "user_tz": -120
    },
    "id": "w78q11XFlMzP"
   },
   "outputs": [],
   "source": [
    "# inliers = df_day_scaled[df_day_scaled.injury == 'no']\n",
    "inliers = df_day_scaled[df_day_scaled.injury == 0] #  no injury data\n",
    "\n",
    "\n",
    "####---------may comment-------------###\n",
    "# inliers_y = inliers.injury #  no injury reponse data \n",
    "# inliers = inliers.drop(['injury'], axis = 1)"
   ]
  },
  {
   "cell_type": "code",
   "execution_count": 104,
   "metadata": {
    "executionInfo": {
     "elapsed": 280,
     "status": "ok",
     "timestamp": 1662733110171,
     "user": {
      "displayName": "Olusegun Ajibola",
      "userId": "14016280963587867119"
     },
     "user_tz": -120
    },
    "id": "w0F1XLDglMzP"
   },
   "outputs": [],
   "source": [
    "# outliers = df_day_scaled[df_day_scaled.injury == 'yes']\n",
    "outliers = df_day_scaled[df_day_scaled.injury == 1] #  injury data\n",
    "outliers_y = outliers.injury #  injury reponse data\n",
    "outliers = outliers.drop(['injury'], axis = 1)"
   ]
  },
  {
   "cell_type": "code",
   "execution_count": 105,
   "metadata": {
    "colab": {
     "base_uri": "https://localhost:8080/",
     "height": 193
    },
    "executionInfo": {
     "elapsed": 6,
     "status": "ok",
     "timestamp": 1662733111890,
     "user": {
      "displayName": "Olusegun Ajibola",
      "userId": "14016280963587867119"
     },
     "user_tz": -120
    },
    "id": "dXwGIGsulMzP",
    "outputId": "73ec0452-7e47-49e2-f4fc-2be3c57fe515",
    "scrolled": true
   },
   "outputs": [
    {
     "data": {
      "text/html": [
       "<div>\n",
       "<style scoped>\n",
       "    .dataframe tbody tr th:only-of-type {\n",
       "        vertical-align: middle;\n",
       "    }\n",
       "\n",
       "    .dataframe tbody tr th {\n",
       "        vertical-align: top;\n",
       "    }\n",
       "\n",
       "    .dataframe thead th {\n",
       "        text-align: right;\n",
       "    }\n",
       "</style>\n",
       "<table border=\"1\" class=\"dataframe\">\n",
       "  <thead>\n",
       "    <tr style=\"text-align: right;\">\n",
       "      <th></th>\n",
       "      <th>nr_sessions</th>\n",
       "      <th>total_km</th>\n",
       "      <th>km_z3-4</th>\n",
       "      <th>km_z5-t1-t2</th>\n",
       "      <th>km_sprinting</th>\n",
       "      <th>strength_training</th>\n",
       "      <th>hours_alternative</th>\n",
       "      <th>perceived_exertion</th>\n",
       "      <th>perceived_trainingsuccess</th>\n",
       "      <th>perceived_recovery</th>\n",
       "      <th>nr_sessions_1</th>\n",
       "      <th>total_km_1</th>\n",
       "      <th>km_z3-4_1</th>\n",
       "      <th>km_z5-t1-t2_1</th>\n",
       "      <th>km_sprinting_1</th>\n",
       "      <th>strength_training_1</th>\n",
       "      <th>hours_alternative_1</th>\n",
       "      <th>perceived_exertion_1</th>\n",
       "      <th>perceived_trainingsuccess_1</th>\n",
       "      <th>perceived_recovery_1</th>\n",
       "      <th>nr_sessions_2</th>\n",
       "      <th>total_km_2</th>\n",
       "      <th>km_z3-4_2</th>\n",
       "      <th>km_z5-t1-t2_2</th>\n",
       "      <th>km_sprinting_2</th>\n",
       "      <th>strength_training_2</th>\n",
       "      <th>hours_alternative_2</th>\n",
       "      <th>perceived_exertion_2</th>\n",
       "      <th>perceived_trainingsuccess_2</th>\n",
       "      <th>perceived_recovery_2</th>\n",
       "      <th>nr_sessions_3</th>\n",
       "      <th>total_km_3</th>\n",
       "      <th>km_z3-4_3</th>\n",
       "      <th>km_z5-t1-t2_3</th>\n",
       "      <th>km_sprinting_3</th>\n",
       "      <th>strength_training_3</th>\n",
       "      <th>hours_alternative_3</th>\n",
       "      <th>perceived_exertion_3</th>\n",
       "      <th>perceived_trainingsuccess_3</th>\n",
       "      <th>perceived_recovery_3</th>\n",
       "      <th>nr_sessions_4</th>\n",
       "      <th>total_km_4</th>\n",
       "      <th>km_z3-4_4</th>\n",
       "      <th>km_z5-t1-t2_4</th>\n",
       "      <th>km_sprinting_4</th>\n",
       "      <th>strength_training_4</th>\n",
       "      <th>hours_alternative_4</th>\n",
       "      <th>perceived_exertion_4</th>\n",
       "      <th>perceived_trainingsuccess_4</th>\n",
       "      <th>perceived_recovery_4</th>\n",
       "      <th>nr_sessions_5</th>\n",
       "      <th>total_km_5</th>\n",
       "      <th>km_z3-4_5</th>\n",
       "      <th>km_z5-t1-t2_5</th>\n",
       "      <th>km_sprinting_5</th>\n",
       "      <th>strength_training_5</th>\n",
       "      <th>hours_alternative_5</th>\n",
       "      <th>perceived_exertion_5</th>\n",
       "      <th>perceived_trainingsuccess_5</th>\n",
       "      <th>perceived_recovery_5</th>\n",
       "      <th>nr_sessions_6</th>\n",
       "      <th>total_km_6</th>\n",
       "      <th>km_z3-4_6</th>\n",
       "      <th>km_z5-t1-t2_6</th>\n",
       "      <th>km_sprinting_6</th>\n",
       "      <th>strength_training_6</th>\n",
       "      <th>hours_alternative_6</th>\n",
       "      <th>perceived_exertion_6</th>\n",
       "      <th>perceived_trainingsuccess_6</th>\n",
       "      <th>perceived_recovery_6</th>\n",
       "      <th>date</th>\n",
       "    </tr>\n",
       "  </thead>\n",
       "  <tbody>\n",
       "    <tr>\n",
       "      <th>0</th>\n",
       "      <td>0.293512</td>\n",
       "      <td>-0.165685</td>\n",
       "      <td>-0.298314</td>\n",
       "      <td>0.011076</td>\n",
       "      <td>2.331009</td>\n",
       "      <td>-0.356549</td>\n",
       "      <td>-0.297443</td>\n",
       "      <td>-0.535600</td>\n",
       "      <td>-0.949786</td>\n",
       "      <td>-0.083533</td>\n",
       "      <td>-1.426339</td>\n",
       "      <td>-0.939949</td>\n",
       "      <td>-0.298336</td>\n",
       "      <td>-0.318424</td>\n",
       "      <td>-0.149973</td>\n",
       "      <td>-0.357972</td>\n",
       "      <td>-0.297451</td>\n",
       "      <td>-1.001754</td>\n",
       "      <td>-0.975817</td>\n",
       "      <td>-1.081285</td>\n",
       "      <td>0.293492</td>\n",
       "      <td>-0.942237</td>\n",
       "      <td>-0.298543</td>\n",
       "      <td>-0.31988</td>\n",
       "      <td>-0.150599</td>\n",
       "      <td>2.704305</td>\n",
       "      <td>-0.296629</td>\n",
       "      <td>-0.574482</td>\n",
       "      <td>-0.949257</td>\n",
       "      <td>-0.137026</td>\n",
       "      <td>-1.428499</td>\n",
       "      <td>-0.943095</td>\n",
       "      <td>-0.299187</td>\n",
       "      <td>-0.319307</td>\n",
       "      <td>-0.150824</td>\n",
       "      <td>-0.35636</td>\n",
       "      <td>-0.296926</td>\n",
       "      <td>-1.002298</td>\n",
       "      <td>-0.976792</td>\n",
       "      <td>-1.081854</td>\n",
       "      <td>0.293177</td>\n",
       "      <td>-0.943872</td>\n",
       "      <td>-0.299153</td>\n",
       "      <td>-0.319664</td>\n",
       "      <td>-0.15043</td>\n",
       "      <td>-0.356194</td>\n",
       "      <td>1.677385</td>\n",
       "      <td>-0.652858</td>\n",
       "      <td>-0.950227</td>\n",
       "      <td>-0.085303</td>\n",
       "      <td>0.29539</td>\n",
       "      <td>1.250975</td>\n",
       "      <td>3.996750</td>\n",
       "      <td>-0.320213</td>\n",
       "      <td>-0.148445</td>\n",
       "      <td>2.714195</td>\n",
       "      <td>-0.296384</td>\n",
       "      <td>-0.535897</td>\n",
       "      <td>-0.949919</td>\n",
       "      <td>-0.137909</td>\n",
       "      <td>0.295179</td>\n",
       "      <td>-0.943941</td>\n",
       "      <td>-0.29909</td>\n",
       "      <td>-0.319835</td>\n",
       "      <td>-0.150087</td>\n",
       "      <td>-0.356184</td>\n",
       "      <td>1.512013</td>\n",
       "      <td>-0.574761</td>\n",
       "      <td>-0.949638</td>\n",
       "      <td>-0.242559</td>\n",
       "      <td>-1.521713</td>\n",
       "    </tr>\n",
       "    <tr>\n",
       "      <th>1</th>\n",
       "      <td>-1.428581</td>\n",
       "      <td>-0.941799</td>\n",
       "      <td>-0.298314</td>\n",
       "      <td>-0.320065</td>\n",
       "      <td>-0.151023</td>\n",
       "      <td>-0.356549</td>\n",
       "      <td>-0.297443</td>\n",
       "      <td>-1.002056</td>\n",
       "      <td>-0.976938</td>\n",
       "      <td>-1.081857</td>\n",
       "      <td>0.294215</td>\n",
       "      <td>-0.939949</td>\n",
       "      <td>-0.298336</td>\n",
       "      <td>-0.318424</td>\n",
       "      <td>-0.149973</td>\n",
       "      <td>2.698331</td>\n",
       "      <td>-0.297451</td>\n",
       "      <td>-0.573368</td>\n",
       "      <td>-0.948660</td>\n",
       "      <td>-0.135464</td>\n",
       "      <td>-1.428482</td>\n",
       "      <td>-0.942237</td>\n",
       "      <td>-0.298543</td>\n",
       "      <td>-0.31988</td>\n",
       "      <td>-0.150599</td>\n",
       "      <td>-0.356656</td>\n",
       "      <td>-0.296629</td>\n",
       "      <td>-1.002254</td>\n",
       "      <td>-0.976427</td>\n",
       "      <td>-1.081894</td>\n",
       "      <td>0.294078</td>\n",
       "      <td>-0.943095</td>\n",
       "      <td>-0.299187</td>\n",
       "      <td>-0.319307</td>\n",
       "      <td>-0.150824</td>\n",
       "      <td>-0.35636</td>\n",
       "      <td>1.670717</td>\n",
       "      <td>-0.652204</td>\n",
       "      <td>-0.949629</td>\n",
       "      <td>-0.084824</td>\n",
       "      <td>0.293177</td>\n",
       "      <td>1.254004</td>\n",
       "      <td>4.002433</td>\n",
       "      <td>-0.319664</td>\n",
       "      <td>-0.15043</td>\n",
       "      <td>2.708791</td>\n",
       "      <td>-0.297461</td>\n",
       "      <td>-0.536027</td>\n",
       "      <td>-0.950227</td>\n",
       "      <td>-0.137798</td>\n",
       "      <td>0.29539</td>\n",
       "      <td>-0.944348</td>\n",
       "      <td>-0.299624</td>\n",
       "      <td>-0.320213</td>\n",
       "      <td>-0.148445</td>\n",
       "      <td>-0.355767</td>\n",
       "      <td>1.540748</td>\n",
       "      <td>-0.574816</td>\n",
       "      <td>-0.949919</td>\n",
       "      <td>-0.242790</td>\n",
       "      <td>0.295179</td>\n",
       "      <td>-0.247831</td>\n",
       "      <td>-0.29909</td>\n",
       "      <td>-0.044280</td>\n",
       "      <td>2.330865</td>\n",
       "      <td>-0.356184</td>\n",
       "      <td>-0.292961</td>\n",
       "      <td>-0.574761</td>\n",
       "      <td>-0.949638</td>\n",
       "      <td>-0.137609</td>\n",
       "      <td>-1.520473</td>\n",
       "    </tr>\n",
       "  </tbody>\n",
       "</table>\n",
       "</div>"
      ],
      "text/plain": [
       "   nr_sessions  total_km   km_z3-4  km_z5-t1-t2  km_sprinting  \\\n",
       "0     0.293512 -0.165685 -0.298314     0.011076      2.331009   \n",
       "1    -1.428581 -0.941799 -0.298314    -0.320065     -0.151023   \n",
       "\n",
       "   strength_training  hours_alternative  perceived_exertion  \\\n",
       "0          -0.356549          -0.297443           -0.535600   \n",
       "1          -0.356549          -0.297443           -1.002056   \n",
       "\n",
       "   perceived_trainingsuccess  perceived_recovery  nr_sessions_1  total_km_1  \\\n",
       "0                  -0.949786           -0.083533      -1.426339   -0.939949   \n",
       "1                  -0.976938           -1.081857       0.294215   -0.939949   \n",
       "\n",
       "   km_z3-4_1  km_z5-t1-t2_1  km_sprinting_1  strength_training_1  \\\n",
       "0  -0.298336      -0.318424       -0.149973            -0.357972   \n",
       "1  -0.298336      -0.318424       -0.149973             2.698331   \n",
       "\n",
       "   hours_alternative_1  perceived_exertion_1  perceived_trainingsuccess_1  \\\n",
       "0            -0.297451             -1.001754                    -0.975817   \n",
       "1            -0.297451             -0.573368                    -0.948660   \n",
       "\n",
       "   perceived_recovery_1  nr_sessions_2  total_km_2  km_z3-4_2  km_z5-t1-t2_2  \\\n",
       "0             -1.081285       0.293492   -0.942237  -0.298543       -0.31988   \n",
       "1             -0.135464      -1.428482   -0.942237  -0.298543       -0.31988   \n",
       "\n",
       "   km_sprinting_2  strength_training_2  hours_alternative_2  \\\n",
       "0       -0.150599             2.704305            -0.296629   \n",
       "1       -0.150599            -0.356656            -0.296629   \n",
       "\n",
       "   perceived_exertion_2  perceived_trainingsuccess_2  perceived_recovery_2  \\\n",
       "0             -0.574482                    -0.949257             -0.137026   \n",
       "1             -1.002254                    -0.976427             -1.081894   \n",
       "\n",
       "   nr_sessions_3  total_km_3  km_z3-4_3  km_z5-t1-t2_3  km_sprinting_3  \\\n",
       "0      -1.428499   -0.943095  -0.299187      -0.319307       -0.150824   \n",
       "1       0.294078   -0.943095  -0.299187      -0.319307       -0.150824   \n",
       "\n",
       "   strength_training_3  hours_alternative_3  perceived_exertion_3  \\\n",
       "0             -0.35636            -0.296926             -1.002298   \n",
       "1             -0.35636             1.670717             -0.652204   \n",
       "\n",
       "   perceived_trainingsuccess_3  perceived_recovery_3  nr_sessions_4  \\\n",
       "0                    -0.976792             -1.081854       0.293177   \n",
       "1                    -0.949629             -0.084824       0.293177   \n",
       "\n",
       "   total_km_4  km_z3-4_4  km_z5-t1-t2_4  km_sprinting_4  strength_training_4  \\\n",
       "0   -0.943872  -0.299153      -0.319664        -0.15043            -0.356194   \n",
       "1    1.254004   4.002433      -0.319664        -0.15043             2.708791   \n",
       "\n",
       "   hours_alternative_4  perceived_exertion_4  perceived_trainingsuccess_4  \\\n",
       "0             1.677385             -0.652858                    -0.950227   \n",
       "1            -0.297461             -0.536027                    -0.950227   \n",
       "\n",
       "   perceived_recovery_4  nr_sessions_5  total_km_5  km_z3-4_5  km_z5-t1-t2_5  \\\n",
       "0             -0.085303        0.29539    1.250975   3.996750      -0.320213   \n",
       "1             -0.137798        0.29539   -0.944348  -0.299624      -0.320213   \n",
       "\n",
       "   km_sprinting_5  strength_training_5  hours_alternative_5  \\\n",
       "0       -0.148445             2.714195            -0.296384   \n",
       "1       -0.148445            -0.355767             1.540748   \n",
       "\n",
       "   perceived_exertion_5  perceived_trainingsuccess_5  perceived_recovery_5  \\\n",
       "0             -0.535897                    -0.949919             -0.137909   \n",
       "1             -0.574816                    -0.949919             -0.242790   \n",
       "\n",
       "   nr_sessions_6  total_km_6  km_z3-4_6  km_z5-t1-t2_6  km_sprinting_6  \\\n",
       "0       0.295179   -0.943941   -0.29909      -0.319835       -0.150087   \n",
       "1       0.295179   -0.247831   -0.29909      -0.044280        2.330865   \n",
       "\n",
       "   strength_training_6  hours_alternative_6  perceived_exertion_6  \\\n",
       "0            -0.356184             1.512013             -0.574761   \n",
       "1            -0.356184            -0.292961             -0.574761   \n",
       "\n",
       "   perceived_trainingsuccess_6  perceived_recovery_6      date  \n",
       "0                    -0.949638             -0.242559 -1.521713  \n",
       "1                    -0.949638             -0.137609 -1.520473  "
      ]
     },
     "execution_count": 105,
     "metadata": {},
     "output_type": "execute_result"
    }
   ],
   "source": [
    "inliers.head(2)"
   ]
  },
  {
   "cell_type": "code",
   "execution_count": 110,
   "metadata": {
    "colab": {
     "base_uri": "https://localhost:8080/"
    },
    "executionInfo": {
     "elapsed": 379,
     "status": "ok",
     "timestamp": 1662733129658,
     "user": {
      "displayName": "Olusegun Ajibola",
      "userId": "14016280963587867119"
     },
     "user_tz": -120
    },
    "id": "C-4Nc5qAlMzP",
    "outputId": "931b5a77-eb30-4b3b-ef1c-040093a79082"
   },
   "outputs": [
    {
     "data": {
      "text/plain": [
       "((42183, 72), (583, 71))"
      ]
     },
     "execution_count": 110,
     "metadata": {},
     "output_type": "execute_result"
    }
   ],
   "source": [
    "inliers.shape, outliers.shape # this is the respective dimension of our no-injury and injury data in our dataset respectively."
   ]
  },
  {
   "cell_type": "code",
   "execution_count": 111,
   "metadata": {
    "executionInfo": {
     "elapsed": 339,
     "status": "ok",
     "timestamp": 1662733148108,
     "user": {
      "displayName": "Olusegun Ajibola",
      "userId": "14016280963587867119"
     },
     "user_tz": -120
    },
    "id": "ea-dzE_XlMzQ"
   },
   "outputs": [],
   "source": [
    "inliers_train, inliers_test = train_test_split(inliers, test_size=0.20, random_state=42)"
   ]
  },
  {
   "cell_type": "code",
   "execution_count": 112,
   "metadata": {
    "executionInfo": {
     "elapsed": 300,
     "status": "ok",
     "timestamp": 1662733151029,
     "user": {
      "displayName": "Olusegun Ajibola",
      "userId": "14016280963587867119"
     },
     "user_tz": -120
    },
    "id": "O-nFHph8mq9m"
   },
   "outputs": [],
   "source": [
    "inliers_train_y = inliers_train.injury #  no injury reponse data\n",
    "inliers_train = inliers_train.drop(['injury'], axis = 1)\n",
    "\n",
    "inliers_test_y = inliers_test.injury\n",
    "inliers_test = inliers_test.drop(['injury'], axis = 1)"
   ]
  },
  {
   "cell_type": "code",
   "execution_count": 113,
   "metadata": {
    "colab": {
     "base_uri": "https://localhost:8080/",
     "height": 505
    },
    "executionInfo": {
     "elapsed": 480,
     "status": "ok",
     "timestamp": 1662733153768,
     "user": {
      "displayName": "Olusegun Ajibola",
      "userId": "14016280963587867119"
     },
     "user_tz": -120
    },
    "id": "qtionQ6TmTID",
    "outputId": "9d47ac11-f89b-444e-91c5-1094b4f9238e",
    "scrolled": true
   },
   "outputs": [
    {
     "data": {
      "text/html": [
       "<div>\n",
       "<style scoped>\n",
       "    .dataframe tbody tr th:only-of-type {\n",
       "        vertical-align: middle;\n",
       "    }\n",
       "\n",
       "    .dataframe tbody tr th {\n",
       "        vertical-align: top;\n",
       "    }\n",
       "\n",
       "    .dataframe thead th {\n",
       "        text-align: right;\n",
       "    }\n",
       "</style>\n",
       "<table border=\"1\" class=\"dataframe\">\n",
       "  <thead>\n",
       "    <tr style=\"text-align: right;\">\n",
       "      <th></th>\n",
       "      <th>nr_sessions</th>\n",
       "      <th>total_km</th>\n",
       "      <th>km_z3-4</th>\n",
       "      <th>km_z5-t1-t2</th>\n",
       "      <th>km_sprinting</th>\n",
       "      <th>strength_training</th>\n",
       "      <th>hours_alternative</th>\n",
       "      <th>perceived_exertion</th>\n",
       "      <th>perceived_trainingsuccess</th>\n",
       "      <th>perceived_recovery</th>\n",
       "      <th>nr_sessions_1</th>\n",
       "      <th>total_km_1</th>\n",
       "      <th>km_z3-4_1</th>\n",
       "      <th>km_z5-t1-t2_1</th>\n",
       "      <th>km_sprinting_1</th>\n",
       "      <th>strength_training_1</th>\n",
       "      <th>hours_alternative_1</th>\n",
       "      <th>perceived_exertion_1</th>\n",
       "      <th>perceived_trainingsuccess_1</th>\n",
       "      <th>perceived_recovery_1</th>\n",
       "      <th>nr_sessions_2</th>\n",
       "      <th>total_km_2</th>\n",
       "      <th>km_z3-4_2</th>\n",
       "      <th>km_z5-t1-t2_2</th>\n",
       "      <th>km_sprinting_2</th>\n",
       "      <th>strength_training_2</th>\n",
       "      <th>hours_alternative_2</th>\n",
       "      <th>perceived_exertion_2</th>\n",
       "      <th>perceived_trainingsuccess_2</th>\n",
       "      <th>perceived_recovery_2</th>\n",
       "      <th>nr_sessions_3</th>\n",
       "      <th>total_km_3</th>\n",
       "      <th>km_z3-4_3</th>\n",
       "      <th>km_z5-t1-t2_3</th>\n",
       "      <th>km_sprinting_3</th>\n",
       "      <th>strength_training_3</th>\n",
       "      <th>hours_alternative_3</th>\n",
       "      <th>perceived_exertion_3</th>\n",
       "      <th>perceived_trainingsuccess_3</th>\n",
       "      <th>perceived_recovery_3</th>\n",
       "      <th>nr_sessions_4</th>\n",
       "      <th>total_km_4</th>\n",
       "      <th>km_z3-4_4</th>\n",
       "      <th>km_z5-t1-t2_4</th>\n",
       "      <th>km_sprinting_4</th>\n",
       "      <th>strength_training_4</th>\n",
       "      <th>hours_alternative_4</th>\n",
       "      <th>perceived_exertion_4</th>\n",
       "      <th>perceived_trainingsuccess_4</th>\n",
       "      <th>perceived_recovery_4</th>\n",
       "      <th>nr_sessions_5</th>\n",
       "      <th>total_km_5</th>\n",
       "      <th>km_z3-4_5</th>\n",
       "      <th>km_z5-t1-t2_5</th>\n",
       "      <th>km_sprinting_5</th>\n",
       "      <th>strength_training_5</th>\n",
       "      <th>hours_alternative_5</th>\n",
       "      <th>perceived_exertion_5</th>\n",
       "      <th>perceived_trainingsuccess_5</th>\n",
       "      <th>perceived_recovery_5</th>\n",
       "      <th>nr_sessions_6</th>\n",
       "      <th>total_km_6</th>\n",
       "      <th>km_z3-4_6</th>\n",
       "      <th>km_z5-t1-t2_6</th>\n",
       "      <th>km_sprinting_6</th>\n",
       "      <th>strength_training_6</th>\n",
       "      <th>hours_alternative_6</th>\n",
       "      <th>perceived_exertion_6</th>\n",
       "      <th>perceived_trainingsuccess_6</th>\n",
       "      <th>perceived_recovery_6</th>\n",
       "      <th>date</th>\n",
       "    </tr>\n",
       "  </thead>\n",
       "  <tbody>\n",
       "    <tr>\n",
       "      <th>13649</th>\n",
       "      <td>2.015605</td>\n",
       "      <td>-0.941799</td>\n",
       "      <td>-0.298314</td>\n",
       "      <td>-0.320065</td>\n",
       "      <td>-0.151023</td>\n",
       "      <td>2.710874</td>\n",
       "      <td>1.067043</td>\n",
       "      <td>2.340882</td>\n",
       "      <td>1.005165</td>\n",
       "      <td>1.492768</td>\n",
       "      <td>-1.426339</td>\n",
       "      <td>-0.939949</td>\n",
       "      <td>-0.298336</td>\n",
       "      <td>-0.318424</td>\n",
       "      <td>-0.149973</td>\n",
       "      <td>-0.357972</td>\n",
       "      <td>-0.297451</td>\n",
       "      <td>-1.001754</td>\n",
       "      <td>-0.975817</td>\n",
       "      <td>-1.081285</td>\n",
       "      <td>-1.428482</td>\n",
       "      <td>-0.942237</td>\n",
       "      <td>-0.298543</td>\n",
       "      <td>-0.31988</td>\n",
       "      <td>-0.150599</td>\n",
       "      <td>-0.356656</td>\n",
       "      <td>-0.296629</td>\n",
       "      <td>-1.002254</td>\n",
       "      <td>-0.976427</td>\n",
       "      <td>-1.081894</td>\n",
       "      <td>-1.428499</td>\n",
       "      <td>-0.943095</td>\n",
       "      <td>-0.299187</td>\n",
       "      <td>-0.319307</td>\n",
       "      <td>-0.150824</td>\n",
       "      <td>-0.35636</td>\n",
       "      <td>-0.296926</td>\n",
       "      <td>-1.002298</td>\n",
       "      <td>-0.976792</td>\n",
       "      <td>-1.081854</td>\n",
       "      <td>-1.430026</td>\n",
       "      <td>-0.943872</td>\n",
       "      <td>-0.299153</td>\n",
       "      <td>-0.319664</td>\n",
       "      <td>-0.15043</td>\n",
       "      <td>-0.356194</td>\n",
       "      <td>-0.297461</td>\n",
       "      <td>-1.003349</td>\n",
       "      <td>-0.977392</td>\n",
       "      <td>-1.082694</td>\n",
       "      <td>0.295390</td>\n",
       "      <td>0.126541</td>\n",
       "      <td>-0.299624</td>\n",
       "      <td>-0.320213</td>\n",
       "      <td>-0.148445</td>\n",
       "      <td>-0.355767</td>\n",
       "      <td>-0.296384</td>\n",
       "      <td>0.359229</td>\n",
       "      <td>1.114713</td>\n",
       "      <td>0.701143</td>\n",
       "      <td>2.019481</td>\n",
       "      <td>0.394732</td>\n",
       "      <td>-0.299090</td>\n",
       "      <td>-0.319835</td>\n",
       "      <td>-0.150087</td>\n",
       "      <td>-0.356184</td>\n",
       "      <td>-0.292961</td>\n",
       "      <td>0.710710</td>\n",
       "      <td>0.680629</td>\n",
       "      <td>2.223775</td>\n",
       "      <td>0.356823</td>\n",
       "    </tr>\n",
       "    <tr>\n",
       "      <th>41478</th>\n",
       "      <td>-1.428581</td>\n",
       "      <td>-0.941799</td>\n",
       "      <td>-0.298314</td>\n",
       "      <td>-0.320065</td>\n",
       "      <td>-0.151023</td>\n",
       "      <td>-0.356549</td>\n",
       "      <td>-0.297443</td>\n",
       "      <td>-1.002056</td>\n",
       "      <td>-0.976938</td>\n",
       "      <td>-1.081857</td>\n",
       "      <td>-1.426339</td>\n",
       "      <td>-0.939949</td>\n",
       "      <td>-0.298336</td>\n",
       "      <td>-0.318424</td>\n",
       "      <td>-0.149973</td>\n",
       "      <td>-0.357972</td>\n",
       "      <td>-0.297451</td>\n",
       "      <td>-1.001754</td>\n",
       "      <td>-0.975817</td>\n",
       "      <td>-1.081285</td>\n",
       "      <td>-1.428482</td>\n",
       "      <td>-0.942237</td>\n",
       "      <td>-0.298543</td>\n",
       "      <td>-0.31988</td>\n",
       "      <td>-0.150599</td>\n",
       "      <td>-0.356656</td>\n",
       "      <td>-0.296629</td>\n",
       "      <td>-1.002254</td>\n",
       "      <td>-0.976427</td>\n",
       "      <td>-1.081894</td>\n",
       "      <td>-1.428499</td>\n",
       "      <td>-0.943095</td>\n",
       "      <td>-0.299187</td>\n",
       "      <td>-0.319307</td>\n",
       "      <td>-0.150824</td>\n",
       "      <td>-0.35636</td>\n",
       "      <td>-0.296926</td>\n",
       "      <td>-1.002298</td>\n",
       "      <td>-0.976792</td>\n",
       "      <td>-1.081854</td>\n",
       "      <td>-1.430026</td>\n",
       "      <td>-0.943872</td>\n",
       "      <td>-0.299153</td>\n",
       "      <td>-0.319664</td>\n",
       "      <td>-0.15043</td>\n",
       "      <td>-0.356194</td>\n",
       "      <td>-0.297461</td>\n",
       "      <td>-1.003349</td>\n",
       "      <td>-0.977392</td>\n",
       "      <td>-1.082694</td>\n",
       "      <td>-1.429674</td>\n",
       "      <td>-0.944348</td>\n",
       "      <td>-0.299624</td>\n",
       "      <td>-0.320213</td>\n",
       "      <td>-0.148445</td>\n",
       "      <td>-0.355767</td>\n",
       "      <td>-0.296384</td>\n",
       "      <td>-1.002919</td>\n",
       "      <td>-0.977086</td>\n",
       "      <td>-1.081842</td>\n",
       "      <td>-1.429124</td>\n",
       "      <td>-0.943941</td>\n",
       "      <td>-0.299090</td>\n",
       "      <td>-0.319835</td>\n",
       "      <td>-0.150087</td>\n",
       "      <td>-0.356184</td>\n",
       "      <td>-0.292961</td>\n",
       "      <td>-1.003252</td>\n",
       "      <td>-0.976809</td>\n",
       "      <td>-1.082163</td>\n",
       "      <td>1.255199</td>\n",
       "    </tr>\n",
       "    <tr>\n",
       "      <th>30039</th>\n",
       "      <td>0.293512</td>\n",
       "      <td>-0.138923</td>\n",
       "      <td>-0.298314</td>\n",
       "      <td>-0.320065</td>\n",
       "      <td>-0.151023</td>\n",
       "      <td>-0.356549</td>\n",
       "      <td>-0.297443</td>\n",
       "      <td>-0.963185</td>\n",
       "      <td>1.303838</td>\n",
       "      <td>0.336814</td>\n",
       "      <td>0.294215</td>\n",
       "      <td>-0.030001</td>\n",
       "      <td>-0.298336</td>\n",
       "      <td>0.124657</td>\n",
       "      <td>-0.149973</td>\n",
       "      <td>-0.357972</td>\n",
       "      <td>-0.297451</td>\n",
       "      <td>1.763280</td>\n",
       "      <td>-0.079642</td>\n",
       "      <td>1.335813</td>\n",
       "      <td>0.293492</td>\n",
       "      <td>2.002612</td>\n",
       "      <td>-0.298543</td>\n",
       "      <td>-0.31988</td>\n",
       "      <td>-0.150599</td>\n",
       "      <td>-0.356656</td>\n",
       "      <td>-0.296629</td>\n",
       "      <td>0.008843</td>\n",
       "      <td>1.061293</td>\n",
       "      <td>0.125437</td>\n",
       "      <td>0.294078</td>\n",
       "      <td>1.736176</td>\n",
       "      <td>-0.299187</td>\n",
       "      <td>1.889736</td>\n",
       "      <td>-0.150824</td>\n",
       "      <td>-0.35636</td>\n",
       "      <td>-0.296926</td>\n",
       "      <td>0.009085</td>\n",
       "      <td>1.033242</td>\n",
       "      <td>0.177553</td>\n",
       "      <td>0.293177</td>\n",
       "      <td>0.128263</td>\n",
       "      <td>-0.299153</td>\n",
       "      <td>-0.319664</td>\n",
       "      <td>-0.15043</td>\n",
       "      <td>-0.356194</td>\n",
       "      <td>-0.297461</td>\n",
       "      <td>-0.419196</td>\n",
       "      <td>1.114323</td>\n",
       "      <td>-0.137798</td>\n",
       "      <td>0.295390</td>\n",
       "      <td>-0.141181</td>\n",
       "      <td>-0.299624</td>\n",
       "      <td>-0.320213</td>\n",
       "      <td>-0.148445</td>\n",
       "      <td>-0.355767</td>\n",
       "      <td>-0.296384</td>\n",
       "      <td>-0.185631</td>\n",
       "      <td>1.196212</td>\n",
       "      <td>-0.242790</td>\n",
       "      <td>0.295179</td>\n",
       "      <td>0.140384</td>\n",
       "      <td>-0.299090</td>\n",
       "      <td>0.286387</td>\n",
       "      <td>-0.150087</td>\n",
       "      <td>-0.356184</td>\n",
       "      <td>-0.292961</td>\n",
       "      <td>1.333969</td>\n",
       "      <td>-0.596413</td>\n",
       "      <td>2.171300</td>\n",
       "      <td>0.019777</td>\n",
       "    </tr>\n",
       "    <tr>\n",
       "      <th>25844</th>\n",
       "      <td>0.293512</td>\n",
       "      <td>-0.941799</td>\n",
       "      <td>-0.298314</td>\n",
       "      <td>-0.320065</td>\n",
       "      <td>-0.151023</td>\n",
       "      <td>2.710874</td>\n",
       "      <td>-0.297443</td>\n",
       "      <td>0.047471</td>\n",
       "      <td>1.249534</td>\n",
       "      <td>-0.451337</td>\n",
       "      <td>0.294215</td>\n",
       "      <td>0.103814</td>\n",
       "      <td>-0.298336</td>\n",
       "      <td>0.124657</td>\n",
       "      <td>-0.149973</td>\n",
       "      <td>-0.357972</td>\n",
       "      <td>-0.297451</td>\n",
       "      <td>0.010794</td>\n",
       "      <td>1.576923</td>\n",
       "      <td>0.022173</td>\n",
       "      <td>0.293492</td>\n",
       "      <td>-0.272953</td>\n",
       "      <td>-0.298543</td>\n",
       "      <td>-0.31988</td>\n",
       "      <td>-0.150599</td>\n",
       "      <td>-0.356656</td>\n",
       "      <td>-0.296629</td>\n",
       "      <td>0.008843</td>\n",
       "      <td>1.387328</td>\n",
       "      <td>0.072944</td>\n",
       "      <td>0.294078</td>\n",
       "      <td>0.195595</td>\n",
       "      <td>-0.299187</td>\n",
       "      <td>0.509084</td>\n",
       "      <td>-0.150824</td>\n",
       "      <td>-0.35636</td>\n",
       "      <td>-0.296926</td>\n",
       "      <td>2.265246</td>\n",
       "      <td>0.082550</td>\n",
       "      <td>0.334979</td>\n",
       "      <td>-1.430026</td>\n",
       "      <td>-0.943872</td>\n",
       "      <td>-0.299153</td>\n",
       "      <td>-0.319664</td>\n",
       "      <td>-0.15043</td>\n",
       "      <td>-0.356194</td>\n",
       "      <td>-0.297461</td>\n",
       "      <td>-1.003349</td>\n",
       "      <td>-0.977392</td>\n",
       "      <td>-1.082694</td>\n",
       "      <td>0.295390</td>\n",
       "      <td>0.206858</td>\n",
       "      <td>-0.299624</td>\n",
       "      <td>-0.320213</td>\n",
       "      <td>3.136517</td>\n",
       "      <td>-0.355767</td>\n",
       "      <td>-0.296384</td>\n",
       "      <td>-0.224549</td>\n",
       "      <td>1.332043</td>\n",
       "      <td>-0.347672</td>\n",
       "      <td>0.295179</td>\n",
       "      <td>1.465670</td>\n",
       "      <td>3.143522</td>\n",
       "      <td>-0.319835</td>\n",
       "      <td>-0.150087</td>\n",
       "      <td>-0.356184</td>\n",
       "      <td>-0.292961</td>\n",
       "      <td>-0.107317</td>\n",
       "      <td>1.305565</td>\n",
       "      <td>-0.242559</td>\n",
       "      <td>1.351852</td>\n",
       "    </tr>\n",
       "    <tr>\n",
       "      <th>2854</th>\n",
       "      <td>-1.428581</td>\n",
       "      <td>-0.941799</td>\n",
       "      <td>-0.298314</td>\n",
       "      <td>-0.320065</td>\n",
       "      <td>-0.151023</td>\n",
       "      <td>-0.356549</td>\n",
       "      <td>-0.297443</td>\n",
       "      <td>-1.002056</td>\n",
       "      <td>-0.976938</td>\n",
       "      <td>-1.081857</td>\n",
       "      <td>-1.426339</td>\n",
       "      <td>-0.939949</td>\n",
       "      <td>-0.298336</td>\n",
       "      <td>-0.318424</td>\n",
       "      <td>-0.149973</td>\n",
       "      <td>-0.357972</td>\n",
       "      <td>-0.297451</td>\n",
       "      <td>-1.001754</td>\n",
       "      <td>-0.975817</td>\n",
       "      <td>-1.081285</td>\n",
       "      <td>-1.428482</td>\n",
       "      <td>-0.942237</td>\n",
       "      <td>-0.298543</td>\n",
       "      <td>-0.31988</td>\n",
       "      <td>-0.150599</td>\n",
       "      <td>-0.356656</td>\n",
       "      <td>-0.296629</td>\n",
       "      <td>-1.002254</td>\n",
       "      <td>-0.976427</td>\n",
       "      <td>-1.081894</td>\n",
       "      <td>-1.428499</td>\n",
       "      <td>-0.943095</td>\n",
       "      <td>-0.299187</td>\n",
       "      <td>-0.319307</td>\n",
       "      <td>-0.150824</td>\n",
       "      <td>-0.35636</td>\n",
       "      <td>-0.296926</td>\n",
       "      <td>-1.002298</td>\n",
       "      <td>-0.976792</td>\n",
       "      <td>-1.081854</td>\n",
       "      <td>-1.430026</td>\n",
       "      <td>-0.943872</td>\n",
       "      <td>-0.299153</td>\n",
       "      <td>-0.319664</td>\n",
       "      <td>-0.15043</td>\n",
       "      <td>-0.356194</td>\n",
       "      <td>-0.297461</td>\n",
       "      <td>-1.003349</td>\n",
       "      <td>-0.977392</td>\n",
       "      <td>-1.082694</td>\n",
       "      <td>-1.429674</td>\n",
       "      <td>-0.944348</td>\n",
       "      <td>-0.299624</td>\n",
       "      <td>-0.320213</td>\n",
       "      <td>-0.148445</td>\n",
       "      <td>-0.355767</td>\n",
       "      <td>-0.296384</td>\n",
       "      <td>-1.002919</td>\n",
       "      <td>-0.977086</td>\n",
       "      <td>-1.081842</td>\n",
       "      <td>-1.429124</td>\n",
       "      <td>-0.943941</td>\n",
       "      <td>-0.299090</td>\n",
       "      <td>-0.319835</td>\n",
       "      <td>-0.150087</td>\n",
       "      <td>-0.356184</td>\n",
       "      <td>-0.292961</td>\n",
       "      <td>-1.003252</td>\n",
       "      <td>-0.976809</td>\n",
       "      <td>-1.082163</td>\n",
       "      <td>-0.430031</td>\n",
       "    </tr>\n",
       "    <tr>\n",
       "      <th>...</th>\n",
       "      <td>...</td>\n",
       "      <td>...</td>\n",
       "      <td>...</td>\n",
       "      <td>...</td>\n",
       "      <td>...</td>\n",
       "      <td>...</td>\n",
       "      <td>...</td>\n",
       "      <td>...</td>\n",
       "      <td>...</td>\n",
       "      <td>...</td>\n",
       "      <td>...</td>\n",
       "      <td>...</td>\n",
       "      <td>...</td>\n",
       "      <td>...</td>\n",
       "      <td>...</td>\n",
       "      <td>...</td>\n",
       "      <td>...</td>\n",
       "      <td>...</td>\n",
       "      <td>...</td>\n",
       "      <td>...</td>\n",
       "      <td>...</td>\n",
       "      <td>...</td>\n",
       "      <td>...</td>\n",
       "      <td>...</td>\n",
       "      <td>...</td>\n",
       "      <td>...</td>\n",
       "      <td>...</td>\n",
       "      <td>...</td>\n",
       "      <td>...</td>\n",
       "      <td>...</td>\n",
       "      <td>...</td>\n",
       "      <td>...</td>\n",
       "      <td>...</td>\n",
       "      <td>...</td>\n",
       "      <td>...</td>\n",
       "      <td>...</td>\n",
       "      <td>...</td>\n",
       "      <td>...</td>\n",
       "      <td>...</td>\n",
       "      <td>...</td>\n",
       "      <td>...</td>\n",
       "      <td>...</td>\n",
       "      <td>...</td>\n",
       "      <td>...</td>\n",
       "      <td>...</td>\n",
       "      <td>...</td>\n",
       "      <td>...</td>\n",
       "      <td>...</td>\n",
       "      <td>...</td>\n",
       "      <td>...</td>\n",
       "      <td>...</td>\n",
       "      <td>...</td>\n",
       "      <td>...</td>\n",
       "      <td>...</td>\n",
       "      <td>...</td>\n",
       "      <td>...</td>\n",
       "      <td>...</td>\n",
       "      <td>...</td>\n",
       "      <td>...</td>\n",
       "      <td>...</td>\n",
       "      <td>...</td>\n",
       "      <td>...</td>\n",
       "      <td>...</td>\n",
       "      <td>...</td>\n",
       "      <td>...</td>\n",
       "      <td>...</td>\n",
       "      <td>...</td>\n",
       "      <td>...</td>\n",
       "      <td>...</td>\n",
       "      <td>...</td>\n",
       "      <td>...</td>\n",
       "    </tr>\n",
       "    <tr>\n",
       "      <th>6265</th>\n",
       "      <td>-1.428581</td>\n",
       "      <td>-0.941799</td>\n",
       "      <td>-0.298314</td>\n",
       "      <td>-0.320065</td>\n",
       "      <td>-0.151023</td>\n",
       "      <td>-0.356549</td>\n",
       "      <td>-0.297443</td>\n",
       "      <td>-1.002056</td>\n",
       "      <td>-0.976938</td>\n",
       "      <td>-1.081857</td>\n",
       "      <td>0.294215</td>\n",
       "      <td>-0.270870</td>\n",
       "      <td>-0.298336</td>\n",
       "      <td>-0.318424</td>\n",
       "      <td>-0.149973</td>\n",
       "      <td>-0.357972</td>\n",
       "      <td>-0.297451</td>\n",
       "      <td>-0.651257</td>\n",
       "      <td>-0.948660</td>\n",
       "      <td>-0.713466</td>\n",
       "      <td>-1.428482</td>\n",
       "      <td>-0.942237</td>\n",
       "      <td>-0.298543</td>\n",
       "      <td>-0.31988</td>\n",
       "      <td>-0.150599</td>\n",
       "      <td>-0.356656</td>\n",
       "      <td>-0.296629</td>\n",
       "      <td>-1.002254</td>\n",
       "      <td>-0.976427</td>\n",
       "      <td>-1.081894</td>\n",
       "      <td>-1.428499</td>\n",
       "      <td>-0.943095</td>\n",
       "      <td>-0.299187</td>\n",
       "      <td>-0.319307</td>\n",
       "      <td>-0.150824</td>\n",
       "      <td>-0.35636</td>\n",
       "      <td>-0.296926</td>\n",
       "      <td>-1.002298</td>\n",
       "      <td>-0.976792</td>\n",
       "      <td>-1.081854</td>\n",
       "      <td>-1.430026</td>\n",
       "      <td>-0.943872</td>\n",
       "      <td>-0.299153</td>\n",
       "      <td>-0.319664</td>\n",
       "      <td>-0.15043</td>\n",
       "      <td>-0.356194</td>\n",
       "      <td>-0.297461</td>\n",
       "      <td>-1.003349</td>\n",
       "      <td>-0.977392</td>\n",
       "      <td>-1.082694</td>\n",
       "      <td>0.295390</td>\n",
       "      <td>-0.007320</td>\n",
       "      <td>-0.299624</td>\n",
       "      <td>-0.320213</td>\n",
       "      <td>-0.148445</td>\n",
       "      <td>-0.355767</td>\n",
       "      <td>-0.296384</td>\n",
       "      <td>-0.613734</td>\n",
       "      <td>-0.949919</td>\n",
       "      <td>-0.714757</td>\n",
       "      <td>-1.429124</td>\n",
       "      <td>-0.943941</td>\n",
       "      <td>-0.299090</td>\n",
       "      <td>-0.319835</td>\n",
       "      <td>-0.150087</td>\n",
       "      <td>-0.356184</td>\n",
       "      <td>-0.292961</td>\n",
       "      <td>-1.003252</td>\n",
       "      <td>-0.976809</td>\n",
       "      <td>-1.082163</td>\n",
       "      <td>-1.328407</td>\n",
       "    </tr>\n",
       "    <tr>\n",
       "      <th>11284</th>\n",
       "      <td>0.293512</td>\n",
       "      <td>0.195609</td>\n",
       "      <td>1.643325</td>\n",
       "      <td>-0.320065</td>\n",
       "      <td>-0.151023</td>\n",
       "      <td>-0.356549</td>\n",
       "      <td>-0.297443</td>\n",
       "      <td>-0.380114</td>\n",
       "      <td>-0.949786</td>\n",
       "      <td>-0.188620</td>\n",
       "      <td>-1.426339</td>\n",
       "      <td>-0.939949</td>\n",
       "      <td>-0.298336</td>\n",
       "      <td>-0.318424</td>\n",
       "      <td>-0.149973</td>\n",
       "      <td>-0.357972</td>\n",
       "      <td>-0.297451</td>\n",
       "      <td>-1.001754</td>\n",
       "      <td>-0.975817</td>\n",
       "      <td>-1.081285</td>\n",
       "      <td>0.293492</td>\n",
       "      <td>0.664044</td>\n",
       "      <td>-0.298543</td>\n",
       "      <td>-0.31988</td>\n",
       "      <td>-0.150599</td>\n",
       "      <td>-0.356656</td>\n",
       "      <td>-0.296629</td>\n",
       "      <td>-0.496706</td>\n",
       "      <td>-0.949257</td>\n",
       "      <td>-0.137026</td>\n",
       "      <td>0.294078</td>\n",
       "      <td>0.048235</td>\n",
       "      <td>-0.299187</td>\n",
       "      <td>1.337475</td>\n",
       "      <td>0.679094</td>\n",
       "      <td>-0.35636</td>\n",
       "      <td>-0.296926</td>\n",
       "      <td>-0.341009</td>\n",
       "      <td>-0.949629</td>\n",
       "      <td>-0.137299</td>\n",
       "      <td>0.293177</td>\n",
       "      <td>-0.943872</td>\n",
       "      <td>-0.299153</td>\n",
       "      <td>-0.319664</td>\n",
       "      <td>-0.15043</td>\n",
       "      <td>2.708791</td>\n",
       "      <td>-0.297461</td>\n",
       "      <td>-0.574970</td>\n",
       "      <td>-0.950227</td>\n",
       "      <td>-0.137798</td>\n",
       "      <td>-1.429674</td>\n",
       "      <td>-0.944348</td>\n",
       "      <td>-0.299624</td>\n",
       "      <td>-0.320213</td>\n",
       "      <td>-0.148445</td>\n",
       "      <td>-0.355767</td>\n",
       "      <td>-0.296384</td>\n",
       "      <td>-1.002919</td>\n",
       "      <td>-0.977086</td>\n",
       "      <td>-1.081842</td>\n",
       "      <td>0.295179</td>\n",
       "      <td>-0.943941</td>\n",
       "      <td>-0.299090</td>\n",
       "      <td>-0.319835</td>\n",
       "      <td>-0.150087</td>\n",
       "      <td>-0.356184</td>\n",
       "      <td>2.414500</td>\n",
       "      <td>-0.574761</td>\n",
       "      <td>-0.949638</td>\n",
       "      <td>-0.137609</td>\n",
       "      <td>-1.159884</td>\n",
       "    </tr>\n",
       "    <tr>\n",
       "      <th>38158</th>\n",
       "      <td>0.293512</td>\n",
       "      <td>0.182228</td>\n",
       "      <td>-0.298314</td>\n",
       "      <td>-0.320065</td>\n",
       "      <td>1.917337</td>\n",
       "      <td>-0.356549</td>\n",
       "      <td>-0.297443</td>\n",
       "      <td>0.980384</td>\n",
       "      <td>0.842253</td>\n",
       "      <td>0.284271</td>\n",
       "      <td>0.294215</td>\n",
       "      <td>0.331301</td>\n",
       "      <td>-0.298336</td>\n",
       "      <td>-0.318424</td>\n",
       "      <td>2.328444</td>\n",
       "      <td>-0.357972</td>\n",
       "      <td>-0.297451</td>\n",
       "      <td>0.984397</td>\n",
       "      <td>0.599278</td>\n",
       "      <td>0.705266</td>\n",
       "      <td>0.293492</td>\n",
       "      <td>-0.942237</td>\n",
       "      <td>-0.298543</td>\n",
       "      <td>-0.31988</td>\n",
       "      <td>-0.150599</td>\n",
       "      <td>2.704305</td>\n",
       "      <td>-0.296629</td>\n",
       "      <td>0.086620</td>\n",
       "      <td>0.871105</td>\n",
       "      <td>0.545378</td>\n",
       "      <td>0.294078</td>\n",
       "      <td>1.789761</td>\n",
       "      <td>3.674940</td>\n",
       "      <td>-0.319307</td>\n",
       "      <td>-0.150824</td>\n",
       "      <td>-0.35636</td>\n",
       "      <td>-0.296926</td>\n",
       "      <td>0.553676</td>\n",
       "      <td>0.897429</td>\n",
       "      <td>0.649830</td>\n",
       "      <td>-1.430026</td>\n",
       "      <td>-0.943872</td>\n",
       "      <td>-0.299153</td>\n",
       "      <td>-0.319664</td>\n",
       "      <td>-0.15043</td>\n",
       "      <td>-0.356194</td>\n",
       "      <td>-0.297461</td>\n",
       "      <td>-1.003349</td>\n",
       "      <td>-0.977392</td>\n",
       "      <td>-1.082694</td>\n",
       "      <td>0.295390</td>\n",
       "      <td>0.287175</td>\n",
       "      <td>-0.299624</td>\n",
       "      <td>0.507820</td>\n",
       "      <td>-0.148445</td>\n",
       "      <td>-0.355767</td>\n",
       "      <td>-0.296384</td>\n",
       "      <td>1.954887</td>\n",
       "      <td>-0.243598</td>\n",
       "      <td>2.379247</td>\n",
       "      <td>0.295179</td>\n",
       "      <td>0.890041</td>\n",
       "      <td>-0.299090</td>\n",
       "      <td>-0.319835</td>\n",
       "      <td>-0.150087</td>\n",
       "      <td>-0.356184</td>\n",
       "      <td>-0.292961</td>\n",
       "      <td>0.048498</td>\n",
       "      <td>0.707801</td>\n",
       "      <td>1.279222</td>\n",
       "      <td>1.210590</td>\n",
       "    </tr>\n",
       "    <tr>\n",
       "      <th>860</th>\n",
       "      <td>2.015605</td>\n",
       "      <td>3.607835</td>\n",
       "      <td>-0.298314</td>\n",
       "      <td>-0.320065</td>\n",
       "      <td>-0.151023</td>\n",
       "      <td>-0.356549</td>\n",
       "      <td>-0.297443</td>\n",
       "      <td>-0.457857</td>\n",
       "      <td>-0.949786</td>\n",
       "      <td>-0.188620</td>\n",
       "      <td>2.014770</td>\n",
       "      <td>1.669460</td>\n",
       "      <td>-0.298336</td>\n",
       "      <td>2.173910</td>\n",
       "      <td>-0.149973</td>\n",
       "      <td>-0.357972</td>\n",
       "      <td>-0.297451</td>\n",
       "      <td>-0.495480</td>\n",
       "      <td>-0.948660</td>\n",
       "      <td>-0.135464</td>\n",
       "      <td>0.293492</td>\n",
       "      <td>0.797901</td>\n",
       "      <td>-0.298543</td>\n",
       "      <td>-0.31988</td>\n",
       "      <td>-0.150599</td>\n",
       "      <td>-0.356656</td>\n",
       "      <td>-0.296629</td>\n",
       "      <td>-0.691147</td>\n",
       "      <td>-0.949257</td>\n",
       "      <td>-0.084534</td>\n",
       "      <td>2.016654</td>\n",
       "      <td>2.807884</td>\n",
       "      <td>3.156576</td>\n",
       "      <td>-0.319307</td>\n",
       "      <td>-0.150824</td>\n",
       "      <td>-0.35636</td>\n",
       "      <td>-0.296926</td>\n",
       "      <td>-0.535506</td>\n",
       "      <td>-0.949629</td>\n",
       "      <td>-0.137299</td>\n",
       "      <td>-1.430026</td>\n",
       "      <td>-0.943872</td>\n",
       "      <td>-0.299153</td>\n",
       "      <td>-0.319664</td>\n",
       "      <td>-0.15043</td>\n",
       "      <td>-0.356194</td>\n",
       "      <td>-0.297461</td>\n",
       "      <td>-1.003349</td>\n",
       "      <td>-0.977392</td>\n",
       "      <td>-1.082694</td>\n",
       "      <td>2.020453</td>\n",
       "      <td>1.063569</td>\n",
       "      <td>-0.299624</td>\n",
       "      <td>-0.320213</td>\n",
       "      <td>-0.148445</td>\n",
       "      <td>-0.355767</td>\n",
       "      <td>-0.296384</td>\n",
       "      <td>-0.341305</td>\n",
       "      <td>-0.949919</td>\n",
       "      <td>-0.085468</td>\n",
       "      <td>0.295179</td>\n",
       "      <td>0.260865</td>\n",
       "      <td>-0.299090</td>\n",
       "      <td>-0.319835</td>\n",
       "      <td>-0.150087</td>\n",
       "      <td>-0.356184</td>\n",
       "      <td>-0.292961</td>\n",
       "      <td>-0.613715</td>\n",
       "      <td>-0.949638</td>\n",
       "      <td>-0.295035</td>\n",
       "      <td>-1.400277</td>\n",
       "    </tr>\n",
       "    <tr>\n",
       "      <th>15795</th>\n",
       "      <td>0.293512</td>\n",
       "      <td>-0.941799</td>\n",
       "      <td>-0.298314</td>\n",
       "      <td>-0.320065</td>\n",
       "      <td>-0.151023</td>\n",
       "      <td>2.710874</td>\n",
       "      <td>-0.297443</td>\n",
       "      <td>1.135869</td>\n",
       "      <td>0.136298</td>\n",
       "      <td>2.806353</td>\n",
       "      <td>0.294215</td>\n",
       "      <td>-0.030001</td>\n",
       "      <td>-0.298336</td>\n",
       "      <td>0.678509</td>\n",
       "      <td>-0.149973</td>\n",
       "      <td>-0.357972</td>\n",
       "      <td>-0.297451</td>\n",
       "      <td>1.880113</td>\n",
       "      <td>1.006630</td>\n",
       "      <td>1.230722</td>\n",
       "      <td>0.293492</td>\n",
       "      <td>0.530187</td>\n",
       "      <td>-0.298543</td>\n",
       "      <td>-0.31988</td>\n",
       "      <td>-0.150599</td>\n",
       "      <td>-0.356656</td>\n",
       "      <td>-0.296629</td>\n",
       "      <td>0.242173</td>\n",
       "      <td>1.414497</td>\n",
       "      <td>-0.137026</td>\n",
       "      <td>2.016654</td>\n",
       "      <td>-0.045539</td>\n",
       "      <td>-0.299187</td>\n",
       "      <td>-0.319307</td>\n",
       "      <td>1.509012</td>\n",
       "      <td>-0.35636</td>\n",
       "      <td>-0.296926</td>\n",
       "      <td>1.487260</td>\n",
       "      <td>0.761616</td>\n",
       "      <td>1.384484</td>\n",
       "      <td>-1.430026</td>\n",
       "      <td>-0.943872</td>\n",
       "      <td>-0.299153</td>\n",
       "      <td>-0.319664</td>\n",
       "      <td>-0.15043</td>\n",
       "      <td>-0.356194</td>\n",
       "      <td>-0.297461</td>\n",
       "      <td>-1.003349</td>\n",
       "      <td>-0.977392</td>\n",
       "      <td>-1.082694</td>\n",
       "      <td>-1.429674</td>\n",
       "      <td>-0.944348</td>\n",
       "      <td>-0.299624</td>\n",
       "      <td>-0.320213</td>\n",
       "      <td>-0.148445</td>\n",
       "      <td>-0.355767</td>\n",
       "      <td>-0.296384</td>\n",
       "      <td>-1.002919</td>\n",
       "      <td>-0.977086</td>\n",
       "      <td>-1.081842</td>\n",
       "      <td>0.295179</td>\n",
       "      <td>-0.274604</td>\n",
       "      <td>-0.299090</td>\n",
       "      <td>0.231276</td>\n",
       "      <td>-0.150087</td>\n",
       "      <td>-0.356184</td>\n",
       "      <td>-0.292961</td>\n",
       "      <td>1.762459</td>\n",
       "      <td>1.196881</td>\n",
       "      <td>0.072292</td>\n",
       "      <td>1.400178</td>\n",
       "    </tr>\n",
       "  </tbody>\n",
       "</table>\n",
       "<p>33746 rows × 71 columns</p>\n",
       "</div>"
      ],
      "text/plain": [
       "       nr_sessions  total_km   km_z3-4  km_z5-t1-t2  km_sprinting  \\\n",
       "13649     2.015605 -0.941799 -0.298314    -0.320065     -0.151023   \n",
       "41478    -1.428581 -0.941799 -0.298314    -0.320065     -0.151023   \n",
       "30039     0.293512 -0.138923 -0.298314    -0.320065     -0.151023   \n",
       "25844     0.293512 -0.941799 -0.298314    -0.320065     -0.151023   \n",
       "2854     -1.428581 -0.941799 -0.298314    -0.320065     -0.151023   \n",
       "...            ...       ...       ...          ...           ...   \n",
       "6265     -1.428581 -0.941799 -0.298314    -0.320065     -0.151023   \n",
       "11284     0.293512  0.195609  1.643325    -0.320065     -0.151023   \n",
       "38158     0.293512  0.182228 -0.298314    -0.320065      1.917337   \n",
       "860       2.015605  3.607835 -0.298314    -0.320065     -0.151023   \n",
       "15795     0.293512 -0.941799 -0.298314    -0.320065     -0.151023   \n",
       "\n",
       "       strength_training  hours_alternative  perceived_exertion  \\\n",
       "13649           2.710874           1.067043            2.340882   \n",
       "41478          -0.356549          -0.297443           -1.002056   \n",
       "30039          -0.356549          -0.297443           -0.963185   \n",
       "25844           2.710874          -0.297443            0.047471   \n",
       "2854           -0.356549          -0.297443           -1.002056   \n",
       "...                  ...                ...                 ...   \n",
       "6265           -0.356549          -0.297443           -1.002056   \n",
       "11284          -0.356549          -0.297443           -0.380114   \n",
       "38158          -0.356549          -0.297443            0.980384   \n",
       "860            -0.356549          -0.297443           -0.457857   \n",
       "15795           2.710874          -0.297443            1.135869   \n",
       "\n",
       "       perceived_trainingsuccess  perceived_recovery  nr_sessions_1  \\\n",
       "13649                   1.005165            1.492768      -1.426339   \n",
       "41478                  -0.976938           -1.081857      -1.426339   \n",
       "30039                   1.303838            0.336814       0.294215   \n",
       "25844                   1.249534           -0.451337       0.294215   \n",
       "2854                   -0.976938           -1.081857      -1.426339   \n",
       "...                          ...                 ...            ...   \n",
       "6265                   -0.976938           -1.081857       0.294215   \n",
       "11284                  -0.949786           -0.188620      -1.426339   \n",
       "38158                   0.842253            0.284271       0.294215   \n",
       "860                    -0.949786           -0.188620       2.014770   \n",
       "15795                   0.136298            2.806353       0.294215   \n",
       "\n",
       "       total_km_1  km_z3-4_1  km_z5-t1-t2_1  km_sprinting_1  \\\n",
       "13649   -0.939949  -0.298336      -0.318424       -0.149973   \n",
       "41478   -0.939949  -0.298336      -0.318424       -0.149973   \n",
       "30039   -0.030001  -0.298336       0.124657       -0.149973   \n",
       "25844    0.103814  -0.298336       0.124657       -0.149973   \n",
       "2854    -0.939949  -0.298336      -0.318424       -0.149973   \n",
       "...           ...        ...            ...             ...   \n",
       "6265    -0.270870  -0.298336      -0.318424       -0.149973   \n",
       "11284   -0.939949  -0.298336      -0.318424       -0.149973   \n",
       "38158    0.331301  -0.298336      -0.318424        2.328444   \n",
       "860      1.669460  -0.298336       2.173910       -0.149973   \n",
       "15795   -0.030001  -0.298336       0.678509       -0.149973   \n",
       "\n",
       "       strength_training_1  hours_alternative_1  perceived_exertion_1  \\\n",
       "13649            -0.357972            -0.297451             -1.001754   \n",
       "41478            -0.357972            -0.297451             -1.001754   \n",
       "30039            -0.357972            -0.297451              1.763280   \n",
       "25844            -0.357972            -0.297451              0.010794   \n",
       "2854             -0.357972            -0.297451             -1.001754   \n",
       "...                    ...                  ...                   ...   \n",
       "6265             -0.357972            -0.297451             -0.651257   \n",
       "11284            -0.357972            -0.297451             -1.001754   \n",
       "38158            -0.357972            -0.297451              0.984397   \n",
       "860              -0.357972            -0.297451             -0.495480   \n",
       "15795            -0.357972            -0.297451              1.880113   \n",
       "\n",
       "       perceived_trainingsuccess_1  perceived_recovery_1  nr_sessions_2  \\\n",
       "13649                    -0.975817             -1.081285      -1.428482   \n",
       "41478                    -0.975817             -1.081285      -1.428482   \n",
       "30039                    -0.079642              1.335813       0.293492   \n",
       "25844                     1.576923              0.022173       0.293492   \n",
       "2854                     -0.975817             -1.081285      -1.428482   \n",
       "...                            ...                   ...            ...   \n",
       "6265                     -0.948660             -0.713466      -1.428482   \n",
       "11284                    -0.975817             -1.081285       0.293492   \n",
       "38158                     0.599278              0.705266       0.293492   \n",
       "860                      -0.948660             -0.135464       0.293492   \n",
       "15795                     1.006630              1.230722       0.293492   \n",
       "\n",
       "       total_km_2  km_z3-4_2  km_z5-t1-t2_2  km_sprinting_2  \\\n",
       "13649   -0.942237  -0.298543       -0.31988       -0.150599   \n",
       "41478   -0.942237  -0.298543       -0.31988       -0.150599   \n",
       "30039    2.002612  -0.298543       -0.31988       -0.150599   \n",
       "25844   -0.272953  -0.298543       -0.31988       -0.150599   \n",
       "2854    -0.942237  -0.298543       -0.31988       -0.150599   \n",
       "...           ...        ...            ...             ...   \n",
       "6265    -0.942237  -0.298543       -0.31988       -0.150599   \n",
       "11284    0.664044  -0.298543       -0.31988       -0.150599   \n",
       "38158   -0.942237  -0.298543       -0.31988       -0.150599   \n",
       "860      0.797901  -0.298543       -0.31988       -0.150599   \n",
       "15795    0.530187  -0.298543       -0.31988       -0.150599   \n",
       "\n",
       "       strength_training_2  hours_alternative_2  perceived_exertion_2  \\\n",
       "13649            -0.356656            -0.296629             -1.002254   \n",
       "41478            -0.356656            -0.296629             -1.002254   \n",
       "30039            -0.356656            -0.296629              0.008843   \n",
       "25844            -0.356656            -0.296629              0.008843   \n",
       "2854             -0.356656            -0.296629             -1.002254   \n",
       "...                    ...                  ...                   ...   \n",
       "6265             -0.356656            -0.296629             -1.002254   \n",
       "11284            -0.356656            -0.296629             -0.496706   \n",
       "38158             2.704305            -0.296629              0.086620   \n",
       "860              -0.356656            -0.296629             -0.691147   \n",
       "15795            -0.356656            -0.296629              0.242173   \n",
       "\n",
       "       perceived_trainingsuccess_2  perceived_recovery_2  nr_sessions_3  \\\n",
       "13649                    -0.976427             -1.081894      -1.428499   \n",
       "41478                    -0.976427             -1.081894      -1.428499   \n",
       "30039                     1.061293              0.125437       0.294078   \n",
       "25844                     1.387328              0.072944       0.294078   \n",
       "2854                     -0.976427             -1.081894      -1.428499   \n",
       "...                            ...                   ...            ...   \n",
       "6265                     -0.976427             -1.081894      -1.428499   \n",
       "11284                    -0.949257             -0.137026       0.294078   \n",
       "38158                     0.871105              0.545378       0.294078   \n",
       "860                      -0.949257             -0.084534       2.016654   \n",
       "15795                     1.414497             -0.137026       2.016654   \n",
       "\n",
       "       total_km_3  km_z3-4_3  km_z5-t1-t2_3  km_sprinting_3  \\\n",
       "13649   -0.943095  -0.299187      -0.319307       -0.150824   \n",
       "41478   -0.943095  -0.299187      -0.319307       -0.150824   \n",
       "30039    1.736176  -0.299187       1.889736       -0.150824   \n",
       "25844    0.195595  -0.299187       0.509084       -0.150824   \n",
       "2854    -0.943095  -0.299187      -0.319307       -0.150824   \n",
       "...           ...        ...            ...             ...   \n",
       "6265    -0.943095  -0.299187      -0.319307       -0.150824   \n",
       "11284    0.048235  -0.299187       1.337475        0.679094   \n",
       "38158    1.789761   3.674940      -0.319307       -0.150824   \n",
       "860      2.807884   3.156576      -0.319307       -0.150824   \n",
       "15795   -0.045539  -0.299187      -0.319307        1.509012   \n",
       "\n",
       "       strength_training_3  hours_alternative_3  perceived_exertion_3  \\\n",
       "13649             -0.35636            -0.296926             -1.002298   \n",
       "41478             -0.35636            -0.296926             -1.002298   \n",
       "30039             -0.35636            -0.296926              0.009085   \n",
       "25844             -0.35636            -0.296926              2.265246   \n",
       "2854              -0.35636            -0.296926             -1.002298   \n",
       "...                    ...                  ...                   ...   \n",
       "6265              -0.35636            -0.296926             -1.002298   \n",
       "11284             -0.35636            -0.296926             -0.341009   \n",
       "38158             -0.35636            -0.296926              0.553676   \n",
       "860               -0.35636            -0.296926             -0.535506   \n",
       "15795             -0.35636            -0.296926              1.487260   \n",
       "\n",
       "       perceived_trainingsuccess_3  perceived_recovery_3  nr_sessions_4  \\\n",
       "13649                    -0.976792             -1.081854      -1.430026   \n",
       "41478                    -0.976792             -1.081854      -1.430026   \n",
       "30039                     1.033242              0.177553       0.293177   \n",
       "25844                     0.082550              0.334979      -1.430026   \n",
       "2854                     -0.976792             -1.081854      -1.430026   \n",
       "...                            ...                   ...            ...   \n",
       "6265                     -0.976792             -1.081854      -1.430026   \n",
       "11284                    -0.949629             -0.137299       0.293177   \n",
       "38158                     0.897429              0.649830      -1.430026   \n",
       "860                      -0.949629             -0.137299      -1.430026   \n",
       "15795                     0.761616              1.384484      -1.430026   \n",
       "\n",
       "       total_km_4  km_z3-4_4  km_z5-t1-t2_4  km_sprinting_4  \\\n",
       "13649   -0.943872  -0.299153      -0.319664        -0.15043   \n",
       "41478   -0.943872  -0.299153      -0.319664        -0.15043   \n",
       "30039    0.128263  -0.299153      -0.319664        -0.15043   \n",
       "25844   -0.943872  -0.299153      -0.319664        -0.15043   \n",
       "2854    -0.943872  -0.299153      -0.319664        -0.15043   \n",
       "...           ...        ...            ...             ...   \n",
       "6265    -0.943872  -0.299153      -0.319664        -0.15043   \n",
       "11284   -0.943872  -0.299153      -0.319664        -0.15043   \n",
       "38158   -0.943872  -0.299153      -0.319664        -0.15043   \n",
       "860     -0.943872  -0.299153      -0.319664        -0.15043   \n",
       "15795   -0.943872  -0.299153      -0.319664        -0.15043   \n",
       "\n",
       "       strength_training_4  hours_alternative_4  perceived_exertion_4  \\\n",
       "13649            -0.356194            -0.297461             -1.003349   \n",
       "41478            -0.356194            -0.297461             -1.003349   \n",
       "30039            -0.356194            -0.297461             -0.419196   \n",
       "25844            -0.356194            -0.297461             -1.003349   \n",
       "2854             -0.356194            -0.297461             -1.003349   \n",
       "...                    ...                  ...                   ...   \n",
       "6265             -0.356194            -0.297461             -1.003349   \n",
       "11284             2.708791            -0.297461             -0.574970   \n",
       "38158            -0.356194            -0.297461             -1.003349   \n",
       "860              -0.356194            -0.297461             -1.003349   \n",
       "15795            -0.356194            -0.297461             -1.003349   \n",
       "\n",
       "       perceived_trainingsuccess_4  perceived_recovery_4  nr_sessions_5  \\\n",
       "13649                    -0.977392             -1.082694       0.295390   \n",
       "41478                    -0.977392             -1.082694      -1.429674   \n",
       "30039                     1.114323             -0.137798       0.295390   \n",
       "25844                    -0.977392             -1.082694       0.295390   \n",
       "2854                     -0.977392             -1.082694      -1.429674   \n",
       "...                            ...                   ...            ...   \n",
       "6265                     -0.977392             -1.082694       0.295390   \n",
       "11284                    -0.950227             -0.137798      -1.429674   \n",
       "38158                    -0.977392             -1.082694       0.295390   \n",
       "860                      -0.977392             -1.082694       2.020453   \n",
       "15795                    -0.977392             -1.082694      -1.429674   \n",
       "\n",
       "       total_km_5  km_z3-4_5  km_z5-t1-t2_5  km_sprinting_5  \\\n",
       "13649    0.126541  -0.299624      -0.320213       -0.148445   \n",
       "41478   -0.944348  -0.299624      -0.320213       -0.148445   \n",
       "30039   -0.141181  -0.299624      -0.320213       -0.148445   \n",
       "25844    0.206858  -0.299624      -0.320213        3.136517   \n",
       "2854    -0.944348  -0.299624      -0.320213       -0.148445   \n",
       "...           ...        ...            ...             ...   \n",
       "6265    -0.007320  -0.299624      -0.320213       -0.148445   \n",
       "11284   -0.944348  -0.299624      -0.320213       -0.148445   \n",
       "38158    0.287175  -0.299624       0.507820       -0.148445   \n",
       "860      1.063569  -0.299624      -0.320213       -0.148445   \n",
       "15795   -0.944348  -0.299624      -0.320213       -0.148445   \n",
       "\n",
       "       strength_training_5  hours_alternative_5  perceived_exertion_5  \\\n",
       "13649            -0.355767            -0.296384              0.359229   \n",
       "41478            -0.355767            -0.296384             -1.002919   \n",
       "30039            -0.355767            -0.296384             -0.185631   \n",
       "25844            -0.355767            -0.296384             -0.224549   \n",
       "2854             -0.355767            -0.296384             -1.002919   \n",
       "...                    ...                  ...                   ...   \n",
       "6265             -0.355767            -0.296384             -0.613734   \n",
       "11284            -0.355767            -0.296384             -1.002919   \n",
       "38158            -0.355767            -0.296384              1.954887   \n",
       "860              -0.355767            -0.296384             -0.341305   \n",
       "15795            -0.355767            -0.296384             -1.002919   \n",
       "\n",
       "       perceived_trainingsuccess_5  perceived_recovery_5  nr_sessions_6  \\\n",
       "13649                     1.114713              0.701143       2.019481   \n",
       "41478                    -0.977086             -1.081842      -1.429124   \n",
       "30039                     1.196212             -0.242790       0.295179   \n",
       "25844                     1.332043             -0.347672       0.295179   \n",
       "2854                     -0.977086             -1.081842      -1.429124   \n",
       "...                            ...                   ...            ...   \n",
       "6265                     -0.949919             -0.714757      -1.429124   \n",
       "11284                    -0.977086             -1.081842       0.295179   \n",
       "38158                    -0.243598              2.379247       0.295179   \n",
       "860                      -0.949919             -0.085468       0.295179   \n",
       "15795                    -0.977086             -1.081842       0.295179   \n",
       "\n",
       "       total_km_6  km_z3-4_6  km_z5-t1-t2_6  km_sprinting_6  \\\n",
       "13649    0.394732  -0.299090      -0.319835       -0.150087   \n",
       "41478   -0.943941  -0.299090      -0.319835       -0.150087   \n",
       "30039    0.140384  -0.299090       0.286387       -0.150087   \n",
       "25844    1.465670   3.143522      -0.319835       -0.150087   \n",
       "2854    -0.943941  -0.299090      -0.319835       -0.150087   \n",
       "...           ...        ...            ...             ...   \n",
       "6265    -0.943941  -0.299090      -0.319835       -0.150087   \n",
       "11284   -0.943941  -0.299090      -0.319835       -0.150087   \n",
       "38158    0.890041  -0.299090      -0.319835       -0.150087   \n",
       "860      0.260865  -0.299090      -0.319835       -0.150087   \n",
       "15795   -0.274604  -0.299090       0.231276       -0.150087   \n",
       "\n",
       "       strength_training_6  hours_alternative_6  perceived_exertion_6  \\\n",
       "13649            -0.356184            -0.292961              0.710710   \n",
       "41478            -0.356184            -0.292961             -1.003252   \n",
       "30039            -0.356184            -0.292961              1.333969   \n",
       "25844            -0.356184            -0.292961             -0.107317   \n",
       "2854             -0.356184            -0.292961             -1.003252   \n",
       "...                    ...                  ...                   ...   \n",
       "6265             -0.356184            -0.292961             -1.003252   \n",
       "11284            -0.356184             2.414500             -0.574761   \n",
       "38158            -0.356184            -0.292961              0.048498   \n",
       "860              -0.356184            -0.292961             -0.613715   \n",
       "15795            -0.356184            -0.292961              1.762459   \n",
       "\n",
       "       perceived_trainingsuccess_6  perceived_recovery_6      date  \n",
       "13649                     0.680629              2.223775  0.356823  \n",
       "41478                    -0.976809             -1.082163  1.255199  \n",
       "30039                    -0.596413              2.171300  0.019777  \n",
       "25844                     1.305565             -0.242559  1.351852  \n",
       "2854                     -0.976809             -1.082163 -0.430031  \n",
       "...                            ...                   ...       ...  \n",
       "6265                     -0.976809             -1.082163 -1.328407  \n",
       "11284                    -0.949638             -0.137609 -1.159884  \n",
       "38158                     0.707801              1.279222  1.210590  \n",
       "860                      -0.949638             -0.295035 -1.400277  \n",
       "15795                     1.196881              0.072292  1.400178  \n",
       "\n",
       "[33746 rows x 71 columns]"
      ]
     },
     "execution_count": 113,
     "metadata": {},
     "output_type": "execute_result"
    }
   ],
   "source": [
    "inliers_train"
   ]
  },
  {
   "cell_type": "markdown",
   "metadata": {
    "id": "RJ27gfNKl624"
   },
   "source": [
    "### Apply PCA on data splits"
   ]
  },
  {
   "cell_type": "markdown",
   "metadata": {
    "id": "kE_kzAEnmIHq"
   },
   "source": [
    "Fit PCA on training set on training set alone."
   ]
  },
  {
   "cell_type": "code",
   "execution_count": 114,
   "metadata": {
    "colab": {
     "base_uri": "https://localhost:8080/"
    },
    "executionInfo": {
     "elapsed": 276,
     "status": "ok",
     "timestamp": 1662733392134,
     "user": {
      "displayName": "Olusegun Ajibola",
      "userId": "14016280963587867119"
     },
     "user_tz": -120
    },
    "id": "dc7UMXelmJdl",
    "outputId": "803095be-1c8c-4c8a-f1a2-6d8addb97d15",
    "scrolled": true
   },
   "outputs": [
    {
     "data": {
      "text/plain": [
       "PCA(n_components=0.95)"
      ]
     },
     "execution_count": 114,
     "metadata": {},
     "output_type": "execute_result"
    }
   ],
   "source": [
    "pca_if.fit(inliers_train)"
   ]
  },
  {
   "cell_type": "markdown",
   "metadata": {
    "id": "NkNC1c-ynzww"
   },
   "source": [
    "Apply the mapping (transform) to both the training set and the test set."
   ]
  },
  {
   "cell_type": "code",
   "execution_count": 115,
   "metadata": {
    "colab": {
     "background_save": true,
     "output_embedded_package_id": "1zH0UOo5HYgO6vNJw3Jy0p32CsYf3haEu"
    },
    "id": "w3M5BnW2o0kt",
    "outputId": "3a70fd94-7020-44f6-be89-4edcaec7ac91",
    "scrolled": true
   },
   "outputs": [
    {
     "data": {
      "text/plain": [
       "(33746, 71)"
      ]
     },
     "execution_count": 115,
     "metadata": {},
     "output_type": "execute_result"
    }
   ],
   "source": [
    "inliers_train.shape"
   ]
  },
  {
   "cell_type": "code",
   "execution_count": 116,
   "metadata": {
    "colab": {
     "base_uri": "https://localhost:8080/",
     "height": 399
    },
    "executionInfo": {
     "elapsed": 598,
     "status": "error",
     "timestamp": 1662733394315,
     "user": {
      "displayName": "Olusegun Ajibola",
      "userId": "14016280963587867119"
     },
     "user_tz": -120
    },
    "id": "EtyJb4SRmAf6",
    "outputId": "b497c651-cfea-4929-b2cd-d7399fc06d10"
   },
   "outputs": [],
   "source": [
    "inliers_train = pca_if.transform(inliers_train)\n",
    "inliers_test = pca_if.transform(inliers_test)\n",
    "outliers = pca_if.transform(outliers)"
   ]
  },
  {
   "cell_type": "markdown",
   "metadata": {
    "id": "dNGH17ctlMzQ"
   },
   "source": [
    "### Train the isolation Forest Model"
   ]
  },
  {
   "cell_type": "code",
   "execution_count": 117,
   "metadata": {
    "executionInfo": {
     "elapsed": 375,
     "status": "ok",
     "timestamp": 1662733299118,
     "user": {
      "displayName": "Olusegun Ajibola",
      "userId": "14016280963587867119"
     },
     "user_tz": -120
    },
    "id": "1E32wNCKlMzQ"
   },
   "outputs": [],
   "source": [
    "rng = np.random.RandomState(42)"
   ]
  },
  {
   "cell_type": "code",
   "execution_count": 118,
   "metadata": {
    "id": "lb8go5aolMzQ"
   },
   "outputs": [],
   "source": [
    "# inliers_train, inliers_test = train_test_split(inliers, test_size=0.20, random_state = 42)"
   ]
  },
  {
   "cell_type": "code",
   "execution_count": 119,
   "metadata": {
    "colab": {
     "base_uri": "https://localhost:8080/",
     "height": 419
    },
    "executionInfo": {
     "elapsed": 1856,
     "status": "error",
     "timestamp": 1662733331512,
     "user": {
      "displayName": "Olusegun Ajibola",
      "userId": "14016280963587867119"
     },
     "user_tz": -120
    },
    "id": "BJm-swXZlMzQ",
    "outputId": "26807a54-b4f6-4677-9e61-c0e4285277ab"
   },
   "outputs": [],
   "source": [
    "model_iso = IsolationForest( max_samples=150, random_state=rng, contamination='auto')\n",
    "# model_iso = IsolationForest( max_samples=150, random_state=rng, contamination=0.01)\n",
    "model_iso.fit(inliers_train)\n",
    "inlier_pred_test = model_iso.predict(inliers_test)\n",
    "outlier_pred = model_iso.predict(outliers)"
   ]
  },
  {
   "cell_type": "code",
   "execution_count": 120,
   "metadata": {
    "colab": {
     "base_uri": "https://localhost:8080/"
    },
    "executionInfo": {
     "elapsed": 5,
     "status": "ok",
     "timestamp": 1662705899652,
     "user": {
      "displayName": "Olusegun Ajibola",
      "userId": "14016280963587867119"
     },
     "user_tz": -120
    },
    "id": "yFPTyb5ClMzQ",
    "outputId": "769d198c-ddc3-4b89-a14d-a4b970410e1f"
   },
   "outputs": [
    {
     "name": "stdout",
     "output_type": "stream",
     "text": [
      "Accuracy in Detecting injury Cases: 0.9502192722531706\n",
      "Accuracy in Detecting no-injury Cases: 0.0548885077186964\n"
     ]
    }
   ],
   "source": [
    "print(\"Accuracy in Detecting injury Cases:\", list(inlier_pred_test).count(1)/inlier_pred_test.shape[0])\n",
    "print(\"Accuracy in Detecting no-injury Cases:\", list(outlier_pred).count(-1)/outlier_pred.shape[0])"
   ]
  },
  {
   "cell_type": "code",
   "execution_count": 121,
   "metadata": {
    "colab": {
     "base_uri": "https://localhost:8080/"
    },
    "executionInfo": {
     "elapsed": 355,
     "status": "ok",
     "timestamp": 1662705902252,
     "user": {
      "displayName": "Olusegun Ajibola",
      "userId": "14016280963587867119"
     },
     "user_tz": -120
    },
    "id": "IqQfrEx2lMzR",
    "outputId": "cac7a440-9195-428e-ceda-8dbe0ad088d5"
   },
   "outputs": [
    {
     "data": {
      "text/plain": [
       "array([-1,  1])"
      ]
     },
     "execution_count": 121,
     "metadata": {},
     "output_type": "execute_result"
    }
   ],
   "source": [
    "np.unique(outlier_pred)"
   ]
  },
  {
   "cell_type": "code",
   "execution_count": 122,
   "metadata": {
    "colab": {
     "base_uri": "https://localhost:8080/"
    },
    "executionInfo": {
     "elapsed": 296,
     "status": "ok",
     "timestamp": 1662705887500,
     "user": {
      "displayName": "Olusegun Ajibola",
      "userId": "14016280963587867119"
     },
     "user_tz": -120
    },
    "id": "cUGyDlH1lMzR",
    "outputId": "acdfd657-2ace-44af-c2b4-a2a2dfc03aff"
   },
   "outputs": [
    {
     "name": "stdout",
     "output_type": "stream",
     "text": [
      "F1 Score: 0.104\n"
     ]
    }
   ],
   "source": [
    "# calculate score\n",
    "\n",
    "# mark inliers 1, outliers -1\n",
    "\n",
    "outliers_y = outliers_y.replace(1, -1)\n",
    "\n",
    "outliers_y = outliers_y.replace(0, 1)\n",
    "\n",
    "score = f1_score(outliers_y, outlier_pred, pos_label=-1)\n",
    "print('F1 Score: %.3f' % score)"
   ]
  },
  {
   "cell_type": "markdown",
   "metadata": {},
   "source": [
    "The use of PCA reduced our prediction accuracy"
   ]
  },
  {
   "cell_type": "markdown",
   "metadata": {
    "id": "0-UxUllslMzR"
   },
   "source": [
    "## Model 3: One Class SVM III"
   ]
  },
  {
   "cell_type": "code",
   "execution_count": 123,
   "metadata": {
    "id": "Ql06Rjd0lMzR"
   },
   "outputs": [],
   "source": [
    "X = df_day_scaled.drop(columns = ['injury'])\n",
    "y = df_day_scaled['injury']"
   ]
  },
  {
   "cell_type": "code",
   "execution_count": 124,
   "metadata": {
    "id": "hbLgHrunlMzR"
   },
   "outputs": [],
   "source": [
    "# split into train/test sets\n",
    "trainX, testX, trainy, testy = train_test_split(X, y, test_size=0.80, random_state=2, stratify=y)"
   ]
  },
  {
   "cell_type": "code",
   "execution_count": 125,
   "metadata": {
    "id": "boDYbiTwlMzR"
   },
   "outputs": [],
   "source": [
    "# we fit on majority class\n",
    "trainX_copy = trainX.copy()\n",
    "trainX_copy['injury'] = trainy\n",
    "trainX_copy = trainX_copy[trainX_copy.injury == 0]\n",
    "\n",
    "trainy_copy = trainy[trainy ==0]\n",
    "trainX_copy = trainX_copy.drop(columns = 'injury')\n",
    "# trainy_copy = "
   ]
  },
  {
   "cell_type": "markdown",
   "metadata": {
    "id": "RJ27gfNKl624"
   },
   "source": [
    "### Apply PCA on data splits"
   ]
  },
  {
   "cell_type": "code",
   "execution_count": 128,
   "metadata": {
    "executionInfo": {
     "elapsed": 4,
     "status": "ok",
     "timestamp": 1662733034893,
     "user": {
      "displayName": "Olusegun Ajibola",
      "userId": "14016280963587867119"
     },
     "user_tz": -120
    },
    "id": "JglPp2sble3E"
   },
   "outputs": [],
   "source": [
    "# Make an instance of the Model\n",
    "pca_oc_svm = PCA(.95) # retain 95% variance in the data"
   ]
  },
  {
   "cell_type": "markdown",
   "metadata": {
    "id": "kE_kzAEnmIHq"
   },
   "source": [
    "Fit PCA on training set on training set alone."
   ]
  },
  {
   "cell_type": "code",
   "execution_count": 129,
   "metadata": {
    "colab": {
     "base_uri": "https://localhost:8080/"
    },
    "executionInfo": {
     "elapsed": 276,
     "status": "ok",
     "timestamp": 1662733392134,
     "user": {
      "displayName": "Olusegun Ajibola",
      "userId": "14016280963587867119"
     },
     "user_tz": -120
    },
    "id": "dc7UMXelmJdl",
    "outputId": "803095be-1c8c-4c8a-f1a2-6d8addb97d15",
    "scrolled": true
   },
   "outputs": [
    {
     "data": {
      "text/plain": [
       "PCA(n_components=0.95)"
      ]
     },
     "execution_count": 129,
     "metadata": {},
     "output_type": "execute_result"
    }
   ],
   "source": [
    "pca_oc_svm.fit(trainX_copy)"
   ]
  },
  {
   "cell_type": "markdown",
   "metadata": {
    "id": "NkNC1c-ynzww"
   },
   "source": [
    "Apply the mapping (transform) to both the training set and the test set."
   ]
  },
  {
   "cell_type": "code",
   "execution_count": 130,
   "metadata": {
    "colab": {
     "base_uri": "https://localhost:8080/",
     "height": 399
    },
    "executionInfo": {
     "elapsed": 598,
     "status": "error",
     "timestamp": 1662733394315,
     "user": {
      "displayName": "Olusegun Ajibola",
      "userId": "14016280963587867119"
     },
     "user_tz": -120
    },
    "id": "EtyJb4SRmAf6",
    "outputId": "b497c651-cfea-4929-b2cd-d7399fc06d10"
   },
   "outputs": [],
   "source": [
    "trainX_copy = pca_oc_svm.transform(trainX_copy)\n",
    "testX = pca_oc_svm.transform(testX)\n",
    "# outliers = pca_oc_svm.transform(outliers)"
   ]
  },
  {
   "cell_type": "code",
   "execution_count": 131,
   "metadata": {
    "colab": {
     "base_uri": "https://localhost:8080/"
    },
    "executionInfo": {
     "elapsed": 393,
     "status": "ok",
     "timestamp": 1662706096889,
     "user": {
      "displayName": "Olusegun Ajibola",
      "userId": "14016280963587867119"
     },
     "user_tz": -120
    },
    "id": "PAxeTFj-lMzR",
    "outputId": "8c550058-f7ae-4dda-cb45-a7c3697c6422"
   },
   "outputs": [],
   "source": [
    "# trainy_copy.shape, trainX_copy.shape"
   ]
  },
  {
   "cell_type": "code",
   "execution_count": 132,
   "metadata": {
    "id": "73iYZqdrlMzS"
   },
   "outputs": [],
   "source": [
    "# define outlier detection model\n",
    "model_one_class_svm_pca = OneClassSVM(gamma='scale', nu=0.01)"
   ]
  },
  {
   "cell_type": "code",
   "execution_count": 133,
   "metadata": {
    "colab": {
     "base_uri": "https://localhost:8080/"
    },
    "executionInfo": {
     "elapsed": 271,
     "status": "ok",
     "timestamp": 1662706102023,
     "user": {
      "displayName": "Olusegun Ajibola",
      "userId": "14016280963587867119"
     },
     "user_tz": -120
    },
    "id": "aQrGnofilMzS",
    "outputId": "314370a4-e056-470c-fc3f-d07c3daabbee"
   },
   "outputs": [
    {
     "data": {
      "text/plain": [
       "OneClassSVM(nu=0.01)"
      ]
     },
     "execution_count": 133,
     "metadata": {},
     "output_type": "execute_result"
    }
   ],
   "source": [
    "# fit on majority class\n",
    "\n",
    "model_one_class_svm_pca.fit(trainX_copy)"
   ]
  },
  {
   "cell_type": "code",
   "execution_count": 135,
   "metadata": {
    "id": "PDVXWyunlMzS"
   },
   "outputs": [],
   "source": [
    "# detect outliers in the test set\n",
    "yhat = model_one_class_svm_pca.predict(testX)"
   ]
  },
  {
   "cell_type": "code",
   "execution_count": 136,
   "metadata": {
    "id": "PbSMi-v7lMzS"
   },
   "outputs": [],
   "source": [
    "# mark inliers 1, outliers -1\n",
    "\n",
    "testy = testy.replace(1, -1)\n",
    "\n",
    "testy = testy.replace(0, 1)"
   ]
  },
  {
   "cell_type": "code",
   "execution_count": 137,
   "metadata": {
    "colab": {
     "base_uri": "https://localhost:8080/"
    },
    "executionInfo": {
     "elapsed": 276,
     "status": "ok",
     "timestamp": 1662706109967,
     "user": {
      "displayName": "Olusegun Ajibola",
      "userId": "14016280963587867119"
     },
     "user_tz": -120
    },
    "id": "siy27vfclMzW",
    "outputId": "676c2bae-49cd-41f5-f9a6-39625272ccfe"
   },
   "outputs": [
    {
     "name": "stdout",
     "output_type": "stream",
     "text": [
      "F1 Score: 0.022\n"
     ]
    }
   ],
   "source": [
    "# calculate score\n",
    "score = f1_score(testy, yhat, pos_label= -1)\n",
    "print('F1 Score: %.3f' % score)"
   ]
  },
  {
   "cell_type": "markdown",
   "metadata": {
    "id": "UmiKJ1PKjalu"
   },
   "source": [
    "The accuracy further decreased  by 0.002 when we use PCA in One Class SVM."
   ]
  },
  {
   "cell_type": "markdown",
   "metadata": {
    "id": "LHDzPS1PAyAy"
   },
   "source": [
    "# Conclusion I\n",
    "\n",
    "- All models i.e Autoenconders, Isolation Forest and One Class SVM have a high accuracy.  \n",
    "- Isolation Forest has the best f1 score and we conclude it to be our best model."
   ]
  },
  {
   "cell_type": "markdown",
   "metadata": {
    "id": "pEMjRllpBriS"
   },
   "source": [
    "# Weekly Data"
   ]
  },
  {
   "cell_type": "code",
   "execution_count": null,
   "metadata": {},
   "outputs": [],
   "source": []
  }
 ],
 "metadata": {
  "colab": {
   "authorship_tag": "ABX9TyNatMkjs60/4PGct5YcRMAf",
   "collapsed_sections": [],
   "mount_file_id": "1PJm3hWtdtvX-hDKbbw5rNUA1gbKfIyzn",
   "name": "",
   "toc_visible": true,
   "version": ""
  },
  "gpuClass": "standard",
  "kernelspec": {
   "display_name": "Python 3 (ipykernel)",
   "language": "python",
   "name": "python3"
  },
  "language_info": {
   "codemirror_mode": {
    "name": "ipython",
    "version": 3
   },
   "file_extension": ".py",
   "mimetype": "text/x-python",
   "name": "python",
   "nbconvert_exporter": "python",
   "pygments_lexer": "ipython3",
   "version": "3.9.13"
  },
  "toc-autonumbering": false
 },
 "nbformat": 4,
 "nbformat_minor": 4
}
